{
 "cells": [
  {
   "cell_type": "markdown",
   "id": "30dbc463",
   "metadata": {},
   "source": [
    "<div class=\"alert\" style=\"background-color:#fff; color:white; padding:0px 10px; border-radius:5px;\"><h1 style='margin:15px 15px; color:#5d3a8e; font-size:40px'> 3.0 Feature Extraction - Combination of Features </h1>\n",
    "</div>"
   ]
  },
  {
   "cell_type": "markdown",
   "id": "886f7c9c",
   "metadata": {},
   "source": [
    "<div class=\"alert alert-info\" style=\"background-color:#5d3a8e; color:white; padding:0px 10px; border-radius:5px;\"><h2 style='margin:10px 5px'> Table of Content</h2>\n",
    "</div>\n",
    "\n",
    "* [Required Libraries and Modules](#Required-Libraries-and-Modules)\n",
    "* [Read Feature Pickle Files](#Read-Feature-Pickle-Files)\n",
    "* [Features Grouping](#Features-Grouping)\n",
    "* [Combination of Features](#Combination-of-Features)"
   ]
  },
  {
   "cell_type": "markdown",
   "id": "7c090bf2",
   "metadata": {},
   "source": [
    "<div class=\"alert alert-info\" style=\"background-color:#5d3a8e; color:white; padding:0px 10px; border-radius:5px;\"><h2 style='margin:10px 5px'>Required Libraries and Modules</h2>\n",
    "</div>\n"
   ]
  },
  {
   "cell_type": "code",
   "execution_count": 1,
   "id": "82101995",
   "metadata": {},
   "outputs": [
    {
     "name": "stderr",
     "output_type": "stream",
     "text": [
      "C:\\Users\\Acer\\AppData\\Local\\Temp/ipykernel_3752/661178399.py:10: TqdmDeprecationWarning: This function will be removed in tqdm==5.0.0\n",
      "Please use `tqdm.notebook.*` instead of `tqdm._tqdm_notebook.*`\n",
      "  from tqdm._tqdm_notebook import tqdm_notebook\n"
     ]
    }
   ],
   "source": [
    "import glob\n",
    "import pickle\n",
    "from scipy import sparse\n",
    "from scipy.sparse import hstack\n",
    "import numpy as np\n",
    "\n",
    "import itertools\n",
    "from scipy import sparse\n",
    "from scipy.sparse import hstack\n",
    "from tqdm._tqdm_notebook import tqdm_notebook\n",
    "from tqdm import tqdm\n",
    "tqdm_notebook.pandas()"
   ]
  },
  {
   "cell_type": "markdown",
   "id": "cf2bce3d",
   "metadata": {},
   "source": [
    "<div class=\"alert alert-info\" style=\"background-color:#5d3a8e; color:white; padding:0px 10px; border-radius:5px;\"><h2 style='margin:10px 5px'>Read Feature Pickle Files</h2>\n",
    "</div>\n"
   ]
  },
  {
   "cell_type": "code",
   "execution_count": 3,
   "id": "8b76fcb1",
   "metadata": {},
   "outputs": [],
   "source": [
    "task='bully_binary_classification'\n",
    "df = 'bully_data_clean_with_stopword'\n",
    "path = task + \"\\\\\" + df + '\\\\features\\\\selected\\\\'\n",
    "all_files = glob.glob(path + \"/X*.pkl\")\n",
    "feature_dict = {}\n",
    "\n",
    "for file_ in all_files:\n",
    "    # temp = file_.split('\\\\')[-1].split('.')[0]\n",
    "    temp = file_.split('\\\\')[-1].split('.')[0] # e.g X_AllTextual.pkl\n",
    "\n",
    "    with open(file_,'rb') as f:\n",
    "        x = pickle.load(f)\n",
    "        feature_dict[temp]  = x"
   ]
  },
  {
   "cell_type": "code",
   "execution_count": 4,
   "id": "f74787df",
   "metadata": {},
   "outputs": [
    {
     "data": {
      "text/plain": [
       "[('X_CountVecWordCharAllTextStatSentimentAllDistilBertEmbeddingPycholinguisticLIWC22EmpathTermListsRatioToxicity',\n",
       "  <112247x623045 sparse matrix of type '<class 'numpy.float64'>'\n",
       "  \twith 104362358 stored elements in Compressed Sparse Row format>),\n",
       " ('X_CountVecWordCharAllTextStatSentimentAllDistilBertEmbeddingPycholinguisticLIWC22EmpathToxicity',\n",
       "  <112247x623039 sparse matrix of type '<class 'numpy.float64'>'\n",
       "  \twith 104213401 stored elements in Compressed Sparse Row format>),\n",
       " ('X_MBTI',\n",
       "  <112247x16 sparse matrix of type '<class 'numpy.float64'>'\n",
       "  \twith 1795952 stored elements in Compressed Sparse Row format>)]"
      ]
     },
     "execution_count": 4,
     "metadata": {},
     "output_type": "execute_result"
    }
   ],
   "source": [
    "list(feature_dict.items())"
   ]
  },
  {
   "cell_type": "markdown",
   "id": "3599fce5",
   "metadata": {},
   "source": [
    "<div class=\"alert alert-info\" style=\"background-color:#5d3a8e; color:white; padding:0px 10px; border-radius:5px;\"><h2 style='margin:10px 5px'>Features Grouping</h2>\n",
    "</div>\n"
   ]
  },
  {
   "cell_type": "code",
   "execution_count": 5,
   "id": "85bdb571",
   "metadata": {},
   "outputs": [],
   "source": [
    "textual_group = ['X_CountVecWordCharAllTextStat']\n",
    "                \n",
    "\n",
    "sentiment_group = ['X_SentimentAll']\n",
    "\n",
    "embedding_group = ['X_DistilBertEmbedding']\n",
    "                  \n",
    "\n",
    "# ['X_AlbertEmbedding'\n",
    "# 'X_BertEmbedding',\n",
    "# 'X_ElectraEmbedding',\n",
    "# 'X_ggeluBertEmbedding',\n",
    "# 'X_elmoEmbedding',\n",
    "# 'X_nnlmEmbedding',\n",
    "# 'X_FastTextEmbedding',\n",
    "# 'X_GloveEmbedding',\n",
    "# 'X_Word2VecEmbedding']\n",
    "\n",
    "pycholinguistic_group = ['X_PycholinguisticLIWC22Empath']\n",
    "\n",
    "termlist_group = ['X_TermListsRatio']\n",
    "\n",
    "toxic_group = ['X_Toxicity']"
   ]
  },
  {
   "cell_type": "markdown",
   "id": "c5307ab6",
   "metadata": {},
   "source": [
    "<div class=\"alert alert-info\" style=\"background-color:#5d3a8e; color:white; padding:0px 10px; border-radius:5px;\"><h2 style='margin:10px 5px'>Combination of Features</h2>\n",
    "</div>\n"
   ]
  },
  {
   "cell_type": "code",
   "execution_count": null,
   "id": "32ab18f8",
   "metadata": {},
   "outputs": [],
   "source": [
    "# Initialization\n",
    "feature_comb_dict = {}\n",
    "result = []\n",
    "\n",
    "# Get Combination of feature from each group\n",
    "for i in range(7):\n",
    "    for subset in itertools.combinations([textual_group, \n",
    "                                         sentiment_group\n",
    "                                         embedding_group, \n",
    "                                         pycholinguistic_group,\n",
    "                                         termlist_group,\n",
    "                                         toxic_group\n",
    "                                         ], i):\n",
    "        \n",
    "        # Combination Feature\n",
    "        result+= list(itertools.product(*subset))\n",
    "\n",
    "\n",
    "# Individual Feature: No need since its been extracted\n",
    "feature_comb_list = [i for i in result if len(i)>1]\n",
    "print(\"Number of Features for combination: \",len(feature_comb_list))\n",
    "\n",
    "# Loop over the code\n",
    "for comb_set in tqdm(feature_comb_list):\n",
    "    print('Combining features for: ',comb_set)\n",
    "    for index, element in enumerate(comb_set):\n",
    "        \n",
    "        if index == 0:\n",
    "            vector = feature_dict[element]\n",
    "            vector_name = 'X_'+element.split('_')[-1]\n",
    "        else:\n",
    "            vector = sparse.hstack((vector, feature_dict[element]),format='csr')\n",
    "            vector_name = vector_name+element.split('_')[-1]\n",
    " \n",
    "    feature_comb_dict[vector_name] = vector\n",
    "    print('Done Combining features for: ',comb_set)\n",
    "    print()\n",
    "    del vector\n",
    "\n",
    "#         if len(subset) > 1:\n",
    "#             print('Combining features for: ',subset)\n",
    "#             for index, element in tqdm(enumerate(subset)):\n",
    "#                 if index == 0:\n",
    "#                     vector = feature_dict[element]\n",
    "#                     vector_name = 'X_'+element.split('_')[-1]\n",
    "#                 else:\n",
    "#                     vector = hstack((vector, feature_dict[element]),format='csr')\n",
    "#                     vector_name = vector_name+element.split('_')[-1]\n",
    "                    \n",
    "#             feature_comb_dict[vector_name] = vector\n"
   ]
  },
  {
   "cell_type": "code",
   "execution_count": null,
   "id": "0f8933ab",
   "metadata": {},
   "outputs": [],
   "source": [
    "##########################\n",
    "# Output as pickle files #\n",
    "##########################\n",
    "data_set = df\n",
    "for fname, fset in tqdm(feature_comb_dict.items()):\n",
    "    with open(task+\"\\\\\"+data_set+\"\\\\features\\\\selected\\\\new\\\\comb\\\\\"+ fname + \".pkl\",'wb') as f:\n",
    "        pickle.dump(fset, f)"
   ]
  },
  {
   "cell_type": "code",
   "execution_count": null,
   "id": "567112ce",
   "metadata": {},
   "outputs": [],
   "source": [
    "#######################################\n",
    "# Check Output as pickle files length #\n",
    "#######################################\n",
    "for fname, fset in tqdm(feature_comb_dict.items()):\n",
    "    print(fname)\n",
    "    print(fset.shape)\n",
    "    print()"
   ]
  }
 ],
 "metadata": {
  "kernelspec": {
   "display_name": "Python 3 (ipykernel)",
   "language": "python",
   "name": "python3"
  },
  "language_info": {
   "codemirror_mode": {
    "name": "ipython",
    "version": 3
   },
   "file_extension": ".py",
   "mimetype": "text/x-python",
   "name": "python",
   "nbconvert_exporter": "python",
   "pygments_lexer": "ipython3",
   "version": "3.9.7"
  }
 },
 "nbformat": 4,
 "nbformat_minor": 5
}
