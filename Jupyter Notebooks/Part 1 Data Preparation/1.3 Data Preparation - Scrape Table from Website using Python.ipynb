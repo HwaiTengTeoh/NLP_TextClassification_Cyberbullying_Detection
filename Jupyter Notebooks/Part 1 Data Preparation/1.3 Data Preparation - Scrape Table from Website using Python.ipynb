{
 "cells": [
  {
   "cell_type": "markdown",
   "id": "82997765",
   "metadata": {},
   "source": [
    "<div class=\"alert\" style=\"background-color:#fff; color:white; padding:0px 10px; border-radius:5px;\"><h1 style='margin:15px 15px; color:#0b1354; font-size:40px'>1.3 Data Preparation - Scrape Table from Website using Python</h1>\n",
    "</div>"
   ]
  },
  {
   "cell_type": "markdown",
   "id": "ed554f58",
   "metadata": {},
   "source": [
    "<div class=\"alert alert-info\" style=\"background-color:#0b1354; color:white; padding:0px 10px; border-radius:5px;\"><h2 style='margin:10px 5px'>Table of Content:</h2>\n",
    "</div>\n",
    "\n",
    "* [Required Libraries and Modules](#Required-Libraries-and-Modules)\n",
    "* [Compile all list of slang](#Compile-all-list-of-slang)\n",
    "* [Compile top list of slang](#Compile-top-list-of-slang)"
   ]
  },
  {
   "cell_type": "markdown",
   "id": "a64e10f1",
   "metadata": {},
   "source": [
    "<div class=\"alert alert-info\" style=\"background-color:#0b1354; color:white; padding:0px 10px; border-radius:5px;\"><h2 style='margin:10px 5px'>Required Libraries and Modules</h2>\n",
    "</div>"
   ]
  },
  {
   "cell_type": "code",
   "execution_count": 1,
   "id": "bfdf299d",
   "metadata": {},
   "outputs": [
    {
     "name": "stderr",
     "output_type": "stream",
     "text": [
      "C:\\Users\\Acer\\AppData\\Local\\Temp/ipykernel_27860/2277066686.py:10: TqdmDeprecationWarning: This function will be removed in tqdm==5.0.0\n",
      "Please use `tqdm.notebook.*` instead of `tqdm._tqdm_notebook.*`\n",
      "  from tqdm._tqdm_notebook import tqdm_notebook\n"
     ]
    }
   ],
   "source": [
    "# Import libraries\n",
    "import requests\n",
    "from bs4 import BeautifulSoup\n",
    "\n",
    "import pandas as pd\n",
    "import numpy as np\n",
    "import pickle\n",
    "\n",
    "# Progress bar\n",
    "from tqdm._tqdm_notebook import tqdm_notebook\n",
    "from tqdm import tqdm\n",
    "tqdm_notebook.pandas()"
   ]
  },
  {
   "cell_type": "markdown",
   "id": "d7106126",
   "metadata": {},
   "source": [
    "<div class=\"alert alert-info\" style=\"background-color:#0b1354; color:white; padding:0px 10px; border-radius:5px;\"><h2 style='margin:10px 5px'>Compile all list of slang</h2>\n",
    "</div>"
   ]
  },
  {
   "cell_type": "markdown",
   "id": "3a043d6a",
   "metadata": {},
   "source": [
    "**NOTE: Scrape Table from [https://slangit.com/]**"
   ]
  },
  {
   "cell_type": "markdown",
   "id": "d2d7ba04",
   "metadata": {},
   "source": [
    "#### Dataframe: `slang_all`"
   ]
  },
  {
   "cell_type": "code",
   "execution_count": 2,
   "id": "a50a0624",
   "metadata": {},
   "outputs": [],
   "source": [
    "def scrape_from_slangit(url):\n",
    "    # Create an URL object\n",
    "    # Create object page\n",
    "    page = requests.get(url)\n",
    "\n",
    "    # parser-lxml = Change html to Python friendly format\n",
    "    # Obtain page's information\n",
    "    soup = BeautifulSoup(page.text, 'lxml')\n",
    "\n",
    "    # Obtain information from tag <table>\n",
    "    table1 = soup.find('tbody')\n",
    "\n",
    "    # Convert wrapped text in column 13 into one line text\n",
    "    headers = ['slang','meaning']\n",
    "\n",
    "    # Create a dataframe\n",
    "    mydata = pd.DataFrame(columns = headers)\n",
    "    \n",
    "    # Create a for loop to fill mydata\n",
    "    for j in table1.find_all('tr')[0:]:\n",
    "        row_data = j.find_all('td')\n",
    "        row = [i.text.strip() for i in row_data][:2]\n",
    "        length = len(mydata)\n",
    "        mydata.loc[length] = row\n",
    "\n",
    "    #Create dataframe\n",
    "    df=mydata.drop_duplicates(['slang'])\n",
    "    return df.reset_index().drop(['index'], axis=1)"
   ]
  },
  {
   "cell_type": "code",
   "execution_count": 3,
   "id": "0caa89c2",
   "metadata": {},
   "outputs": [],
   "source": [
    "# slang_other=scrape_from_slangit(url='https://slangit.com/list/1') \n",
    "# slang_a=scrape_from_slangit(url='https://slangit.com/list/a') \n",
    "# slang_b=scrape_from_slangit(url='https://slangit.com/list/b')\n",
    "# slang_c=scrape_from_slangit(url='https://slangit.com/list/c')\n",
    "# slang_d=scrape_from_slangit(url='https://slangit.com/list/d')\n",
    "# slang_e=scrape_from_slangit(url='https://slangit.com/list/e')\n",
    "# slang_f=scrape_from_slangit(url='https://slangit.com/list/f')\n",
    "# slang_g=scrape_from_slangit(url='https://slangit.com/list/g')\n",
    "# slang_h=scrape_from_slangit(url='https://slangit.com/list/h')\n",
    "# slang_i=scrape_from_slangit(url='https://slangit.com/list/i')\n",
    "# slang_j=scrape_from_slangit(url='https://slangit.com/list/j')\n",
    "# slang_k=scrape_from_slangit(url='https://slangit.com/list/k')\n",
    "# slang_l=scrape_from_slangit(url='https://slangit.com/list/l')\n",
    "# slang_m=scrape_from_slangit(url='https://slangit.com/list/m')\n",
    "# slang_n=scrape_from_slangit(url='https://slangit.com/list/n')\n",
    "# slang_o=scrape_from_slangit(url='https://slangit.com/list/o')\n",
    "# slang_p=scrape_from_slangit(url='https://slangit.com/list/p')\n",
    "# slang_q=scrape_from_slangit(url='https://slangit.com/list/q')\n",
    "# slang_r=scrape_from_slangit(url='https://slangit.com/list/r')\n",
    "# slang_s=scrape_from_slangit(url='https://slangit.com/list/s')\n",
    "# slang_t=scrape_from_slangit(url='https://slangit.com/list/t')\n",
    "# slang_u=scrape_from_slangit(url='https://slangit.com/list/u')\n",
    "# slang_v=scrape_from_slangit(url='https://slangit.com/list/v')\n",
    "# slang_w=scrape_from_slangit(url='https://slangit.com/list/w')\n",
    "# slang_x=scrape_from_slangit(url='https://slangit.com/list/x')\n",
    "# slang_y=scrape_from_slangit(url='https://slangit.com/list/y')\n",
    "# slang_z=scrape_from_slangit(url='https://slangit.com/list/z')"
   ]
  },
  {
   "cell_type": "code",
   "execution_count": 4,
   "id": "a770f0ec",
   "metadata": {},
   "outputs": [],
   "source": [
    "# slang_all = (slang_other.append(slang_a)\n",
    "#                         .append(slang_b)\n",
    "#                         .append(slang_c)\n",
    "#                         .append(slang_d)\n",
    "#                         .append(slang_e)\n",
    "#                         .append(slang_f)\n",
    "#                         .append(slang_g)\n",
    "#                         .append(slang_h)\n",
    "#                         .append(slang_i)\n",
    "#                         .append(slang_j)\n",
    "#                         .append(slang_k)\n",
    "#                         .append(slang_l)\n",
    "#                         .append(slang_m)\n",
    "#                         .append(slang_n)\n",
    "#                         .append(slang_o)\n",
    "#                         .append(slang_p)\n",
    "#                         .append(slang_q)\n",
    "#                         .append(slang_r)\n",
    "#                         .append(slang_s)\n",
    "#                         .append(slang_t)\n",
    "#                         .append(slang_u)\n",
    "#                         .append(slang_v)\n",
    "#                         .append(slang_w)\n",
    "#                         .append(slang_x)\n",
    "#                         .append(slang_y)\n",
    "#                         .append(slang_z)\n",
    "#             )"
   ]
  },
  {
   "cell_type": "code",
   "execution_count": 5,
   "id": "d08150ec",
   "metadata": {},
   "outputs": [],
   "source": [
    "# slang_all=slang_all.drop_duplicates(['slang'])\n",
    "# slang_all.to_csv('slang_all.csv')"
   ]
  },
  {
   "cell_type": "markdown",
   "id": "c57d2e2a",
   "metadata": {},
   "source": [
    "#### NEW Dictionary SLANG_ALL"
   ]
  },
  {
   "cell_type": "code",
   "execution_count": 6,
   "id": "87545ddf",
   "metadata": {},
   "outputs": [],
   "source": [
    "# SLANG_ALL = slang_all.set_index('slang').T.to_dict('records')[0]\n",
    "# len(SLANG_ALL.keys())"
   ]
  },
  {
   "cell_type": "markdown",
   "id": "8b822667",
   "metadata": {},
   "source": [
    "#### Export `SLANG_ALL` as pickle file"
   ]
  },
  {
   "cell_type": "code",
   "execution_count": 7,
   "id": "8de4c878",
   "metadata": {},
   "outputs": [],
   "source": [
    "# with open(\"SLANG_ALL.pkl\", \"wb\") as fw:\n",
    "#     pickle.dump(SLANG_ALL, fw)"
   ]
  },
  {
   "cell_type": "markdown",
   "id": "bd355d73",
   "metadata": {},
   "source": [
    "<div class=\"alert alert-info\" style=\"background-color:#0b1354; color:white; padding:0px 10px; border-radius:5px;\"><h2 style='margin:10px 5px'>Compile top list of slang</h2>\n",
    "</div>"
   ]
  },
  {
   "cell_type": "markdown",
   "id": "e2bf5d72",
   "metadata": {},
   "source": [
    "**NOTE: Scrape Table from [https://slangit.com/] (Online Chat, Text Messaging, Social Media)**"
   ]
  },
  {
   "cell_type": "markdown",
   "id": "367c2dfb",
   "metadata": {},
   "source": [
    "#### Dataframe: `slang_top`"
   ]
  },
  {
   "cell_type": "code",
   "execution_count": 8,
   "id": "ef652699",
   "metadata": {},
   "outputs": [],
   "source": [
    "slang_online=scrape_from_slangit(url='https://slangit.com/terms/online_chat') \n",
    "slang_text=scrape_from_slangit(url='https://slangit.com/terms/text_messaging') \n",
    "slang_social=scrape_from_slangit(url='https://slangit.com/terms/social_media')"
   ]
  },
  {
   "cell_type": "code",
   "execution_count": 9,
   "id": "a31eea4c",
   "metadata": {},
   "outputs": [],
   "source": [
    "slang_top = (slang_online.append(slang_text)\n",
    "                        .append(slang_social)\n",
    "            )"
   ]
  },
  {
   "cell_type": "code",
   "execution_count": 10,
   "id": "66de7bf9",
   "metadata": {},
   "outputs": [
    {
     "data": {
      "application/vnd.jupyter.widget-view+json": {
       "model_id": "2a697358629c41539bbfa6e92f745998",
       "version_major": 2,
       "version_minor": 0
      },
      "text/plain": [
       "  0%|          | 0/958 [00:00<?, ?it/s]"
      ]
     },
     "metadata": {},
     "output_type": "display_data"
    },
    {
     "data": {
      "application/vnd.jupyter.widget-view+json": {
       "model_id": "c7c7f0cbcb9444798580e648bf570f43",
       "version_major": 2,
       "version_minor": 0
      },
      "text/plain": [
       "  0%|          | 0/958 [00:00<?, ?it/s]"
      ]
     },
     "metadata": {},
     "output_type": "display_data"
    }
   ],
   "source": [
    "slang_top=slang_top.drop_duplicates(['slang'])\n",
    "slang_top=slang_top.sort_values(by=['slang']).reset_index(drop=True)\n",
    "slang_top['slang'] = slang_top['slang'].progress_apply(lambda x: str(x).lower())\n",
    "slang_top['meaning'] = slang_top['meaning'].progress_apply(lambda x: str(x).lower())"
   ]
  },
  {
   "cell_type": "code",
   "execution_count": 11,
   "id": "36102c07",
   "metadata": {},
   "outputs": [
    {
     "data": {
      "application/vnd.jupyter.widget-view+json": {
       "model_id": "5072e0ded87440cd823724bab53faead",
       "version_major": 2,
       "version_minor": 0
      },
      "text/plain": [
       "  0%|          | 0/958 [00:00<?, ?it/s]"
      ]
     },
     "metadata": {},
     "output_type": "display_data"
    }
   ],
   "source": [
    "slang_top['filter'] = slang_top['slang'].progress_apply(lambda x: len(str(x).split()))\n",
    "slang_top = slang_top[slang_top['filter']==1]"
   ]
  },
  {
   "cell_type": "code",
   "execution_count": 12,
   "id": "d261974a",
   "metadata": {},
   "outputs": [],
   "source": [
    "del_slang= [ 'bf', \n",
    "             'cos', \n",
    "             'cape', \n",
    "             'catfish', \n",
    "             'crew', \n",
    "             'cringe', \n",
    "             'digits', \n",
    "             'dm',\n",
    "             'fetch', \n",
    "             'fire', \n",
    "             'flaming', \n",
    "             'fleek', \n",
    "             'gloomer', \n",
    "             'ho', \n",
    "             'hope', \n",
    "             'handle', \n",
    "             'haunting', \n",
    "             'headcanon', \n",
    "             'hellmaxxing', \n",
    "             'himbo', \n",
    "             'hipster',\n",
    "             'hu',\n",
    "             'hw',\n",
    "             'idol', \n",
    "             'influencer', \n",
    "             'insta-lurking', \n",
    "             'instagrammer', \n",
    "             'karen', \n",
    "             'lebroning', \n",
    "             'lick', \n",
    "             'live-tweet', \n",
    "             'mutual', \n",
    "             'ns', \n",
    "             'sat', \n",
    "             'sg', \n",
    "             'swag', \n",
    "             'til', \n",
    "             'tt', \n",
    "             'tea', \n",
    "             'thirsty', \n",
    "             'tiktoker', \n",
    "             'unfriend', \n",
    "             'vine', \n",
    "             'viner', \n",
    "             'was', \n",
    "             'wokefishing', \n",
    "             'yeet', \n",
    "             'youtuber', \n",
    "             'd', \n",
    "             'oh', \n",
    "             'q'\n",
    "           ]\n",
    "\n",
    "slang_top_clean = slang_top[~slang_top['slang'].isin(del_slang)]\n",
    "slang_top_clean = slang_top_clean.drop(['filter'], axis=1)\n",
    "slang_top_clean = slang_top_clean.reset_index(drop=True)"
   ]
  },
  {
   "cell_type": "code",
   "execution_count": 13,
   "id": "ccf1f925",
   "metadata": {},
   "outputs": [
    {
     "data": {
      "application/vnd.jupyter.widget-view+json": {
       "model_id": "0ebfda096308418d9c531509f106cb8f",
       "version_major": 2,
       "version_minor": 0
      },
      "text/plain": [
       "  0%|          | 0/827 [00:00<?, ?it/s]"
      ]
     },
     "metadata": {},
     "output_type": "display_data"
    }
   ],
   "source": [
    "slang_top_clean['meaning'] = slang_top_clean['meaning'].progress_apply(lambda x: x.replace('f***', \"fuck\").replace('s***', \"shit\").replace('d***','damn').replace('a**','ass'))"
   ]
  },
  {
   "cell_type": "code",
   "execution_count": 14,
   "id": "23720d8b",
   "metadata": {},
   "outputs": [],
   "source": [
    "def add_slang_term(slang,meaning):\n",
    "    add = {'slang': slang,\n",
    "           'meaning' : meaning}\n",
    "    slang_top_clean.loc[len(slang_top_clean.index)] = add"
   ]
  },
  {
   "cell_type": "code",
   "execution_count": 15,
   "id": "93e760d9",
   "metadata": {},
   "outputs": [],
   "source": [
    "add_slang_term(slang='2nd',meaning='second')\n",
    "add_slang_term(slang='7th',meaning='seventh')\n",
    "add_slang_term(slang='a+',meaning='a plus')\n",
    "add_slang_term(slang='asdfghjkli',meaning='asdfghjkl i')\n",
    "add_slang_term(slang='algud',meaning='all good')\n",
    "add_slang_term(slang='alguds',meaning='all good')\n",
    "add_slang_term(slang='assno',meaning='no ass')\n",
    "add_slang_term(slang='a-z',meaning='a to z')\n",
    "add_slang_term(slang='bby',meaning='babe')\n",
    "add_slang_term(slang='bbz',meaning='babe')\n",
    "add_slang_term(slang='bcos',meaning='because')\n",
    "add_slang_term(slang='bcoz',meaning='because')\n",
    "add_slang_term(slang='bcuz',meaning='because')\n",
    "add_slang_term(slang='bf',meaning='boyfriend')\n",
    "add_slang_term(slang='bj',meaning='blow job')\n",
    "add_slang_term(slang='cept',meaning='except')\n",
    "add_slang_term(slang='chode',meaning='penis')\n",
    "add_slang_term(slang='coz',meaning='because')\n",
    "add_slang_term(slang='cos',meaning='because')\n",
    "add_slang_term(slang='cri',meaning='cry')\n",
    "add_slang_term(slang='d',meaning='the')\n",
    "add_slang_term(slang='da',meaning='the')\n",
    "add_slang_term(slang='dat',meaning='that')\n",
    "add_slang_term(slang='de',meaning='the')\n",
    "add_slang_term(slang='deez',meaning='these')\n",
    "add_slang_term(slang='dm',meaning='direct message')\n",
    "add_slang_term(slang='dno',meaning='do not know')\n",
    "add_slang_term(slang='doe',meaning='though')\n",
    "add_slang_term(slang='dun',meaning='do not')\n",
    "add_slang_term(slang='ermm',meaning='erm')\n",
    "add_slang_term(slang='ev3ry',meaning='everty')\n",
    "add_slang_term(slang='evry',meaning='every')\n",
    "add_slang_term(slang='f***',meaning='fuck')\n",
    "add_slang_term(slang='f**k',meaning='fuck')\n",
    "add_slang_term(slang='f*c*',meaning='fuck')\n",
    "add_slang_term(slang='fgs',meaning='for goodness sake')\n",
    "add_slang_term(slang='fgt',meaning='faggot')\n",
    "add_slang_term(slang='fgts',meaning='faggot')\n",
    "add_slang_term(slang='fgtt',meaning='faggot')\n",
    "add_slang_term(slang='fk',meaning='fuck')\n",
    "add_slang_term(slang='fs',meaning='for sure')\n",
    "add_slang_term(slang='fu**',meaning='fuck')\n",
    "add_slang_term(slang='fuk',meaning='fuck')\n",
    "add_slang_term(slang='fukin',meaning='fucking')\n",
    "add_slang_term(slang='gf',meaning='girlfriend')\n",
    "add_slang_term(slang='gd',meaning='good')\n",
    "add_slang_term(slang='gon',meaning='going to')\n",
    "add_slang_term(slang='gunna',meaning='gonna')\n",
    "add_slang_term(slang='gurl',meaning='girl')\n",
    "add_slang_term(slang='h3',meaning='he')\n",
    "add_slang_term(slang='hai',meaning='hi')\n",
    "add_slang_term(slang='hav',meaning='have')\n",
    "add_slang_term(slang='hb',meaning='happy birthday')\n",
    "add_slang_term(slang='hot=',meaning='hot equal')\n",
    "add_slang_term(slang='hu',meaning='who')\n",
    "add_slang_term(slang='hw',meaning='how')\n",
    "add_slang_term(slang='idfk',meaning='i do not fucking know')\n",
    "add_slang_term(slang='idrk',meaning='i do not really know')\n",
    "add_slang_term(slang='iloveyou',meaning='i love you')\n",
    "add_slang_term(slang='ily2',meaning='i love you too')\n",
    "add_slang_term(slang='iz',meaning='is')\n",
    "add_slang_term(slang='jk',meaning='just kidding')\n",
    "add_slang_term(slang='jking',meaning='joking')\n",
    "add_slang_term(slang='k',meaning='ok')\n",
    "add_slang_term(slang='knw',meaning='know')\n",
    "add_slang_term(slang='lel',meaning='laughing out loud')\n",
    "add_slang_term(slang='like=10',meaning='like equal ten')\n",
    "add_slang_term(slang='like=3',meaning='like equal three')\n",
    "add_slang_term(slang='like=5',meaning='like equal five')\n",
    "add_slang_term(slang='like=compliment',meaning='like equal compliment')\n",
    "add_slang_term(slang='like=hot',meaning='like equal hot')\n",
    "add_slang_term(slang='like=rate',meaning='like equal rate')\n",
    "add_slang_term(slang='like=tbh',meaning='like equal to be honest equal')\n",
    "add_slang_term(slang='liker=',meaning='liker equal')\n",
    "add_slang_term(slang='loll',meaning='laughing out loud')\n",
    "add_slang_term(slang='lolz',meaning='laughing out loud')\n",
    "add_slang_term(slang='loveyou',meaning='love you')\n",
    "add_slang_term(slang='loveyou',meaning='love you')\n",
    "add_slang_term(slang='luff',meaning='love')\n",
    "add_slang_term(slang='ly2',meaning='love you too')\n",
    "add_slang_term(slang='lyk',meaning='let you know')\n",
    "add_slang_term(slang='lyke',meaning='like')\n",
    "add_slang_term(slang='m3',meaning='me')\n",
    "add_slang_term(slang='m8',meaning='mate')\n",
    "add_slang_term(slang='mi',meaning='me')\n",
    "add_slang_term(slang='moree',meaning='more')\n",
    "add_slang_term(slang=\"na'mean\",meaning='you know what i mean')\n",
    "add_slang_term(slang=\"naah\",meaning='no')\n",
    "add_slang_term(slang='namean',meaning='you know what i mean')\n",
    "add_slang_term(slang='nd',meaning='and')\n",
    "add_slang_term(slang='ne',meaning='any')\n",
    "add_slang_term(slang='ne1',meaning='anyone')\n",
    "add_slang_term(slang='not=',meaning='not equal')\n",
    "add_slang_term(slang='nyce',meaning='nice')\n",
    "add_slang_term(slang='o2',meaning='oxygen')\n",
    "add_slang_term(slang='o2???',meaning='oxygen')\n",
    "add_slang_term(slang='obvs',meaning='obvious')\n",
    "add_slang_term(slang='okai',meaning='ok')\n",
    "add_slang_term(slang='oke',meaning='ok')\n",
    "add_slang_term(slang='oka',meaning='ok')\n",
    "add_slang_term(slang='omf',meaning='oh my fuck')\n",
    "add_slang_term(slang='pleas',meaning='please')\n",
    "add_slang_term(slang='plss',meaning='please')\n",
    "add_slang_term(slang='plzz',meaning='please')\n",
    "add_slang_term(slang='plzz',meaning='please')\n",
    "add_slang_term(slang='prolly',meaning='probably')\n",
    "add_slang_term(slang='sappose',meaning='suppose')\n",
    "add_slang_term(slang='shiz',meaning='shit')\n",
    "add_slang_term(slang='shizz',meaning='shit')\n",
    "add_slang_term(slang='shuld',meaning='should')\n",
    "add_slang_term(slang='sitting',meaning='sit')\n",
    "add_slang_term(slang='soz',meaning='sorry')\n",
    "add_slang_term(slang='std',meaning='sexually transmitted disease')\n",
    "add_slang_term(slang='sttfu',meaning='shut the fuck up')\n",
    "add_slang_term(slang='tbh;',meaning='to be honest')\n",
    "add_slang_term(slang='tbh=',meaning='to be honest equal')\n",
    "add_slang_term(slang='tf',meaning='the fuck')\n",
    "add_slang_term(slang='thanku',meaning='thank you')\n",
    "add_slang_term(slang='thankyou',meaning='thank you')\n",
    "add_slang_term(slang='thiugh',meaning='though')\n",
    "add_slang_term(slang='thots',meaning='that hoe over there')\n",
    "add_slang_term(slang='tht',meaning='that')\n",
    "add_slang_term(slang='thy',meaning='they')\n",
    "add_slang_term(slang='til',meaning='till')\n",
    "add_slang_term(slang='tlk',meaning='talk')\n",
    "add_slang_term(slang='totez',meaning='totally')\n",
    "add_slang_term(slang=\"tote's\",meaning='totally')\n",
    "add_slang_term(slang='txt',meaning='text')\n",
    "add_slang_term(slang='tyme',meaning='time')\n",
    "add_slang_term(slang='type=1',meaning='type equal one')\n",
    "add_slang_term(slang='uni',meaning='university')\n",
    "add_slang_term(slang='ure',meaning='your')\n",
    "add_slang_term(slang='v',meaning='very')\n",
    "add_slang_term(slang='vs',meaning='versus')\n",
    "add_slang_term(slang='wby',meaning='what about you')\n",
    "add_slang_term(slang='wha',meaning='what')\n",
    "add_slang_term(slang='yaa',meaning='yes')\n",
    "add_slang_term(slang='ye',meaning='yes')\n",
    "add_slang_term(slang='yey',meaning='yay')\n",
    "add_slang_term(slang='yhu',meaning='you')\n",
    "\n",
    "\n",
    "### Add more after EDA"
   ]
  },
  {
   "cell_type": "code",
   "execution_count": 16,
   "id": "afd63029",
   "metadata": {},
   "outputs": [
    {
     "data": {
      "text/html": [
       "<div>\n",
       "<style scoped>\n",
       "    .dataframe tbody tr th:only-of-type {\n",
       "        vertical-align: middle;\n",
       "    }\n",
       "\n",
       "    .dataframe tbody tr th {\n",
       "        vertical-align: top;\n",
       "    }\n",
       "\n",
       "    .dataframe thead th {\n",
       "        text-align: right;\n",
       "    }\n",
       "</style>\n",
       "<table border=\"1\" class=\"dataframe\">\n",
       "  <thead>\n",
       "    <tr style=\"text-align: right;\">\n",
       "      <th></th>\n",
       "      <th>slang</th>\n",
       "      <th>meaning</th>\n",
       "    </tr>\n",
       "  </thead>\n",
       "  <tbody>\n",
       "    <tr>\n",
       "      <th>0</th>\n",
       "      <td>*$</td>\n",
       "      <td>starbucks</td>\n",
       "    </tr>\n",
       "    <tr>\n",
       "      <th>1</th>\n",
       "      <td>0773h</td>\n",
       "      <td>hello</td>\n",
       "    </tr>\n",
       "    <tr>\n",
       "      <th>2</th>\n",
       "      <td>121</td>\n",
       "      <td>one to one</td>\n",
       "    </tr>\n",
       "    <tr>\n",
       "      <th>3</th>\n",
       "      <td>143</td>\n",
       "      <td>i love you</td>\n",
       "    </tr>\n",
       "    <tr>\n",
       "      <th>4</th>\n",
       "      <td>1432</td>\n",
       "      <td>i love you, too</td>\n",
       "    </tr>\n",
       "    <tr>\n",
       "      <th>...</th>\n",
       "      <td>...</td>\n",
       "      <td>...</td>\n",
       "    </tr>\n",
       "    <tr>\n",
       "      <th>962</th>\n",
       "      <td>wha</td>\n",
       "      <td>what</td>\n",
       "    </tr>\n",
       "    <tr>\n",
       "      <th>963</th>\n",
       "      <td>yaa</td>\n",
       "      <td>yes</td>\n",
       "    </tr>\n",
       "    <tr>\n",
       "      <th>964</th>\n",
       "      <td>ye</td>\n",
       "      <td>yes</td>\n",
       "    </tr>\n",
       "    <tr>\n",
       "      <th>965</th>\n",
       "      <td>yey</td>\n",
       "      <td>yay</td>\n",
       "    </tr>\n",
       "    <tr>\n",
       "      <th>966</th>\n",
       "      <td>yhu</td>\n",
       "      <td>you</td>\n",
       "    </tr>\n",
       "  </tbody>\n",
       "</table>\n",
       "<p>967 rows × 2 columns</p>\n",
       "</div>"
      ],
      "text/plain": [
       "     slang          meaning\n",
       "0       *$        starbucks\n",
       "1    0773h            hello\n",
       "2      121       one to one\n",
       "3      143       i love you\n",
       "4     1432  i love you, too\n",
       "..     ...              ...\n",
       "962    wha             what\n",
       "963    yaa              yes\n",
       "964     ye              yes\n",
       "965    yey              yay\n",
       "966    yhu              you\n",
       "\n",
       "[967 rows x 2 columns]"
      ]
     },
     "execution_count": 16,
     "metadata": {},
     "output_type": "execute_result"
    }
   ],
   "source": [
    "slang_top_clean"
   ]
  },
  {
   "cell_type": "code",
   "execution_count": 17,
   "id": "4d0af7bf",
   "metadata": {},
   "outputs": [],
   "source": [
    "slang_top_clean.to_csv('slang_top.csv')"
   ]
  },
  {
   "cell_type": "markdown",
   "id": "c20ea3e5",
   "metadata": {},
   "source": [
    "#### NEW Dictionary SLANG_TOP"
   ]
  },
  {
   "cell_type": "code",
   "execution_count": 18,
   "id": "4264a858",
   "metadata": {},
   "outputs": [
    {
     "name": "stderr",
     "output_type": "stream",
     "text": [
      "C:\\Users\\Acer\\AppData\\Local\\Temp/ipykernel_27860/3193736968.py:1: UserWarning: DataFrame columns are not unique, some columns will be omitted.\n",
      "  SLANG_TOP = slang_top_clean.set_index('slang').T.to_dict('records')[0]\n"
     ]
    },
    {
     "data": {
      "text/plain": [
       "950"
      ]
     },
     "execution_count": 18,
     "metadata": {},
     "output_type": "execute_result"
    }
   ],
   "source": [
    "SLANG_TOP = slang_top_clean.set_index('slang').T.to_dict('records')[0]\n",
    "len(SLANG_TOP.keys())"
   ]
  },
  {
   "cell_type": "markdown",
   "id": "09583336",
   "metadata": {},
   "source": [
    "#### Export `SLANG_TOP` as pickle file"
   ]
  },
  {
   "cell_type": "code",
   "execution_count": 19,
   "id": "96aad889",
   "metadata": {},
   "outputs": [],
   "source": [
    "with open(\"SLANG_TOP.pkl\", \"wb\") as fw:\n",
    "    pickle.dump(SLANG_TOP, fw)"
   ]
  }
 ],
 "metadata": {
  "kernelspec": {
   "display_name": "Python 3 (ipykernel)",
   "language": "python",
   "name": "python3"
  },
  "language_info": {
   "codemirror_mode": {
    "name": "ipython",
    "version": 3
   },
   "file_extension": ".py",
   "mimetype": "text/x-python",
   "name": "python",
   "nbconvert_exporter": "python",
   "pygments_lexer": "ipython3",
   "version": "3.9.7"
  }
 },
 "nbformat": 4,
 "nbformat_minor": 5
}
