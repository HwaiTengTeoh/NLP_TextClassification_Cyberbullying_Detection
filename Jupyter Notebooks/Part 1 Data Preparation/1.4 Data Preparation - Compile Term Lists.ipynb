{
 "cells": [
  {
   "cell_type": "markdown",
   "id": "20206e8d",
   "metadata": {},
   "source": [
    "<div class=\"alert\" style=\"background-color:#fff; color:white; padding:0px 10px; border-radius:5px;\"><h1 style='margin:15px 15px; color:#0b1354; font-size:40px'>1.4 Data Preparation - Compile Term Lists</h1>\n",
    "</div>"
   ]
  },
  {
   "cell_type": "markdown",
   "id": "fe3300ca",
   "metadata": {},
   "source": [
    "<div class=\"alert alert-info\" style=\"background-color:#0b1354; color:white; padding:0px 10px; border-radius:5px;\"><h2 style='margin:10px 5px'>Term lists</h2>\n",
    "</div>\n",
    "\n",
    "- Proper names\n",
    "- 'allness' indicator\n",
    "- diminishers\n",
    "- intensifiers\n",
    "- negation words\n",
    "- profane term"
   ]
  },
  {
   "cell_type": "code",
   "execution_count": 1,
   "id": "7ca6a630",
   "metadata": {},
   "outputs": [],
   "source": [
    "def clean_raw_word_list(category, raw_path, clean_path):\n",
    "    word_list = []\n",
    "    with open(raw_path,\"r\") as f:\n",
    "        for line in f:\n",
    "            if category == \"badword\":\n",
    "                word = line.replace(\"\\n\",\"\").replace(\",\",\"\").lower().replace(\"-\",\" \").strip()\n",
    "                word_list.append(word)\n",
    "            else:\n",
    "                for t in line.split():\n",
    "                    word = t.replace(\"\\n\",\"\").replace(\",\",\"\").lower().replace(\"-\",\" \").strip() \n",
    "                    word_list.append(word)\n",
    "                    \n",
    "    word_list = list(dict.fromkeys(word_list))  \n",
    "    \n",
    "    with open(clean_path, 'w') as f:\n",
    "        for word in word_list:\n",
    "            f.write(word)\n",
    "            f.write('\\n')"
   ]
  },
  {
   "cell_type": "code",
   "execution_count": 2,
   "id": "a1f8461f",
   "metadata": {},
   "outputs": [],
   "source": [
    "clean_raw_word_list(\"absolute\", \"term_list/raw_absolute.txt\", \"term_list/compiled_absolute.txt\")\n",
    "clean_raw_word_list(\"allness\", \"term_list/raw_absolute.txt\", \"term_list/compiled_allness.txt\")\n",
    "clean_raw_word_list(\"badword\", \"term_list/raw_badword.txt\", \"term_list/compiled_badword.txt\")\n",
    "clean_raw_word_list(\"negation\", \"term_list/raw_negation.txt\", \"term_list/compiled_negation.txt\")\n",
    "clean_raw_word_list(\"diminisher\", \"term_list/raw_diminisher.txt\", \"term_list/compiled_diminisher.txt\")\n",
    "clean_raw_word_list(\"intensifier\", \"term_list/raw_intensifier.txt\", \"term_list/compiled_intensifier.txt\")"
   ]
  }
 ],
 "metadata": {
  "kernelspec": {
   "display_name": "Python 3 (ipykernel)",
   "language": "python",
   "name": "python3"
  },
  "language_info": {
   "codemirror_mode": {
    "name": "ipython",
    "version": 3
   },
   "file_extension": ".py",
   "mimetype": "text/x-python",
   "name": "python",
   "nbconvert_exporter": "python",
   "pygments_lexer": "ipython3",
   "version": "3.9.7"
  }
 },
 "nbformat": 4,
 "nbformat_minor": 5
}
