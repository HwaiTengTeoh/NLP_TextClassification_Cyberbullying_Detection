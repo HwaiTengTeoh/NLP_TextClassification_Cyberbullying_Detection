{
 "cells": [
  {
   "cell_type": "markdown",
   "id": "a0aff953",
   "metadata": {
    "id": "a0aff953"
   },
   "source": [
    "<div class=\"alert alert-info\" style=\"background-color:#5d3a8e; color:white; padding:0px 10px; border-radius:5px;\"><h2 style='margin:10px 5px'>Required Libraries and Modules</h2>\n",
    "</div>"
   ]
  },
  {
   "cell_type": "markdown",
   "id": "091a86a0",
   "metadata": {},
   "source": [
    "**Note: This notebook is run in Paperspace platform**"
   ]
  },
  {
   "cell_type": "code",
   "execution_count": 1,
   "id": "OItEYDmL1hi2",
   "metadata": {
    "id": "OItEYDmL1hi2"
   },
   "outputs": [
    {
     "name": "stdout",
     "output_type": "stream",
     "text": [
      "\u001b[33mWARNING: The directory '/home/jovyan/.cache/pip' or its parent directory is not owned or is not writable by the current user. The cache has been disabled. Check the permissions and owner of that directory. If executing pip with sudo, you should use sudo's -H flag.\u001b[0m\u001b[33m\n",
      "\u001b[0mRequirement already satisfied: transformers in /opt/conda/lib/python3.9/site-packages (4.19.1)\n",
      "Requirement already satisfied: tokenizers!=0.11.3,<0.13,>=0.11.1 in /opt/conda/lib/python3.9/site-packages (from transformers) (0.12.1)\n",
      "Requirement already satisfied: pyyaml>=5.1 in /opt/conda/lib/python3.9/site-packages (from transformers) (5.4.1)\n",
      "Requirement already satisfied: tqdm>=4.27 in /opt/conda/lib/python3.9/site-packages (from transformers) (4.62.3)\n",
      "Requirement already satisfied: regex!=2019.12.17 in /opt/conda/lib/python3.9/site-packages (from transformers) (2022.4.24)\n",
      "Requirement already satisfied: numpy>=1.17 in /opt/conda/lib/python3.9/site-packages (from transformers) (1.21.5)\n",
      "Requirement already satisfied: filelock in /opt/conda/lib/python3.9/site-packages (from transformers) (3.7.0)\n",
      "Requirement already satisfied: requests in /opt/conda/lib/python3.9/site-packages (from transformers) (2.27.1)\n",
      "Requirement already satisfied: huggingface-hub<1.0,>=0.1.0 in /opt/conda/lib/python3.9/site-packages (from transformers) (0.6.0)\n",
      "Requirement already satisfied: packaging>=20.0 in /opt/conda/lib/python3.9/site-packages (from transformers) (21.3)\n",
      "Requirement already satisfied: typing-extensions>=3.7.4.3 in /opt/conda/lib/python3.9/site-packages (from huggingface-hub<1.0,>=0.1.0->transformers) (4.1.1)\n",
      "Requirement already satisfied: pyparsing!=3.0.5,>=2.0.2 in /opt/conda/lib/python3.9/site-packages (from packaging>=20.0->transformers) (3.0.7)\n",
      "Requirement already satisfied: charset-normalizer~=2.0.0 in /opt/conda/lib/python3.9/site-packages (from requests->transformers) (2.0.12)\n",
      "Requirement already satisfied: certifi>=2017.4.17 in /opt/conda/lib/python3.9/site-packages (from requests->transformers) (2021.10.8)\n",
      "Requirement already satisfied: idna<4,>=2.5 in /opt/conda/lib/python3.9/site-packages (from requests->transformers) (3.3)\n",
      "Requirement already satisfied: urllib3<1.27,>=1.21.1 in /opt/conda/lib/python3.9/site-packages (from requests->transformers) (1.26.8)\n",
      "\u001b[33mWARNING: Running pip as the 'root' user can result in broken permissions and conflicting behaviour with the system package manager. It is recommended to use a virtual environment instead: https://pip.pypa.io/warnings/venv\u001b[0m\u001b[33m\n",
      "\u001b[0m\u001b[33mWARNING: The directory '/home/jovyan/.cache/pip' or its parent directory is not owned or is not writable by the current user. The cache has been disabled. Check the permissions and owner of that directory. If executing pip with sudo, you should use sudo's -H flag.\u001b[0m\u001b[33m\n",
      "\u001b[0mRequirement already satisfied: torch in /opt/conda/lib/python3.9/site-packages (1.11.0)\n",
      "Requirement already satisfied: typing-extensions in /opt/conda/lib/python3.9/site-packages (from torch) (4.1.1)\n",
      "\u001b[33mWARNING: Running pip as the 'root' user can result in broken permissions and conflicting behaviour with the system package manager. It is recommended to use a virtual environment instead: https://pip.pypa.io/warnings/venv\u001b[0m\u001b[33m\n",
      "\u001b[0m\u001b[33mWARNING: The directory '/home/jovyan/.cache/pip' or its parent directory is not owned or is not writable by the current user. The cache has been disabled. Check the permissions and owner of that directory. If executing pip with sudo, you should use sudo's -H flag.\u001b[0m\u001b[33m\n",
      "\u001b[0mRequirement already satisfied: imblearn in /opt/conda/lib/python3.9/site-packages (0.0)\n",
      "Requirement already satisfied: imbalanced-learn in /opt/conda/lib/python3.9/site-packages (from imblearn) (0.9.0)\n",
      "Requirement already satisfied: threadpoolctl>=2.0.0 in /opt/conda/lib/python3.9/site-packages (from imbalanced-learn->imblearn) (3.1.0)\n",
      "Requirement already satisfied: joblib>=0.11 in /opt/conda/lib/python3.9/site-packages (from imbalanced-learn->imblearn) (1.1.0)\n",
      "Requirement already satisfied: scipy>=1.1.0 in /opt/conda/lib/python3.9/site-packages (from imbalanced-learn->imblearn) (1.8.0)\n",
      "Requirement already satisfied: numpy>=1.14.6 in /opt/conda/lib/python3.9/site-packages (from imbalanced-learn->imblearn) (1.21.5)\n",
      "Requirement already satisfied: scikit-learn>=1.0.1 in /opt/conda/lib/python3.9/site-packages (from imbalanced-learn->imblearn) (1.0.2)\n",
      "\u001b[33mWARNING: Running pip as the 'root' user can result in broken permissions and conflicting behaviour with the system package manager. It is recommended to use a virtual environment instead: https://pip.pypa.io/warnings/venv\u001b[0m\u001b[33m\n",
      "\u001b[0m"
     ]
    }
   ],
   "source": [
    "!pip install transformers\n",
    "!pip install torch\n",
    "!pip install imblearn"
   ]
  },
  {
   "cell_type": "code",
   "execution_count": 2,
   "id": "02505ed3",
   "metadata": {
    "id": "02505ed3"
   },
   "outputs": [
    {
     "name": "stderr",
     "output_type": "stream",
     "text": [
      "/tmp/ipykernel_650/491656687.py:14: TqdmDeprecationWarning: This function will be removed in tqdm==5.0.0\n",
      "Please use `tqdm.notebook.*` instead of `tqdm._tqdm_notebook.*`\n",
      "  from tqdm._tqdm_notebook import tqdm_notebook\n"
     ]
    }
   ],
   "source": [
    "import numpy as np\n",
    "import pandas as pd\n",
    "\n",
    "from sklearn.model_selection import train_test_split, StratifiedKFold, StratifiedShuffleSplit\n",
    "from sklearn.metrics import accuracy_score, recall_score, precision_score, f1_score, roc_auc_score, classification_report\n",
    "\n",
    "import torch\n",
    "from transformers import AutoTokenizer, AutoModelForSequenceClassification\n",
    "from transformers import TrainingArguments, Trainer\n",
    "from transformers import BertTokenizer, BertForSequenceClassification\n",
    "from transformers import EarlyStoppingCallback, set_seed\n",
    "\n",
    "# Progress bar\n",
    "from tqdm._tqdm_notebook import tqdm_notebook\n",
    "from tqdm import tqdm\n",
    "tqdm_notebook.pandas()"
   ]
  },
  {
   "cell_type": "markdown",
   "id": "5a8c1621",
   "metadata": {
    "id": "5a8c1621"
   },
   "source": [
    "<div class=\"alert alert-info\" style=\"background-color:#5d3a8e; color:white; padding:0px 10px; border-radius:5px;\"><h2 style='margin:10px 5px'>Import Clean Text Data</h2>\n",
    "</div>"
   ]
  },
  {
   "cell_type": "code",
   "execution_count": 3,
   "id": "c58048aa",
   "metadata": {
    "id": "c58048aa"
   },
   "outputs": [
    {
     "data": {
      "application/vnd.jupyter.widget-view+json": {
       "model_id": "8cd4af5382bf485eb53c337500ed7d08",
       "version_major": 2,
       "version_minor": 0
      },
      "text/plain": [
       "  0%|          | 0/112247 [00:00<?, ?it/s]"
      ]
     },
     "metadata": {},
     "output_type": "display_data"
    }
   ],
   "source": [
    "###############################################################\n",
    "# Note: Change the name of data set used for feature creation\n",
    "###############################################################\n",
    "data_set='bully_data_clean_with_stopword'\n",
    "    \n",
    "    \n",
    "###################\n",
    "# Import Data Set #\n",
    "###################\n",
    "bully_data_cleaned = pd.read_csv('/datasets/data/bully_data_clean_with_stopword_short.csv', encoding='utf8')                                            \n",
    "bully_data_cleaned = bully_data_cleaned[~bully_data_cleaned['text_check'].isna()]\n",
    "bully_data_cleaned = bully_data_cleaned[bully_data_cleaned['text_check'] != \"\"]\n",
    "#bully_data_cleaned = bully_data_cleaned[bully_data_cleaned['role']!='None']\n",
    "bully_data_cleaned = bully_data_cleaned[['label','text_check']]\n",
    "bully_data_cleaned['label'] = bully_data_cleaned['label'].progress_apply(lambda x: 1 if x ==\"Cyberbullying\" else 0)\n",
    "bully_data_cleaned.rename(columns = {'text_check':'text'}, inplace = True)\n",
    "bully_data_cleaned = bully_data_cleaned.reset_index(drop=True)"
   ]
  },
  {
   "cell_type": "code",
   "execution_count": 4,
   "id": "f1ad3546",
   "metadata": {
    "id": "f1ad3546",
    "scrolled": true
   },
   "outputs": [
    {
     "name": "stdout",
     "output_type": "stream",
     "text": [
      "<class 'pandas.core.frame.DataFrame'>\n",
      "RangeIndex: 112247 entries, 0 to 112246\n",
      "Data columns (total 2 columns):\n",
      " #   Column  Non-Null Count   Dtype \n",
      "---  ------  --------------   ----- \n",
      " 0   label   112247 non-null  int64 \n",
      " 1   text    112247 non-null  object\n",
      "dtypes: int64(1), object(1)\n",
      "memory usage: 1.7+ MB\n"
     ]
    }
   ],
   "source": [
    "bully_data_cleaned.info()"
   ]
  },
  {
   "cell_type": "code",
   "execution_count": 5,
   "id": "y2TxGLSm81wJ",
   "metadata": {
    "id": "y2TxGLSm81wJ"
   },
   "outputs": [
    {
     "data": {
      "text/plain": [
       "0    106872\n",
       "1      5375\n",
       "Name: label, dtype: int64"
      ]
     },
     "execution_count": 5,
     "metadata": {},
     "output_type": "execute_result"
    }
   ],
   "source": [
    "bully_data_cleaned['label'].value_counts()"
   ]
  },
  {
   "cell_type": "markdown",
   "id": "61d6da90",
   "metadata": {
    "id": "61d6da90"
   },
   "source": [
    "<div class=\"alert alert-info\" style=\"background-color:#5d3a8e; color:white; padding:0px 10px; border-radius:5px;\"><h2 style='margin:10px 5px'>Define pretrained tokenizer and model</h2>\n",
    "</div>\n",
    "\n",
    "model_name = \"bert-base-uncased\"\n",
    "tokenizer = BertTokenizer.from_pretrained(model_name)\n",
    "model = BertForSequenceClassification.from_pretrained(model_name, num_labels=2)"
   ]
  },
  {
   "cell_type": "code",
   "execution_count": 6,
   "id": "b09bcba2",
   "metadata": {
    "id": "b09bcba2"
   },
   "outputs": [
    {
     "data": {
      "application/vnd.jupyter.widget-view+json": {
       "model_id": "5010841567a4426989a347365cb1bfde",
       "version_major": 2,
       "version_minor": 0
      },
      "text/plain": [
       "Downloading:   0%|          | 0.00/29.0 [00:00<?, ?B/s]"
      ]
     },
     "metadata": {},
     "output_type": "display_data"
    },
    {
     "data": {
      "application/vnd.jupyter.widget-view+json": {
       "model_id": "b39f6b6197624373ae30b84728d4c9a5",
       "version_major": 2,
       "version_minor": 0
      },
      "text/plain": [
       "Downloading:   0%|          | 0.00/665 [00:00<?, ?B/s]"
      ]
     },
     "metadata": {},
     "output_type": "display_data"
    },
    {
     "data": {
      "application/vnd.jupyter.widget-view+json": {
       "model_id": "308818a1431b4c0497033d5e3fead996",
       "version_major": 2,
       "version_minor": 0
      },
      "text/plain": [
       "Downloading:   0%|          | 0.00/226k [00:00<?, ?B/s]"
      ]
     },
     "metadata": {},
     "output_type": "display_data"
    },
    {
     "data": {
      "application/vnd.jupyter.widget-view+json": {
       "model_id": "6001c04a32bc47b9b8c9ee0c3af02478",
       "version_major": 2,
       "version_minor": 0
      },
      "text/plain": [
       "Downloading:   0%|          | 0.00/455k [00:00<?, ?B/s]"
      ]
     },
     "metadata": {},
     "output_type": "display_data"
    },
    {
     "data": {
      "application/vnd.jupyter.widget-view+json": {
       "model_id": "761b635d0ec4432da996e72f071030f2",
       "version_major": 2,
       "version_minor": 0
      },
      "text/plain": [
       "Downloading:   0%|          | 0.00/51.7M [00:00<?, ?B/s]"
      ]
     },
     "metadata": {},
     "output_type": "display_data"
    },
    {
     "name": "stderr",
     "output_type": "stream",
     "text": [
      "Some weights of the model checkpoint at google/electra-small-discriminator were not used when initializing ElectraForSequenceClassification: ['discriminator_predictions.dense.weight', 'discriminator_predictions.dense_prediction.weight', 'discriminator_predictions.dense_prediction.bias', 'discriminator_predictions.dense.bias']\n",
      "- This IS expected if you are initializing ElectraForSequenceClassification from the checkpoint of a model trained on another task or with another architecture (e.g. initializing a BertForSequenceClassification model from a BertForPreTraining model).\n",
      "- This IS NOT expected if you are initializing ElectraForSequenceClassification from the checkpoint of a model that you expect to be exactly identical (initializing a BertForSequenceClassification model from a BertForSequenceClassification model).\n",
      "Some weights of ElectraForSequenceClassification were not initialized from the model checkpoint at google/electra-small-discriminator and are newly initialized: ['classifier.out_proj.bias', 'classifier.out_proj.weight', 'classifier.dense.bias', 'classifier.dense.weight']\n",
      "You should probably TRAIN this model on a down-stream task to be able to use it for predictions and inference.\n"
     ]
    }
   ],
   "source": [
    "from transformers import AutoTokenizer, AutoModelForSequenceClassification\n",
    "# Define pretrained tokenizer and model\n",
    "\n",
    "model_name = \"google/electra-small-discriminator\"\n",
    "tokenizer = AutoTokenizer.from_pretrained(model_name)\n",
    "# def model_init():\n",
    "#     return AutoModelForSequenceClassification.from_pretrained(model_name, \n",
    "#                                                               num_labels=2, \n",
    "#                                                             output_attentions = False, # Whether the model returns attentions weights.\n",
    "#                                                             output_hidden_states = False,\n",
    "#                                                             return_dict=True )\n",
    "set_seed(100)\n",
    "model = AutoModelForSequenceClassification.from_pretrained(model_name, num_labels=2)"
   ]
  },
  {
   "cell_type": "markdown",
   "id": "fe8c063e",
   "metadata": {
    "id": "fe8c063e"
   },
   "source": [
    "<div class=\"alert alert-info\" style=\"background-color:#5d3a8e; color:white; padding:0px 10px; border-radius:5px;\"><h2 style='margin:10px 5px'>Preprocess data and Fine Tune Transformers</h2>\n",
    "</div>"
   ]
  },
  {
   "cell_type": "code",
   "execution_count": 7,
   "id": "b5e716fb",
   "metadata": {
    "id": "b5e716fb"
   },
   "outputs": [],
   "source": [
    "##############################\n",
    "# Data: Text Input and Label #\n",
    "##############################\n",
    "X = list(bully_data_cleaned[\"text\"])\n",
    "y = list(bully_data_cleaned[\"label\"])\n",
    "\n",
    "\n",
    "########################\n",
    "# Create torch dataset #\n",
    "########################\n",
    "class Dataset(torch.utils.data.Dataset):\n",
    "    def __init__(self, encodings, labels=None):\n",
    "        self.encodings = encodings\n",
    "        self.labels = labels\n",
    "\n",
    "    def __getitem__(self, idx):\n",
    "        item = {key: torch.tensor(val[idx]) for key, val in self.encodings.items()}\n",
    "        if self.labels:\n",
    "            item[\"labels\"] = torch.tensor(self.labels[idx])\n",
    "        return item\n",
    "\n",
    "    def __len__(self):\n",
    "        return len(self.encodings[\"input_ids\"])\n",
    "\n",
    "\n",
    "#############################\n",
    "# Define Trainer parameters #\n",
    "#############################\n",
    "def compute_metrics(p):\n",
    "    pred, labels = p\n",
    "    pred = np.argmax(pred, axis=1)\n",
    "\n",
    "    accuracy = accuracy_score(y_true=labels, y_pred=pred)\n",
    "    recall_cb = recall_score(y_true=labels, y_pred=pred, average='binary', pos_label=1)\n",
    "    precision_cb = precision_score(y_true=labels, y_pred=pred, average='binary', pos_label=1)\n",
    "    f1_cb = f1_score(y_true=labels, y_pred=pred, average='binary', pos_label=1)\n",
    "    \n",
    "    recall_ncb = recall_score(y_true=labels, y_pred=pred, average='binary', pos_label=0)\n",
    "    precision_ncb = precision_score(y_true=labels, y_pred=pred, average='binary', pos_label=0)\n",
    "    f1_ncb = f1_score(y_true=labels, y_pred=pred, average='binary', pos_label=0)\n",
    "    \n",
    "    recall_overall = recall_score(y_true=labels, y_pred=pred, average='macro')\n",
    "    precision_overall = precision_score(y_true=labels, y_pred=pred, average='macro')\n",
    "    f1_overall = f1_score(y_true=labels, y_pred=pred, average='macro')\n",
    "\n",
    "\n",
    "    return {\"accuracy\": accuracy, \n",
    "            \"precision_cb\": precision_cb, \"recall_cb\": recall_cb, \"f1_cb\": f1_cb,\n",
    "            \"precision_ncb\": precision_ncb, \"recall_ncb\": recall_ncb, \"f1_ncb\": f1_ncb,\n",
    "            \"precision_overall\": precision_overall, \"recall_overall\": recall_overall, \"f1_overall\": f1_overall}\n",
    "\n",
    "\n",
    "#########################\n",
    "# Plot Confusion Matrix #\n",
    "#########################\n",
    "import numpy as np\n",
    "import matplotlib.pyplot as plt\n",
    "import seaborn as sns\n",
    "\n",
    "def make_confusion_matrix(cf,\n",
    "                          group_names=None,\n",
    "                          categories='auto',\n",
    "                          count=True,\n",
    "                          percent=True,\n",
    "                          cbar=True,\n",
    "                          xyticks=True,\n",
    "                          xyplotlabels=True,\n",
    "                          sum_stats=True,\n",
    "                          figsize=None,\n",
    "                          cmap='Blues',\n",
    "                          title=None):\n",
    "    '''\n",
    "    This function will make a pretty plot of an sklearn Confusion Matrix cm using a Seaborn heatmap visualization.\n",
    "\n",
    "    Arguments\n",
    "    ---------\n",
    "    cf:            confusion matrix to be passed in\n",
    "\n",
    "    group_names:   List of strings that represent the labels row by row to be shown in each square.\n",
    "\n",
    "    categories:    List of strings containing the categories to be displayed on the x,y axis. Default is 'auto'\n",
    "\n",
    "    count:         If True, show the raw number in the confusion matrix. Default is True.\n",
    "\n",
    "    normalize:     If True, show the proportions for each category. Default is True.\n",
    "\n",
    "    cbar:          If True, show the color bar. The cbar values are based off the values in the confusion matrix.\n",
    "                   Default is True.\n",
    "\n",
    "    xyticks:       If True, show x and y ticks. Default is True.\n",
    "\n",
    "    xyplotlabels:  If True, show 'True Label' and 'Predicted Label' on the figure. Default is True.\n",
    "\n",
    "    sum_stats:     If True, display summary statistics below the figure. Default is True.\n",
    "\n",
    "    figsize:       Tuple representing the figure size. Default will be the matplotlib rcParams value.\n",
    "\n",
    "    cmap:          Colormap of the values displayed from matplotlib.pyplot.cm. Default is 'Blues'\n",
    "                   See http://matplotlib.org/examples/color/colormaps_reference.html\n",
    "                   \n",
    "    title:         Title for the heatmap. Default is None.\n",
    "\n",
    "    '''\n",
    "\n",
    "\n",
    "    # CONFUSION MATRIX IN PERCENTAGE\n",
    "    cf_pct = cf.astype('float')/cf.sum(axis=1)[:, np.newaxis]\n",
    "    # CODE TO GENERATE TEXT INSIDE EACH SQUARE\n",
    "    blanks = ['' for i in range(cf.size)]\n",
    "\n",
    "    if group_names and len(group_names)==cf.size:\n",
    "        group_labels = [\"{}\\n\".format(value) for value in group_names]\n",
    "    else:\n",
    "        group_labels = blanks\n",
    "\n",
    "    if count:\n",
    "        group_counts = [\"{0:0.0f}\\n\".format(value) for value in cf.flatten()]\n",
    "    else:\n",
    "        group_counts = blanks\n",
    "\n",
    "    if percent:\n",
    "        group_percentages = [\"{0:.2%}\".format(value) for value in cf_pct.flatten()]\n",
    "    else:\n",
    "        group_percentages = blanks\n",
    "\n",
    "    box_labels = [f\"{v1}{v2}{v3}\".strip() for v1, v2, v3 in zip(group_labels,group_counts,group_percentages)]\n",
    "    box_labels = np.asarray(box_labels).reshape(cf.shape[0],cf.shape[1])\n",
    "\n",
    "\n",
    "    # CODE TO GENERATE SUMMARY STATISTICS & TEXT FOR SUMMARY STATS\n",
    "    if sum_stats:\n",
    "        #Accuracy is sum of diagonal divided by total observations\n",
    "        accuracy  = np.trace(cf) / float(np.sum(cf))\n",
    "\n",
    "        #if it is a binary confusion matrix, show some more stats\n",
    "        if len(cf)==2:\n",
    "            #Metrics for Binary Confusion Matrices\n",
    "            precision = cf[1,1] / sum(cf[:,1])\n",
    "            recall    = cf[1,1] / sum(cf[1,:])\n",
    "            f1_score  = 2*precision*recall / (precision + recall)\n",
    "            stats_text = \"\\n\\nAccuracy={:0.3f}\\nPrecision={:0.3f}\\nRecall={:0.3f}\\nF1 Score={:0.3f}\".format(\n",
    "                accuracy,precision,recall,f1_score)\n",
    "        else:\n",
    "            stats_text = \"\\n\\nAccuracy={:0.3f}\".format(accuracy)\n",
    "    else:\n",
    "        stats_text = \"\"\n",
    "\n",
    "\n",
    "    # SET FIGURE PARAMETERS ACCORDING TO OTHER ARGUMENTS\n",
    "    if figsize==None:\n",
    "        #Get default figure size if not set\n",
    "        figsize = plt.rcParams.get('figure.figsize')\n",
    "\n",
    "    if xyticks==False:\n",
    "        #Do not show categories if xyticks is False\n",
    "        categories=False\n",
    "\n",
    "\n",
    "    # MAKE THE HEATMAP VISUALIZATION\n",
    "    plt.figure(figsize=figsize)\n",
    "    sns.heatmap(cf_pct,annot=box_labels,fmt=\"\",cmap=cmap,cbar=cbar,xticklabels=categories,yticklabels=categories)\n",
    "\n",
    "    if xyplotlabels:\n",
    "        plt.ylabel('True label')\n",
    "        plt.xlabel('Predicted label' + stats_text)\n",
    "    else:\n",
    "        plt.xlabel(stats_text)\n",
    "    \n",
    "    if title:\n",
    "        plt.title(title)\n",
    "\n",
    "\n",
    "########################\n",
    "# Run cross-validation #\n",
    "########################\n",
    "def run_cross_validation(model_name='Electra',\n",
    "                         X=X,\n",
    "                         y=y, \n",
    "                         splits=5,\n",
    "                         epoch=8,\n",
    "                         checkpoint=False):\n",
    "  \n",
    "    kfold = StratifiedShuffleSplit(n_splits=splits, test_size=0.1, random_state=1127)\n",
    "    # kfold = StratifiedKFold(n_splits=splits, shuffle=True, random_state=1127)\n",
    "    n_fold = 1\n",
    "\n",
    "    print(\"Developing Model with Cross validation for: \" + model_name)\n",
    "    for train, test in tqdm(kfold.split(X, y)):\n",
    "\n",
    "        print(\"Running for Fold: \",n_fold)\n",
    "        train_index = list(train)\n",
    "        test_index = list(test)\n",
    "\n",
    "        X_train = [X[i] for i in train_index]\n",
    "        y_train = [y[i] for i in train_index]\n",
    "        X_val = [X[i] for i in test_index]\n",
    "        y_val = [y[i] for i in test_index]\n",
    "\n",
    "        # Tokenize\n",
    "        X_train_tokenized = tokenizer(X_train, padding=True, truncation=True, max_length=512)\n",
    "        X_val_tokenized = tokenizer(X_val, padding=True, truncation=True, max_length=512)\n",
    "\n",
    "        # Create torch dataset\n",
    "        train_dataset = Dataset(X_train_tokenized, y_train)\n",
    "        val_dataset = Dataset(X_val_tokenized, y_val)\n",
    "\n",
    "        # Fine Tune Transformer\n",
    "        # Define Trainer\n",
    "        args = TrainingArguments(\n",
    "            output_dir=\"content/drive/MyDrive_binary/output_\" + model_name + \"/fold\"+str(n_fold),\n",
    "            evaluation_strategy=\"epoch\",\n",
    "            save_strategy=\"epoch\",\n",
    "            #eval_steps=500,\n",
    "            #per_device_train_batch_size=1,\n",
    "            #per_device_eval_batch_size=1,\n",
    "            num_train_epochs=epoch, #1 was okay\n",
    "            seed=1127,\n",
    "            load_best_model_at_end=True,\n",
    "        )\n",
    "\n",
    "        trainer = Trainer(\n",
    "        # model_init=model_init,\n",
    "        model=model,\n",
    "        args=args,\n",
    "        train_dataset=train_dataset,\n",
    "        eval_dataset=val_dataset,\n",
    "        compute_metrics=compute_metrics,\n",
    "        callbacks=[EarlyStoppingCallback(early_stopping_patience=3)],\n",
    "        )\n",
    "            \n",
    "        trainer.train(resume_from_checkpoint=checkpoint)\n",
    "        print(\"Complete for fold\", n_fold)\n",
    "        n_fold= n_fold + 1\n",
    "\n",
    "\n",
    "#####################\n",
    "# Run Hold Out Test #\n",
    "#####################\n",
    "\n",
    "# Train and Test Set\n",
    "X_train, X_test, y_train, y_test = train_test_split(X, y, test_size=0.1, stratify=y, random_state=1127)\n",
    "\n",
    "# Train and Validate Set\n",
    "# X_train, X_val, y_train, y_val = train_test_split(X_train, y_train, test_size=0.1, stratify=y_train, random_state=1127)\n",
    "X_train_tokenized = tokenizer(X_train, padding=True, truncation=True, max_length=512)\n",
    "X_val_tokenized = tokenizer(X_test, padding=True, truncation=True, max_length=512)\n",
    "\n",
    "# Create torch dataset\n",
    "train_dataset = Dataset(X_train_tokenized, y_train)\n",
    "val_dataset = Dataset(X_val_tokenized, y_test)\n",
    "\n",
    "def run_hold_out_split(model_name='Electra',\n",
    "                       epoch=8,\n",
    "                       train_dataset=train_dataset,\n",
    "                       eval_dataset=val_dataset,\n",
    "                       checkpoint=False):\n",
    "  \n",
    "    print(\"Developing Model with Hold Out Splits for: \" + model_name)\n",
    "    # Fine Tune Transformer\n",
    "    # Define Trainer\n",
    "    args = TrainingArguments(\n",
    "      output_dir=\"content/drive/MyDrive_binary/output_\" + model_name + \"/holdout\",\n",
    "      evaluation_strategy=\"epoch\",\n",
    "      save_strategy=\"epoch\",\n",
    "      #eval_steps=500,\n",
    "      #per_device_train_batch_size=1,\n",
    "      #per_device_eval_batch_size=1,\n",
    "      num_train_epochs=epoch, #1 was okay\n",
    "      seed=1127,\n",
    "      load_best_model_at_end=True,\n",
    "    )\n",
    "\n",
    "    trainer = Trainer(\n",
    "    # model_init=model_init,\n",
    "    model=model,\n",
    "    args=args,\n",
    "    train_dataset=train_dataset,\n",
    "    eval_dataset=val_dataset,\n",
    "    compute_metrics=compute_metrics,\n",
    "    callbacks=[EarlyStoppingCallback(early_stopping_patience=5)],\n",
    "    )\n",
    "\n",
    "    trainer.train(resume_from_checkpoint=checkpoint)\n",
    "    print(\"Complete for hold-out validate set\")\n"
   ]
  },
  {
   "cell_type": "code",
   "execution_count": 8,
   "id": "EKrMcyWmEBlO",
   "metadata": {
    "id": "EKrMcyWmEBlO"
   },
   "outputs": [],
   "source": [
    "###########################\n",
    "# Predict (Hold Out Test) #\n",
    "###########################\n",
    "\n",
    "from sklearn.metrics import confusion_matrix\n",
    "def compute_metrics_holdout(model_name='Electra',\n",
    "                            model_path='content/drive/MyDrive_binary/output_Electra/holdout/checkpoint-3820', \n",
    "                            average_method='binary',\n",
    "                            X_test=X_test):\n",
    "  \n",
    "    X_test_tokenized = tokenizer(X_test, padding=True, truncation=True, max_length=512)\n",
    "\n",
    "    # Create torch dataset\n",
    "    test_dataset = Dataset(X_test_tokenized)\n",
    "\n",
    "    # Load trained model\n",
    "    model_pred = AutoModelForSequenceClassification.from_pretrained(model_path, num_labels=2)\n",
    "\n",
    "    # Define test trainer\n",
    "    test_trainer = Trainer(model_pred)\n",
    "\n",
    "    # Make prediction\n",
    "    raw_pred, _, _ = test_trainer.predict(test_dataset)\n",
    "\n",
    "    # Preprocess raw predictions\n",
    "    y_pred = np.argmax(raw_pred, axis=1)\n",
    "\n",
    "    # Compute metrics\n",
    "    precision_cb = precision_score(y_test, y_pred, average=average_method, pos_label=1)\n",
    "    recall_cb = recall_score(y_test, y_pred, average=average_method, pos_label=1)\n",
    "    f1_cb = f1_score(y_test, y_pred, average=average_method, pos_label=1)\n",
    "\n",
    "    precision_ncb = precision_score(y_test, y_pred, average=average_method, pos_label=0)\n",
    "    recall_ncb = recall_score(y_test, y_pred, average=average_method, pos_label=0)\n",
    "    f1_ncb = f1_score(y_test, y_pred, average=average_method, pos_label=0)\n",
    "\n",
    "    precision_overall = precision_score(y_test, y_pred, average='macro')\n",
    "    recall_overall = recall_score(y_test, y_pred, average='macro')\n",
    "    f1_overall = f1_score(y_test, y_pred, average='macro')\n",
    "\n",
    "    # Print Results\n",
    "    print(\"Classification Report:\")\n",
    "    print(classification_report(y_test,y_pred))\n",
    "    print()\n",
    "    print(\"Label 1: Cyberbullying\")\n",
    "    print(\"Precision: \", precision_cb)\n",
    "    print(\"Recall: \", recall_cb)\n",
    "    print(\"F-measure: \", f1_cb)\n",
    "    print()\n",
    "    print(\"Label 0: Non-Cyberbullying\")\n",
    "    print(\"Precision: \", precision_ncb)\n",
    "    print(\"Recall: \", recall_ncb)\n",
    "    print(\"F-measure: \", f1_ncb)\n",
    "    print()\n",
    "    print(\"Macro Metrics\")\n",
    "    print(\"Precision: \", precision_overall)\n",
    "    print(\"Recall: \", recall_overall)\n",
    "    print(\"F-measure: \", f1_overall)\n",
    "    print()\n",
    "\n",
    "    # Confusion Matrix\n",
    "    conf_mat = confusion_matrix(y_test,y_pred)\n",
    "    categories = ['Non-Cyberbullying', 'Cyberbullying']\n",
    "    labels = ['True Negative','',\n",
    "            '','True Positive']\n",
    "\n",
    "    make_confusion_matrix(conf_mat, \n",
    "                        group_names=labels,\n",
    "                        categories=categories, \n",
    "                        figsize=(8,5), \n",
    "                        cbar=True, \n",
    "                        title='Fine Tuned ' + model_name + ' for Cyberbullying Detection', \n",
    "                        cmap='YlGnBu', \n",
    "                        sum_stats=False)\n",
    "\n"
   ]
  },
  {
   "cell_type": "markdown",
   "id": "q5A2sV2dKlPb",
   "metadata": {
    "id": "q5A2sV2dKlPb",
    "jp-MarkdownHeadingCollapsed": true,
    "tags": []
   },
   "source": [
    "<div class=\"alert alert-info\" style=\"background-color:#5d3a8e; color:white; padding:0px 10px; border-radius:5px;\"><h2 style='margin:10px 5px'>Cross Validation (K = 5)</h2>\n",
    "</div>"
   ]
  },
  {
   "cell_type": "code",
   "execution_count": null,
   "id": "p5QGotWv8_-V",
   "metadata": {
    "id": "p5QGotWv8_-V"
   },
   "outputs": [
    {
     "name": "stdout",
     "output_type": "stream",
     "text": [
      "Developing Model with Cross validation for: Electra\n"
     ]
    },
    {
     "name": "stderr",
     "output_type": "stream",
     "text": [
      "0it [00:00, ?it/s]"
     ]
    },
    {
     "name": "stdout",
     "output_type": "stream",
     "text": [
      "Running for Fold:  1\n"
     ]
    },
    {
     "name": "stderr",
     "output_type": "stream",
     "text": [
      "/opt/conda/lib/python3.9/site-packages/transformers/optimization.py:306: FutureWarning: This implementation of AdamW is deprecated and will be removed in a future version. Use the PyTorch implementation torch.optim.AdamW instead, or set `no_deprecation_warning=True` to disable this warning\n",
      "  warnings.warn(\n",
      "***** Running training *****\n",
      "  Num examples = 101022\n",
      "  Num Epochs = 4\n",
      "  Instantaneous batch size per device = 8\n",
      "  Total train batch size (w. parallel, distributed & accumulation) = 8\n",
      "  Gradient Accumulation steps = 1\n",
      "  Total optimization steps = 50512\n"
     ]
    },
    {
     "data": {
      "text/html": [
       "\n",
       "    <div>\n",
       "      \n",
       "      <progress value='50512' max='50512' style='width:300px; height:20px; vertical-align: middle;'></progress>\n",
       "      [50512/50512 1:30:22, Epoch 4/4]\n",
       "    </div>\n",
       "    <table border=\"1\" class=\"dataframe\">\n",
       "  <thead>\n",
       " <tr style=\"text-align: left;\">\n",
       "      <th>Epoch</th>\n",
       "      <th>Training Loss</th>\n",
       "      <th>Validation Loss</th>\n",
       "      <th>Accuracy</th>\n",
       "      <th>Precision Cb</th>\n",
       "      <th>Recall Cb</th>\n",
       "      <th>F1 Cb</th>\n",
       "      <th>Precision Ncb</th>\n",
       "      <th>Recall Ncb</th>\n",
       "      <th>F1 Ncb</th>\n",
       "      <th>Precision Overall</th>\n",
       "      <th>Recall Overall</th>\n",
       "      <th>F1 Overall</th>\n",
       "    </tr>\n",
       "  </thead>\n",
       "  <tbody>\n",
       "    <tr>\n",
       "      <td>1</td>\n",
       "      <td>0.123400</td>\n",
       "      <td>0.151883</td>\n",
       "      <td>0.960891</td>\n",
       "      <td>0.617021</td>\n",
       "      <td>0.485130</td>\n",
       "      <td>0.543184</td>\n",
       "      <td>0.974357</td>\n",
       "      <td>0.984841</td>\n",
       "      <td>0.979571</td>\n",
       "      <td>0.795689</td>\n",
       "      <td>0.734986</td>\n",
       "      <td>0.761378</td>\n",
       "    </tr>\n",
       "    <tr>\n",
       "      <td>2</td>\n",
       "      <td>0.131600</td>\n",
       "      <td>0.151560</td>\n",
       "      <td>0.965167</td>\n",
       "      <td>0.765343</td>\n",
       "      <td>0.394052</td>\n",
       "      <td>0.520245</td>\n",
       "      <td>0.970223</td>\n",
       "      <td>0.993918</td>\n",
       "      <td>0.981927</td>\n",
       "      <td>0.867783</td>\n",
       "      <td>0.693985</td>\n",
       "      <td>0.751086</td>\n",
       "    </tr>\n",
       "    <tr>\n",
       "      <td>3</td>\n",
       "      <td>0.125300</td>\n",
       "      <td>0.131668</td>\n",
       "      <td>0.964365</td>\n",
       "      <td>0.665865</td>\n",
       "      <td>0.514870</td>\n",
       "      <td>0.580713</td>\n",
       "      <td>0.975853</td>\n",
       "      <td>0.986994</td>\n",
       "      <td>0.981392</td>\n",
       "      <td>0.820859</td>\n",
       "      <td>0.750932</td>\n",
       "      <td>0.781052</td>\n",
       "    </tr>\n",
       "    <tr>\n",
       "      <td>4</td>\n",
       "      <td>0.117100</td>\n",
       "      <td>0.145611</td>\n",
       "      <td>0.965256</td>\n",
       "      <td>0.697861</td>\n",
       "      <td>0.485130</td>\n",
       "      <td>0.572368</td>\n",
       "      <td>0.974472</td>\n",
       "      <td>0.989426</td>\n",
       "      <td>0.981892</td>\n",
       "      <td>0.836167</td>\n",
       "      <td>0.737278</td>\n",
       "      <td>0.777130</td>\n",
       "    </tr>\n",
       "  </tbody>\n",
       "</table><p>"
      ],
      "text/plain": [
       "<IPython.core.display.HTML object>"
      ]
     },
     "metadata": {},
     "output_type": "display_data"
    },
    {
     "name": "stderr",
     "output_type": "stream",
     "text": [
      "***** Running Evaluation *****\n",
      "  Num examples = 11225\n",
      "  Batch size = 8\n",
      "Saving model checkpoint to content/drive/MyDrive_binary/output_Electra/fold1/checkpoint-12628\n",
      "Configuration saved in content/drive/MyDrive_binary/output_Electra/fold1/checkpoint-12628/config.json\n",
      "Model weights saved in content/drive/MyDrive_binary/output_Electra/fold1/checkpoint-12628/pytorch_model.bin\n",
      "***** Running Evaluation *****\n",
      "  Num examples = 11225\n",
      "  Batch size = 8\n",
      "Saving model checkpoint to content/drive/MyDrive_binary/output_Electra/fold1/checkpoint-25256\n",
      "Configuration saved in content/drive/MyDrive_binary/output_Electra/fold1/checkpoint-25256/config.json\n",
      "Model weights saved in content/drive/MyDrive_binary/output_Electra/fold1/checkpoint-25256/pytorch_model.bin\n",
      "***** Running Evaluation *****\n",
      "  Num examples = 11225\n",
      "  Batch size = 8\n",
      "Saving model checkpoint to content/drive/MyDrive_binary/output_Electra/fold1/checkpoint-37884\n",
      "Configuration saved in content/drive/MyDrive_binary/output_Electra/fold1/checkpoint-37884/config.json\n",
      "Model weights saved in content/drive/MyDrive_binary/output_Electra/fold1/checkpoint-37884/pytorch_model.bin\n",
      "***** Running Evaluation *****\n",
      "  Num examples = 11225\n",
      "  Batch size = 8\n",
      "Saving model checkpoint to content/drive/MyDrive_binary/output_Electra/fold1/checkpoint-50512\n",
      "Configuration saved in content/drive/MyDrive_binary/output_Electra/fold1/checkpoint-50512/config.json\n",
      "Model weights saved in content/drive/MyDrive_binary/output_Electra/fold1/checkpoint-50512/pytorch_model.bin\n",
      "\n",
      "\n",
      "Training completed. Do not forget to share your model on huggingface.co/models =)\n",
      "\n",
      "\n",
      "Loading best model from content/drive/MyDrive_binary/output_Electra/fold1/checkpoint-37884 (score: 0.13166798651218414).\n",
      "1it [1:30:45, 5445.71s/it]"
     ]
    },
    {
     "name": "stdout",
     "output_type": "stream",
     "text": [
      "Complete for fold 1\n",
      "Running for Fold:  2\n"
     ]
    },
    {
     "name": "stderr",
     "output_type": "stream",
     "text": [
      "PyTorch: setting up devices\n",
      "The default value for the training argument `--report_to` will change in v5 (from all installed integrations to none). In v5, you will need to use `--report_to all` to get the same behavior as now. You should start updating your code and make this info disappear :-).\n",
      "/opt/conda/lib/python3.9/site-packages/transformers/optimization.py:306: FutureWarning: This implementation of AdamW is deprecated and will be removed in a future version. Use the PyTorch implementation torch.optim.AdamW instead, or set `no_deprecation_warning=True` to disable this warning\n",
      "  warnings.warn(\n",
      "***** Running training *****\n",
      "  Num examples = 101022\n",
      "  Num Epochs = 4\n",
      "  Instantaneous batch size per device = 8\n",
      "  Total train batch size (w. parallel, distributed & accumulation) = 8\n",
      "  Gradient Accumulation steps = 1\n",
      "  Total optimization steps = 50512\n"
     ]
    },
    {
     "data": {
      "text/html": [
       "\n",
       "    <div>\n",
       "      \n",
       "      <progress value='50512' max='50512' style='width:300px; height:20px; vertical-align: middle;'></progress>\n",
       "      [50512/50512 1:30:29, Epoch 4/4]\n",
       "    </div>\n",
       "    <table border=\"1\" class=\"dataframe\">\n",
       "  <thead>\n",
       " <tr style=\"text-align: left;\">\n",
       "      <th>Epoch</th>\n",
       "      <th>Training Loss</th>\n",
       "      <th>Validation Loss</th>\n",
       "      <th>Accuracy</th>\n",
       "      <th>Precision Cb</th>\n",
       "      <th>Recall Cb</th>\n",
       "      <th>F1 Cb</th>\n",
       "      <th>Precision Ncb</th>\n",
       "      <th>Recall Ncb</th>\n",
       "      <th>F1 Ncb</th>\n",
       "      <th>Precision Overall</th>\n",
       "      <th>Recall Overall</th>\n",
       "      <th>F1 Overall</th>\n",
       "    </tr>\n",
       "  </thead>\n",
       "  <tbody>\n",
       "    <tr>\n",
       "      <td>1</td>\n",
       "      <td>0.174100</td>\n",
       "      <td>0.186898</td>\n",
       "      <td>0.960178</td>\n",
       "      <td>0.869919</td>\n",
       "      <td>0.198885</td>\n",
       "      <td>0.323752</td>\n",
       "      <td>0.961178</td>\n",
       "      <td>0.998503</td>\n",
       "      <td>0.979485</td>\n",
       "      <td>0.915548</td>\n",
       "      <td>0.598694</td>\n",
       "      <td>0.651618</td>\n",
       "    </tr>\n",
       "    <tr>\n",
       "      <td>2</td>\n",
       "      <td>0.151700</td>\n",
       "      <td>0.155348</td>\n",
       "      <td>0.965880</td>\n",
       "      <td>0.755776</td>\n",
       "      <td>0.425651</td>\n",
       "      <td>0.544590</td>\n",
       "      <td>0.971708</td>\n",
       "      <td>0.993076</td>\n",
       "      <td>0.982276</td>\n",
       "      <td>0.863742</td>\n",
       "      <td>0.709363</td>\n",
       "      <td>0.763433</td>\n",
       "    </tr>\n",
       "    <tr>\n",
       "      <td>3</td>\n",
       "      <td>0.138100</td>\n",
       "      <td>0.133266</td>\n",
       "      <td>0.967929</td>\n",
       "      <td>0.757225</td>\n",
       "      <td>0.486989</td>\n",
       "      <td>0.592760</td>\n",
       "      <td>0.974630</td>\n",
       "      <td>0.992140</td>\n",
       "      <td>0.983307</td>\n",
       "      <td>0.865928</td>\n",
       "      <td>0.739564</td>\n",
       "      <td>0.788034</td>\n",
       "    </tr>\n",
       "    <tr>\n",
       "      <td>4</td>\n",
       "      <td>0.118800</td>\n",
       "      <td>0.131528</td>\n",
       "      <td>0.967751</td>\n",
       "      <td>0.731579</td>\n",
       "      <td>0.516729</td>\n",
       "      <td>0.605664</td>\n",
       "      <td>0.976026</td>\n",
       "      <td>0.990456</td>\n",
       "      <td>0.983188</td>\n",
       "      <td>0.853802</td>\n",
       "      <td>0.753592</td>\n",
       "      <td>0.794426</td>\n",
       "    </tr>\n",
       "  </tbody>\n",
       "</table><p>"
      ],
      "text/plain": [
       "<IPython.core.display.HTML object>"
      ]
     },
     "metadata": {},
     "output_type": "display_data"
    },
    {
     "name": "stderr",
     "output_type": "stream",
     "text": [
      "***** Running Evaluation *****\n",
      "  Num examples = 11225\n",
      "  Batch size = 8\n",
      "Saving model checkpoint to content/drive/MyDrive_binary/output_Electra/fold2/checkpoint-12628\n",
      "Configuration saved in content/drive/MyDrive_binary/output_Electra/fold2/checkpoint-12628/config.json\n",
      "Model weights saved in content/drive/MyDrive_binary/output_Electra/fold2/checkpoint-12628/pytorch_model.bin\n",
      "***** Running Evaluation *****\n",
      "  Num examples = 11225\n",
      "  Batch size = 8\n",
      "Saving model checkpoint to content/drive/MyDrive_binary/output_Electra/fold2/checkpoint-25256\n",
      "Configuration saved in content/drive/MyDrive_binary/output_Electra/fold2/checkpoint-25256/config.json\n",
      "Model weights saved in content/drive/MyDrive_binary/output_Electra/fold2/checkpoint-25256/pytorch_model.bin\n",
      "***** Running Evaluation *****\n",
      "  Num examples = 11225\n",
      "  Batch size = 8\n",
      "Saving model checkpoint to content/drive/MyDrive_binary/output_Electra/fold2/checkpoint-37884\n",
      "Configuration saved in content/drive/MyDrive_binary/output_Electra/fold2/checkpoint-37884/config.json\n",
      "Model weights saved in content/drive/MyDrive_binary/output_Electra/fold2/checkpoint-37884/pytorch_model.bin\n",
      "***** Running Evaluation *****\n",
      "  Num examples = 11225\n",
      "  Batch size = 8\n",
      "Saving model checkpoint to content/drive/MyDrive_binary/output_Electra/fold2/checkpoint-50512\n",
      "Configuration saved in content/drive/MyDrive_binary/output_Electra/fold2/checkpoint-50512/config.json\n",
      "Model weights saved in content/drive/MyDrive_binary/output_Electra/fold2/checkpoint-50512/pytorch_model.bin\n",
      "\n",
      "\n",
      "Training completed. Do not forget to share your model on huggingface.co/models =)\n",
      "\n",
      "\n",
      "Loading best model from content/drive/MyDrive_binary/output_Electra/fold2/checkpoint-50512 (score: 0.13152843713760376).\n",
      "2it [3:01:38, 5449.85s/it]"
     ]
    },
    {
     "name": "stdout",
     "output_type": "stream",
     "text": [
      "Complete for fold 2\n",
      "Running for Fold:  3\n"
     ]
    },
    {
     "name": "stderr",
     "output_type": "stream",
     "text": [
      "PyTorch: setting up devices\n",
      "The default value for the training argument `--report_to` will change in v5 (from all installed integrations to none). In v5, you will need to use `--report_to all` to get the same behavior as now. You should start updating your code and make this info disappear :-).\n",
      "/opt/conda/lib/python3.9/site-packages/transformers/optimization.py:306: FutureWarning: This implementation of AdamW is deprecated and will be removed in a future version. Use the PyTorch implementation torch.optim.AdamW instead, or set `no_deprecation_warning=True` to disable this warning\n",
      "  warnings.warn(\n",
      "***** Running training *****\n",
      "  Num examples = 101022\n",
      "  Num Epochs = 4\n",
      "  Instantaneous batch size per device = 8\n",
      "  Total train batch size (w. parallel, distributed & accumulation) = 8\n",
      "  Gradient Accumulation steps = 1\n",
      "  Total optimization steps = 50512\n"
     ]
    },
    {
     "data": {
      "text/html": [
       "\n",
       "    <div>\n",
       "      \n",
       "      <progress value='50512' max='50512' style='width:300px; height:20px; vertical-align: middle;'></progress>\n",
       "      [50512/50512 1:30:32, Epoch 4/4]\n",
       "    </div>\n",
       "    <table border=\"1\" class=\"dataframe\">\n",
       "  <thead>\n",
       " <tr style=\"text-align: left;\">\n",
       "      <th>Epoch</th>\n",
       "      <th>Training Loss</th>\n",
       "      <th>Validation Loss</th>\n",
       "      <th>Accuracy</th>\n",
       "      <th>Precision Cb</th>\n",
       "      <th>Recall Cb</th>\n",
       "      <th>F1 Cb</th>\n",
       "      <th>Precision Ncb</th>\n",
       "      <th>Recall Ncb</th>\n",
       "      <th>F1 Ncb</th>\n",
       "      <th>Precision Overall</th>\n",
       "      <th>Recall Overall</th>\n",
       "      <th>F1 Overall</th>\n",
       "    </tr>\n",
       "  </thead>\n",
       "  <tbody>\n",
       "    <tr>\n",
       "      <td>1</td>\n",
       "      <td>0.117100</td>\n",
       "      <td>0.106589</td>\n",
       "      <td>0.971047</td>\n",
       "      <td>0.795014</td>\n",
       "      <td>0.533457</td>\n",
       "      <td>0.638487</td>\n",
       "      <td>0.976896</td>\n",
       "      <td>0.993076</td>\n",
       "      <td>0.984919</td>\n",
       "      <td>0.885955</td>\n",
       "      <td>0.763266</td>\n",
       "      <td>0.811703</td>\n",
       "    </tr>\n",
       "    <tr>\n",
       "      <td>2</td>\n",
       "      <td>0.123200</td>\n",
       "      <td>0.139061</td>\n",
       "      <td>0.969710</td>\n",
       "      <td>0.819355</td>\n",
       "      <td>0.472119</td>\n",
       "      <td>0.599057</td>\n",
       "      <td>0.973981</td>\n",
       "      <td>0.994760</td>\n",
       "      <td>0.984261</td>\n",
       "      <td>0.896668</td>\n",
       "      <td>0.733439</td>\n",
       "      <td>0.791659</td>\n",
       "    </tr>\n",
       "    <tr>\n",
       "      <td>3</td>\n",
       "      <td>0.130200</td>\n",
       "      <td>0.106276</td>\n",
       "      <td>0.971136</td>\n",
       "      <td>0.764851</td>\n",
       "      <td>0.574349</td>\n",
       "      <td>0.656051</td>\n",
       "      <td>0.978837</td>\n",
       "      <td>0.991111</td>\n",
       "      <td>0.984936</td>\n",
       "      <td>0.871844</td>\n",
       "      <td>0.782730</td>\n",
       "      <td>0.820493</td>\n",
       "    </tr>\n",
       "    <tr>\n",
       "      <td>4</td>\n",
       "      <td>0.094500</td>\n",
       "      <td>0.114428</td>\n",
       "      <td>0.971403</td>\n",
       "      <td>0.752914</td>\n",
       "      <td>0.600372</td>\n",
       "      <td>0.668046</td>\n",
       "      <td>0.980085</td>\n",
       "      <td>0.990081</td>\n",
       "      <td>0.985058</td>\n",
       "      <td>0.866499</td>\n",
       "      <td>0.795227</td>\n",
       "      <td>0.826552</td>\n",
       "    </tr>\n",
       "  </tbody>\n",
       "</table><p>"
      ],
      "text/plain": [
       "<IPython.core.display.HTML object>"
      ]
     },
     "metadata": {},
     "output_type": "display_data"
    },
    {
     "name": "stderr",
     "output_type": "stream",
     "text": [
      "***** Running Evaluation *****\n",
      "  Num examples = 11225\n",
      "  Batch size = 8\n",
      "Saving model checkpoint to content/drive/MyDrive_binary/output_Electra/fold3/checkpoint-12628\n",
      "Configuration saved in content/drive/MyDrive_binary/output_Electra/fold3/checkpoint-12628/config.json\n",
      "Model weights saved in content/drive/MyDrive_binary/output_Electra/fold3/checkpoint-12628/pytorch_model.bin\n",
      "***** Running Evaluation *****\n",
      "  Num examples = 11225\n",
      "  Batch size = 8\n",
      "Saving model checkpoint to content/drive/MyDrive_binary/output_Electra/fold3/checkpoint-25256\n",
      "Configuration saved in content/drive/MyDrive_binary/output_Electra/fold3/checkpoint-25256/config.json\n",
      "Model weights saved in content/drive/MyDrive_binary/output_Electra/fold3/checkpoint-25256/pytorch_model.bin\n",
      "***** Running Evaluation *****\n",
      "  Num examples = 11225\n",
      "  Batch size = 8\n",
      "Saving model checkpoint to content/drive/MyDrive_binary/output_Electra/fold3/checkpoint-37884\n",
      "Configuration saved in content/drive/MyDrive_binary/output_Electra/fold3/checkpoint-37884/config.json\n",
      "Model weights saved in content/drive/MyDrive_binary/output_Electra/fold3/checkpoint-37884/pytorch_model.bin\n",
      "***** Running Evaluation *****\n",
      "  Num examples = 11225\n",
      "  Batch size = 8\n",
      "Saving model checkpoint to content/drive/MyDrive_binary/output_Electra/fold3/checkpoint-50512\n",
      "Configuration saved in content/drive/MyDrive_binary/output_Electra/fold3/checkpoint-50512/config.json\n",
      "Model weights saved in content/drive/MyDrive_binary/output_Electra/fold3/checkpoint-50512/pytorch_model.bin\n",
      "\n",
      "\n",
      "Training completed. Do not forget to share your model on huggingface.co/models =)\n",
      "\n",
      "\n",
      "Loading best model from content/drive/MyDrive_binary/output_Electra/fold3/checkpoint-37884 (score: 0.10627561807632446).\n",
      "3it [4:32:30, 5451.02s/it]"
     ]
    },
    {
     "name": "stdout",
     "output_type": "stream",
     "text": [
      "Complete for fold 3\n",
      "Running for Fold:  4\n"
     ]
    },
    {
     "name": "stderr",
     "output_type": "stream",
     "text": [
      "PyTorch: setting up devices\n",
      "The default value for the training argument `--report_to` will change in v5 (from all installed integrations to none). In v5, you will need to use `--report_to all` to get the same behavior as now. You should start updating your code and make this info disappear :-).\n",
      "/opt/conda/lib/python3.9/site-packages/transformers/optimization.py:306: FutureWarning: This implementation of AdamW is deprecated and will be removed in a future version. Use the PyTorch implementation torch.optim.AdamW instead, or set `no_deprecation_warning=True` to disable this warning\n",
      "  warnings.warn(\n",
      "***** Running training *****\n",
      "  Num examples = 101022\n",
      "  Num Epochs = 4\n",
      "  Instantaneous batch size per device = 8\n",
      "  Total train batch size (w. parallel, distributed & accumulation) = 8\n",
      "  Gradient Accumulation steps = 1\n",
      "  Total optimization steps = 50512\n"
     ]
    },
    {
     "data": {
      "text/html": [
       "\n",
       "    <div>\n",
       "      \n",
       "      <progress value='41487' max='50512' style='width:300px; height:20px; vertical-align: middle;'></progress>\n",
       "      [41487/50512 1:14:08 < 16:07, 9.33 it/s, Epoch 3.29/4]\n",
       "    </div>\n",
       "    <table border=\"1\" class=\"dataframe\">\n",
       "  <thead>\n",
       " <tr style=\"text-align: left;\">\n",
       "      <th>Epoch</th>\n",
       "      <th>Training Loss</th>\n",
       "      <th>Validation Loss</th>\n",
       "      <th>Accuracy</th>\n",
       "      <th>Precision Cb</th>\n",
       "      <th>Recall Cb</th>\n",
       "      <th>F1 Cb</th>\n",
       "      <th>Precision Ncb</th>\n",
       "      <th>Recall Ncb</th>\n",
       "      <th>F1 Ncb</th>\n",
       "      <th>Precision Overall</th>\n",
       "      <th>Recall Overall</th>\n",
       "      <th>F1 Overall</th>\n",
       "    </tr>\n",
       "  </thead>\n",
       "  <tbody>\n",
       "    <tr>\n",
       "      <td>1</td>\n",
       "      <td>0.147200</td>\n",
       "      <td>0.127330</td>\n",
       "      <td>0.970067</td>\n",
       "      <td>0.725446</td>\n",
       "      <td>0.604089</td>\n",
       "      <td>0.659229</td>\n",
       "      <td>0.980236</td>\n",
       "      <td>0.988491</td>\n",
       "      <td>0.984346</td>\n",
       "      <td>0.852841</td>\n",
       "      <td>0.796290</td>\n",
       "      <td>0.821788</td>\n",
       "    </tr>\n",
       "    <tr>\n",
       "      <td>2</td>\n",
       "      <td>0.190600</td>\n",
       "      <td>0.200579</td>\n",
       "      <td>0.954744</td>\n",
       "      <td>0.875000</td>\n",
       "      <td>0.065056</td>\n",
       "      <td>0.121107</td>\n",
       "      <td>0.955029</td>\n",
       "      <td>0.999532</td>\n",
       "      <td>0.976774</td>\n",
       "      <td>0.915015</td>\n",
       "      <td>0.532294</td>\n",
       "      <td>0.548941</td>\n",
       "    </tr>\n",
       "    <tr>\n",
       "      <td>3</td>\n",
       "      <td>0.123100</td>\n",
       "      <td>0.121970</td>\n",
       "      <td>0.972294</td>\n",
       "      <td>0.780247</td>\n",
       "      <td>0.587361</td>\n",
       "      <td>0.670201</td>\n",
       "      <td>0.979482</td>\n",
       "      <td>0.991672</td>\n",
       "      <td>0.985540</td>\n",
       "      <td>0.879865</td>\n",
       "      <td>0.789516</td>\n",
       "      <td>0.827871</td>\n",
       "    </tr>\n",
       "  </tbody>\n",
       "</table><p>"
      ],
      "text/plain": [
       "<IPython.core.display.HTML object>"
      ]
     },
     "metadata": {},
     "output_type": "display_data"
    },
    {
     "name": "stderr",
     "output_type": "stream",
     "text": [
      "***** Running Evaluation *****\n",
      "  Num examples = 11225\n",
      "  Batch size = 8\n",
      "Saving model checkpoint to content/drive/MyDrive_binary/output_Electra/fold4/checkpoint-12628\n",
      "Configuration saved in content/drive/MyDrive_binary/output_Electra/fold4/checkpoint-12628/config.json\n",
      "Model weights saved in content/drive/MyDrive_binary/output_Electra/fold4/checkpoint-12628/pytorch_model.bin\n",
      "***** Running Evaluation *****\n",
      "  Num examples = 11225\n",
      "  Batch size = 8\n",
      "Saving model checkpoint to content/drive/MyDrive_binary/output_Electra/fold4/checkpoint-25256\n",
      "Configuration saved in content/drive/MyDrive_binary/output_Electra/fold4/checkpoint-25256/config.json\n",
      "Model weights saved in content/drive/MyDrive_binary/output_Electra/fold4/checkpoint-25256/pytorch_model.bin\n",
      "***** Running Evaluation *****\n",
      "  Num examples = 11225\n",
      "  Batch size = 8\n",
      "Saving model checkpoint to content/drive/MyDrive_binary/output_Electra/fold4/checkpoint-37884\n",
      "Configuration saved in content/drive/MyDrive_binary/output_Electra/fold4/checkpoint-37884/config.json\n",
      "Model weights saved in content/drive/MyDrive_binary/output_Electra/fold4/checkpoint-37884/pytorch_model.bin\n"
     ]
    }
   ],
   "source": [
    "run_cross_validation(model_name='Electra',\n",
    "                         X=X,\n",
    "                         y=y, \n",
    "                         splits=5,\n",
    "                         epoch=4,\n",
    "                         checkpoint=False)"
   ]
  },
  {
   "cell_type": "markdown",
   "id": "ca3fb621-2554-4b97-9016-c289d38defa3",
   "metadata": {
    "jp-MarkdownHeadingCollapsed": true,
    "tags": []
   },
   "source": [
    "### [Continue] Cross Validation (K = 5)"
   ]
  },
  {
   "cell_type": "code",
   "execution_count": 9,
   "id": "4eacbacf-2f62-445b-a799-567c74395486",
   "metadata": {},
   "outputs": [
    {
     "name": "stdout",
     "output_type": "stream",
     "text": [
      "Developing Model with Cross validation for: Electra\n"
     ]
    },
    {
     "name": "stderr",
     "output_type": "stream",
     "text": [
      "0it [00:00, ?it/s]"
     ]
    },
    {
     "name": "stdout",
     "output_type": "stream",
     "text": [
      "Running for Fold:  1\n"
     ]
    },
    {
     "name": "stderr",
     "output_type": "stream",
     "text": [
      "Loading model from content/drive/MyDrive_binary/output_Electra/fold1/checkpoint-50512).\n",
      "/opt/conda/lib/python3.9/site-packages/transformers/optimization.py:306: FutureWarning: This implementation of AdamW is deprecated and will be removed in a future version. Use the PyTorch implementation torch.optim.AdamW instead, or set `no_deprecation_warning=True` to disable this warning\n",
      "  warnings.warn(\n",
      "***** Running training *****\n",
      "  Num examples = 101022\n",
      "  Num Epochs = 4\n",
      "  Instantaneous batch size per device = 8\n",
      "  Total train batch size (w. parallel, distributed & accumulation) = 8\n",
      "  Gradient Accumulation steps = 1\n",
      "  Total optimization steps = 50512\n",
      "  Continuing training from checkpoint, will skip to saved global_step\n",
      "  Continuing training from epoch 4\n",
      "  Continuing training from global step 50512\n",
      "  Will skip the first 4 epochs then the first 0 batches in the first epoch. If this takes a lot of time, you can add the `--ignore_data_skip` flag to your launch command, but you will resume the training on data already seen by your model.\n"
     ]
    },
    {
     "data": {
      "application/vnd.jupyter.widget-view+json": {
       "model_id": "76467b2284054e77a6da1f775ace932c",
       "version_major": 2,
       "version_minor": 0
      },
      "text/plain": [
       "0it [00:00, ?it/s]"
      ]
     },
     "metadata": {},
     "output_type": "display_data"
    },
    {
     "name": "stderr",
     "output_type": "stream",
     "text": [
      "\n",
      "\n",
      "Training completed. Do not forget to share your model on huggingface.co/models =)\n",
      "\n",
      "\n",
      "Loading best model from content/drive/MyDrive_binary/output_Electra/fold1/checkpoint-37884 (score: 0.13166798651218414).\n"
     ]
    },
    {
     "data": {
      "text/html": [
       "\n",
       "    <div>\n",
       "      \n",
       "      <progress value='50512' max='50512' style='width:300px; height:20px; vertical-align: middle;'></progress>\n",
       "      [50512/50512 : < :, Epoch 4/4]\n",
       "    </div>\n",
       "    <table border=\"1\" class=\"dataframe\">\n",
       "  <thead>\n",
       " <tr style=\"text-align: left;\">\n",
       "      <th>Epoch</th>\n",
       "      <th>Training Loss</th>\n",
       "      <th>Validation Loss</th>\n",
       "    </tr>\n",
       "  </thead>\n",
       "  <tbody>\n",
       "  </tbody>\n",
       "</table><p>"
      ],
      "text/plain": [
       "<IPython.core.display.HTML object>"
      ]
     },
     "metadata": {},
     "output_type": "display_data"
    },
    {
     "name": "stderr",
     "output_type": "stream",
     "text": [
      "1it [00:25, 25.63s/it]"
     ]
    },
    {
     "name": "stdout",
     "output_type": "stream",
     "text": [
      "Complete for fold 1\n",
      "Running for Fold:  2\n"
     ]
    },
    {
     "name": "stderr",
     "output_type": "stream",
     "text": [
      "PyTorch: setting up devices\n",
      "The default value for the training argument `--report_to` will change in v5 (from all installed integrations to none). In v5, you will need to use `--report_to all` to get the same behavior as now. You should start updating your code and make this info disappear :-).\n",
      "Loading model from content/drive/MyDrive_binary/output_Electra/fold2/checkpoint-50512).\n",
      "/opt/conda/lib/python3.9/site-packages/transformers/optimization.py:306: FutureWarning: This implementation of AdamW is deprecated and will be removed in a future version. Use the PyTorch implementation torch.optim.AdamW instead, or set `no_deprecation_warning=True` to disable this warning\n",
      "  warnings.warn(\n",
      "***** Running training *****\n",
      "  Num examples = 101022\n",
      "  Num Epochs = 4\n",
      "  Instantaneous batch size per device = 8\n",
      "  Total train batch size (w. parallel, distributed & accumulation) = 8\n",
      "  Gradient Accumulation steps = 1\n",
      "  Total optimization steps = 50512\n",
      "  Continuing training from checkpoint, will skip to saved global_step\n",
      "  Continuing training from epoch 4\n",
      "  Continuing training from global step 50512\n",
      "  Will skip the first 4 epochs then the first 0 batches in the first epoch. If this takes a lot of time, you can add the `--ignore_data_skip` flag to your launch command, but you will resume the training on data already seen by your model.\n"
     ]
    },
    {
     "data": {
      "application/vnd.jupyter.widget-view+json": {
       "model_id": "3dc2c4fbc2be4e3b95423f35cea48d97",
       "version_major": 2,
       "version_minor": 0
      },
      "text/plain": [
       "0it [00:00, ?it/s]"
      ]
     },
     "metadata": {},
     "output_type": "display_data"
    },
    {
     "name": "stderr",
     "output_type": "stream",
     "text": [
      "\n",
      "\n",
      "Training completed. Do not forget to share your model on huggingface.co/models =)\n",
      "\n",
      "\n",
      "Loading best model from content/drive/MyDrive_binary/output_Electra/fold2/checkpoint-50512 (score: 0.13152843713760376).\n"
     ]
    },
    {
     "data": {
      "text/html": [
       "\n",
       "    <div>\n",
       "      \n",
       "      <progress value='50512' max='50512' style='width:300px; height:20px; vertical-align: middle;'></progress>\n",
       "      [50512/50512 : < :, Epoch 4/4]\n",
       "    </div>\n",
       "    <table border=\"1\" class=\"dataframe\">\n",
       "  <thead>\n",
       " <tr style=\"text-align: left;\">\n",
       "      <th>Epoch</th>\n",
       "      <th>Training Loss</th>\n",
       "      <th>Validation Loss</th>\n",
       "    </tr>\n",
       "  </thead>\n",
       "  <tbody>\n",
       "  </tbody>\n",
       "</table><p>"
      ],
      "text/plain": [
       "<IPython.core.display.HTML object>"
      ]
     },
     "metadata": {},
     "output_type": "display_data"
    },
    {
     "name": "stderr",
     "output_type": "stream",
     "text": [
      "2it [00:50, 25.13s/it]"
     ]
    },
    {
     "name": "stdout",
     "output_type": "stream",
     "text": [
      "Complete for fold 2\n",
      "Running for Fold:  3\n"
     ]
    },
    {
     "name": "stderr",
     "output_type": "stream",
     "text": [
      "PyTorch: setting up devices\n",
      "The default value for the training argument `--report_to` will change in v5 (from all installed integrations to none). In v5, you will need to use `--report_to all` to get the same behavior as now. You should start updating your code and make this info disappear :-).\n",
      "Loading model from content/drive/MyDrive_binary/output_Electra/fold3/checkpoint-50512).\n",
      "/opt/conda/lib/python3.9/site-packages/transformers/optimization.py:306: FutureWarning: This implementation of AdamW is deprecated and will be removed in a future version. Use the PyTorch implementation torch.optim.AdamW instead, or set `no_deprecation_warning=True` to disable this warning\n",
      "  warnings.warn(\n",
      "***** Running training *****\n",
      "  Num examples = 101022\n",
      "  Num Epochs = 4\n",
      "  Instantaneous batch size per device = 8\n",
      "  Total train batch size (w. parallel, distributed & accumulation) = 8\n",
      "  Gradient Accumulation steps = 1\n",
      "  Total optimization steps = 50512\n",
      "  Continuing training from checkpoint, will skip to saved global_step\n",
      "  Continuing training from epoch 4\n",
      "  Continuing training from global step 50512\n",
      "  Will skip the first 4 epochs then the first 0 batches in the first epoch. If this takes a lot of time, you can add the `--ignore_data_skip` flag to your launch command, but you will resume the training on data already seen by your model.\n"
     ]
    },
    {
     "data": {
      "application/vnd.jupyter.widget-view+json": {
       "model_id": "cb26701bbcbd4a3ca538286432970456",
       "version_major": 2,
       "version_minor": 0
      },
      "text/plain": [
       "0it [00:00, ?it/s]"
      ]
     },
     "metadata": {},
     "output_type": "display_data"
    },
    {
     "name": "stderr",
     "output_type": "stream",
     "text": [
      "\n",
      "\n",
      "Training completed. Do not forget to share your model on huggingface.co/models =)\n",
      "\n",
      "\n",
      "Loading best model from content/drive/MyDrive_binary/output_Electra/fold3/checkpoint-37884 (score: 0.10627561807632446).\n"
     ]
    },
    {
     "data": {
      "text/html": [
       "\n",
       "    <div>\n",
       "      \n",
       "      <progress value='50512' max='50512' style='width:300px; height:20px; vertical-align: middle;'></progress>\n",
       "      [50512/50512 : < :, Epoch 4/4]\n",
       "    </div>\n",
       "    <table border=\"1\" class=\"dataframe\">\n",
       "  <thead>\n",
       " <tr style=\"text-align: left;\">\n",
       "      <th>Epoch</th>\n",
       "      <th>Training Loss</th>\n",
       "      <th>Validation Loss</th>\n",
       "    </tr>\n",
       "  </thead>\n",
       "  <tbody>\n",
       "  </tbody>\n",
       "</table><p>"
      ],
      "text/plain": [
       "<IPython.core.display.HTML object>"
      ]
     },
     "metadata": {},
     "output_type": "display_data"
    },
    {
     "name": "stderr",
     "output_type": "stream",
     "text": [
      "3it [01:14, 24.52s/it]"
     ]
    },
    {
     "name": "stdout",
     "output_type": "stream",
     "text": [
      "Complete for fold 3\n",
      "Running for Fold:  4\n"
     ]
    },
    {
     "name": "stderr",
     "output_type": "stream",
     "text": [
      "PyTorch: setting up devices\n",
      "The default value for the training argument `--report_to` will change in v5 (from all installed integrations to none). In v5, you will need to use `--report_to all` to get the same behavior as now. You should start updating your code and make this info disappear :-).\n",
      "Loading model from content/drive/MyDrive_binary/output_Electra/fold4/checkpoint-37884).\n",
      "/opt/conda/lib/python3.9/site-packages/transformers/optimization.py:306: FutureWarning: This implementation of AdamW is deprecated and will be removed in a future version. Use the PyTorch implementation torch.optim.AdamW instead, or set `no_deprecation_warning=True` to disable this warning\n",
      "  warnings.warn(\n",
      "***** Running training *****\n",
      "  Num examples = 101022\n",
      "  Num Epochs = 4\n",
      "  Instantaneous batch size per device = 8\n",
      "  Total train batch size (w. parallel, distributed & accumulation) = 8\n",
      "  Gradient Accumulation steps = 1\n",
      "  Total optimization steps = 50512\n",
      "  Continuing training from checkpoint, will skip to saved global_step\n",
      "  Continuing training from epoch 3\n",
      "  Continuing training from global step 37884\n",
      "  Will skip the first 3 epochs then the first 0 batches in the first epoch. If this takes a lot of time, you can add the `--ignore_data_skip` flag to your launch command, but you will resume the training on data already seen by your model.\n"
     ]
    },
    {
     "data": {
      "application/vnd.jupyter.widget-view+json": {
       "model_id": "42c11a461c8a4289a47a6e229d66f658",
       "version_major": 2,
       "version_minor": 0
      },
      "text/plain": [
       "0it [00:00, ?it/s]"
      ]
     },
     "metadata": {},
     "output_type": "display_data"
    },
    {
     "data": {
      "text/html": [
       "\n",
       "    <div>\n",
       "      \n",
       "      <progress value='50512' max='50512' style='width:300px; height:20px; vertical-align: middle;'></progress>\n",
       "      [50512/50512 23:14, Epoch 4/4]\n",
       "    </div>\n",
       "    <table border=\"1\" class=\"dataframe\">\n",
       "  <thead>\n",
       " <tr style=\"text-align: left;\">\n",
       "      <th>Epoch</th>\n",
       "      <th>Training Loss</th>\n",
       "      <th>Validation Loss</th>\n",
       "      <th>Accuracy</th>\n",
       "      <th>Precision Cb</th>\n",
       "      <th>Recall Cb</th>\n",
       "      <th>F1 Cb</th>\n",
       "      <th>Precision Ncb</th>\n",
       "      <th>Recall Ncb</th>\n",
       "      <th>F1 Ncb</th>\n",
       "      <th>Precision Overall</th>\n",
       "      <th>Recall Overall</th>\n",
       "      <th>F1 Overall</th>\n",
       "    </tr>\n",
       "  </thead>\n",
       "  <tbody>\n",
       "    <tr>\n",
       "      <td>4</td>\n",
       "      <td>0.096100</td>\n",
       "      <td>0.108015</td>\n",
       "      <td>0.972739</td>\n",
       "      <td>0.755507</td>\n",
       "      <td>0.637546</td>\n",
       "      <td>0.691532</td>\n",
       "      <td>0.981896</td>\n",
       "      <td>0.989614</td>\n",
       "      <td>0.985740</td>\n",
       "      <td>0.868701</td>\n",
       "      <td>0.813580</td>\n",
       "      <td>0.838636</td>\n",
       "    </tr>\n",
       "  </tbody>\n",
       "</table><p>"
      ],
      "text/plain": [
       "<IPython.core.display.HTML object>"
      ]
     },
     "metadata": {},
     "output_type": "display_data"
    },
    {
     "name": "stderr",
     "output_type": "stream",
     "text": [
      "***** Running Evaluation *****\n",
      "  Num examples = 11225\n",
      "  Batch size = 8\n",
      "Saving model checkpoint to content/drive/MyDrive_binary/output_Electra/fold4/checkpoint-50512\n",
      "Configuration saved in content/drive/MyDrive_binary/output_Electra/fold4/checkpoint-50512/config.json\n",
      "Model weights saved in content/drive/MyDrive_binary/output_Electra/fold4/checkpoint-50512/pytorch_model.bin\n",
      "\n",
      "\n",
      "Training completed. Do not forget to share your model on huggingface.co/models =)\n",
      "\n",
      "\n",
      "Loading best model from content/drive/MyDrive_binary/output_Electra/fold4/checkpoint-50512 (score: 0.10801516473293304).\n",
      "4it [24:52, 574.95s/it]"
     ]
    },
    {
     "name": "stdout",
     "output_type": "stream",
     "text": [
      "Complete for fold 4\n",
      "Running for Fold:  5\n"
     ]
    },
    {
     "name": "stderr",
     "output_type": "stream",
     "text": [
      "PyTorch: setting up devices\n",
      "The default value for the training argument `--report_to` will change in v5 (from all installed integrations to none). In v5, you will need to use `--report_to all` to get the same behavior as now. You should start updating your code and make this info disappear :-).\n",
      "/opt/conda/lib/python3.9/site-packages/transformers/optimization.py:306: FutureWarning: This implementation of AdamW is deprecated and will be removed in a future version. Use the PyTorch implementation torch.optim.AdamW instead, or set `no_deprecation_warning=True` to disable this warning\n",
      "  warnings.warn(\n",
      "***** Running training *****\n",
      "  Num examples = 101022\n",
      "  Num Epochs = 4\n",
      "  Instantaneous batch size per device = 8\n",
      "  Total train batch size (w. parallel, distributed & accumulation) = 8\n",
      "  Gradient Accumulation steps = 1\n",
      "  Total optimization steps = 50512\n"
     ]
    },
    {
     "data": {
      "text/html": [
       "\n",
       "    <div>\n",
       "      \n",
       "      <progress value='50512' max='50512' style='width:300px; height:20px; vertical-align: middle;'></progress>\n",
       "      [50512/50512 1:33:11, Epoch 4/4]\n",
       "    </div>\n",
       "    <table border=\"1\" class=\"dataframe\">\n",
       "  <thead>\n",
       " <tr style=\"text-align: left;\">\n",
       "      <th>Epoch</th>\n",
       "      <th>Training Loss</th>\n",
       "      <th>Validation Loss</th>\n",
       "      <th>Accuracy</th>\n",
       "      <th>Precision Cb</th>\n",
       "      <th>Recall Cb</th>\n",
       "      <th>F1 Cb</th>\n",
       "      <th>Precision Ncb</th>\n",
       "      <th>Recall Ncb</th>\n",
       "      <th>F1 Ncb</th>\n",
       "      <th>Precision Overall</th>\n",
       "      <th>Recall Overall</th>\n",
       "      <th>F1 Overall</th>\n",
       "    </tr>\n",
       "  </thead>\n",
       "  <tbody>\n",
       "    <tr>\n",
       "      <td>1</td>\n",
       "      <td>0.127400</td>\n",
       "      <td>0.123260</td>\n",
       "      <td>0.970601</td>\n",
       "      <td>0.776596</td>\n",
       "      <td>0.542751</td>\n",
       "      <td>0.638950</td>\n",
       "      <td>0.977325</td>\n",
       "      <td>0.992140</td>\n",
       "      <td>0.984677</td>\n",
       "      <td>0.876960</td>\n",
       "      <td>0.767445</td>\n",
       "      <td>0.811813</td>\n",
       "    </tr>\n",
       "    <tr>\n",
       "      <td>2</td>\n",
       "      <td>0.117300</td>\n",
       "      <td>0.126562</td>\n",
       "      <td>0.968018</td>\n",
       "      <td>0.685300</td>\n",
       "      <td>0.615242</td>\n",
       "      <td>0.648384</td>\n",
       "      <td>0.980730</td>\n",
       "      <td>0.985777</td>\n",
       "      <td>0.983247</td>\n",
       "      <td>0.833015</td>\n",
       "      <td>0.800509</td>\n",
       "      <td>0.815815</td>\n",
       "    </tr>\n",
       "    <tr>\n",
       "      <td>3</td>\n",
       "      <td>0.109800</td>\n",
       "      <td>0.116237</td>\n",
       "      <td>0.970958</td>\n",
       "      <td>0.734513</td>\n",
       "      <td>0.617100</td>\n",
       "      <td>0.670707</td>\n",
       "      <td>0.980878</td>\n",
       "      <td>0.988771</td>\n",
       "      <td>0.984809</td>\n",
       "      <td>0.857696</td>\n",
       "      <td>0.802936</td>\n",
       "      <td>0.827758</td>\n",
       "    </tr>\n",
       "    <tr>\n",
       "      <td>4</td>\n",
       "      <td>0.102400</td>\n",
       "      <td>0.117204</td>\n",
       "      <td>0.972472</td>\n",
       "      <td>0.770686</td>\n",
       "      <td>0.605948</td>\n",
       "      <td>0.678460</td>\n",
       "      <td>0.980374</td>\n",
       "      <td>0.990924</td>\n",
       "      <td>0.985621</td>\n",
       "      <td>0.875530</td>\n",
       "      <td>0.798436</td>\n",
       "      <td>0.832040</td>\n",
       "    </tr>\n",
       "  </tbody>\n",
       "</table><p>"
      ],
      "text/plain": [
       "<IPython.core.display.HTML object>"
      ]
     },
     "metadata": {},
     "output_type": "display_data"
    },
    {
     "name": "stderr",
     "output_type": "stream",
     "text": [
      "***** Running Evaluation *****\n",
      "  Num examples = 11225\n",
      "  Batch size = 8\n",
      "Saving model checkpoint to content/drive/MyDrive_binary/output_Electra/fold5/checkpoint-12628\n",
      "Configuration saved in content/drive/MyDrive_binary/output_Electra/fold5/checkpoint-12628/config.json\n",
      "Model weights saved in content/drive/MyDrive_binary/output_Electra/fold5/checkpoint-12628/pytorch_model.bin\n",
      "***** Running Evaluation *****\n",
      "  Num examples = 11225\n",
      "  Batch size = 8\n",
      "Saving model checkpoint to content/drive/MyDrive_binary/output_Electra/fold5/checkpoint-25256\n",
      "Configuration saved in content/drive/MyDrive_binary/output_Electra/fold5/checkpoint-25256/config.json\n",
      "Model weights saved in content/drive/MyDrive_binary/output_Electra/fold5/checkpoint-25256/pytorch_model.bin\n",
      "***** Running Evaluation *****\n",
      "  Num examples = 11225\n",
      "  Batch size = 8\n",
      "Saving model checkpoint to content/drive/MyDrive_binary/output_Electra/fold5/checkpoint-37884\n",
      "Configuration saved in content/drive/MyDrive_binary/output_Electra/fold5/checkpoint-37884/config.json\n",
      "Model weights saved in content/drive/MyDrive_binary/output_Electra/fold5/checkpoint-37884/pytorch_model.bin\n",
      "***** Running Evaluation *****\n",
      "  Num examples = 11225\n",
      "  Batch size = 8\n",
      "Saving model checkpoint to content/drive/MyDrive_binary/output_Electra/fold5/checkpoint-50512\n",
      "Configuration saved in content/drive/MyDrive_binary/output_Electra/fold5/checkpoint-50512/config.json\n",
      "Model weights saved in content/drive/MyDrive_binary/output_Electra/fold5/checkpoint-50512/pytorch_model.bin\n",
      "\n",
      "\n",
      "Training completed. Do not forget to share your model on huggingface.co/models =)\n",
      "\n",
      "\n",
      "Loading best model from content/drive/MyDrive_binary/output_Electra/fold5/checkpoint-37884 (score: 0.11623668670654297).\n",
      "5it [1:58:28, 1421.77s/it]\n"
     ]
    },
    {
     "name": "stdout",
     "output_type": "stream",
     "text": [
      "Complete for fold 5\n"
     ]
    }
   ],
   "source": [
    "run_cross_validation(model_name='Electra',\n",
    "                         X=X,\n",
    "                         y=y, \n",
    "                         splits=5,\n",
    "                         epoch=4,\n",
    "                         checkpoint=True)"
   ]
  },
  {
   "cell_type": "markdown",
   "id": "b629d352-771c-4686-bb04-b8daf6da64ea",
   "metadata": {
    "jp-MarkdownHeadingCollapsed": true,
    "tags": []
   },
   "source": [
    "### [Continue] Cross Validation (K = 5)"
   ]
  },
  {
   "cell_type": "code",
   "execution_count": 9,
   "id": "498ed4ab-b9bf-49fd-910f-4b81fb49e159",
   "metadata": {},
   "outputs": [
    {
     "name": "stdout",
     "output_type": "stream",
     "text": [
      "Developing Model with Cross validation for: Electra\n"
     ]
    },
    {
     "name": "stderr",
     "output_type": "stream",
     "text": [
      "0it [00:00, ?it/s]"
     ]
    },
    {
     "name": "stdout",
     "output_type": "stream",
     "text": [
      "Running for Fold:  1\n"
     ]
    },
    {
     "name": "stderr",
     "output_type": "stream",
     "text": [
      "Loading model from content/drive/MyDrive_binary/output_Electra/fold1/checkpoint-88396).\n",
      "/opt/conda/lib/python3.9/site-packages/transformers/optimization.py:306: FutureWarning: This implementation of AdamW is deprecated and will be removed in a future version. Use the PyTorch implementation torch.optim.AdamW instead, or set `no_deprecation_warning=True` to disable this warning\n",
      "  warnings.warn(\n",
      "***** Running training *****\n",
      "  Num examples = 101022\n",
      "  Num Epochs = 8\n",
      "  Instantaneous batch size per device = 8\n",
      "  Total train batch size (w. parallel, distributed & accumulation) = 8\n",
      "  Gradient Accumulation steps = 1\n",
      "  Total optimization steps = 101024\n",
      "  Continuing training from checkpoint, will skip to saved global_step\n",
      "  Continuing training from epoch 7\n",
      "  Continuing training from global step 88396\n",
      "  Will skip the first 7 epochs then the first 0 batches in the first epoch. If this takes a lot of time, you can add the `--ignore_data_skip` flag to your launch command, but you will resume the training on data already seen by your model.\n"
     ]
    },
    {
     "data": {
      "application/vnd.jupyter.widget-view+json": {
       "model_id": "54213653a5a0402eaafe65e479839b60",
       "version_major": 2,
       "version_minor": 0
      },
      "text/plain": [
       "0it [00:00, ?it/s]"
      ]
     },
     "metadata": {},
     "output_type": "display_data"
    },
    {
     "data": {
      "text/html": [
       "\n",
       "    <div>\n",
       "      \n",
       "      <progress value='101024' max='101024' style='width:300px; height:20px; vertical-align: middle;'></progress>\n",
       "      [101024/101024 23:27, Epoch 8/8]\n",
       "    </div>\n",
       "    <table border=\"1\" class=\"dataframe\">\n",
       "  <thead>\n",
       " <tr style=\"text-align: left;\">\n",
       "      <th>Epoch</th>\n",
       "      <th>Training Loss</th>\n",
       "      <th>Validation Loss</th>\n",
       "      <th>Accuracy</th>\n",
       "      <th>Precision Cb</th>\n",
       "      <th>Recall Cb</th>\n",
       "      <th>F1 Cb</th>\n",
       "      <th>Precision Ncb</th>\n",
       "      <th>Recall Ncb</th>\n",
       "      <th>F1 Ncb</th>\n",
       "      <th>Precision Overall</th>\n",
       "      <th>Recall Overall</th>\n",
       "      <th>F1 Overall</th>\n",
       "    </tr>\n",
       "  </thead>\n",
       "  <tbody>\n",
       "    <tr>\n",
       "      <td>8</td>\n",
       "      <td>0.094000</td>\n",
       "      <td>0.159119</td>\n",
       "      <td>0.964098</td>\n",
       "      <td>0.654462</td>\n",
       "      <td>0.531599</td>\n",
       "      <td>0.586667</td>\n",
       "      <td>0.976641</td>\n",
       "      <td>0.985871</td>\n",
       "      <td>0.981234</td>\n",
       "      <td>0.815551</td>\n",
       "      <td>0.758735</td>\n",
       "      <td>0.783950</td>\n",
       "    </tr>\n",
       "  </tbody>\n",
       "</table><p>"
      ],
      "text/plain": [
       "<IPython.core.display.HTML object>"
      ]
     },
     "metadata": {},
     "output_type": "display_data"
    },
    {
     "name": "stderr",
     "output_type": "stream",
     "text": [
      "***** Running Evaluation *****\n",
      "  Num examples = 11225\n",
      "  Batch size = 8\n",
      "Saving model checkpoint to content/drive/MyDrive_binary/output_Electra/fold1/checkpoint-101024\n",
      "Configuration saved in content/drive/MyDrive_binary/output_Electra/fold1/checkpoint-101024/config.json\n",
      "Model weights saved in content/drive/MyDrive_binary/output_Electra/fold1/checkpoint-101024/pytorch_model.bin\n",
      "\n",
      "\n",
      "Training completed. Do not forget to share your model on huggingface.co/models =)\n",
      "\n",
      "\n",
      "Loading best model from content/drive/MyDrive_binary/output_Electra/fold1/checkpoint-37884 (score: 0.13166798651218414).\n",
      "1it [23:58, 1438.95s/it]"
     ]
    },
    {
     "name": "stdout",
     "output_type": "stream",
     "text": [
      "Complete for fold 1\n",
      "Running for Fold:  2\n"
     ]
    },
    {
     "name": "stderr",
     "output_type": "stream",
     "text": [
      "PyTorch: setting up devices\n",
      "The default value for the training argument `--report_to` will change in v5 (from all installed integrations to none). In v5, you will need to use `--report_to all` to get the same behavior as now. You should start updating your code and make this info disappear :-).\n",
      "Loading model from content/drive/MyDrive_binary/output_Electra/fold2/checkpoint-63140).\n",
      "/opt/conda/lib/python3.9/site-packages/transformers/optimization.py:306: FutureWarning: This implementation of AdamW is deprecated and will be removed in a future version. Use the PyTorch implementation torch.optim.AdamW instead, or set `no_deprecation_warning=True` to disable this warning\n",
      "  warnings.warn(\n",
      "***** Running training *****\n",
      "  Num examples = 101022\n",
      "  Num Epochs = 8\n",
      "  Instantaneous batch size per device = 8\n",
      "  Total train batch size (w. parallel, distributed & accumulation) = 8\n",
      "  Gradient Accumulation steps = 1\n",
      "  Total optimization steps = 101024\n",
      "  Continuing training from checkpoint, will skip to saved global_step\n",
      "  Continuing training from epoch 5\n",
      "  Continuing training from global step 63140\n",
      "  Will skip the first 5 epochs then the first 0 batches in the first epoch. If this takes a lot of time, you can add the `--ignore_data_skip` flag to your launch command, but you will resume the training on data already seen by your model.\n"
     ]
    },
    {
     "data": {
      "application/vnd.jupyter.widget-view+json": {
       "model_id": "c5cf81005538460ea181e9f1450b92f0",
       "version_major": 2,
       "version_minor": 0
      },
      "text/plain": [
       "0it [00:00, ?it/s]"
      ]
     },
     "metadata": {},
     "output_type": "display_data"
    },
    {
     "data": {
      "text/html": [
       "\n",
       "    <div>\n",
       "      \n",
       "      <progress value='101024' max='101024' style='width:300px; height:20px; vertical-align: middle;'></progress>\n",
       "      [101024/101024 1:09:59, Epoch 8/8]\n",
       "    </div>\n",
       "    <table border=\"1\" class=\"dataframe\">\n",
       "  <thead>\n",
       " <tr style=\"text-align: left;\">\n",
       "      <th>Epoch</th>\n",
       "      <th>Training Loss</th>\n",
       "      <th>Validation Loss</th>\n",
       "      <th>Accuracy</th>\n",
       "      <th>Precision Cb</th>\n",
       "      <th>Recall Cb</th>\n",
       "      <th>F1 Cb</th>\n",
       "      <th>Precision Ncb</th>\n",
       "      <th>Recall Ncb</th>\n",
       "      <th>F1 Ncb</th>\n",
       "      <th>Precision Overall</th>\n",
       "      <th>Recall Overall</th>\n",
       "      <th>F1 Overall</th>\n",
       "    </tr>\n",
       "  </thead>\n",
       "  <tbody>\n",
       "    <tr>\n",
       "      <td>6</td>\n",
       "      <td>0.106900</td>\n",
       "      <td>0.120732</td>\n",
       "      <td>0.967394</td>\n",
       "      <td>0.716080</td>\n",
       "      <td>0.529740</td>\n",
       "      <td>0.608974</td>\n",
       "      <td>0.976632</td>\n",
       "      <td>0.989426</td>\n",
       "      <td>0.982988</td>\n",
       "      <td>0.846356</td>\n",
       "      <td>0.759583</td>\n",
       "      <td>0.795981</td>\n",
       "    </tr>\n",
       "    <tr>\n",
       "      <td>7</td>\n",
       "      <td>0.099800</td>\n",
       "      <td>0.153123</td>\n",
       "      <td>0.968196</td>\n",
       "      <td>0.749311</td>\n",
       "      <td>0.505576</td>\n",
       "      <td>0.603774</td>\n",
       "      <td>0.975511</td>\n",
       "      <td>0.991485</td>\n",
       "      <td>0.983433</td>\n",
       "      <td>0.862411</td>\n",
       "      <td>0.748531</td>\n",
       "      <td>0.793603</td>\n",
       "    </tr>\n",
       "    <tr>\n",
       "      <td>8</td>\n",
       "      <td>0.092400</td>\n",
       "      <td>0.136779</td>\n",
       "      <td>0.968374</td>\n",
       "      <td>0.727047</td>\n",
       "      <td>0.544610</td>\n",
       "      <td>0.622742</td>\n",
       "      <td>0.977361</td>\n",
       "      <td>0.989707</td>\n",
       "      <td>0.983495</td>\n",
       "      <td>0.852204</td>\n",
       "      <td>0.767158</td>\n",
       "      <td>0.803119</td>\n",
       "    </tr>\n",
       "  </tbody>\n",
       "</table><p>"
      ],
      "text/plain": [
       "<IPython.core.display.HTML object>"
      ]
     },
     "metadata": {},
     "output_type": "display_data"
    },
    {
     "name": "stderr",
     "output_type": "stream",
     "text": [
      "***** Running Evaluation *****\n",
      "  Num examples = 11225\n",
      "  Batch size = 8\n",
      "Saving model checkpoint to content/drive/MyDrive_binary/output_Electra/fold2/checkpoint-75768\n",
      "Configuration saved in content/drive/MyDrive_binary/output_Electra/fold2/checkpoint-75768/config.json\n",
      "Model weights saved in content/drive/MyDrive_binary/output_Electra/fold2/checkpoint-75768/pytorch_model.bin\n",
      "***** Running Evaluation *****\n",
      "  Num examples = 11225\n",
      "  Batch size = 8\n",
      "Saving model checkpoint to content/drive/MyDrive_binary/output_Electra/fold2/checkpoint-88396\n",
      "Configuration saved in content/drive/MyDrive_binary/output_Electra/fold2/checkpoint-88396/config.json\n",
      "Model weights saved in content/drive/MyDrive_binary/output_Electra/fold2/checkpoint-88396/pytorch_model.bin\n",
      "***** Running Evaluation *****\n",
      "  Num examples = 11225\n",
      "  Batch size = 8\n",
      "Saving model checkpoint to content/drive/MyDrive_binary/output_Electra/fold2/checkpoint-101024\n",
      "Configuration saved in content/drive/MyDrive_binary/output_Electra/fold2/checkpoint-101024/config.json\n",
      "Model weights saved in content/drive/MyDrive_binary/output_Electra/fold2/checkpoint-101024/pytorch_model.bin\n",
      "\n",
      "\n",
      "Training completed. Do not forget to share your model on huggingface.co/models =)\n",
      "\n",
      "\n",
      "Loading best model from content/drive/MyDrive_binary/output_Electra/fold2/checkpoint-75768 (score: 0.12073222547769547).\n",
      "2it [1:34:25, 3078.62s/it]"
     ]
    },
    {
     "name": "stdout",
     "output_type": "stream",
     "text": [
      "Complete for fold 2\n",
      "Running for Fold:  3\n"
     ]
    },
    {
     "name": "stderr",
     "output_type": "stream",
     "text": [
      "PyTorch: setting up devices\n",
      "The default value for the training argument `--report_to` will change in v5 (from all installed integrations to none). In v5, you will need to use `--report_to all` to get the same behavior as now. You should start updating your code and make this info disappear :-).\n",
      "Loading model from content/drive/MyDrive_binary/output_Electra/fold3/checkpoint-50512).\n",
      "/opt/conda/lib/python3.9/site-packages/transformers/optimization.py:306: FutureWarning: This implementation of AdamW is deprecated and will be removed in a future version. Use the PyTorch implementation torch.optim.AdamW instead, or set `no_deprecation_warning=True` to disable this warning\n",
      "  warnings.warn(\n",
      "***** Running training *****\n",
      "  Num examples = 101022\n",
      "  Num Epochs = 8\n",
      "  Instantaneous batch size per device = 8\n",
      "  Total train batch size (w. parallel, distributed & accumulation) = 8\n",
      "  Gradient Accumulation steps = 1\n",
      "  Total optimization steps = 101024\n",
      "  Continuing training from checkpoint, will skip to saved global_step\n",
      "  Continuing training from epoch 4\n",
      "  Continuing training from global step 50512\n",
      "  Will skip the first 4 epochs then the first 0 batches in the first epoch. If this takes a lot of time, you can add the `--ignore_data_skip` flag to your launch command, but you will resume the training on data already seen by your model.\n"
     ]
    },
    {
     "data": {
      "application/vnd.jupyter.widget-view+json": {
       "model_id": "11bcc7c70c614778ac734719aeced76a",
       "version_major": 2,
       "version_minor": 0
      },
      "text/plain": [
       "0it [00:00, ?it/s]"
      ]
     },
     "metadata": {},
     "output_type": "display_data"
    },
    {
     "data": {
      "text/html": [
       "\n",
       "    <div>\n",
       "      \n",
       "      <progress value='88396' max='101024' style='width:300px; height:20px; vertical-align: middle;'></progress>\n",
       "      [ 88396/101024 1:10:00 < 23:20, 9.02 it/s, Epoch 7/8]\n",
       "    </div>\n",
       "    <table border=\"1\" class=\"dataframe\">\n",
       "  <thead>\n",
       " <tr style=\"text-align: left;\">\n",
       "      <th>Epoch</th>\n",
       "      <th>Training Loss</th>\n",
       "      <th>Validation Loss</th>\n",
       "      <th>Accuracy</th>\n",
       "      <th>Precision Cb</th>\n",
       "      <th>Recall Cb</th>\n",
       "      <th>F1 Cb</th>\n",
       "      <th>Precision Ncb</th>\n",
       "      <th>Recall Ncb</th>\n",
       "      <th>F1 Ncb</th>\n",
       "      <th>Precision Overall</th>\n",
       "      <th>Recall Overall</th>\n",
       "      <th>F1 Overall</th>\n",
       "    </tr>\n",
       "  </thead>\n",
       "  <tbody>\n",
       "    <tr>\n",
       "      <td>5</td>\n",
       "      <td>0.107700</td>\n",
       "      <td>0.125936</td>\n",
       "      <td>0.971492</td>\n",
       "      <td>0.740088</td>\n",
       "      <td>0.624535</td>\n",
       "      <td>0.677419</td>\n",
       "      <td>0.981246</td>\n",
       "      <td>0.988959</td>\n",
       "      <td>0.985087</td>\n",
       "      <td>0.860667</td>\n",
       "      <td>0.806747</td>\n",
       "      <td>0.831253</td>\n",
       "    </tr>\n",
       "    <tr>\n",
       "      <td>6</td>\n",
       "      <td>0.106700</td>\n",
       "      <td>0.111305</td>\n",
       "      <td>0.972116</td>\n",
       "      <td>0.775061</td>\n",
       "      <td>0.589219</td>\n",
       "      <td>0.669483</td>\n",
       "      <td>0.979567</td>\n",
       "      <td>0.991391</td>\n",
       "      <td>0.985444</td>\n",
       "      <td>0.877314</td>\n",
       "      <td>0.790305</td>\n",
       "      <td>0.827463</td>\n",
       "    </tr>\n",
       "    <tr>\n",
       "      <td>7</td>\n",
       "      <td>0.089400</td>\n",
       "      <td>0.118638</td>\n",
       "      <td>0.971492</td>\n",
       "      <td>0.757075</td>\n",
       "      <td>0.596654</td>\n",
       "      <td>0.667360</td>\n",
       "      <td>0.979909</td>\n",
       "      <td>0.990362</td>\n",
       "      <td>0.985108</td>\n",
       "      <td>0.868492</td>\n",
       "      <td>0.793508</td>\n",
       "      <td>0.826234</td>\n",
       "    </tr>\n",
       "  </tbody>\n",
       "</table><p>"
      ],
      "text/plain": [
       "<IPython.core.display.HTML object>"
      ]
     },
     "metadata": {},
     "output_type": "display_data"
    },
    {
     "name": "stderr",
     "output_type": "stream",
     "text": [
      "***** Running Evaluation *****\n",
      "  Num examples = 11225\n",
      "  Batch size = 8\n",
      "Saving model checkpoint to content/drive/MyDrive_binary/output_Electra/fold3/checkpoint-63140\n",
      "Configuration saved in content/drive/MyDrive_binary/output_Electra/fold3/checkpoint-63140/config.json\n",
      "Model weights saved in content/drive/MyDrive_binary/output_Electra/fold3/checkpoint-63140/pytorch_model.bin\n",
      "***** Running Evaluation *****\n",
      "  Num examples = 11225\n",
      "  Batch size = 8\n",
      "Saving model checkpoint to content/drive/MyDrive_binary/output_Electra/fold3/checkpoint-75768\n",
      "Configuration saved in content/drive/MyDrive_binary/output_Electra/fold3/checkpoint-75768/config.json\n",
      "Model weights saved in content/drive/MyDrive_binary/output_Electra/fold3/checkpoint-75768/pytorch_model.bin\n",
      "***** Running Evaluation *****\n",
      "  Num examples = 11225\n",
      "  Batch size = 8\n",
      "Saving model checkpoint to content/drive/MyDrive_binary/output_Electra/fold3/checkpoint-88396\n",
      "Configuration saved in content/drive/MyDrive_binary/output_Electra/fold3/checkpoint-88396/config.json\n",
      "Model weights saved in content/drive/MyDrive_binary/output_Electra/fold3/checkpoint-88396/pytorch_model.bin\n",
      "\n",
      "\n",
      "Training completed. Do not forget to share your model on huggingface.co/models =)\n",
      "\n",
      "\n",
      "Loading best model from content/drive/MyDrive_binary/output_Electra/fold3/checkpoint-37884 (score: 0.10627561807632446).\n",
      "3it [2:44:49, 3601.63s/it]"
     ]
    },
    {
     "name": "stdout",
     "output_type": "stream",
     "text": [
      "Complete for fold 3\n",
      "Running for Fold:  4\n"
     ]
    },
    {
     "name": "stderr",
     "output_type": "stream",
     "text": [
      "PyTorch: setting up devices\n",
      "The default value for the training argument `--report_to` will change in v5 (from all installed integrations to none). In v5, you will need to use `--report_to all` to get the same behavior as now. You should start updating your code and make this info disappear :-).\n",
      "Loading model from content/drive/MyDrive_binary/output_Electra/fold4/checkpoint-50512).\n",
      "/opt/conda/lib/python3.9/site-packages/transformers/optimization.py:306: FutureWarning: This implementation of AdamW is deprecated and will be removed in a future version. Use the PyTorch implementation torch.optim.AdamW instead, or set `no_deprecation_warning=True` to disable this warning\n",
      "  warnings.warn(\n",
      "***** Running training *****\n",
      "  Num examples = 101022\n",
      "  Num Epochs = 8\n",
      "  Instantaneous batch size per device = 8\n",
      "  Total train batch size (w. parallel, distributed & accumulation) = 8\n",
      "  Gradient Accumulation steps = 1\n",
      "  Total optimization steps = 101024\n",
      "  Continuing training from checkpoint, will skip to saved global_step\n",
      "  Continuing training from epoch 4\n",
      "  Continuing training from global step 50512\n",
      "  Will skip the first 4 epochs then the first 0 batches in the first epoch. If this takes a lot of time, you can add the `--ignore_data_skip` flag to your launch command, but you will resume the training on data already seen by your model.\n"
     ]
    },
    {
     "data": {
      "application/vnd.jupyter.widget-view+json": {
       "model_id": "128a030fea274a9199149a7e2038e364",
       "version_major": 2,
       "version_minor": 0
      },
      "text/plain": [
       "0it [00:00, ?it/s]"
      ]
     },
     "metadata": {},
     "output_type": "display_data"
    },
    {
     "data": {
      "text/html": [
       "\n",
       "    <div>\n",
       "      \n",
       "      <progress value='88396' max='101024' style='width:300px; height:20px; vertical-align: middle;'></progress>\n",
       "      [ 88396/101024 1:10:12 < 23:24, 8.99 it/s, Epoch 7/8]\n",
       "    </div>\n",
       "    <table border=\"1\" class=\"dataframe\">\n",
       "  <thead>\n",
       " <tr style=\"text-align: left;\">\n",
       "      <th>Epoch</th>\n",
       "      <th>Training Loss</th>\n",
       "      <th>Validation Loss</th>\n",
       "      <th>Accuracy</th>\n",
       "      <th>Precision Cb</th>\n",
       "      <th>Recall Cb</th>\n",
       "      <th>F1 Cb</th>\n",
       "      <th>Precision Ncb</th>\n",
       "      <th>Recall Ncb</th>\n",
       "      <th>F1 Ncb</th>\n",
       "      <th>Precision Overall</th>\n",
       "      <th>Recall Overall</th>\n",
       "      <th>F1 Overall</th>\n",
       "    </tr>\n",
       "  </thead>\n",
       "  <tbody>\n",
       "    <tr>\n",
       "      <td>5</td>\n",
       "      <td>0.102600</td>\n",
       "      <td>0.122468</td>\n",
       "      <td>0.969710</td>\n",
       "      <td>0.701220</td>\n",
       "      <td>0.641264</td>\n",
       "      <td>0.669903</td>\n",
       "      <td>0.982018</td>\n",
       "      <td>0.986245</td>\n",
       "      <td>0.984127</td>\n",
       "      <td>0.841619</td>\n",
       "      <td>0.813754</td>\n",
       "      <td>0.827015</td>\n",
       "    </tr>\n",
       "    <tr>\n",
       "      <td>6</td>\n",
       "      <td>0.104700</td>\n",
       "      <td>0.122835</td>\n",
       "      <td>0.972561</td>\n",
       "      <td>0.776442</td>\n",
       "      <td>0.600372</td>\n",
       "      <td>0.677149</td>\n",
       "      <td>0.980109</td>\n",
       "      <td>0.991298</td>\n",
       "      <td>0.985672</td>\n",
       "      <td>0.878276</td>\n",
       "      <td>0.795835</td>\n",
       "      <td>0.831410</td>\n",
       "    </tr>\n",
       "    <tr>\n",
       "      <td>7</td>\n",
       "      <td>0.100300</td>\n",
       "      <td>0.109478</td>\n",
       "      <td>0.972294</td>\n",
       "      <td>0.762125</td>\n",
       "      <td>0.613383</td>\n",
       "      <td>0.679712</td>\n",
       "      <td>0.980726</td>\n",
       "      <td>0.990362</td>\n",
       "      <td>0.985521</td>\n",
       "      <td>0.871426</td>\n",
       "      <td>0.801873</td>\n",
       "      <td>0.832616</td>\n",
       "    </tr>\n",
       "  </tbody>\n",
       "</table><p>"
      ],
      "text/plain": [
       "<IPython.core.display.HTML object>"
      ]
     },
     "metadata": {},
     "output_type": "display_data"
    },
    {
     "name": "stderr",
     "output_type": "stream",
     "text": [
      "***** Running Evaluation *****\n",
      "  Num examples = 11225\n",
      "  Batch size = 8\n",
      "Saving model checkpoint to content/drive/MyDrive_binary/output_Electra/fold4/checkpoint-63140\n",
      "Configuration saved in content/drive/MyDrive_binary/output_Electra/fold4/checkpoint-63140/config.json\n",
      "Model weights saved in content/drive/MyDrive_binary/output_Electra/fold4/checkpoint-63140/pytorch_model.bin\n",
      "***** Running Evaluation *****\n",
      "  Num examples = 11225\n",
      "  Batch size = 8\n",
      "Saving model checkpoint to content/drive/MyDrive_binary/output_Electra/fold4/checkpoint-75768\n",
      "Configuration saved in content/drive/MyDrive_binary/output_Electra/fold4/checkpoint-75768/config.json\n",
      "Model weights saved in content/drive/MyDrive_binary/output_Electra/fold4/checkpoint-75768/pytorch_model.bin\n",
      "***** Running Evaluation *****\n",
      "  Num examples = 11225\n",
      "  Batch size = 8\n",
      "Saving model checkpoint to content/drive/MyDrive_binary/output_Electra/fold4/checkpoint-88396\n",
      "Configuration saved in content/drive/MyDrive_binary/output_Electra/fold4/checkpoint-88396/config.json\n",
      "Model weights saved in content/drive/MyDrive_binary/output_Electra/fold4/checkpoint-88396/pytorch_model.bin\n",
      "\n",
      "\n",
      "Training completed. Do not forget to share your model on huggingface.co/models =)\n",
      "\n",
      "\n",
      "Loading best model from content/drive/MyDrive_binary/output_Electra/fold4/checkpoint-50512 (score: 0.10801516473293304).\n",
      "4it [3:55:25, 3852.11s/it]"
     ]
    },
    {
     "name": "stdout",
     "output_type": "stream",
     "text": [
      "Complete for fold 4\n",
      "Running for Fold:  5\n"
     ]
    },
    {
     "name": "stderr",
     "output_type": "stream",
     "text": [
      "PyTorch: setting up devices\n",
      "The default value for the training argument `--report_to` will change in v5 (from all installed integrations to none). In v5, you will need to use `--report_to all` to get the same behavior as now. You should start updating your code and make this info disappear :-).\n",
      "Loading model from content/drive/MyDrive_binary/output_Electra/fold5/checkpoint-50512).\n",
      "/opt/conda/lib/python3.9/site-packages/transformers/optimization.py:306: FutureWarning: This implementation of AdamW is deprecated and will be removed in a future version. Use the PyTorch implementation torch.optim.AdamW instead, or set `no_deprecation_warning=True` to disable this warning\n",
      "  warnings.warn(\n",
      "***** Running training *****\n",
      "  Num examples = 101022\n",
      "  Num Epochs = 8\n",
      "  Instantaneous batch size per device = 8\n",
      "  Total train batch size (w. parallel, distributed & accumulation) = 8\n",
      "  Gradient Accumulation steps = 1\n",
      "  Total optimization steps = 101024\n",
      "  Continuing training from checkpoint, will skip to saved global_step\n",
      "  Continuing training from epoch 4\n",
      "  Continuing training from global step 50512\n",
      "  Will skip the first 4 epochs then the first 0 batches in the first epoch. If this takes a lot of time, you can add the `--ignore_data_skip` flag to your launch command, but you will resume the training on data already seen by your model.\n"
     ]
    },
    {
     "data": {
      "application/vnd.jupyter.widget-view+json": {
       "model_id": "fafd1ea3aed84f7cab2b5bef88612aa8",
       "version_major": 2,
       "version_minor": 0
      },
      "text/plain": [
       "0it [00:00, ?it/s]"
      ]
     },
     "metadata": {},
     "output_type": "display_data"
    },
    {
     "data": {
      "text/html": [
       "\n",
       "    <div>\n",
       "      \n",
       "      <progress value='101024' max='101024' style='width:300px; height:20px; vertical-align: middle;'></progress>\n",
       "      [101024/101024 1:33:12, Epoch 8/8]\n",
       "    </div>\n",
       "    <table border=\"1\" class=\"dataframe\">\n",
       "  <thead>\n",
       " <tr style=\"text-align: left;\">\n",
       "      <th>Epoch</th>\n",
       "      <th>Training Loss</th>\n",
       "      <th>Validation Loss</th>\n",
       "      <th>Accuracy</th>\n",
       "      <th>Precision Cb</th>\n",
       "      <th>Recall Cb</th>\n",
       "      <th>F1 Cb</th>\n",
       "      <th>Precision Ncb</th>\n",
       "      <th>Recall Ncb</th>\n",
       "      <th>F1 Ncb</th>\n",
       "      <th>Precision Overall</th>\n",
       "      <th>Recall Overall</th>\n",
       "      <th>F1 Overall</th>\n",
       "    </tr>\n",
       "  </thead>\n",
       "  <tbody>\n",
       "    <tr>\n",
       "      <td>5</td>\n",
       "      <td>0.099500</td>\n",
       "      <td>0.116108</td>\n",
       "      <td>0.970334</td>\n",
       "      <td>0.753086</td>\n",
       "      <td>0.566914</td>\n",
       "      <td>0.646872</td>\n",
       "      <td>0.978466</td>\n",
       "      <td>0.990643</td>\n",
       "      <td>0.984517</td>\n",
       "      <td>0.865776</td>\n",
       "      <td>0.778779</td>\n",
       "      <td>0.815694</td>\n",
       "    </tr>\n",
       "    <tr>\n",
       "      <td>6</td>\n",
       "      <td>0.101900</td>\n",
       "      <td>0.111350</td>\n",
       "      <td>0.971492</td>\n",
       "      <td>0.752315</td>\n",
       "      <td>0.604089</td>\n",
       "      <td>0.670103</td>\n",
       "      <td>0.980265</td>\n",
       "      <td>0.989988</td>\n",
       "      <td>0.985102</td>\n",
       "      <td>0.866290</td>\n",
       "      <td>0.797039</td>\n",
       "      <td>0.827603</td>\n",
       "    </tr>\n",
       "    <tr>\n",
       "      <td>7</td>\n",
       "      <td>0.097400</td>\n",
       "      <td>0.128478</td>\n",
       "      <td>0.971403</td>\n",
       "      <td>0.757720</td>\n",
       "      <td>0.592937</td>\n",
       "      <td>0.665276</td>\n",
       "      <td>0.979730</td>\n",
       "      <td>0.990456</td>\n",
       "      <td>0.985064</td>\n",
       "      <td>0.868725</td>\n",
       "      <td>0.791696</td>\n",
       "      <td>0.825170</td>\n",
       "    </tr>\n",
       "    <tr>\n",
       "      <td>8</td>\n",
       "      <td>0.101700</td>\n",
       "      <td>0.125863</td>\n",
       "      <td>0.971136</td>\n",
       "      <td>0.753555</td>\n",
       "      <td>0.591078</td>\n",
       "      <td>0.662500</td>\n",
       "      <td>0.979635</td>\n",
       "      <td>0.990269</td>\n",
       "      <td>0.984923</td>\n",
       "      <td>0.866595</td>\n",
       "      <td>0.790673</td>\n",
       "      <td>0.823712</td>\n",
       "    </tr>\n",
       "  </tbody>\n",
       "</table><p>"
      ],
      "text/plain": [
       "<IPython.core.display.HTML object>"
      ]
     },
     "metadata": {},
     "output_type": "display_data"
    },
    {
     "name": "stderr",
     "output_type": "stream",
     "text": [
      "***** Running Evaluation *****\n",
      "  Num examples = 11225\n",
      "  Batch size = 8\n",
      "Saving model checkpoint to content/drive/MyDrive_binary/output_Electra/fold5/checkpoint-63140\n",
      "Configuration saved in content/drive/MyDrive_binary/output_Electra/fold5/checkpoint-63140/config.json\n",
      "Model weights saved in content/drive/MyDrive_binary/output_Electra/fold5/checkpoint-63140/pytorch_model.bin\n",
      "***** Running Evaluation *****\n",
      "  Num examples = 11225\n",
      "  Batch size = 8\n",
      "Saving model checkpoint to content/drive/MyDrive_binary/output_Electra/fold5/checkpoint-75768\n",
      "Configuration saved in content/drive/MyDrive_binary/output_Electra/fold5/checkpoint-75768/config.json\n",
      "Model weights saved in content/drive/MyDrive_binary/output_Electra/fold5/checkpoint-75768/pytorch_model.bin\n",
      "***** Running Evaluation *****\n",
      "  Num examples = 11225\n",
      "  Batch size = 8\n",
      "Saving model checkpoint to content/drive/MyDrive_binary/output_Electra/fold5/checkpoint-88396\n",
      "Configuration saved in content/drive/MyDrive_binary/output_Electra/fold5/checkpoint-88396/config.json\n",
      "Model weights saved in content/drive/MyDrive_binary/output_Electra/fold5/checkpoint-88396/pytorch_model.bin\n",
      "***** Running Evaluation *****\n",
      "  Num examples = 11225\n",
      "  Batch size = 8\n",
      "Saving model checkpoint to content/drive/MyDrive_binary/output_Electra/fold5/checkpoint-101024\n",
      "Configuration saved in content/drive/MyDrive_binary/output_Electra/fold5/checkpoint-101024/config.json\n",
      "Model weights saved in content/drive/MyDrive_binary/output_Electra/fold5/checkpoint-101024/pytorch_model.bin\n",
      "\n",
      "\n",
      "Training completed. Do not forget to share your model on huggingface.co/models =)\n",
      "\n",
      "\n",
      "Loading best model from content/drive/MyDrive_binary/output_Electra/fold5/checkpoint-75768 (score: 0.11135013401508331).\n",
      "5it [5:28:59, 3947.91s/it]\n"
     ]
    },
    {
     "name": "stdout",
     "output_type": "stream",
     "text": [
      "Complete for fold 5\n"
     ]
    }
   ],
   "source": [
    "run_cross_validation(model_name='Electra',\n",
    "                         X=X,\n",
    "                         y=y, \n",
    "                         splits=5,\n",
    "                         epoch=8,\n",
    "                         checkpoint=True)"
   ]
  },
  {
   "cell_type": "markdown",
   "id": "e1b0a6cc-fc89-4bd4-96c0-16d0aff97569",
   "metadata": {
    "jp-MarkdownHeadingCollapsed": true,
    "tags": []
   },
   "source": [
    "### [Continue] Cross Validation (K = 5)"
   ]
  },
  {
   "cell_type": "code",
   "execution_count": null,
   "id": "2f97a41f-0f23-4f60-85eb-638464972ca0",
   "metadata": {},
   "outputs": [
    {
     "name": "stdout",
     "output_type": "stream",
     "text": [
      "Developing Model with Cross validation for: Electra\n"
     ]
    },
    {
     "name": "stderr",
     "output_type": "stream",
     "text": [
      "0it [00:00, ?it/s]"
     ]
    },
    {
     "name": "stdout",
     "output_type": "stream",
     "text": [
      "Running for Fold:  1\n"
     ]
    },
    {
     "name": "stderr",
     "output_type": "stream",
     "text": [
      "PyTorch: setting up devices\n",
      "The default value for the training argument `--report_to` will change in v5 (from all installed integrations to none). In v5, you will need to use `--report_to all` to get the same behavior as now. You should start updating your code and make this info disappear :-).\n",
      "Loading model from content/drive/MyDrive_binary/output_Electra/fold1/checkpoint-101024).\n",
      "/opt/conda/lib/python3.9/site-packages/transformers/optimization.py:306: FutureWarning: This implementation of AdamW is deprecated and will be removed in a future version. Use the PyTorch implementation torch.optim.AdamW instead, or set `no_deprecation_warning=True` to disable this warning\n",
      "  warnings.warn(\n",
      "***** Running training *****\n",
      "  Num examples = 101022\n",
      "  Num Epochs = 8\n",
      "  Instantaneous batch size per device = 8\n",
      "  Total train batch size (w. parallel, distributed & accumulation) = 8\n",
      "  Gradient Accumulation steps = 1\n",
      "  Total optimization steps = 101024\n",
      "  Continuing training from checkpoint, will skip to saved global_step\n",
      "  Continuing training from epoch 8\n",
      "  Continuing training from global step 101024\n",
      "  Will skip the first 8 epochs then the first 0 batches in the first epoch. If this takes a lot of time, you can add the `--ignore_data_skip` flag to your launch command, but you will resume the training on data already seen by your model.\n"
     ]
    },
    {
     "data": {
      "application/vnd.jupyter.widget-view+json": {
       "model_id": "b085d2950797483f98323ac1437c6d04",
       "version_major": 2,
       "version_minor": 0
      },
      "text/plain": [
       "0it [00:00, ?it/s]"
      ]
     },
     "metadata": {},
     "output_type": "display_data"
    },
    {
     "name": "stderr",
     "output_type": "stream",
     "text": [
      "\n",
      "\n",
      "Training completed. Do not forget to share your model on huggingface.co/models =)\n",
      "\n",
      "\n",
      "Loading best model from content/drive/MyDrive_binary/output_Electra/fold1/checkpoint-37884 (score: 0.13166798651218414).\n"
     ]
    },
    {
     "data": {
      "text/html": [
       "\n",
       "    <div>\n",
       "      \n",
       "      <progress value='101024' max='101024' style='width:300px; height:20px; vertical-align: middle;'></progress>\n",
       "      [101024/101024 : < :, Epoch 8/8]\n",
       "    </div>\n",
       "    <table border=\"1\" class=\"dataframe\">\n",
       "  <thead>\n",
       " <tr style=\"text-align: left;\">\n",
       "      <th>Epoch</th>\n",
       "      <th>Training Loss</th>\n",
       "      <th>Validation Loss</th>\n",
       "    </tr>\n",
       "  </thead>\n",
       "  <tbody>\n",
       "  </tbody>\n",
       "</table><p>"
      ],
      "text/plain": [
       "<IPython.core.display.HTML object>"
      ]
     },
     "metadata": {},
     "output_type": "display_data"
    },
    {
     "name": "stderr",
     "output_type": "stream",
     "text": [
      "1it [00:14, 14.96s/it]"
     ]
    },
    {
     "name": "stdout",
     "output_type": "stream",
     "text": [
      "Complete for fold 1\n",
      "Running for Fold:  2\n"
     ]
    },
    {
     "name": "stderr",
     "output_type": "stream",
     "text": [
      "PyTorch: setting up devices\n",
      "The default value for the training argument `--report_to` will change in v5 (from all installed integrations to none). In v5, you will need to use `--report_to all` to get the same behavior as now. You should start updating your code and make this info disappear :-).\n",
      "Loading model from content/drive/MyDrive_binary/output_Electra/fold2/checkpoint-101024).\n",
      "/opt/conda/lib/python3.9/site-packages/transformers/optimization.py:306: FutureWarning: This implementation of AdamW is deprecated and will be removed in a future version. Use the PyTorch implementation torch.optim.AdamW instead, or set `no_deprecation_warning=True` to disable this warning\n",
      "  warnings.warn(\n",
      "***** Running training *****\n",
      "  Num examples = 101022\n",
      "  Num Epochs = 8\n",
      "  Instantaneous batch size per device = 8\n",
      "  Total train batch size (w. parallel, distributed & accumulation) = 8\n",
      "  Gradient Accumulation steps = 1\n",
      "  Total optimization steps = 101024\n",
      "  Continuing training from checkpoint, will skip to saved global_step\n",
      "  Continuing training from epoch 8\n",
      "  Continuing training from global step 101024\n",
      "  Will skip the first 8 epochs then the first 0 batches in the first epoch. If this takes a lot of time, you can add the `--ignore_data_skip` flag to your launch command, but you will resume the training on data already seen by your model.\n"
     ]
    },
    {
     "data": {
      "application/vnd.jupyter.widget-view+json": {
       "model_id": "ecf2e0100738436a967543b14b56453c",
       "version_major": 2,
       "version_minor": 0
      },
      "text/plain": [
       "0it [00:00, ?it/s]"
      ]
     },
     "metadata": {},
     "output_type": "display_data"
    },
    {
     "name": "stderr",
     "output_type": "stream",
     "text": [
      "\n",
      "\n",
      "Training completed. Do not forget to share your model on huggingface.co/models =)\n",
      "\n",
      "\n",
      "Loading best model from content/drive/MyDrive_binary/output_Electra/fold2/checkpoint-75768 (score: 0.12073222547769547).\n"
     ]
    },
    {
     "data": {
      "text/html": [
       "\n",
       "    <div>\n",
       "      \n",
       "      <progress value='101024' max='101024' style='width:300px; height:20px; vertical-align: middle;'></progress>\n",
       "      [101024/101024 : < :, Epoch 8/8]\n",
       "    </div>\n",
       "    <table border=\"1\" class=\"dataframe\">\n",
       "  <thead>\n",
       " <tr style=\"text-align: left;\">\n",
       "      <th>Epoch</th>\n",
       "      <th>Training Loss</th>\n",
       "      <th>Validation Loss</th>\n",
       "    </tr>\n",
       "  </thead>\n",
       "  <tbody>\n",
       "  </tbody>\n",
       "</table><p>"
      ],
      "text/plain": [
       "<IPython.core.display.HTML object>"
      ]
     },
     "metadata": {},
     "output_type": "display_data"
    },
    {
     "name": "stderr",
     "output_type": "stream",
     "text": [
      "2it [00:40, 21.18s/it]"
     ]
    },
    {
     "name": "stdout",
     "output_type": "stream",
     "text": [
      "Complete for fold 2\n",
      "Running for Fold:  3\n"
     ]
    },
    {
     "name": "stderr",
     "output_type": "stream",
     "text": [
      "PyTorch: setting up devices\n",
      "The default value for the training argument `--report_to` will change in v5 (from all installed integrations to none). In v5, you will need to use `--report_to all` to get the same behavior as now. You should start updating your code and make this info disappear :-).\n",
      "Loading model from content/drive/MyDrive_binary/output_Electra/fold3/checkpoint-88396).\n",
      "/opt/conda/lib/python3.9/site-packages/transformers/optimization.py:306: FutureWarning: This implementation of AdamW is deprecated and will be removed in a future version. Use the PyTorch implementation torch.optim.AdamW instead, or set `no_deprecation_warning=True` to disable this warning\n",
      "  warnings.warn(\n",
      "***** Running training *****\n",
      "  Num examples = 101022\n",
      "  Num Epochs = 8\n",
      "  Instantaneous batch size per device = 8\n",
      "  Total train batch size (w. parallel, distributed & accumulation) = 8\n",
      "  Gradient Accumulation steps = 1\n",
      "  Total optimization steps = 101024\n",
      "  Continuing training from checkpoint, will skip to saved global_step\n",
      "  Continuing training from epoch 7\n",
      "  Continuing training from global step 88396\n",
      "  Will skip the first 7 epochs then the first 0 batches in the first epoch. If this takes a lot of time, you can add the `--ignore_data_skip` flag to your launch command, but you will resume the training on data already seen by your model.\n"
     ]
    },
    {
     "data": {
      "application/vnd.jupyter.widget-view+json": {
       "model_id": "9439ac996c4d4810801e524ef6dab9d1",
       "version_major": 2,
       "version_minor": 0
      },
      "text/plain": [
       "0it [00:00, ?it/s]"
      ]
     },
     "metadata": {},
     "output_type": "display_data"
    },
    {
     "data": {
      "text/html": [
       "\n",
       "    <div>\n",
       "      \n",
       "      <progress value='101024' max='101024' style='width:300px; height:20px; vertical-align: middle;'></progress>\n",
       "      [101024/101024 23:13, Epoch 8/8]\n",
       "    </div>\n",
       "    <table border=\"1\" class=\"dataframe\">\n",
       "  <thead>\n",
       " <tr style=\"text-align: left;\">\n",
       "      <th>Epoch</th>\n",
       "      <th>Training Loss</th>\n",
       "      <th>Validation Loss</th>\n",
       "      <th>Accuracy</th>\n",
       "      <th>Precision Cb</th>\n",
       "      <th>Recall Cb</th>\n",
       "      <th>F1 Cb</th>\n",
       "      <th>Precision Ncb</th>\n",
       "      <th>Recall Ncb</th>\n",
       "      <th>F1 Ncb</th>\n",
       "      <th>Precision Overall</th>\n",
       "      <th>Recall Overall</th>\n",
       "      <th>F1 Overall</th>\n",
       "    </tr>\n",
       "  </thead>\n",
       "  <tbody>\n",
       "    <tr>\n",
       "      <td>8</td>\n",
       "      <td>0.105400</td>\n",
       "      <td>0.124696</td>\n",
       "      <td>0.970780</td>\n",
       "      <td>0.735426</td>\n",
       "      <td>0.609665</td>\n",
       "      <td>0.666667</td>\n",
       "      <td>0.980518</td>\n",
       "      <td>0.988959</td>\n",
       "      <td>0.984720</td>\n",
       "      <td>0.857972</td>\n",
       "      <td>0.799312</td>\n",
       "      <td>0.825693</td>\n",
       "    </tr>\n",
       "  </tbody>\n",
       "</table><p>"
      ],
      "text/plain": [
       "<IPython.core.display.HTML object>"
      ]
     },
     "metadata": {},
     "output_type": "display_data"
    },
    {
     "name": "stderr",
     "output_type": "stream",
     "text": [
      "***** Running Evaluation *****\n",
      "  Num examples = 11225\n",
      "  Batch size = 8\n",
      "Saving model checkpoint to content/drive/MyDrive_binary/output_Electra/fold3/checkpoint-101024\n",
      "Configuration saved in content/drive/MyDrive_binary/output_Electra/fold3/checkpoint-101024/config.json\n",
      "Model weights saved in content/drive/MyDrive_binary/output_Electra/fold3/checkpoint-101024/pytorch_model.bin\n",
      "\n",
      "\n",
      "Training completed. Do not forget to share your model on huggingface.co/models =)\n",
      "\n",
      "\n",
      "Loading best model from content/drive/MyDrive_binary/output_Electra/fold3/checkpoint-37884 (score: 0.10627561807632446).\n",
      "3it [24:15, 657.60s/it]"
     ]
    },
    {
     "name": "stdout",
     "output_type": "stream",
     "text": [
      "Complete for fold 3\n",
      "Running for Fold:  4\n"
     ]
    }
   ],
   "source": [
    "run_cross_validation(model_name='Electra',\n",
    "                         X=X,\n",
    "                         y=y, \n",
    "                         splits=5,\n",
    "                         epoch=8,\n",
    "                         checkpoint=True)"
   ]
  },
  {
   "cell_type": "markdown",
   "id": "1c94f062-9bb8-46ba-bac0-150073d3a9f5",
   "metadata": {
    "jp-MarkdownHeadingCollapsed": true,
    "tags": []
   },
   "source": [
    "### [Continue] Cross Validation (K = 5)"
   ]
  },
  {
   "cell_type": "code",
   "execution_count": 20,
   "id": "d37013ea-daaf-4abe-ab45-fa44a859662e",
   "metadata": {},
   "outputs": [
    {
     "name": "stdout",
     "output_type": "stream",
     "text": [
      "Developing Model with Cross validation for: Electra\n"
     ]
    },
    {
     "name": "stderr",
     "output_type": "stream",
     "text": [
      "0it [00:00, ?it/s]"
     ]
    },
    {
     "name": "stdout",
     "output_type": "stream",
     "text": [
      "Running for Fold:  1\n"
     ]
    },
    {
     "name": "stderr",
     "output_type": "stream",
     "text": [
      "PyTorch: setting up devices\n",
      "The default value for the training argument `--report_to` will change in v5 (from all installed integrations to none). In v5, you will need to use `--report_to all` to get the same behavior as now. You should start updating your code and make this info disappear :-).\n",
      "Loading model from content/drive/MyDrive_binary/output_Electra/fold1/checkpoint-101024).\n",
      "/opt/conda/lib/python3.9/site-packages/transformers/optimization.py:306: FutureWarning: This implementation of AdamW is deprecated and will be removed in a future version. Use the PyTorch implementation torch.optim.AdamW instead, or set `no_deprecation_warning=True` to disable this warning\n",
      "  warnings.warn(\n",
      "***** Running training *****\n",
      "  Num examples = 101022\n",
      "  Num Epochs = 8\n",
      "  Instantaneous batch size per device = 8\n",
      "  Total train batch size (w. parallel, distributed & accumulation) = 8\n",
      "  Gradient Accumulation steps = 1\n",
      "  Total optimization steps = 101024\n",
      "  Continuing training from checkpoint, will skip to saved global_step\n",
      "  Continuing training from epoch 8\n",
      "  Continuing training from global step 101024\n",
      "  Will skip the first 8 epochs then the first 0 batches in the first epoch. If this takes a lot of time, you can add the `--ignore_data_skip` flag to your launch command, but you will resume the training on data already seen by your model.\n"
     ]
    },
    {
     "data": {
      "application/vnd.jupyter.widget-view+json": {
       "model_id": "e3a5f0247e314b489d1ca63f940e5d60",
       "version_major": 2,
       "version_minor": 0
      },
      "text/plain": [
       "0it [00:00, ?it/s]"
      ]
     },
     "metadata": {},
     "output_type": "display_data"
    },
    {
     "name": "stderr",
     "output_type": "stream",
     "text": [
      "\n",
      "\n",
      "Training completed. Do not forget to share your model on huggingface.co/models =)\n",
      "\n",
      "\n",
      "Loading best model from content/drive/MyDrive_binary/output_Electra/fold1/checkpoint-37884 (score: 0.13166798651218414).\n"
     ]
    },
    {
     "data": {
      "text/html": [
       "\n",
       "    <div>\n",
       "      \n",
       "      <progress value='101024' max='101024' style='width:300px; height:20px; vertical-align: middle;'></progress>\n",
       "      [101024/101024 : < :, Epoch 8/8]\n",
       "    </div>\n",
       "    <table border=\"1\" class=\"dataframe\">\n",
       "  <thead>\n",
       " <tr style=\"text-align: left;\">\n",
       "      <th>Epoch</th>\n",
       "      <th>Training Loss</th>\n",
       "      <th>Validation Loss</th>\n",
       "    </tr>\n",
       "  </thead>\n",
       "  <tbody>\n",
       "  </tbody>\n",
       "</table><p>"
      ],
      "text/plain": [
       "<IPython.core.display.HTML object>"
      ]
     },
     "metadata": {},
     "output_type": "display_data"
    },
    {
     "name": "stderr",
     "output_type": "stream",
     "text": [
      "1it [00:15, 15.45s/it]"
     ]
    },
    {
     "name": "stdout",
     "output_type": "stream",
     "text": [
      "Complete for fold 1\n",
      "Running for Fold:  2\n"
     ]
    },
    {
     "name": "stderr",
     "output_type": "stream",
     "text": [
      "PyTorch: setting up devices\n",
      "The default value for the training argument `--report_to` will change in v5 (from all installed integrations to none). In v5, you will need to use `--report_to all` to get the same behavior as now. You should start updating your code and make this info disappear :-).\n",
      "Loading model from content/drive/MyDrive_binary/output_Electra/fold2/checkpoint-101024).\n",
      "/opt/conda/lib/python3.9/site-packages/transformers/optimization.py:306: FutureWarning: This implementation of AdamW is deprecated and will be removed in a future version. Use the PyTorch implementation torch.optim.AdamW instead, or set `no_deprecation_warning=True` to disable this warning\n",
      "  warnings.warn(\n",
      "***** Running training *****\n",
      "  Num examples = 101022\n",
      "  Num Epochs = 8\n",
      "  Instantaneous batch size per device = 8\n",
      "  Total train batch size (w. parallel, distributed & accumulation) = 8\n",
      "  Gradient Accumulation steps = 1\n",
      "  Total optimization steps = 101024\n",
      "  Continuing training from checkpoint, will skip to saved global_step\n",
      "  Continuing training from epoch 8\n",
      "  Continuing training from global step 101024\n",
      "  Will skip the first 8 epochs then the first 0 batches in the first epoch. If this takes a lot of time, you can add the `--ignore_data_skip` flag to your launch command, but you will resume the training on data already seen by your model.\n"
     ]
    },
    {
     "data": {
      "application/vnd.jupyter.widget-view+json": {
       "model_id": "842d292bf5df4033be8da92f79df33ef",
       "version_major": 2,
       "version_minor": 0
      },
      "text/plain": [
       "0it [00:00, ?it/s]"
      ]
     },
     "metadata": {},
     "output_type": "display_data"
    },
    {
     "name": "stderr",
     "output_type": "stream",
     "text": [
      "\n",
      "\n",
      "Training completed. Do not forget to share your model on huggingface.co/models =)\n",
      "\n",
      "\n",
      "Loading best model from content/drive/MyDrive_binary/output_Electra/fold2/checkpoint-75768 (score: 0.12073222547769547).\n"
     ]
    },
    {
     "data": {
      "text/html": [
       "\n",
       "    <div>\n",
       "      \n",
       "      <progress value='101024' max='101024' style='width:300px; height:20px; vertical-align: middle;'></progress>\n",
       "      [101024/101024 : < :, Epoch 8/8]\n",
       "    </div>\n",
       "    <table border=\"1\" class=\"dataframe\">\n",
       "  <thead>\n",
       " <tr style=\"text-align: left;\">\n",
       "      <th>Epoch</th>\n",
       "      <th>Training Loss</th>\n",
       "      <th>Validation Loss</th>\n",
       "    </tr>\n",
       "  </thead>\n",
       "  <tbody>\n",
       "  </tbody>\n",
       "</table><p>"
      ],
      "text/plain": [
       "<IPython.core.display.HTML object>"
      ]
     },
     "metadata": {},
     "output_type": "display_data"
    },
    {
     "name": "stderr",
     "output_type": "stream",
     "text": [
      "2it [00:44, 23.56s/it]"
     ]
    },
    {
     "name": "stdout",
     "output_type": "stream",
     "text": [
      "Complete for fold 2\n",
      "Running for Fold:  3\n"
     ]
    },
    {
     "name": "stderr",
     "output_type": "stream",
     "text": [
      "PyTorch: setting up devices\n",
      "The default value for the training argument `--report_to` will change in v5 (from all installed integrations to none). In v5, you will need to use `--report_to all` to get the same behavior as now. You should start updating your code and make this info disappear :-).\n",
      "Loading model from content/drive/MyDrive_binary/output_Electra/fold3/checkpoint-101024).\n",
      "/opt/conda/lib/python3.9/site-packages/transformers/optimization.py:306: FutureWarning: This implementation of AdamW is deprecated and will be removed in a future version. Use the PyTorch implementation torch.optim.AdamW instead, or set `no_deprecation_warning=True` to disable this warning\n",
      "  warnings.warn(\n",
      "***** Running training *****\n",
      "  Num examples = 101022\n",
      "  Num Epochs = 8\n",
      "  Instantaneous batch size per device = 8\n",
      "  Total train batch size (w. parallel, distributed & accumulation) = 8\n",
      "  Gradient Accumulation steps = 1\n",
      "  Total optimization steps = 101024\n",
      "  Continuing training from checkpoint, will skip to saved global_step\n",
      "  Continuing training from epoch 8\n",
      "  Continuing training from global step 101024\n",
      "  Will skip the first 8 epochs then the first 0 batches in the first epoch. If this takes a lot of time, you can add the `--ignore_data_skip` flag to your launch command, but you will resume the training on data already seen by your model.\n"
     ]
    },
    {
     "data": {
      "application/vnd.jupyter.widget-view+json": {
       "model_id": "554e64b0e2954a18b4fb3e371e0221a6",
       "version_major": 2,
       "version_minor": 0
      },
      "text/plain": [
       "0it [00:00, ?it/s]"
      ]
     },
     "metadata": {},
     "output_type": "display_data"
    },
    {
     "name": "stderr",
     "output_type": "stream",
     "text": [
      "\n",
      "\n",
      "Training completed. Do not forget to share your model on huggingface.co/models =)\n",
      "\n",
      "\n",
      "Loading best model from content/drive/MyDrive_binary/output_Electra/fold3/checkpoint-37884 (score: 0.10627561807632446).\n"
     ]
    },
    {
     "data": {
      "text/html": [
       "\n",
       "    <div>\n",
       "      \n",
       "      <progress value='101024' max='101024' style='width:300px; height:20px; vertical-align: middle;'></progress>\n",
       "      [101024/101024 : < :, Epoch 8/8]\n",
       "    </div>\n",
       "    <table border=\"1\" class=\"dataframe\">\n",
       "  <thead>\n",
       " <tr style=\"text-align: left;\">\n",
       "      <th>Epoch</th>\n",
       "      <th>Training Loss</th>\n",
       "      <th>Validation Loss</th>\n",
       "    </tr>\n",
       "  </thead>\n",
       "  <tbody>\n",
       "  </tbody>\n",
       "</table><p>"
      ],
      "text/plain": [
       "<IPython.core.display.HTML object>"
      ]
     },
     "metadata": {},
     "output_type": "display_data"
    },
    {
     "name": "stderr",
     "output_type": "stream",
     "text": [
      "3it [01:08, 23.53s/it]"
     ]
    },
    {
     "name": "stdout",
     "output_type": "stream",
     "text": [
      "Complete for fold 3\n",
      "Running for Fold:  4\n"
     ]
    },
    {
     "name": "stderr",
     "output_type": "stream",
     "text": [
      "PyTorch: setting up devices\n",
      "The default value for the training argument `--report_to` will change in v5 (from all installed integrations to none). In v5, you will need to use `--report_to all` to get the same behavior as now. You should start updating your code and make this info disappear :-).\n",
      "Loading model from content/drive/MyDrive_binary/output_Electra/fold4/checkpoint-88396).\n",
      "/opt/conda/lib/python3.9/site-packages/transformers/optimization.py:306: FutureWarning: This implementation of AdamW is deprecated and will be removed in a future version. Use the PyTorch implementation torch.optim.AdamW instead, or set `no_deprecation_warning=True` to disable this warning\n",
      "  warnings.warn(\n",
      "***** Running training *****\n",
      "  Num examples = 101022\n",
      "  Num Epochs = 8\n",
      "  Instantaneous batch size per device = 8\n",
      "  Total train batch size (w. parallel, distributed & accumulation) = 8\n",
      "  Gradient Accumulation steps = 1\n",
      "  Total optimization steps = 101024\n",
      "  Continuing training from checkpoint, will skip to saved global_step\n",
      "  Continuing training from epoch 7\n",
      "  Continuing training from global step 88396\n",
      "  Will skip the first 7 epochs then the first 0 batches in the first epoch. If this takes a lot of time, you can add the `--ignore_data_skip` flag to your launch command, but you will resume the training on data already seen by your model.\n"
     ]
    },
    {
     "data": {
      "application/vnd.jupyter.widget-view+json": {
       "model_id": "5978df52997b4b27bab0496b595322a8",
       "version_major": 2,
       "version_minor": 0
      },
      "text/plain": [
       "0it [00:00, ?it/s]"
      ]
     },
     "metadata": {},
     "output_type": "display_data"
    },
    {
     "data": {
      "text/html": [
       "\n",
       "    <div>\n",
       "      \n",
       "      <progress value='101024' max='101024' style='width:300px; height:20px; vertical-align: middle;'></progress>\n",
       "      [101024/101024 23:19, Epoch 8/8]\n",
       "    </div>\n",
       "    <table border=\"1\" class=\"dataframe\">\n",
       "  <thead>\n",
       " <tr style=\"text-align: left;\">\n",
       "      <th>Epoch</th>\n",
       "      <th>Training Loss</th>\n",
       "      <th>Validation Loss</th>\n",
       "      <th>Accuracy</th>\n",
       "      <th>Precision Cb</th>\n",
       "      <th>Recall Cb</th>\n",
       "      <th>F1 Cb</th>\n",
       "      <th>Precision Ncb</th>\n",
       "      <th>Recall Ncb</th>\n",
       "      <th>F1 Ncb</th>\n",
       "      <th>Precision Overall</th>\n",
       "      <th>Recall Overall</th>\n",
       "      <th>F1 Overall</th>\n",
       "    </tr>\n",
       "  </thead>\n",
       "  <tbody>\n",
       "    <tr>\n",
       "      <td>8</td>\n",
       "      <td>0.091600</td>\n",
       "      <td>0.115200</td>\n",
       "      <td>0.971938</td>\n",
       "      <td>0.748330</td>\n",
       "      <td>0.624535</td>\n",
       "      <td>0.680851</td>\n",
       "      <td>0.981255</td>\n",
       "      <td>0.989426</td>\n",
       "      <td>0.985324</td>\n",
       "      <td>0.864792</td>\n",
       "      <td>0.806981</td>\n",
       "      <td>0.833087</td>\n",
       "    </tr>\n",
       "  </tbody>\n",
       "</table><p>"
      ],
      "text/plain": [
       "<IPython.core.display.HTML object>"
      ]
     },
     "metadata": {},
     "output_type": "display_data"
    },
    {
     "name": "stderr",
     "output_type": "stream",
     "text": [
      "***** Running Evaluation *****\n",
      "  Num examples = 11225\n",
      "  Batch size = 8\n",
      "Saving model checkpoint to content/drive/MyDrive_binary/output_Electra/fold4/checkpoint-101024\n",
      "Configuration saved in content/drive/MyDrive_binary/output_Electra/fold4/checkpoint-101024/config.json\n",
      "Model weights saved in content/drive/MyDrive_binary/output_Electra/fold4/checkpoint-101024/pytorch_model.bin\n",
      "\n",
      "\n",
      "Training completed. Do not forget to share your model on huggingface.co/models =)\n",
      "\n",
      "\n",
      "Loading best model from content/drive/MyDrive_binary/output_Electra/fold4/checkpoint-50512 (score: 0.10801516473293304).\n",
      "4it [24:50, 575.90s/it]"
     ]
    },
    {
     "name": "stdout",
     "output_type": "stream",
     "text": [
      "Complete for fold 4\n",
      "Running for Fold:  5\n"
     ]
    },
    {
     "name": "stderr",
     "output_type": "stream",
     "text": [
      "PyTorch: setting up devices\n",
      "The default value for the training argument `--report_to` will change in v5 (from all installed integrations to none). In v5, you will need to use `--report_to all` to get the same behavior as now. You should start updating your code and make this info disappear :-).\n",
      "Loading model from content/drive/MyDrive_binary/output_Electra/fold5/checkpoint-101024).\n",
      "/opt/conda/lib/python3.9/site-packages/transformers/optimization.py:306: FutureWarning: This implementation of AdamW is deprecated and will be removed in a future version. Use the PyTorch implementation torch.optim.AdamW instead, or set `no_deprecation_warning=True` to disable this warning\n",
      "  warnings.warn(\n",
      "***** Running training *****\n",
      "  Num examples = 101022\n",
      "  Num Epochs = 8\n",
      "  Instantaneous batch size per device = 8\n",
      "  Total train batch size (w. parallel, distributed & accumulation) = 8\n",
      "  Gradient Accumulation steps = 1\n",
      "  Total optimization steps = 101024\n",
      "  Continuing training from checkpoint, will skip to saved global_step\n",
      "  Continuing training from epoch 8\n",
      "  Continuing training from global step 101024\n",
      "  Will skip the first 8 epochs then the first 0 batches in the first epoch. If this takes a lot of time, you can add the `--ignore_data_skip` flag to your launch command, but you will resume the training on data already seen by your model.\n"
     ]
    },
    {
     "data": {
      "application/vnd.jupyter.widget-view+json": {
       "model_id": "cb927f1ee2d8494ba28955ebd462a787",
       "version_major": 2,
       "version_minor": 0
      },
      "text/plain": [
       "0it [00:00, ?it/s]"
      ]
     },
     "metadata": {},
     "output_type": "display_data"
    },
    {
     "name": "stderr",
     "output_type": "stream",
     "text": [
      "\n",
      "\n",
      "Training completed. Do not forget to share your model on huggingface.co/models =)\n",
      "\n",
      "\n",
      "Loading best model from content/drive/MyDrive_binary/output_Electra/fold5/checkpoint-75768 (score: 0.11135013401508331).\n"
     ]
    },
    {
     "data": {
      "text/html": [
       "\n",
       "    <div>\n",
       "      \n",
       "      <progress value='101024' max='101024' style='width:300px; height:20px; vertical-align: middle;'></progress>\n",
       "      [101024/101024 : < :, Epoch 8/8]\n",
       "    </div>\n",
       "    <table border=\"1\" class=\"dataframe\">\n",
       "  <thead>\n",
       " <tr style=\"text-align: left;\">\n",
       "      <th>Epoch</th>\n",
       "      <th>Training Loss</th>\n",
       "      <th>Validation Loss</th>\n",
       "    </tr>\n",
       "  </thead>\n",
       "  <tbody>\n",
       "  </tbody>\n",
       "</table><p>"
      ],
      "text/plain": [
       "<IPython.core.display.HTML object>"
      ]
     },
     "metadata": {},
     "output_type": "display_data"
    },
    {
     "name": "stderr",
     "output_type": "stream",
     "text": [
      "5it [25:12, 302.60s/it]"
     ]
    },
    {
     "name": "stdout",
     "output_type": "stream",
     "text": [
      "Complete for fold 5\n"
     ]
    },
    {
     "name": "stderr",
     "output_type": "stream",
     "text": [
      "\n"
     ]
    }
   ],
   "source": [
    "run_cross_validation(model_name='Electra',\n",
    "                         X=X,\n",
    "                         y=y, \n",
    "                         splits=5,\n",
    "                         epoch=8,\n",
    "                         checkpoint=True)"
   ]
  },
  {
   "cell_type": "markdown",
   "id": "ce9f718e-be85-4f78-a635-82da4ed0c5dd",
   "metadata": {
    "jp-MarkdownHeadingCollapsed": true,
    "tags": []
   },
   "source": [
    "### [Continue] Cross Validation (K = 5)"
   ]
  },
  {
   "cell_type": "code",
   "execution_count": 9,
   "id": "fcb8997c-29c1-4e57-990f-5571302e6f8e",
   "metadata": {},
   "outputs": [
    {
     "name": "stdout",
     "output_type": "stream",
     "text": [
      "Developing Model with Cross validation for: Electra\n"
     ]
    },
    {
     "name": "stderr",
     "output_type": "stream",
     "text": [
      "0it [00:00, ?it/s]"
     ]
    },
    {
     "name": "stdout",
     "output_type": "stream",
     "text": [
      "Running for Fold:  1\n"
     ]
    },
    {
     "name": "stderr",
     "output_type": "stream",
     "text": [
      "/opt/conda/lib/python3.9/site-packages/transformers/optimization.py:306: FutureWarning: This implementation of AdamW is deprecated and will be removed in a future version. Use the PyTorch implementation torch.optim.AdamW instead, or set `no_deprecation_warning=True` to disable this warning\n",
      "  warnings.warn(\n",
      "***** Running training *****\n",
      "  Num examples = 101022\n",
      "  Num Epochs = 4\n",
      "  Instantaneous batch size per device = 8\n",
      "  Total train batch size (w. parallel, distributed & accumulation) = 8\n",
      "  Gradient Accumulation steps = 1\n",
      "  Total optimization steps = 50512\n"
     ]
    },
    {
     "data": {
      "text/html": [
       "\n",
       "    <div>\n",
       "      \n",
       "      <progress value='50512' max='50512' style='width:300px; height:20px; vertical-align: middle;'></progress>\n",
       "      [50512/50512 1:32:10, Epoch 4/4]\n",
       "    </div>\n",
       "    <table border=\"1\" class=\"dataframe\">\n",
       "  <thead>\n",
       " <tr style=\"text-align: left;\">\n",
       "      <th>Epoch</th>\n",
       "      <th>Training Loss</th>\n",
       "      <th>Validation Loss</th>\n",
       "      <th>Accuracy</th>\n",
       "      <th>Precision Cb</th>\n",
       "      <th>Recall Cb</th>\n",
       "      <th>F1 Cb</th>\n",
       "      <th>Precision Ncb</th>\n",
       "      <th>Recall Ncb</th>\n",
       "      <th>F1 Ncb</th>\n",
       "      <th>Precision Overall</th>\n",
       "      <th>Recall Overall</th>\n",
       "      <th>F1 Overall</th>\n",
       "    </tr>\n",
       "  </thead>\n",
       "  <tbody>\n",
       "    <tr>\n",
       "      <td>1</td>\n",
       "      <td>0.123400</td>\n",
       "      <td>0.151883</td>\n",
       "      <td>0.960891</td>\n",
       "      <td>0.617021</td>\n",
       "      <td>0.485130</td>\n",
       "      <td>0.543184</td>\n",
       "      <td>0.974357</td>\n",
       "      <td>0.984841</td>\n",
       "      <td>0.979571</td>\n",
       "      <td>0.795689</td>\n",
       "      <td>0.734986</td>\n",
       "      <td>0.761378</td>\n",
       "    </tr>\n",
       "    <tr>\n",
       "      <td>2</td>\n",
       "      <td>0.131600</td>\n",
       "      <td>0.151560</td>\n",
       "      <td>0.965167</td>\n",
       "      <td>0.765343</td>\n",
       "      <td>0.394052</td>\n",
       "      <td>0.520245</td>\n",
       "      <td>0.970223</td>\n",
       "      <td>0.993918</td>\n",
       "      <td>0.981927</td>\n",
       "      <td>0.867783</td>\n",
       "      <td>0.693985</td>\n",
       "      <td>0.751086</td>\n",
       "    </tr>\n",
       "    <tr>\n",
       "      <td>3</td>\n",
       "      <td>0.125300</td>\n",
       "      <td>0.131668</td>\n",
       "      <td>0.964365</td>\n",
       "      <td>0.665865</td>\n",
       "      <td>0.514870</td>\n",
       "      <td>0.580713</td>\n",
       "      <td>0.975853</td>\n",
       "      <td>0.986994</td>\n",
       "      <td>0.981392</td>\n",
       "      <td>0.820859</td>\n",
       "      <td>0.750932</td>\n",
       "      <td>0.781052</td>\n",
       "    </tr>\n",
       "    <tr>\n",
       "      <td>4</td>\n",
       "      <td>0.117100</td>\n",
       "      <td>0.145611</td>\n",
       "      <td>0.965256</td>\n",
       "      <td>0.697861</td>\n",
       "      <td>0.485130</td>\n",
       "      <td>0.572368</td>\n",
       "      <td>0.974472</td>\n",
       "      <td>0.989426</td>\n",
       "      <td>0.981892</td>\n",
       "      <td>0.836167</td>\n",
       "      <td>0.737278</td>\n",
       "      <td>0.777130</td>\n",
       "    </tr>\n",
       "  </tbody>\n",
       "</table><p>"
      ],
      "text/plain": [
       "<IPython.core.display.HTML object>"
      ]
     },
     "metadata": {},
     "output_type": "display_data"
    },
    {
     "name": "stderr",
     "output_type": "stream",
     "text": [
      "***** Running Evaluation *****\n",
      "  Num examples = 11225\n",
      "  Batch size = 8\n",
      "Saving model checkpoint to content/drive/MyDrive_binary/output_Electra/fold1/checkpoint-12628\n",
      "Configuration saved in content/drive/MyDrive_binary/output_Electra/fold1/checkpoint-12628/config.json\n",
      "Model weights saved in content/drive/MyDrive_binary/output_Electra/fold1/checkpoint-12628/pytorch_model.bin\n",
      "***** Running Evaluation *****\n",
      "  Num examples = 11225\n",
      "  Batch size = 8\n",
      "Saving model checkpoint to content/drive/MyDrive_binary/output_Electra/fold1/checkpoint-25256\n",
      "Configuration saved in content/drive/MyDrive_binary/output_Electra/fold1/checkpoint-25256/config.json\n",
      "Model weights saved in content/drive/MyDrive_binary/output_Electra/fold1/checkpoint-25256/pytorch_model.bin\n",
      "***** Running Evaluation *****\n",
      "  Num examples = 11225\n",
      "  Batch size = 8\n",
      "Saving model checkpoint to content/drive/MyDrive_binary/output_Electra/fold1/checkpoint-37884\n",
      "Configuration saved in content/drive/MyDrive_binary/output_Electra/fold1/checkpoint-37884/config.json\n",
      "Model weights saved in content/drive/MyDrive_binary/output_Electra/fold1/checkpoint-37884/pytorch_model.bin\n",
      "***** Running Evaluation *****\n",
      "  Num examples = 11225\n",
      "  Batch size = 8\n",
      "Saving model checkpoint to content/drive/MyDrive_binary/output_Electra/fold1/checkpoint-50512\n",
      "Configuration saved in content/drive/MyDrive_binary/output_Electra/fold1/checkpoint-50512/config.json\n",
      "Model weights saved in content/drive/MyDrive_binary/output_Electra/fold1/checkpoint-50512/pytorch_model.bin\n",
      "\n",
      "\n",
      "Training completed. Do not forget to share your model on huggingface.co/models =)\n",
      "\n",
      "\n",
      "Loading best model from content/drive/MyDrive_binary/output_Electra/fold1/checkpoint-37884 (score: 0.13166798651218414).\n",
      "1it [1:32:33, 5553.69s/it]"
     ]
    },
    {
     "name": "stdout",
     "output_type": "stream",
     "text": [
      "Complete for fold 1\n",
      "Running for Fold:  2\n"
     ]
    },
    {
     "name": "stderr",
     "output_type": "stream",
     "text": [
      "PyTorch: setting up devices\n",
      "The default value for the training argument `--report_to` will change in v5 (from all installed integrations to none). In v5, you will need to use `--report_to all` to get the same behavior as now. You should start updating your code and make this info disappear :-).\n",
      "/opt/conda/lib/python3.9/site-packages/transformers/optimization.py:306: FutureWarning: This implementation of AdamW is deprecated and will be removed in a future version. Use the PyTorch implementation torch.optim.AdamW instead, or set `no_deprecation_warning=True` to disable this warning\n",
      "  warnings.warn(\n",
      "***** Running training *****\n",
      "  Num examples = 101022\n",
      "  Num Epochs = 4\n",
      "  Instantaneous batch size per device = 8\n",
      "  Total train batch size (w. parallel, distributed & accumulation) = 8\n",
      "  Gradient Accumulation steps = 1\n",
      "  Total optimization steps = 50512\n"
     ]
    },
    {
     "data": {
      "text/html": [
       "\n",
       "    <div>\n",
       "      \n",
       "      <progress value='50512' max='50512' style='width:300px; height:20px; vertical-align: middle;'></progress>\n",
       "      [50512/50512 1:34:59, Epoch 4/4]\n",
       "    </div>\n",
       "    <table border=\"1\" class=\"dataframe\">\n",
       "  <thead>\n",
       " <tr style=\"text-align: left;\">\n",
       "      <th>Epoch</th>\n",
       "      <th>Training Loss</th>\n",
       "      <th>Validation Loss</th>\n",
       "      <th>Accuracy</th>\n",
       "      <th>Precision Cb</th>\n",
       "      <th>Recall Cb</th>\n",
       "      <th>F1 Cb</th>\n",
       "      <th>Precision Ncb</th>\n",
       "      <th>Recall Ncb</th>\n",
       "      <th>F1 Ncb</th>\n",
       "      <th>Precision Overall</th>\n",
       "      <th>Recall Overall</th>\n",
       "      <th>F1 Overall</th>\n",
       "    </tr>\n",
       "  </thead>\n",
       "  <tbody>\n",
       "    <tr>\n",
       "      <td>1</td>\n",
       "      <td>0.174100</td>\n",
       "      <td>0.186898</td>\n",
       "      <td>0.960178</td>\n",
       "      <td>0.869919</td>\n",
       "      <td>0.198885</td>\n",
       "      <td>0.323752</td>\n",
       "      <td>0.961178</td>\n",
       "      <td>0.998503</td>\n",
       "      <td>0.979485</td>\n",
       "      <td>0.915548</td>\n",
       "      <td>0.598694</td>\n",
       "      <td>0.651618</td>\n",
       "    </tr>\n",
       "    <tr>\n",
       "      <td>2</td>\n",
       "      <td>0.151700</td>\n",
       "      <td>0.155348</td>\n",
       "      <td>0.965880</td>\n",
       "      <td>0.755776</td>\n",
       "      <td>0.425651</td>\n",
       "      <td>0.544590</td>\n",
       "      <td>0.971708</td>\n",
       "      <td>0.993076</td>\n",
       "      <td>0.982276</td>\n",
       "      <td>0.863742</td>\n",
       "      <td>0.709363</td>\n",
       "      <td>0.763433</td>\n",
       "    </tr>\n",
       "    <tr>\n",
       "      <td>3</td>\n",
       "      <td>0.138100</td>\n",
       "      <td>0.133266</td>\n",
       "      <td>0.967929</td>\n",
       "      <td>0.757225</td>\n",
       "      <td>0.486989</td>\n",
       "      <td>0.592760</td>\n",
       "      <td>0.974630</td>\n",
       "      <td>0.992140</td>\n",
       "      <td>0.983307</td>\n",
       "      <td>0.865928</td>\n",
       "      <td>0.739564</td>\n",
       "      <td>0.788034</td>\n",
       "    </tr>\n",
       "    <tr>\n",
       "      <td>4</td>\n",
       "      <td>0.118800</td>\n",
       "      <td>0.131528</td>\n",
       "      <td>0.967751</td>\n",
       "      <td>0.731579</td>\n",
       "      <td>0.516729</td>\n",
       "      <td>0.605664</td>\n",
       "      <td>0.976026</td>\n",
       "      <td>0.990456</td>\n",
       "      <td>0.983188</td>\n",
       "      <td>0.853802</td>\n",
       "      <td>0.753592</td>\n",
       "      <td>0.794426</td>\n",
       "    </tr>\n",
       "  </tbody>\n",
       "</table><p>"
      ],
      "text/plain": [
       "<IPython.core.display.HTML object>"
      ]
     },
     "metadata": {},
     "output_type": "display_data"
    },
    {
     "name": "stderr",
     "output_type": "stream",
     "text": [
      "***** Running Evaluation *****\n",
      "  Num examples = 11225\n",
      "  Batch size = 8\n",
      "Saving model checkpoint to content/drive/MyDrive_binary/output_Electra/fold2/checkpoint-25256\n",
      "Configuration saved in content/drive/MyDrive_binary/output_Electra/fold2/checkpoint-25256/config.json\n",
      "Model weights saved in content/drive/MyDrive_binary/output_Electra/fold2/checkpoint-25256/pytorch_model.bin\n",
      "***** Running Evaluation *****\n",
      "  Num examples = 11225\n",
      "  Batch size = 8\n",
      "Saving model checkpoint to content/drive/MyDrive_binary/output_Electra/fold2/checkpoint-37884\n",
      "Configuration saved in content/drive/MyDrive_binary/output_Electra/fold2/checkpoint-37884/config.json\n",
      "Model weights saved in content/drive/MyDrive_binary/output_Electra/fold2/checkpoint-37884/pytorch_model.bin\n",
      "***** Running Evaluation *****\n",
      "  Num examples = 11225\n",
      "  Batch size = 8\n",
      "Saving model checkpoint to content/drive/MyDrive_binary/output_Electra/fold2/checkpoint-50512\n",
      "Configuration saved in content/drive/MyDrive_binary/output_Electra/fold2/checkpoint-50512/config.json\n",
      "Model weights saved in content/drive/MyDrive_binary/output_Electra/fold2/checkpoint-50512/pytorch_model.bin\n",
      "\n",
      "\n",
      "Training completed. Do not forget to share your model on huggingface.co/models =)\n",
      "\n",
      "\n",
      "Loading best model from content/drive/MyDrive_binary/output_Electra/fold2/checkpoint-50512 (score: 0.13152843713760376).\n",
      "2it [3:07:56, 5653.41s/it]"
     ]
    },
    {
     "name": "stdout",
     "output_type": "stream",
     "text": [
      "Complete for fold 2\n",
      "Running for Fold:  3\n"
     ]
    },
    {
     "name": "stderr",
     "output_type": "stream",
     "text": [
      "PyTorch: setting up devices\n",
      "The default value for the training argument `--report_to` will change in v5 (from all installed integrations to none). In v5, you will need to use `--report_to all` to get the same behavior as now. You should start updating your code and make this info disappear :-).\n",
      "Loading model from content/drive/MyDrive_binary/output_Electra/fold3/checkpoint-101024).\n",
      "/opt/conda/lib/python3.9/site-packages/transformers/optimization.py:306: FutureWarning: This implementation of AdamW is deprecated and will be removed in a future version. Use the PyTorch implementation torch.optim.AdamW instead, or set `no_deprecation_warning=True` to disable this warning\n",
      "  warnings.warn(\n",
      "***** Running training *****\n",
      "  Num examples = 101022\n",
      "  Num Epochs = 4\n",
      "  Instantaneous batch size per device = 8\n",
      "  Total train batch size (w. parallel, distributed & accumulation) = 8\n",
      "  Gradient Accumulation steps = 1\n",
      "  Total optimization steps = 50512\n",
      "  Continuing training from checkpoint, will skip to saved global_step\n",
      "  Continuing training from epoch 8\n",
      "  Continuing training from global step 101024\n",
      "  Will skip the first 8 epochs then the first 0 batches in the first epoch. If this takes a lot of time, you can add the `--ignore_data_skip` flag to your launch command, but you will resume the training on data already seen by your model.\n"
     ]
    },
    {
     "data": {
      "application/vnd.jupyter.widget-view+json": {
       "model_id": "93e265d4343946878da24794bbbf0f90",
       "version_major": 2,
       "version_minor": 0
      },
      "text/plain": [
       "0it [00:00, ?it/s]"
      ]
     },
     "metadata": {},
     "output_type": "display_data"
    },
    {
     "name": "stderr",
     "output_type": "stream",
     "text": [
      "\n",
      "\n",
      "Training completed. Do not forget to share your model on huggingface.co/models =)\n",
      "\n",
      "\n",
      "Loading best model from content/drive/MyDrive_binary/output_Electra/fold3/checkpoint-37884 (score: 0.10627561807632446).\n"
     ]
    },
    {
     "data": {
      "text/html": [
       "\n",
       "    <div>\n",
       "      \n",
       "      <progress value='101024' max='50512' style='width:300px; height:20px; vertical-align: middle;'></progress>\n",
       "      [101024/50512 : < :, Epoch 8/4]\n",
       "    </div>\n",
       "    <table border=\"1\" class=\"dataframe\">\n",
       "  <thead>\n",
       " <tr style=\"text-align: left;\">\n",
       "      <th>Epoch</th>\n",
       "      <th>Training Loss</th>\n",
       "      <th>Validation Loss</th>\n",
       "    </tr>\n",
       "  </thead>\n",
       "  <tbody>\n",
       "  </tbody>\n",
       "</table><p>"
      ],
      "text/plain": [
       "<IPython.core.display.HTML object>"
      ]
     },
     "metadata": {},
     "output_type": "display_data"
    },
    {
     "name": "stderr",
     "output_type": "stream",
     "text": [
      "3it [3:08:19, 3082.13s/it]"
     ]
    },
    {
     "name": "stdout",
     "output_type": "stream",
     "text": [
      "Complete for fold 3\n",
      "Running for Fold:  4\n"
     ]
    },
    {
     "name": "stderr",
     "output_type": "stream",
     "text": [
      "PyTorch: setting up devices\n",
      "The default value for the training argument `--report_to` will change in v5 (from all installed integrations to none). In v5, you will need to use `--report_to all` to get the same behavior as now. You should start updating your code and make this info disappear :-).\n",
      "Loading model from content/drive/MyDrive_binary/output_Electra/fold4/checkpoint-101024).\n",
      "/opt/conda/lib/python3.9/site-packages/transformers/optimization.py:306: FutureWarning: This implementation of AdamW is deprecated and will be removed in a future version. Use the PyTorch implementation torch.optim.AdamW instead, or set `no_deprecation_warning=True` to disable this warning\n",
      "  warnings.warn(\n",
      "***** Running training *****\n",
      "  Num examples = 101022\n",
      "  Num Epochs = 4\n",
      "  Instantaneous batch size per device = 8\n",
      "  Total train batch size (w. parallel, distributed & accumulation) = 8\n",
      "  Gradient Accumulation steps = 1\n",
      "  Total optimization steps = 50512\n",
      "  Continuing training from checkpoint, will skip to saved global_step\n",
      "  Continuing training from epoch 8\n",
      "  Continuing training from global step 101024\n",
      "  Will skip the first 8 epochs then the first 0 batches in the first epoch. If this takes a lot of time, you can add the `--ignore_data_skip` flag to your launch command, but you will resume the training on data already seen by your model.\n"
     ]
    },
    {
     "data": {
      "application/vnd.jupyter.widget-view+json": {
       "model_id": "fdae5604e69346dfa5ca2108a1160ae2",
       "version_major": 2,
       "version_minor": 0
      },
      "text/plain": [
       "0it [00:00, ?it/s]"
      ]
     },
     "metadata": {},
     "output_type": "display_data"
    },
    {
     "name": "stderr",
     "output_type": "stream",
     "text": [
      "\n",
      "\n",
      "Training completed. Do not forget to share your model on huggingface.co/models =)\n",
      "\n",
      "\n",
      "Loading best model from content/drive/MyDrive_binary/output_Electra/fold4/checkpoint-50512 (score: 0.10801516473293304).\n"
     ]
    },
    {
     "data": {
      "text/html": [
       "\n",
       "    <div>\n",
       "      \n",
       "      <progress value='101024' max='50512' style='width:300px; height:20px; vertical-align: middle;'></progress>\n",
       "      [101024/50512 : < :, Epoch 8/4]\n",
       "    </div>\n",
       "    <table border=\"1\" class=\"dataframe\">\n",
       "  <thead>\n",
       " <tr style=\"text-align: left;\">\n",
       "      <th>Epoch</th>\n",
       "      <th>Training Loss</th>\n",
       "      <th>Validation Loss</th>\n",
       "    </tr>\n",
       "  </thead>\n",
       "  <tbody>\n",
       "  </tbody>\n",
       "</table><p>"
      ],
      "text/plain": [
       "<IPython.core.display.HTML object>"
      ]
     },
     "metadata": {},
     "output_type": "display_data"
    },
    {
     "name": "stderr",
     "output_type": "stream",
     "text": [
      "4it [3:08:45, 1875.79s/it]"
     ]
    },
    {
     "name": "stdout",
     "output_type": "stream",
     "text": [
      "Complete for fold 4\n",
      "Running for Fold:  5\n"
     ]
    },
    {
     "name": "stderr",
     "output_type": "stream",
     "text": [
      "PyTorch: setting up devices\n",
      "The default value for the training argument `--report_to` will change in v5 (from all installed integrations to none). In v5, you will need to use `--report_to all` to get the same behavior as now. You should start updating your code and make this info disappear :-).\n",
      "Loading model from content/drive/MyDrive_binary/output_Electra/fold5/checkpoint-101024).\n",
      "/opt/conda/lib/python3.9/site-packages/transformers/optimization.py:306: FutureWarning: This implementation of AdamW is deprecated and will be removed in a future version. Use the PyTorch implementation torch.optim.AdamW instead, or set `no_deprecation_warning=True` to disable this warning\n",
      "  warnings.warn(\n",
      "***** Running training *****\n",
      "  Num examples = 101022\n",
      "  Num Epochs = 4\n",
      "  Instantaneous batch size per device = 8\n",
      "  Total train batch size (w. parallel, distributed & accumulation) = 8\n",
      "  Gradient Accumulation steps = 1\n",
      "  Total optimization steps = 50512\n",
      "  Continuing training from checkpoint, will skip to saved global_step\n",
      "  Continuing training from epoch 8\n",
      "  Continuing training from global step 101024\n",
      "  Will skip the first 8 epochs then the first 0 batches in the first epoch. If this takes a lot of time, you can add the `--ignore_data_skip` flag to your launch command, but you will resume the training on data already seen by your model.\n"
     ]
    },
    {
     "data": {
      "application/vnd.jupyter.widget-view+json": {
       "model_id": "b752c65ffb9543b7abe8be9c6fe8327a",
       "version_major": 2,
       "version_minor": 0
      },
      "text/plain": [
       "0it [00:00, ?it/s]"
      ]
     },
     "metadata": {},
     "output_type": "display_data"
    },
    {
     "name": "stderr",
     "output_type": "stream",
     "text": [
      "\n",
      "\n",
      "Training completed. Do not forget to share your model on huggingface.co/models =)\n",
      "\n",
      "\n",
      "Loading best model from content/drive/MyDrive_binary/output_Electra/fold5/checkpoint-75768 (score: 0.11135013401508331).\n"
     ]
    },
    {
     "data": {
      "text/html": [
       "\n",
       "    <div>\n",
       "      \n",
       "      <progress value='101024' max='50512' style='width:300px; height:20px; vertical-align: middle;'></progress>\n",
       "      [101024/50512 : < :, Epoch 8/4]\n",
       "    </div>\n",
       "    <table border=\"1\" class=\"dataframe\">\n",
       "  <thead>\n",
       " <tr style=\"text-align: left;\">\n",
       "      <th>Epoch</th>\n",
       "      <th>Training Loss</th>\n",
       "      <th>Validation Loss</th>\n",
       "    </tr>\n",
       "  </thead>\n",
       "  <tbody>\n",
       "  </tbody>\n",
       "</table><p>"
      ],
      "text/plain": [
       "<IPython.core.display.HTML object>"
      ]
     },
     "metadata": {},
     "output_type": "display_data"
    },
    {
     "name": "stderr",
     "output_type": "stream",
     "text": [
      "5it [3:09:09, 2269.81s/it]"
     ]
    },
    {
     "name": "stdout",
     "output_type": "stream",
     "text": [
      "Complete for fold 5\n"
     ]
    },
    {
     "name": "stderr",
     "output_type": "stream",
     "text": [
      "\n"
     ]
    }
   ],
   "source": [
    "run_cross_validation(model_name='Electra',\n",
    "                         X=X,\n",
    "                         y=y, \n",
    "                         splits=5,\n",
    "                         epoch=4,\n",
    "                         checkpoint=False)"
   ]
  },
  {
   "cell_type": "markdown",
   "id": "f2fd43b7-fcca-4114-91b8-0b26ccd17bf5",
   "metadata": {
    "jp-MarkdownHeadingCollapsed": true,
    "tags": []
   },
   "source": [
    "### [Continue] Cross Validation (K = 5)"
   ]
  },
  {
   "cell_type": "code",
   "execution_count": null,
   "id": "d67449e5-da10-40b2-b822-1117e0cd58fd",
   "metadata": {},
   "outputs": [
    {
     "name": "stdout",
     "output_type": "stream",
     "text": [
      "Developing Model with Cross validation for: Electra\n"
     ]
    },
    {
     "name": "stderr",
     "output_type": "stream",
     "text": [
      "0it [00:00, ?it/s]"
     ]
    },
    {
     "name": "stdout",
     "output_type": "stream",
     "text": [
      "Running for Fold:  1\n"
     ]
    },
    {
     "name": "stderr",
     "output_type": "stream",
     "text": [
      "Loading model from content/drive/MyDrive_binary/output_Electra/fold1/checkpoint-50512).\n",
      "/opt/conda/lib/python3.9/site-packages/transformers/optimization.py:306: FutureWarning: This implementation of AdamW is deprecated and will be removed in a future version. Use the PyTorch implementation torch.optim.AdamW instead, or set `no_deprecation_warning=True` to disable this warning\n",
      "  warnings.warn(\n",
      "***** Running training *****\n",
      "  Num examples = 101022\n",
      "  Num Epochs = 10\n",
      "  Instantaneous batch size per device = 8\n",
      "  Total train batch size (w. parallel, distributed & accumulation) = 8\n",
      "  Gradient Accumulation steps = 1\n",
      "  Total optimization steps = 126280\n",
      "  Continuing training from checkpoint, will skip to saved global_step\n",
      "  Continuing training from epoch 4\n",
      "  Continuing training from global step 50512\n",
      "  Will skip the first 4 epochs then the first 0 batches in the first epoch. If this takes a lot of time, you can add the `--ignore_data_skip` flag to your launch command, but you will resume the training on data already seen by your model.\n"
     ]
    },
    {
     "data": {
      "application/vnd.jupyter.widget-view+json": {
       "model_id": "e84c1948196d4f1ab106d72d57bb45ed",
       "version_major": 2,
       "version_minor": 0
      },
      "text/plain": [
       "0it [00:00, ?it/s]"
      ]
     },
     "metadata": {},
     "output_type": "display_data"
    },
    {
     "data": {
      "text/html": [
       "\n",
       "    <div>\n",
       "      \n",
       "      <progress value='88396' max='126280' style='width:300px; height:20px; vertical-align: middle;'></progress>\n",
       "      [ 88396/126280 1:51:18 < 1:51:18, 5.67 it/s, Epoch 7/10]\n",
       "    </div>\n",
       "    <table border=\"1\" class=\"dataframe\">\n",
       "  <thead>\n",
       " <tr style=\"text-align: left;\">\n",
       "      <th>Epoch</th>\n",
       "      <th>Training Loss</th>\n",
       "      <th>Validation Loss</th>\n",
       "      <th>Accuracy</th>\n",
       "      <th>Precision Cb</th>\n",
       "      <th>Recall Cb</th>\n",
       "      <th>F1 Cb</th>\n",
       "      <th>Precision Ncb</th>\n",
       "      <th>Recall Ncb</th>\n",
       "      <th>F1 Ncb</th>\n",
       "      <th>Precision Overall</th>\n",
       "      <th>Recall Overall</th>\n",
       "      <th>F1 Overall</th>\n",
       "    </tr>\n",
       "  </thead>\n",
       "  <tbody>\n",
       "    <tr>\n",
       "      <td>5</td>\n",
       "      <td>0.104900</td>\n",
       "      <td>0.150274</td>\n",
       "      <td>0.963563</td>\n",
       "      <td>0.641138</td>\n",
       "      <td>0.544610</td>\n",
       "      <td>0.588945</td>\n",
       "      <td>0.977247</td>\n",
       "      <td>0.984654</td>\n",
       "      <td>0.980937</td>\n",
       "      <td>0.809193</td>\n",
       "      <td>0.764632</td>\n",
       "      <td>0.784941</td>\n",
       "    </tr>\n",
       "    <tr>\n",
       "      <td>6</td>\n",
       "      <td>0.099900</td>\n",
       "      <td>0.148100</td>\n",
       "      <td>0.965702</td>\n",
       "      <td>0.709589</td>\n",
       "      <td>0.481413</td>\n",
       "      <td>0.573643</td>\n",
       "      <td>0.974309</td>\n",
       "      <td>0.990081</td>\n",
       "      <td>0.982132</td>\n",
       "      <td>0.841949</td>\n",
       "      <td>0.735747</td>\n",
       "      <td>0.777888</td>\n",
       "    </tr>\n",
       "    <tr>\n",
       "      <td>7</td>\n",
       "      <td>0.121300</td>\n",
       "      <td>0.149437</td>\n",
       "      <td>0.965345</td>\n",
       "      <td>0.672055</td>\n",
       "      <td>0.540892</td>\n",
       "      <td>0.599382</td>\n",
       "      <td>0.977113</td>\n",
       "      <td>0.986713</td>\n",
       "      <td>0.981889</td>\n",
       "      <td>0.824584</td>\n",
       "      <td>0.763803</td>\n",
       "      <td>0.790636</td>\n",
       "    </tr>\n",
       "  </tbody>\n",
       "</table><p>"
      ],
      "text/plain": [
       "<IPython.core.display.HTML object>"
      ]
     },
     "metadata": {},
     "output_type": "display_data"
    },
    {
     "name": "stderr",
     "output_type": "stream",
     "text": [
      "***** Running Evaluation *****\n",
      "  Num examples = 11225\n",
      "  Batch size = 8\n",
      "Saving model checkpoint to content/drive/MyDrive_binary/output_Electra/fold1/checkpoint-63140\n",
      "Configuration saved in content/drive/MyDrive_binary/output_Electra/fold1/checkpoint-63140/config.json\n",
      "Model weights saved in content/drive/MyDrive_binary/output_Electra/fold1/checkpoint-63140/pytorch_model.bin\n",
      "***** Running Evaluation *****\n",
      "  Num examples = 11225\n",
      "  Batch size = 8\n",
      "Saving model checkpoint to content/drive/MyDrive_binary/output_Electra/fold1/checkpoint-75768\n",
      "Configuration saved in content/drive/MyDrive_binary/output_Electra/fold1/checkpoint-75768/config.json\n",
      "Model weights saved in content/drive/MyDrive_binary/output_Electra/fold1/checkpoint-75768/pytorch_model.bin\n",
      "***** Running Evaluation *****\n",
      "  Num examples = 11225\n",
      "  Batch size = 8\n",
      "Saving model checkpoint to content/drive/MyDrive_binary/output_Electra/fold1/checkpoint-88396\n",
      "Configuration saved in content/drive/MyDrive_binary/output_Electra/fold1/checkpoint-88396/config.json\n",
      "Model weights saved in content/drive/MyDrive_binary/output_Electra/fold1/checkpoint-88396/pytorch_model.bin\n",
      "\n",
      "\n",
      "Training completed. Do not forget to share your model on huggingface.co/models =)\n",
      "\n",
      "\n",
      "Loading best model from content/drive/MyDrive_binary/output_Electra/fold1/checkpoint-37884 (score: 0.13166798651218414).\n",
      "1it [1:51:50, 6710.22s/it]"
     ]
    },
    {
     "name": "stdout",
     "output_type": "stream",
     "text": [
      "Complete for fold 1\n",
      "Running for Fold:  2\n"
     ]
    },
    {
     "name": "stderr",
     "output_type": "stream",
     "text": [
      "PyTorch: setting up devices\n",
      "The default value for the training argument `--report_to` will change in v5 (from all installed integrations to none). In v5, you will need to use `--report_to all` to get the same behavior as now. You should start updating your code and make this info disappear :-).\n",
      "Loading model from content/drive/MyDrive_binary/output_Electra/fold2/checkpoint-50512).\n",
      "/opt/conda/lib/python3.9/site-packages/transformers/optimization.py:306: FutureWarning: This implementation of AdamW is deprecated and will be removed in a future version. Use the PyTorch implementation torch.optim.AdamW instead, or set `no_deprecation_warning=True` to disable this warning\n",
      "  warnings.warn(\n",
      "***** Running training *****\n",
      "  Num examples = 101022\n",
      "  Num Epochs = 10\n",
      "  Instantaneous batch size per device = 8\n",
      "  Total train batch size (w. parallel, distributed & accumulation) = 8\n",
      "  Gradient Accumulation steps = 1\n",
      "  Total optimization steps = 126280\n",
      "  Continuing training from checkpoint, will skip to saved global_step\n",
      "  Continuing training from epoch 4\n",
      "  Continuing training from global step 50512\n",
      "  Will skip the first 4 epochs then the first 0 batches in the first epoch. If this takes a lot of time, you can add the `--ignore_data_skip` flag to your launch command, but you will resume the training on data already seen by your model.\n"
     ]
    },
    {
     "data": {
      "application/vnd.jupyter.widget-view+json": {
       "model_id": "f3e07f04565846fbb66e8e14ead33c8a",
       "version_major": 2,
       "version_minor": 0
      },
      "text/plain": [
       "0it [00:00, ?it/s]"
      ]
     },
     "metadata": {},
     "output_type": "display_data"
    },
    {
     "data": {
      "text/html": [
       "\n",
       "    <div>\n",
       "      \n",
       "      <progress value='101024' max='126280' style='width:300px; height:20px; vertical-align: middle;'></progress>\n",
       "      [101024/126280 2:31:52 < 1:15:56, 5.54 it/s, Epoch 8/10]\n",
       "    </div>\n",
       "    <table border=\"1\" class=\"dataframe\">\n",
       "  <thead>\n",
       " <tr style=\"text-align: left;\">\n",
       "      <th>Epoch</th>\n",
       "      <th>Training Loss</th>\n",
       "      <th>Validation Loss</th>\n",
       "      <th>Accuracy</th>\n",
       "      <th>Precision Cb</th>\n",
       "      <th>Recall Cb</th>\n",
       "      <th>F1 Cb</th>\n",
       "      <th>Precision Ncb</th>\n",
       "      <th>Recall Ncb</th>\n",
       "      <th>F1 Ncb</th>\n",
       "      <th>Precision Overall</th>\n",
       "      <th>Recall Overall</th>\n",
       "      <th>F1 Overall</th>\n",
       "    </tr>\n",
       "  </thead>\n",
       "  <tbody>\n",
       "    <tr>\n",
       "      <td>5</td>\n",
       "      <td>0.137400</td>\n",
       "      <td>0.122608</td>\n",
       "      <td>0.964187</td>\n",
       "      <td>0.634921</td>\n",
       "      <td>0.594796</td>\n",
       "      <td>0.614203</td>\n",
       "      <td>0.979666</td>\n",
       "      <td>0.982783</td>\n",
       "      <td>0.981222</td>\n",
       "      <td>0.807293</td>\n",
       "      <td>0.788789</td>\n",
       "      <td>0.797713</td>\n",
       "    </tr>\n",
       "    <tr>\n",
       "      <td>6</td>\n",
       "      <td>0.106800</td>\n",
       "      <td>0.137765</td>\n",
       "      <td>0.966592</td>\n",
       "      <td>0.700246</td>\n",
       "      <td>0.529740</td>\n",
       "      <td>0.603175</td>\n",
       "      <td>0.976613</td>\n",
       "      <td>0.988584</td>\n",
       "      <td>0.982562</td>\n",
       "      <td>0.838429</td>\n",
       "      <td>0.759162</td>\n",
       "      <td>0.792868</td>\n",
       "    </tr>\n",
       "    <tr>\n",
       "      <td>7</td>\n",
       "      <td>0.106000</td>\n",
       "      <td>0.156640</td>\n",
       "      <td>0.966771</td>\n",
       "      <td>0.721180</td>\n",
       "      <td>0.500000</td>\n",
       "      <td>0.590560</td>\n",
       "      <td>0.975212</td>\n",
       "      <td>0.990269</td>\n",
       "      <td>0.982683</td>\n",
       "      <td>0.848196</td>\n",
       "      <td>0.745134</td>\n",
       "      <td>0.786621</td>\n",
       "    </tr>\n",
       "    <tr>\n",
       "      <td>8</td>\n",
       "      <td>0.108300</td>\n",
       "      <td>0.140066</td>\n",
       "      <td>0.963029</td>\n",
       "      <td>0.617143</td>\n",
       "      <td>0.602230</td>\n",
       "      <td>0.609595</td>\n",
       "      <td>0.980000</td>\n",
       "      <td>0.981192</td>\n",
       "      <td>0.980596</td>\n",
       "      <td>0.798571</td>\n",
       "      <td>0.791711</td>\n",
       "      <td>0.795096</td>\n",
       "    </tr>\n",
       "  </tbody>\n",
       "</table><p>"
      ],
      "text/plain": [
       "<IPython.core.display.HTML object>"
      ]
     },
     "metadata": {},
     "output_type": "display_data"
    },
    {
     "name": "stderr",
     "output_type": "stream",
     "text": [
      "***** Running Evaluation *****\n",
      "  Num examples = 11225\n",
      "  Batch size = 8\n",
      "Saving model checkpoint to content/drive/MyDrive_binary/output_Electra/fold2/checkpoint-63140\n",
      "Configuration saved in content/drive/MyDrive_binary/output_Electra/fold2/checkpoint-63140/config.json\n",
      "Model weights saved in content/drive/MyDrive_binary/output_Electra/fold2/checkpoint-63140/pytorch_model.bin\n",
      "***** Running Evaluation *****\n",
      "  Num examples = 11225\n",
      "  Batch size = 8\n",
      "Saving model checkpoint to content/drive/MyDrive_binary/output_Electra/fold2/checkpoint-75768\n",
      "Configuration saved in content/drive/MyDrive_binary/output_Electra/fold2/checkpoint-75768/config.json\n",
      "Model weights saved in content/drive/MyDrive_binary/output_Electra/fold2/checkpoint-75768/pytorch_model.bin\n",
      "***** Running Evaluation *****\n",
      "  Num examples = 11225\n",
      "  Batch size = 8\n",
      "Saving model checkpoint to content/drive/MyDrive_binary/output_Electra/fold2/checkpoint-88396\n",
      "Configuration saved in content/drive/MyDrive_binary/output_Electra/fold2/checkpoint-88396/config.json\n",
      "Model weights saved in content/drive/MyDrive_binary/output_Electra/fold2/checkpoint-88396/pytorch_model.bin\n",
      "***** Running Evaluation *****\n",
      "  Num examples = 11225\n",
      "  Batch size = 8\n",
      "Saving model checkpoint to content/drive/MyDrive_binary/output_Electra/fold2/checkpoint-101024\n",
      "Configuration saved in content/drive/MyDrive_binary/output_Electra/fold2/checkpoint-101024/config.json\n",
      "Model weights saved in content/drive/MyDrive_binary/output_Electra/fold2/checkpoint-101024/pytorch_model.bin\n",
      "\n",
      "\n",
      "Training completed. Do not forget to share your model on huggingface.co/models =)\n",
      "\n",
      "\n",
      "Loading best model from content/drive/MyDrive_binary/output_Electra/fold2/checkpoint-63140 (score: 0.1226084902882576).\n",
      "2it [4:24:21, 8146.42s/it]"
     ]
    },
    {
     "name": "stdout",
     "output_type": "stream",
     "text": [
      "Complete for fold 2\n",
      "Running for Fold:  3\n"
     ]
    },
    {
     "name": "stderr",
     "output_type": "stream",
     "text": [
      "PyTorch: setting up devices\n",
      "The default value for the training argument `--report_to` will change in v5 (from all installed integrations to none). In v5, you will need to use `--report_to all` to get the same behavior as now. You should start updating your code and make this info disappear :-).\n",
      "Loading model from content/drive/MyDrive_binary/output_Electra/fold3/checkpoint-101024).\n",
      "/opt/conda/lib/python3.9/site-packages/transformers/optimization.py:306: FutureWarning: This implementation of AdamW is deprecated and will be removed in a future version. Use the PyTorch implementation torch.optim.AdamW instead, or set `no_deprecation_warning=True` to disable this warning\n",
      "  warnings.warn(\n",
      "***** Running training *****\n",
      "  Num examples = 101022\n",
      "  Num Epochs = 10\n",
      "  Instantaneous batch size per device = 8\n",
      "  Total train batch size (w. parallel, distributed & accumulation) = 8\n",
      "  Gradient Accumulation steps = 1\n",
      "  Total optimization steps = 126280\n",
      "  Continuing training from checkpoint, will skip to saved global_step\n",
      "  Continuing training from epoch 8\n",
      "  Continuing training from global step 101024\n",
      "  Will skip the first 8 epochs then the first 0 batches in the first epoch. If this takes a lot of time, you can add the `--ignore_data_skip` flag to your launch command, but you will resume the training on data already seen by your model.\n"
     ]
    },
    {
     "data": {
      "application/vnd.jupyter.widget-view+json": {
       "model_id": "9693a2c5adef42118e1602207f1bda9e",
       "version_major": 2,
       "version_minor": 0
      },
      "text/plain": [
       "0it [00:00, ?it/s]"
      ]
     },
     "metadata": {},
     "output_type": "display_data"
    },
    {
     "data": {
      "text/html": [
       "\n",
       "    <div>\n",
       "      \n",
       "      <progress value='123111' max='126280' style='width:300px; height:20px; vertical-align: middle;'></progress>\n",
       "      [123111/126280 1:05:10 < 09:21, 5.65 it/s, Epoch 9.75/10]\n",
       "    </div>\n",
       "    <table border=\"1\" class=\"dataframe\">\n",
       "  <thead>\n",
       " <tr style=\"text-align: left;\">\n",
       "      <th>Epoch</th>\n",
       "      <th>Training Loss</th>\n",
       "      <th>Validation Loss</th>\n",
       "      <th>Accuracy</th>\n",
       "      <th>Precision Cb</th>\n",
       "      <th>Recall Cb</th>\n",
       "      <th>F1 Cb</th>\n",
       "      <th>Precision Ncb</th>\n",
       "      <th>Recall Ncb</th>\n",
       "      <th>F1 Ncb</th>\n",
       "      <th>Precision Overall</th>\n",
       "      <th>Recall Overall</th>\n",
       "      <th>F1 Overall</th>\n",
       "    </tr>\n",
       "  </thead>\n",
       "  <tbody>\n",
       "    <tr>\n",
       "      <td>9</td>\n",
       "      <td>0.102900</td>\n",
       "      <td>0.133032</td>\n",
       "      <td>0.970780</td>\n",
       "      <td>0.737557</td>\n",
       "      <td>0.605948</td>\n",
       "      <td>0.665306</td>\n",
       "      <td>0.980339</td>\n",
       "      <td>0.989146</td>\n",
       "      <td>0.984723</td>\n",
       "      <td>0.858948</td>\n",
       "      <td>0.797547</td>\n",
       "      <td>0.825014</td>\n",
       "    </tr>\n",
       "  </tbody>\n",
       "</table><p>"
      ],
      "text/plain": [
       "<IPython.core.display.HTML object>"
      ]
     },
     "metadata": {},
     "output_type": "display_data"
    },
    {
     "name": "stderr",
     "output_type": "stream",
     "text": [
      "***** Running Evaluation *****\n",
      "  Num examples = 11225\n",
      "  Batch size = 8\n",
      "Saving model checkpoint to content/drive/MyDrive_binary/output_Electra/fold3/checkpoint-113652\n",
      "Configuration saved in content/drive/MyDrive_binary/output_Electra/fold3/checkpoint-113652/config.json\n",
      "Model weights saved in content/drive/MyDrive_binary/output_Electra/fold3/checkpoint-113652/pytorch_model.bin\n"
     ]
    }
   ],
   "source": [
    "run_cross_validation(model_name='Electra',\n",
    "                         X=X,\n",
    "                         y=y, \n",
    "                         splits=5,\n",
    "                         epoch=10,\n",
    "                         checkpoint=True)"
   ]
  },
  {
   "cell_type": "markdown",
   "id": "eb4bc32c-60d4-4a8e-94df-b36f90ae56de",
   "metadata": {
    "jp-MarkdownHeadingCollapsed": true,
    "tags": []
   },
   "source": [
    "### [Continue] Cross Validation (K = 5)"
   ]
  },
  {
   "cell_type": "code",
   "execution_count": 9,
   "id": "c1fd43a7-0b10-4ab2-962f-00e3ad3eb25f",
   "metadata": {},
   "outputs": [
    {
     "name": "stdout",
     "output_type": "stream",
     "text": [
      "Developing Model with Cross validation for: Electra\n"
     ]
    },
    {
     "name": "stderr",
     "output_type": "stream",
     "text": [
      "0it [00:00, ?it/s]"
     ]
    },
    {
     "name": "stdout",
     "output_type": "stream",
     "text": [
      "Running for Fold:  1\n"
     ]
    },
    {
     "name": "stderr",
     "output_type": "stream",
     "text": [
      "Loading model from content/drive/MyDrive_binary/output_Electra/fold1/checkpoint-88396).\n",
      "/opt/conda/lib/python3.9/site-packages/transformers/optimization.py:306: FutureWarning: This implementation of AdamW is deprecated and will be removed in a future version. Use the PyTorch implementation torch.optim.AdamW instead, or set `no_deprecation_warning=True` to disable this warning\n",
      "  warnings.warn(\n",
      "***** Running training *****\n",
      "  Num examples = 101022\n",
      "  Num Epochs = 10\n",
      "  Instantaneous batch size per device = 8\n",
      "  Total train batch size (w. parallel, distributed & accumulation) = 8\n",
      "  Gradient Accumulation steps = 1\n",
      "  Total optimization steps = 126280\n",
      "  Continuing training from checkpoint, will skip to saved global_step\n",
      "  Continuing training from epoch 7\n",
      "  Continuing training from global step 88396\n",
      "  Will skip the first 7 epochs then the first 0 batches in the first epoch. If this takes a lot of time, you can add the `--ignore_data_skip` flag to your launch command, but you will resume the training on data already seen by your model.\n"
     ]
    },
    {
     "data": {
      "application/vnd.jupyter.widget-view+json": {
       "model_id": "46bf6ddfc1b34db99cde3d4d1d98c3e6",
       "version_major": 2,
       "version_minor": 0
      },
      "text/plain": [
       "0it [00:00, ?it/s]"
      ]
     },
     "metadata": {},
     "output_type": "display_data"
    },
    {
     "data": {
      "text/html": [
       "\n",
       "    <div>\n",
       "      \n",
       "      <progress value='126280' max='126280' style='width:300px; height:20px; vertical-align: middle;'></progress>\n",
       "      [126280/126280 1:52:28, Epoch 10/10]\n",
       "    </div>\n",
       "    <table border=\"1\" class=\"dataframe\">\n",
       "  <thead>\n",
       " <tr style=\"text-align: left;\">\n",
       "      <th>Epoch</th>\n",
       "      <th>Training Loss</th>\n",
       "      <th>Validation Loss</th>\n",
       "      <th>Accuracy</th>\n",
       "      <th>Precision Cb</th>\n",
       "      <th>Recall Cb</th>\n",
       "      <th>F1 Cb</th>\n",
       "      <th>Precision Ncb</th>\n",
       "      <th>Recall Ncb</th>\n",
       "      <th>F1 Ncb</th>\n",
       "      <th>Precision Overall</th>\n",
       "      <th>Recall Overall</th>\n",
       "      <th>F1 Overall</th>\n",
       "    </tr>\n",
       "  </thead>\n",
       "  <tbody>\n",
       "    <tr>\n",
       "      <td>8</td>\n",
       "      <td>0.089100</td>\n",
       "      <td>0.148709</td>\n",
       "      <td>0.963563</td>\n",
       "      <td>0.638116</td>\n",
       "      <td>0.553903</td>\n",
       "      <td>0.593035</td>\n",
       "      <td>0.977691</td>\n",
       "      <td>0.984186</td>\n",
       "      <td>0.980928</td>\n",
       "      <td>0.807903</td>\n",
       "      <td>0.769045</td>\n",
       "      <td>0.786981</td>\n",
       "    </tr>\n",
       "    <tr>\n",
       "      <td>9</td>\n",
       "      <td>0.110400</td>\n",
       "      <td>0.164221</td>\n",
       "      <td>0.965612</td>\n",
       "      <td>0.698953</td>\n",
       "      <td>0.496283</td>\n",
       "      <td>0.580435</td>\n",
       "      <td>0.975007</td>\n",
       "      <td>0.989239</td>\n",
       "      <td>0.982072</td>\n",
       "      <td>0.836980</td>\n",
       "      <td>0.742761</td>\n",
       "      <td>0.781253</td>\n",
       "    </tr>\n",
       "    <tr>\n",
       "      <td>10</td>\n",
       "      <td>0.087400</td>\n",
       "      <td>0.164408</td>\n",
       "      <td>0.964454</td>\n",
       "      <td>0.657596</td>\n",
       "      <td>0.539033</td>\n",
       "      <td>0.592441</td>\n",
       "      <td>0.977003</td>\n",
       "      <td>0.985871</td>\n",
       "      <td>0.981417</td>\n",
       "      <td>0.817300</td>\n",
       "      <td>0.762452</td>\n",
       "      <td>0.786929</td>\n",
       "    </tr>\n",
       "  </tbody>\n",
       "</table><p>"
      ],
      "text/plain": [
       "<IPython.core.display.HTML object>"
      ]
     },
     "metadata": {},
     "output_type": "display_data"
    },
    {
     "name": "stderr",
     "output_type": "stream",
     "text": [
      "***** Running Evaluation *****\n",
      "  Num examples = 11225\n",
      "  Batch size = 8\n",
      "Saving model checkpoint to content/drive/MyDrive_binary/output_Electra/fold1/checkpoint-101024\n",
      "Configuration saved in content/drive/MyDrive_binary/output_Electra/fold1/checkpoint-101024/config.json\n",
      "Model weights saved in content/drive/MyDrive_binary/output_Electra/fold1/checkpoint-101024/pytorch_model.bin\n",
      "***** Running Evaluation *****\n",
      "  Num examples = 11225\n",
      "  Batch size = 8\n",
      "Saving model checkpoint to content/drive/MyDrive_binary/output_Electra/fold1/checkpoint-113652\n",
      "Configuration saved in content/drive/MyDrive_binary/output_Electra/fold1/checkpoint-113652/config.json\n",
      "Model weights saved in content/drive/MyDrive_binary/output_Electra/fold1/checkpoint-113652/pytorch_model.bin\n",
      "***** Running Evaluation *****\n",
      "  Num examples = 11225\n",
      "  Batch size = 8\n",
      "Saving model checkpoint to content/drive/MyDrive_binary/output_Electra/fold1/checkpoint-126280\n",
      "Configuration saved in content/drive/MyDrive_binary/output_Electra/fold1/checkpoint-126280/config.json\n",
      "Model weights saved in content/drive/MyDrive_binary/output_Electra/fold1/checkpoint-126280/pytorch_model.bin\n",
      "\n",
      "\n",
      "Training completed. Do not forget to share your model on huggingface.co/models =)\n",
      "\n",
      "\n",
      "Loading best model from content/drive/MyDrive_binary/output_Electra/fold1/checkpoint-37884 (score: 0.13166798651218414).\n",
      "1it [1:53:00, 6780.71s/it]"
     ]
    },
    {
     "name": "stdout",
     "output_type": "stream",
     "text": [
      "Complete for fold 1\n",
      "Running for Fold:  2\n"
     ]
    },
    {
     "name": "stderr",
     "output_type": "stream",
     "text": [
      "PyTorch: setting up devices\n",
      "The default value for the training argument `--report_to` will change in v5 (from all installed integrations to none). In v5, you will need to use `--report_to all` to get the same behavior as now. You should start updating your code and make this info disappear :-).\n",
      "Loading model from content/drive/MyDrive_binary/output_Electra/fold2/checkpoint-101024).\n",
      "/opt/conda/lib/python3.9/site-packages/transformers/optimization.py:306: FutureWarning: This implementation of AdamW is deprecated and will be removed in a future version. Use the PyTorch implementation torch.optim.AdamW instead, or set `no_deprecation_warning=True` to disable this warning\n",
      "  warnings.warn(\n",
      "***** Running training *****\n",
      "  Num examples = 101022\n",
      "  Num Epochs = 10\n",
      "  Instantaneous batch size per device = 8\n",
      "  Total train batch size (w. parallel, distributed & accumulation) = 8\n",
      "  Gradient Accumulation steps = 1\n",
      "  Total optimization steps = 126280\n",
      "  Continuing training from checkpoint, will skip to saved global_step\n",
      "  Continuing training from epoch 8\n",
      "  Continuing training from global step 101024\n",
      "  Will skip the first 8 epochs then the first 0 batches in the first epoch. If this takes a lot of time, you can add the `--ignore_data_skip` flag to your launch command, but you will resume the training on data already seen by your model.\n"
     ]
    },
    {
     "data": {
      "application/vnd.jupyter.widget-view+json": {
       "model_id": "7d52ca03501f4d05925e337a70e2517c",
       "version_major": 2,
       "version_minor": 0
      },
      "text/plain": [
       "0it [00:00, ?it/s]"
      ]
     },
     "metadata": {},
     "output_type": "display_data"
    },
    {
     "data": {
      "text/html": [
       "\n",
       "    <div>\n",
       "      \n",
       "      <progress value='126280' max='126280' style='width:300px; height:20px; vertical-align: middle;'></progress>\n",
       "      [126280/126280 1:14:52, Epoch 10/10]\n",
       "    </div>\n",
       "    <table border=\"1\" class=\"dataframe\">\n",
       "  <thead>\n",
       " <tr style=\"text-align: left;\">\n",
       "      <th>Epoch</th>\n",
       "      <th>Training Loss</th>\n",
       "      <th>Validation Loss</th>\n",
       "      <th>Accuracy</th>\n",
       "      <th>Precision Cb</th>\n",
       "      <th>Recall Cb</th>\n",
       "      <th>F1 Cb</th>\n",
       "      <th>Precision Ncb</th>\n",
       "      <th>Recall Ncb</th>\n",
       "      <th>F1 Ncb</th>\n",
       "      <th>Precision Overall</th>\n",
       "      <th>Recall Overall</th>\n",
       "      <th>F1 Overall</th>\n",
       "    </tr>\n",
       "  </thead>\n",
       "  <tbody>\n",
       "    <tr>\n",
       "      <td>9</td>\n",
       "      <td>0.093400</td>\n",
       "      <td>0.145818</td>\n",
       "      <td>0.965345</td>\n",
       "      <td>0.675294</td>\n",
       "      <td>0.533457</td>\n",
       "      <td>0.596054</td>\n",
       "      <td>0.976759</td>\n",
       "      <td>0.987087</td>\n",
       "      <td>0.981896</td>\n",
       "      <td>0.826027</td>\n",
       "      <td>0.760272</td>\n",
       "      <td>0.788975</td>\n",
       "    </tr>\n",
       "    <tr>\n",
       "      <td>10</td>\n",
       "      <td>0.085800</td>\n",
       "      <td>0.148618</td>\n",
       "      <td>0.965791</td>\n",
       "      <td>0.694444</td>\n",
       "      <td>0.511152</td>\n",
       "      <td>0.588865</td>\n",
       "      <td>0.975713</td>\n",
       "      <td>0.988678</td>\n",
       "      <td>0.982153</td>\n",
       "      <td>0.835079</td>\n",
       "      <td>0.749915</td>\n",
       "      <td>0.785509</td>\n",
       "    </tr>\n",
       "  </tbody>\n",
       "</table><p>"
      ],
      "text/plain": [
       "<IPython.core.display.HTML object>"
      ]
     },
     "metadata": {},
     "output_type": "display_data"
    },
    {
     "name": "stderr",
     "output_type": "stream",
     "text": [
      "***** Running Evaluation *****\n",
      "  Num examples = 11225\n",
      "  Batch size = 8\n",
      "Saving model checkpoint to content/drive/MyDrive_binary/output_Electra/fold2/checkpoint-113652\n",
      "Configuration saved in content/drive/MyDrive_binary/output_Electra/fold2/checkpoint-113652/config.json\n",
      "Model weights saved in content/drive/MyDrive_binary/output_Electra/fold2/checkpoint-113652/pytorch_model.bin\n",
      "***** Running Evaluation *****\n",
      "  Num examples = 11225\n",
      "  Batch size = 8\n",
      "Saving model checkpoint to content/drive/MyDrive_binary/output_Electra/fold2/checkpoint-126280\n",
      "Configuration saved in content/drive/MyDrive_binary/output_Electra/fold2/checkpoint-126280/config.json\n",
      "Model weights saved in content/drive/MyDrive_binary/output_Electra/fold2/checkpoint-126280/pytorch_model.bin\n",
      "\n",
      "\n",
      "Training completed. Do not forget to share your model on huggingface.co/models =)\n",
      "\n",
      "\n",
      "Loading best model from content/drive/MyDrive_binary/output_Electra/fold2/checkpoint-63140 (score: 0.1226084902882576).\n",
      "2it [3:08:31, 5457.09s/it]"
     ]
    },
    {
     "name": "stdout",
     "output_type": "stream",
     "text": [
      "Complete for fold 2\n",
      "Running for Fold:  3\n"
     ]
    },
    {
     "name": "stderr",
     "output_type": "stream",
     "text": [
      "PyTorch: setting up devices\n",
      "The default value for the training argument `--report_to` will change in v5 (from all installed integrations to none). In v5, you will need to use `--report_to all` to get the same behavior as now. You should start updating your code and make this info disappear :-).\n",
      "Loading model from content/drive/MyDrive_binary/output_Electra/fold3/checkpoint-126280).\n",
      "/opt/conda/lib/python3.9/site-packages/transformers/optimization.py:306: FutureWarning: This implementation of AdamW is deprecated and will be removed in a future version. Use the PyTorch implementation torch.optim.AdamW instead, or set `no_deprecation_warning=True` to disable this warning\n",
      "  warnings.warn(\n",
      "***** Running training *****\n",
      "  Num examples = 101022\n",
      "  Num Epochs = 10\n",
      "  Instantaneous batch size per device = 8\n",
      "  Total train batch size (w. parallel, distributed & accumulation) = 8\n",
      "  Gradient Accumulation steps = 1\n",
      "  Total optimization steps = 126280\n",
      "  Continuing training from checkpoint, will skip to saved global_step\n",
      "  Continuing training from epoch 10\n",
      "  Continuing training from global step 126280\n",
      "  Will skip the first 10 epochs then the first 0 batches in the first epoch. If this takes a lot of time, you can add the `--ignore_data_skip` flag to your launch command, but you will resume the training on data already seen by your model.\n"
     ]
    },
    {
     "data": {
      "application/vnd.jupyter.widget-view+json": {
       "model_id": "6cefc72078f74943a0628d6e50c66674",
       "version_major": 2,
       "version_minor": 0
      },
      "text/plain": [
       "0it [00:00, ?it/s]"
      ]
     },
     "metadata": {},
     "output_type": "display_data"
    },
    {
     "name": "stderr",
     "output_type": "stream",
     "text": [
      "\n",
      "\n",
      "Training completed. Do not forget to share your model on huggingface.co/models =)\n",
      "\n",
      "\n",
      "Loading best model from content/drive/MyDrive_binary/output_Electra/fold3/checkpoint-37884 (score: 0.10627561807632446).\n"
     ]
    },
    {
     "data": {
      "text/html": [
       "\n",
       "    <div>\n",
       "      \n",
       "      <progress value='126280' max='126280' style='width:300px; height:20px; vertical-align: middle;'></progress>\n",
       "      [126280/126280 : < :, Epoch 10/10]\n",
       "    </div>\n",
       "    <table border=\"1\" class=\"dataframe\">\n",
       "  <thead>\n",
       " <tr style=\"text-align: left;\">\n",
       "      <th>Epoch</th>\n",
       "      <th>Training Loss</th>\n",
       "      <th>Validation Loss</th>\n",
       "    </tr>\n",
       "  </thead>\n",
       "  <tbody>\n",
       "  </tbody>\n",
       "</table><p>"
      ],
      "text/plain": [
       "<IPython.core.display.HTML object>"
      ]
     },
     "metadata": {},
     "output_type": "display_data"
    },
    {
     "name": "stderr",
     "output_type": "stream",
     "text": [
      "3it [3:09:05, 2981.02s/it]"
     ]
    },
    {
     "name": "stdout",
     "output_type": "stream",
     "text": [
      "Complete for fold 3\n",
      "Running for Fold:  4\n"
     ]
    },
    {
     "name": "stderr",
     "output_type": "stream",
     "text": [
      "PyTorch: setting up devices\n",
      "The default value for the training argument `--report_to` will change in v5 (from all installed integrations to none). In v5, you will need to use `--report_to all` to get the same behavior as now. You should start updating your code and make this info disappear :-).\n",
      "Loading model from content/drive/MyDrive_binary/output_Electra/fold4/checkpoint-101024).\n",
      "/opt/conda/lib/python3.9/site-packages/transformers/optimization.py:306: FutureWarning: This implementation of AdamW is deprecated and will be removed in a future version. Use the PyTorch implementation torch.optim.AdamW instead, or set `no_deprecation_warning=True` to disable this warning\n",
      "  warnings.warn(\n",
      "***** Running training *****\n",
      "  Num examples = 101022\n",
      "  Num Epochs = 10\n",
      "  Instantaneous batch size per device = 8\n",
      "  Total train batch size (w. parallel, distributed & accumulation) = 8\n",
      "  Gradient Accumulation steps = 1\n",
      "  Total optimization steps = 126280\n",
      "  Continuing training from checkpoint, will skip to saved global_step\n",
      "  Continuing training from epoch 8\n",
      "  Continuing training from global step 101024\n",
      "  Will skip the first 8 epochs then the first 0 batches in the first epoch. If this takes a lot of time, you can add the `--ignore_data_skip` flag to your launch command, but you will resume the training on data already seen by your model.\n"
     ]
    },
    {
     "data": {
      "application/vnd.jupyter.widget-view+json": {
       "model_id": "95dcb02792334f8c94e6e119d8c60e34",
       "version_major": 2,
       "version_minor": 0
      },
      "text/plain": [
       "0it [00:00, ?it/s]"
      ]
     },
     "metadata": {},
     "output_type": "display_data"
    },
    {
     "data": {
      "text/html": [
       "\n",
       "    <div>\n",
       "      \n",
       "      <progress value='126280' max='126280' style='width:300px; height:20px; vertical-align: middle;'></progress>\n",
       "      [126280/126280 1:14:54, Epoch 10/10]\n",
       "    </div>\n",
       "    <table border=\"1\" class=\"dataframe\">\n",
       "  <thead>\n",
       " <tr style=\"text-align: left;\">\n",
       "      <th>Epoch</th>\n",
       "      <th>Training Loss</th>\n",
       "      <th>Validation Loss</th>\n",
       "      <th>Accuracy</th>\n",
       "      <th>Precision Cb</th>\n",
       "      <th>Recall Cb</th>\n",
       "      <th>F1 Cb</th>\n",
       "      <th>Precision Ncb</th>\n",
       "      <th>Recall Ncb</th>\n",
       "      <th>F1 Ncb</th>\n",
       "      <th>Precision Overall</th>\n",
       "      <th>Recall Overall</th>\n",
       "      <th>F1 Overall</th>\n",
       "    </tr>\n",
       "  </thead>\n",
       "  <tbody>\n",
       "    <tr>\n",
       "      <td>9</td>\n",
       "      <td>0.104100</td>\n",
       "      <td>0.120614</td>\n",
       "      <td>0.972027</td>\n",
       "      <td>0.758065</td>\n",
       "      <td>0.611524</td>\n",
       "      <td>0.676955</td>\n",
       "      <td>0.980632</td>\n",
       "      <td>0.990175</td>\n",
       "      <td>0.985380</td>\n",
       "      <td>0.869348</td>\n",
       "      <td>0.800850</td>\n",
       "      <td>0.831168</td>\n",
       "    </tr>\n",
       "    <tr>\n",
       "      <td>10</td>\n",
       "      <td>0.095200</td>\n",
       "      <td>0.121592</td>\n",
       "      <td>0.972205</td>\n",
       "      <td>0.760369</td>\n",
       "      <td>0.613383</td>\n",
       "      <td>0.679012</td>\n",
       "      <td>0.980725</td>\n",
       "      <td>0.990269</td>\n",
       "      <td>0.985474</td>\n",
       "      <td>0.870547</td>\n",
       "      <td>0.801826</td>\n",
       "      <td>0.832243</td>\n",
       "    </tr>\n",
       "  </tbody>\n",
       "</table><p>"
      ],
      "text/plain": [
       "<IPython.core.display.HTML object>"
      ]
     },
     "metadata": {},
     "output_type": "display_data"
    },
    {
     "name": "stderr",
     "output_type": "stream",
     "text": [
      "***** Running Evaluation *****\n",
      "  Num examples = 11225\n",
      "  Batch size = 8\n",
      "Saving model checkpoint to content/drive/MyDrive_binary/output_Electra/fold4/checkpoint-113652\n",
      "Configuration saved in content/drive/MyDrive_binary/output_Electra/fold4/checkpoint-113652/config.json\n",
      "Model weights saved in content/drive/MyDrive_binary/output_Electra/fold4/checkpoint-113652/pytorch_model.bin\n",
      "***** Running Evaluation *****\n",
      "  Num examples = 11225\n",
      "  Batch size = 8\n",
      "Saving model checkpoint to content/drive/MyDrive_binary/output_Electra/fold4/checkpoint-126280\n",
      "Configuration saved in content/drive/MyDrive_binary/output_Electra/fold4/checkpoint-126280/config.json\n",
      "Model weights saved in content/drive/MyDrive_binary/output_Electra/fold4/checkpoint-126280/pytorch_model.bin\n",
      "\n",
      "\n",
      "Training completed. Do not forget to share your model on huggingface.co/models =)\n",
      "\n",
      "\n",
      "Loading best model from content/drive/MyDrive_binary/output_Electra/fold4/checkpoint-50512 (score: 0.10801516473293304).\n",
      "4it [4:24:30, 3590.39s/it]"
     ]
    },
    {
     "name": "stdout",
     "output_type": "stream",
     "text": [
      "Complete for fold 4\n",
      "Running for Fold:  5\n"
     ]
    },
    {
     "name": "stderr",
     "output_type": "stream",
     "text": [
      "PyTorch: setting up devices\n",
      "The default value for the training argument `--report_to` will change in v5 (from all installed integrations to none). In v5, you will need to use `--report_to all` to get the same behavior as now. You should start updating your code and make this info disappear :-).\n",
      "Loading model from content/drive/MyDrive_binary/output_Electra/fold5/checkpoint-101024).\n",
      "/opt/conda/lib/python3.9/site-packages/transformers/optimization.py:306: FutureWarning: This implementation of AdamW is deprecated and will be removed in a future version. Use the PyTorch implementation torch.optim.AdamW instead, or set `no_deprecation_warning=True` to disable this warning\n",
      "  warnings.warn(\n",
      "***** Running training *****\n",
      "  Num examples = 101022\n",
      "  Num Epochs = 10\n",
      "  Instantaneous batch size per device = 8\n",
      "  Total train batch size (w. parallel, distributed & accumulation) = 8\n",
      "  Gradient Accumulation steps = 1\n",
      "  Total optimization steps = 126280\n",
      "  Continuing training from checkpoint, will skip to saved global_step\n",
      "  Continuing training from epoch 8\n",
      "  Continuing training from global step 101024\n",
      "  Will skip the first 8 epochs then the first 0 batches in the first epoch. If this takes a lot of time, you can add the `--ignore_data_skip` flag to your launch command, but you will resume the training on data already seen by your model.\n"
     ]
    },
    {
     "data": {
      "application/vnd.jupyter.widget-view+json": {
       "model_id": "62086c6da2f44c85b85ddabd8e68bfd3",
       "version_major": 2,
       "version_minor": 0
      },
      "text/plain": [
       "0it [00:00, ?it/s]"
      ]
     },
     "metadata": {},
     "output_type": "display_data"
    },
    {
     "data": {
      "text/html": [
       "\n",
       "    <div>\n",
       "      \n",
       "      <progress value='126280' max='126280' style='width:300px; height:20px; vertical-align: middle;'></progress>\n",
       "      [126280/126280 1:17:15, Epoch 10/10]\n",
       "    </div>\n",
       "    <table border=\"1\" class=\"dataframe\">\n",
       "  <thead>\n",
       " <tr style=\"text-align: left;\">\n",
       "      <th>Epoch</th>\n",
       "      <th>Training Loss</th>\n",
       "      <th>Validation Loss</th>\n",
       "      <th>Accuracy</th>\n",
       "      <th>Precision Cb</th>\n",
       "      <th>Recall Cb</th>\n",
       "      <th>F1 Cb</th>\n",
       "      <th>Precision Ncb</th>\n",
       "      <th>Recall Ncb</th>\n",
       "      <th>F1 Ncb</th>\n",
       "      <th>Precision Overall</th>\n",
       "      <th>Recall Overall</th>\n",
       "      <th>F1 Overall</th>\n",
       "    </tr>\n",
       "  </thead>\n",
       "  <tbody>\n",
       "    <tr>\n",
       "      <td>9</td>\n",
       "      <td>0.083400</td>\n",
       "      <td>0.137194</td>\n",
       "      <td>0.972027</td>\n",
       "      <td>0.775862</td>\n",
       "      <td>0.585502</td>\n",
       "      <td>0.667373</td>\n",
       "      <td>0.979388</td>\n",
       "      <td>0.991485</td>\n",
       "      <td>0.985399</td>\n",
       "      <td>0.877625</td>\n",
       "      <td>0.788493</td>\n",
       "      <td>0.826386</td>\n",
       "    </tr>\n",
       "    <tr>\n",
       "      <td>10</td>\n",
       "      <td>0.097900</td>\n",
       "      <td>0.126289</td>\n",
       "      <td>0.971581</td>\n",
       "      <td>0.752887</td>\n",
       "      <td>0.605948</td>\n",
       "      <td>0.671473</td>\n",
       "      <td>0.980356</td>\n",
       "      <td>0.989988</td>\n",
       "      <td>0.985148</td>\n",
       "      <td>0.866621</td>\n",
       "      <td>0.797968</td>\n",
       "      <td>0.828310</td>\n",
       "    </tr>\n",
       "  </tbody>\n",
       "</table><p>"
      ],
      "text/plain": [
       "<IPython.core.display.HTML object>"
      ]
     },
     "metadata": {},
     "output_type": "display_data"
    },
    {
     "name": "stderr",
     "output_type": "stream",
     "text": [
      "***** Running Evaluation *****\n",
      "  Num examples = 11225\n",
      "  Batch size = 8\n",
      "Saving model checkpoint to content/drive/MyDrive_binary/output_Electra/fold5/checkpoint-113652\n",
      "Configuration saved in content/drive/MyDrive_binary/output_Electra/fold5/checkpoint-113652/config.json\n",
      "Model weights saved in content/drive/MyDrive_binary/output_Electra/fold5/checkpoint-113652/pytorch_model.bin\n",
      "***** Running Evaluation *****\n",
      "  Num examples = 11225\n",
      "  Batch size = 8\n",
      "Saving model checkpoint to content/drive/MyDrive_binary/output_Electra/fold5/checkpoint-126280\n",
      "Configuration saved in content/drive/MyDrive_binary/output_Electra/fold5/checkpoint-126280/config.json\n",
      "Model weights saved in content/drive/MyDrive_binary/output_Electra/fold5/checkpoint-126280/pytorch_model.bin\n",
      "\n",
      "\n",
      "Training completed. Do not forget to share your model on huggingface.co/models =)\n",
      "\n",
      "\n",
      "Loading best model from content/drive/MyDrive_binary/output_Electra/fold5/checkpoint-75768 (score: 0.11135013401508331).\n",
      "5it [5:42:16, 4107.29s/it]"
     ]
    },
    {
     "name": "stdout",
     "output_type": "stream",
     "text": [
      "Complete for fold 5\n"
     ]
    },
    {
     "name": "stderr",
     "output_type": "stream",
     "text": [
      "\n"
     ]
    }
   ],
   "source": [
    "run_cross_validation(model_name='Electra',\n",
    "                         X=X,\n",
    "                         y=y, \n",
    "                         splits=5,\n",
    "                         epoch=10,\n",
    "                         checkpoint=True)"
   ]
  },
  {
   "cell_type": "markdown",
   "id": "f1206bea-9977-4fec-b969-ef7f79a9b4e7",
   "metadata": {
    "jp-MarkdownHeadingCollapsed": true,
    "tags": []
   },
   "source": [
    "### [Continue] Cross Validation (K = 5)"
   ]
  },
  {
   "cell_type": "code",
   "execution_count": 9,
   "id": "5ffa379e-3e5c-4dba-a751-a4934c17c7a9",
   "metadata": {},
   "outputs": [
    {
     "name": "stdout",
     "output_type": "stream",
     "text": [
      "Developing Model with Cross validation for: Electra\n"
     ]
    },
    {
     "name": "stderr",
     "output_type": "stream",
     "text": [
      "0it [00:00, ?it/s]"
     ]
    },
    {
     "name": "stdout",
     "output_type": "stream",
     "text": [
      "Running for Fold:  1\n"
     ]
    },
    {
     "name": "stderr",
     "output_type": "stream",
     "text": [
      "Loading model from content/drive/MyDrive_binary/output_Electra/fold1/checkpoint-126280).\n",
      "/opt/conda/lib/python3.9/site-packages/transformers/optimization.py:306: FutureWarning: This implementation of AdamW is deprecated and will be removed in a future version. Use the PyTorch implementation torch.optim.AdamW instead, or set `no_deprecation_warning=True` to disable this warning\n",
      "  warnings.warn(\n",
      "***** Running training *****\n",
      "  Num examples = 101022\n",
      "  Num Epochs = 11\n",
      "  Instantaneous batch size per device = 8\n",
      "  Total train batch size (w. parallel, distributed & accumulation) = 8\n",
      "  Gradient Accumulation steps = 1\n",
      "  Total optimization steps = 138908\n",
      "  Continuing training from checkpoint, will skip to saved global_step\n",
      "  Continuing training from epoch 10\n",
      "  Continuing training from global step 126280\n",
      "  Will skip the first 10 epochs then the first 0 batches in the first epoch. If this takes a lot of time, you can add the `--ignore_data_skip` flag to your launch command, but you will resume the training on data already seen by your model.\n"
     ]
    },
    {
     "data": {
      "application/vnd.jupyter.widget-view+json": {
       "model_id": "dbd35f5f2c614b0796f686e4e1588d0d",
       "version_major": 2,
       "version_minor": 0
      },
      "text/plain": [
       "0it [00:00, ?it/s]"
      ]
     },
     "metadata": {},
     "output_type": "display_data"
    },
    {
     "data": {
      "text/html": [
       "\n",
       "    <div>\n",
       "      \n",
       "      <progress value='138908' max='138908' style='width:300px; height:20px; vertical-align: middle;'></progress>\n",
       "      [138908/138908 23:06, Epoch 11/11]\n",
       "    </div>\n",
       "    <table border=\"1\" class=\"dataframe\">\n",
       "  <thead>\n",
       " <tr style=\"text-align: left;\">\n",
       "      <th>Epoch</th>\n",
       "      <th>Training Loss</th>\n",
       "      <th>Validation Loss</th>\n",
       "      <th>Accuracy</th>\n",
       "      <th>Precision Cb</th>\n",
       "      <th>Recall Cb</th>\n",
       "      <th>F1 Cb</th>\n",
       "      <th>Precision Ncb</th>\n",
       "      <th>Recall Ncb</th>\n",
       "      <th>F1 Ncb</th>\n",
       "      <th>Precision Overall</th>\n",
       "      <th>Recall Overall</th>\n",
       "      <th>F1 Overall</th>\n",
       "    </tr>\n",
       "  </thead>\n",
       "  <tbody>\n",
       "    <tr>\n",
       "      <td>11</td>\n",
       "      <td>0.093600</td>\n",
       "      <td>0.163852</td>\n",
       "      <td>0.964811</td>\n",
       "      <td>0.669834</td>\n",
       "      <td>0.524164</td>\n",
       "      <td>0.588113</td>\n",
       "      <td>0.976305</td>\n",
       "      <td>0.986994</td>\n",
       "      <td>0.981620</td>\n",
       "      <td>0.823069</td>\n",
       "      <td>0.755579</td>\n",
       "      <td>0.784866</td>\n",
       "    </tr>\n",
       "  </tbody>\n",
       "</table><p>"
      ],
      "text/plain": [
       "<IPython.core.display.HTML object>"
      ]
     },
     "metadata": {},
     "output_type": "display_data"
    },
    {
     "name": "stderr",
     "output_type": "stream",
     "text": [
      "***** Running Evaluation *****\n",
      "  Num examples = 11225\n",
      "  Batch size = 8\n",
      "Saving model checkpoint to content/drive/MyDrive_binary/output_Electra/fold1/checkpoint-138908\n",
      "Configuration saved in content/drive/MyDrive_binary/output_Electra/fold1/checkpoint-138908/config.json\n",
      "Model weights saved in content/drive/MyDrive_binary/output_Electra/fold1/checkpoint-138908/pytorch_model.bin\n",
      "\n",
      "\n",
      "Training completed. Do not forget to share your model on huggingface.co/models =)\n",
      "\n",
      "\n",
      "Loading best model from content/drive/MyDrive_binary/output_Electra/fold1/checkpoint-37884 (score: 0.13166798651218414).\n",
      "1it [23:32, 1412.30s/it]"
     ]
    },
    {
     "name": "stdout",
     "output_type": "stream",
     "text": [
      "Complete for fold 1\n",
      "Running for Fold:  2\n"
     ]
    },
    {
     "name": "stderr",
     "output_type": "stream",
     "text": [
      "PyTorch: setting up devices\n",
      "The default value for the training argument `--report_to` will change in v5 (from all installed integrations to none). In v5, you will need to use `--report_to all` to get the same behavior as now. You should start updating your code and make this info disappear :-).\n",
      "Loading model from content/drive/MyDrive_binary/output_Electra/fold2/checkpoint-126280).\n",
      "/opt/conda/lib/python3.9/site-packages/transformers/optimization.py:306: FutureWarning: This implementation of AdamW is deprecated and will be removed in a future version. Use the PyTorch implementation torch.optim.AdamW instead, or set `no_deprecation_warning=True` to disable this warning\n",
      "  warnings.warn(\n",
      "***** Running training *****\n",
      "  Num examples = 101022\n",
      "  Num Epochs = 11\n",
      "  Instantaneous batch size per device = 8\n",
      "  Total train batch size (w. parallel, distributed & accumulation) = 8\n",
      "  Gradient Accumulation steps = 1\n",
      "  Total optimization steps = 138908\n",
      "  Continuing training from checkpoint, will skip to saved global_step\n",
      "  Continuing training from epoch 10\n",
      "  Continuing training from global step 126280\n",
      "  Will skip the first 10 epochs then the first 0 batches in the first epoch. If this takes a lot of time, you can add the `--ignore_data_skip` flag to your launch command, but you will resume the training on data already seen by your model.\n"
     ]
    },
    {
     "data": {
      "application/vnd.jupyter.widget-view+json": {
       "model_id": "cab01cf7086d4be58d72ed4356407563",
       "version_major": 2,
       "version_minor": 0
      },
      "text/plain": [
       "0it [00:00, ?it/s]"
      ]
     },
     "metadata": {},
     "output_type": "display_data"
    },
    {
     "data": {
      "text/html": [
       "\n",
       "    <div>\n",
       "      \n",
       "      <progress value='138908' max='138908' style='width:300px; height:20px; vertical-align: middle;'></progress>\n",
       "      [138908/138908 23:12, Epoch 11/11]\n",
       "    </div>\n",
       "    <table border=\"1\" class=\"dataframe\">\n",
       "  <thead>\n",
       " <tr style=\"text-align: left;\">\n",
       "      <th>Epoch</th>\n",
       "      <th>Training Loss</th>\n",
       "      <th>Validation Loss</th>\n",
       "      <th>Accuracy</th>\n",
       "      <th>Precision Cb</th>\n",
       "      <th>Recall Cb</th>\n",
       "      <th>F1 Cb</th>\n",
       "      <th>Precision Ncb</th>\n",
       "      <th>Recall Ncb</th>\n",
       "      <th>F1 Ncb</th>\n",
       "      <th>Precision Overall</th>\n",
       "      <th>Recall Overall</th>\n",
       "      <th>F1 Overall</th>\n",
       "    </tr>\n",
       "  </thead>\n",
       "  <tbody>\n",
       "    <tr>\n",
       "      <td>11</td>\n",
       "      <td>0.082300</td>\n",
       "      <td>0.151789</td>\n",
       "      <td>0.965702</td>\n",
       "      <td>0.698701</td>\n",
       "      <td>0.500000</td>\n",
       "      <td>0.582882</td>\n",
       "      <td>0.975185</td>\n",
       "      <td>0.989146</td>\n",
       "      <td>0.982115</td>\n",
       "      <td>0.836943</td>\n",
       "      <td>0.744573</td>\n",
       "      <td>0.782499</td>\n",
       "    </tr>\n",
       "  </tbody>\n",
       "</table><p>"
      ],
      "text/plain": [
       "<IPython.core.display.HTML object>"
      ]
     },
     "metadata": {},
     "output_type": "display_data"
    },
    {
     "name": "stderr",
     "output_type": "stream",
     "text": [
      "***** Running Evaluation *****\n",
      "  Num examples = 11225\n",
      "  Batch size = 8\n",
      "Saving model checkpoint to content/drive/MyDrive_binary/output_Electra/fold2/checkpoint-138908\n",
      "Configuration saved in content/drive/MyDrive_binary/output_Electra/fold2/checkpoint-138908/config.json\n",
      "Model weights saved in content/drive/MyDrive_binary/output_Electra/fold2/checkpoint-138908/pytorch_model.bin\n",
      "\n",
      "\n",
      "Training completed. Do not forget to share your model on huggingface.co/models =)\n",
      "\n",
      "\n",
      "Loading best model from content/drive/MyDrive_binary/output_Electra/fold2/checkpoint-63140 (score: 0.1226084902882576).\n",
      "2it [47:10, 1415.91s/it]"
     ]
    },
    {
     "name": "stdout",
     "output_type": "stream",
     "text": [
      "Complete for fold 2\n",
      "Running for Fold:  3\n"
     ]
    },
    {
     "name": "stderr",
     "output_type": "stream",
     "text": [
      "PyTorch: setting up devices\n",
      "The default value for the training argument `--report_to` will change in v5 (from all installed integrations to none). In v5, you will need to use `--report_to all` to get the same behavior as now. You should start updating your code and make this info disappear :-).\n",
      "Loading model from content/drive/MyDrive_binary/output_Electra/fold3/checkpoint-126280).\n",
      "/opt/conda/lib/python3.9/site-packages/transformers/optimization.py:306: FutureWarning: This implementation of AdamW is deprecated and will be removed in a future version. Use the PyTorch implementation torch.optim.AdamW instead, or set `no_deprecation_warning=True` to disable this warning\n",
      "  warnings.warn(\n",
      "***** Running training *****\n",
      "  Num examples = 101022\n",
      "  Num Epochs = 11\n",
      "  Instantaneous batch size per device = 8\n",
      "  Total train batch size (w. parallel, distributed & accumulation) = 8\n",
      "  Gradient Accumulation steps = 1\n",
      "  Total optimization steps = 138908\n",
      "  Continuing training from checkpoint, will skip to saved global_step\n",
      "  Continuing training from epoch 10\n",
      "  Continuing training from global step 126280\n",
      "  Will skip the first 10 epochs then the first 0 batches in the first epoch. If this takes a lot of time, you can add the `--ignore_data_skip` flag to your launch command, but you will resume the training on data already seen by your model.\n"
     ]
    },
    {
     "data": {
      "application/vnd.jupyter.widget-view+json": {
       "model_id": "b0e7b0c14af04c45ba23522df6b8c377",
       "version_major": 2,
       "version_minor": 0
      },
      "text/plain": [
       "0it [00:00, ?it/s]"
      ]
     },
     "metadata": {},
     "output_type": "display_data"
    },
    {
     "data": {
      "text/html": [
       "\n",
       "    <div>\n",
       "      \n",
       "      <progress value='138908' max='138908' style='width:300px; height:20px; vertical-align: middle;'></progress>\n",
       "      [138908/138908 23:09, Epoch 11/11]\n",
       "    </div>\n",
       "    <table border=\"1\" class=\"dataframe\">\n",
       "  <thead>\n",
       " <tr style=\"text-align: left;\">\n",
       "      <th>Epoch</th>\n",
       "      <th>Training Loss</th>\n",
       "      <th>Validation Loss</th>\n",
       "      <th>Accuracy</th>\n",
       "      <th>Precision Cb</th>\n",
       "      <th>Recall Cb</th>\n",
       "      <th>F1 Cb</th>\n",
       "      <th>Precision Ncb</th>\n",
       "      <th>Recall Ncb</th>\n",
       "      <th>F1 Ncb</th>\n",
       "      <th>Precision Overall</th>\n",
       "      <th>Recall Overall</th>\n",
       "      <th>F1 Overall</th>\n",
       "    </tr>\n",
       "  </thead>\n",
       "  <tbody>\n",
       "    <tr>\n",
       "      <td>11</td>\n",
       "      <td>0.086100</td>\n",
       "      <td>0.130388</td>\n",
       "      <td>0.971225</td>\n",
       "      <td>0.749420</td>\n",
       "      <td>0.600372</td>\n",
       "      <td>0.666667</td>\n",
       "      <td>0.980082</td>\n",
       "      <td>0.989894</td>\n",
       "      <td>0.984963</td>\n",
       "      <td>0.864751</td>\n",
       "      <td>0.795133</td>\n",
       "      <td>0.825815</td>\n",
       "    </tr>\n",
       "  </tbody>\n",
       "</table><p>"
      ],
      "text/plain": [
       "<IPython.core.display.HTML object>"
      ]
     },
     "metadata": {},
     "output_type": "display_data"
    },
    {
     "name": "stderr",
     "output_type": "stream",
     "text": [
      "***** Running Evaluation *****\n",
      "  Num examples = 11225\n",
      "  Batch size = 8\n",
      "Saving model checkpoint to content/drive/MyDrive_binary/output_Electra/fold3/checkpoint-138908\n",
      "Configuration saved in content/drive/MyDrive_binary/output_Electra/fold3/checkpoint-138908/config.json\n",
      "Model weights saved in content/drive/MyDrive_binary/output_Electra/fold3/checkpoint-138908/pytorch_model.bin\n",
      "\n",
      "\n",
      "Training completed. Do not forget to share your model on huggingface.co/models =)\n",
      "\n",
      "\n",
      "Loading best model from content/drive/MyDrive_binary/output_Electra/fold3/checkpoint-37884 (score: 0.10627561807632446).\n",
      "3it [1:10:43, 1414.46s/it]"
     ]
    },
    {
     "name": "stdout",
     "output_type": "stream",
     "text": [
      "Complete for fold 3\n",
      "Running for Fold:  4\n"
     ]
    },
    {
     "name": "stderr",
     "output_type": "stream",
     "text": [
      "PyTorch: setting up devices\n",
      "The default value for the training argument `--report_to` will change in v5 (from all installed integrations to none). In v5, you will need to use `--report_to all` to get the same behavior as now. You should start updating your code and make this info disappear :-).\n",
      "Loading model from content/drive/MyDrive_binary/output_Electra/fold4/checkpoint-126280).\n",
      "/opt/conda/lib/python3.9/site-packages/transformers/optimization.py:306: FutureWarning: This implementation of AdamW is deprecated and will be removed in a future version. Use the PyTorch implementation torch.optim.AdamW instead, or set `no_deprecation_warning=True` to disable this warning\n",
      "  warnings.warn(\n",
      "***** Running training *****\n",
      "  Num examples = 101022\n",
      "  Num Epochs = 11\n",
      "  Instantaneous batch size per device = 8\n",
      "  Total train batch size (w. parallel, distributed & accumulation) = 8\n",
      "  Gradient Accumulation steps = 1\n",
      "  Total optimization steps = 138908\n",
      "  Continuing training from checkpoint, will skip to saved global_step\n",
      "  Continuing training from epoch 10\n",
      "  Continuing training from global step 126280\n",
      "  Will skip the first 10 epochs then the first 0 batches in the first epoch. If this takes a lot of time, you can add the `--ignore_data_skip` flag to your launch command, but you will resume the training on data already seen by your model.\n"
     ]
    },
    {
     "data": {
      "application/vnd.jupyter.widget-view+json": {
       "model_id": "8fcfe8b095914880921dad59f7c7cc2b",
       "version_major": 2,
       "version_minor": 0
      },
      "text/plain": [
       "0it [00:00, ?it/s]"
      ]
     },
     "metadata": {},
     "output_type": "display_data"
    },
    {
     "data": {
      "text/html": [
       "\n",
       "    <div>\n",
       "      \n",
       "      <progress value='138908' max='138908' style='width:300px; height:20px; vertical-align: middle;'></progress>\n",
       "      [138908/138908 23:12, Epoch 11/11]\n",
       "    </div>\n",
       "    <table border=\"1\" class=\"dataframe\">\n",
       "  <thead>\n",
       " <tr style=\"text-align: left;\">\n",
       "      <th>Epoch</th>\n",
       "      <th>Training Loss</th>\n",
       "      <th>Validation Loss</th>\n",
       "      <th>Accuracy</th>\n",
       "      <th>Precision Cb</th>\n",
       "      <th>Recall Cb</th>\n",
       "      <th>F1 Cb</th>\n",
       "      <th>Precision Ncb</th>\n",
       "      <th>Recall Ncb</th>\n",
       "      <th>F1 Ncb</th>\n",
       "      <th>Precision Overall</th>\n",
       "      <th>Recall Overall</th>\n",
       "      <th>F1 Overall</th>\n",
       "    </tr>\n",
       "  </thead>\n",
       "  <tbody>\n",
       "    <tr>\n",
       "      <td>11</td>\n",
       "      <td>0.092800</td>\n",
       "      <td>0.121549</td>\n",
       "      <td>0.971849</td>\n",
       "      <td>0.756944</td>\n",
       "      <td>0.607807</td>\n",
       "      <td>0.674227</td>\n",
       "      <td>0.980450</td>\n",
       "      <td>0.990175</td>\n",
       "      <td>0.985289</td>\n",
       "      <td>0.868697</td>\n",
       "      <td>0.798991</td>\n",
       "      <td>0.829758</td>\n",
       "    </tr>\n",
       "  </tbody>\n",
       "</table><p>"
      ],
      "text/plain": [
       "<IPython.core.display.HTML object>"
      ]
     },
     "metadata": {},
     "output_type": "display_data"
    },
    {
     "name": "stderr",
     "output_type": "stream",
     "text": [
      "***** Running Evaluation *****\n",
      "  Num examples = 11225\n",
      "  Batch size = 8\n",
      "Saving model checkpoint to content/drive/MyDrive_binary/output_Electra/fold4/checkpoint-138908\n",
      "Configuration saved in content/drive/MyDrive_binary/output_Electra/fold4/checkpoint-138908/config.json\n",
      "Model weights saved in content/drive/MyDrive_binary/output_Electra/fold4/checkpoint-138908/pytorch_model.bin\n",
      "\n",
      "\n",
      "Training completed. Do not forget to share your model on huggingface.co/models =)\n",
      "\n",
      "\n",
      "Loading best model from content/drive/MyDrive_binary/output_Electra/fold4/checkpoint-50512 (score: 0.10801516473293304).\n",
      "4it [1:34:14, 1413.27s/it]"
     ]
    },
    {
     "name": "stdout",
     "output_type": "stream",
     "text": [
      "Complete for fold 4\n",
      "Running for Fold:  5\n"
     ]
    },
    {
     "name": "stderr",
     "output_type": "stream",
     "text": [
      "PyTorch: setting up devices\n",
      "The default value for the training argument `--report_to` will change in v5 (from all installed integrations to none). In v5, you will need to use `--report_to all` to get the same behavior as now. You should start updating your code and make this info disappear :-).\n",
      "Loading model from content/drive/MyDrive_binary/output_Electra/fold5/checkpoint-126280).\n",
      "/opt/conda/lib/python3.9/site-packages/transformers/optimization.py:306: FutureWarning: This implementation of AdamW is deprecated and will be removed in a future version. Use the PyTorch implementation torch.optim.AdamW instead, or set `no_deprecation_warning=True` to disable this warning\n",
      "  warnings.warn(\n",
      "***** Running training *****\n",
      "  Num examples = 101022\n",
      "  Num Epochs = 11\n",
      "  Instantaneous batch size per device = 8\n",
      "  Total train batch size (w. parallel, distributed & accumulation) = 8\n",
      "  Gradient Accumulation steps = 1\n",
      "  Total optimization steps = 138908\n",
      "  Continuing training from checkpoint, will skip to saved global_step\n",
      "  Continuing training from epoch 10\n",
      "  Continuing training from global step 126280\n",
      "  Will skip the first 10 epochs then the first 0 batches in the first epoch. If this takes a lot of time, you can add the `--ignore_data_skip` flag to your launch command, but you will resume the training on data already seen by your model.\n"
     ]
    },
    {
     "data": {
      "application/vnd.jupyter.widget-view+json": {
       "model_id": "99da60b7985b4fedb9717e7e7d46eda2",
       "version_major": 2,
       "version_minor": 0
      },
      "text/plain": [
       "0it [00:00, ?it/s]"
      ]
     },
     "metadata": {},
     "output_type": "display_data"
    },
    {
     "data": {
      "text/html": [
       "\n",
       "    <div>\n",
       "      \n",
       "      <progress value='138908' max='138908' style='width:300px; height:20px; vertical-align: middle;'></progress>\n",
       "      [138908/138908 23:09, Epoch 11/11]\n",
       "    </div>\n",
       "    <table border=\"1\" class=\"dataframe\">\n",
       "  <thead>\n",
       " <tr style=\"text-align: left;\">\n",
       "      <th>Epoch</th>\n",
       "      <th>Training Loss</th>\n",
       "      <th>Validation Loss</th>\n",
       "      <th>Accuracy</th>\n",
       "      <th>Precision Cb</th>\n",
       "      <th>Recall Cb</th>\n",
       "      <th>F1 Cb</th>\n",
       "      <th>Precision Ncb</th>\n",
       "      <th>Recall Ncb</th>\n",
       "      <th>F1 Ncb</th>\n",
       "      <th>Precision Overall</th>\n",
       "      <th>Recall Overall</th>\n",
       "      <th>F1 Overall</th>\n",
       "    </tr>\n",
       "  </thead>\n",
       "  <tbody>\n",
       "    <tr>\n",
       "      <td>11</td>\n",
       "      <td>0.087700</td>\n",
       "      <td>0.125111</td>\n",
       "      <td>0.971938</td>\n",
       "      <td>0.747228</td>\n",
       "      <td>0.626394</td>\n",
       "      <td>0.681496</td>\n",
       "      <td>0.981344</td>\n",
       "      <td>0.989333</td>\n",
       "      <td>0.985322</td>\n",
       "      <td>0.864286</td>\n",
       "      <td>0.807863</td>\n",
       "      <td>0.833409</td>\n",
       "    </tr>\n",
       "  </tbody>\n",
       "</table><p>"
      ],
      "text/plain": [
       "<IPython.core.display.HTML object>"
      ]
     },
     "metadata": {},
     "output_type": "display_data"
    },
    {
     "name": "stderr",
     "output_type": "stream",
     "text": [
      "***** Running Evaluation *****\n",
      "  Num examples = 11225\n",
      "  Batch size = 8\n",
      "Saving model checkpoint to content/drive/MyDrive_binary/output_Electra/fold5/checkpoint-138908\n",
      "Configuration saved in content/drive/MyDrive_binary/output_Electra/fold5/checkpoint-138908/config.json\n",
      "Model weights saved in content/drive/MyDrive_binary/output_Electra/fold5/checkpoint-138908/pytorch_model.bin\n",
      "\n",
      "\n",
      "Training completed. Do not forget to share your model on huggingface.co/models =)\n",
      "\n",
      "\n",
      "Loading best model from content/drive/MyDrive_binary/output_Electra/fold5/checkpoint-75768 (score: 0.11135013401508331).\n",
      "5it [1:57:48, 1413.61s/it]"
     ]
    },
    {
     "name": "stdout",
     "output_type": "stream",
     "text": [
      "Complete for fold 5\n"
     ]
    },
    {
     "name": "stderr",
     "output_type": "stream",
     "text": [
      "\n"
     ]
    }
   ],
   "source": [
    "run_cross_validation(model_name='Electra',\n",
    "                         X=X,\n",
    "                         y=y, \n",
    "                         splits=5,\n",
    "                         epoch=11,\n",
    "                         checkpoint=True)"
   ]
  },
  {
   "cell_type": "markdown",
   "id": "dc173ad8-bb02-4b77-996d-ee1240d17816",
   "metadata": {
    "tags": []
   },
   "source": [
    "<div class=\"alert alert-info\" style=\"background-color:#5d3a8e; color:white; padding:0px 10px; border-radius:5px;\"><h2 style='margin:10px 5px'>Hold Out Split</h2>\n",
    "</div>"
   ]
  },
  {
   "cell_type": "code",
   "execution_count": 9,
   "id": "d6416900-73f1-4123-bbdf-6ea8705b33a2",
   "metadata": {},
   "outputs": [
    {
     "name": "stdout",
     "output_type": "stream",
     "text": [
      "Developing Model with Hold Out Splits for: Electra\n"
     ]
    },
    {
     "name": "stderr",
     "output_type": "stream",
     "text": [
      "/opt/conda/lib/python3.9/site-packages/transformers/optimization.py:306: FutureWarning: This implementation of AdamW is deprecated and will be removed in a future version. Use the PyTorch implementation torch.optim.AdamW instead, or set `no_deprecation_warning=True` to disable this warning\n",
      "  warnings.warn(\n",
      "***** Running training *****\n",
      "  Num examples = 101022\n",
      "  Num Epochs = 8\n",
      "  Instantaneous batch size per device = 8\n",
      "  Total train batch size (w. parallel, distributed & accumulation) = 8\n",
      "  Gradient Accumulation steps = 1\n",
      "  Total optimization steps = 101024\n"
     ]
    },
    {
     "data": {
      "text/html": [
       "\n",
       "    <div>\n",
       "      \n",
       "      <progress value='101024' max='101024' style='width:300px; height:20px; vertical-align: middle;'></progress>\n",
       "      [101024/101024 3:01:59, Epoch 8/8]\n",
       "    </div>\n",
       "    <table border=\"1\" class=\"dataframe\">\n",
       "  <thead>\n",
       " <tr style=\"text-align: left;\">\n",
       "      <th>Epoch</th>\n",
       "      <th>Training Loss</th>\n",
       "      <th>Validation Loss</th>\n",
       "      <th>Accuracy</th>\n",
       "      <th>Precision Cb</th>\n",
       "      <th>Recall Cb</th>\n",
       "      <th>F1 Cb</th>\n",
       "      <th>Precision Ncb</th>\n",
       "      <th>Recall Ncb</th>\n",
       "      <th>F1 Ncb</th>\n",
       "      <th>Precision Overall</th>\n",
       "      <th>Recall Overall</th>\n",
       "      <th>F1 Overall</th>\n",
       "    </tr>\n",
       "  </thead>\n",
       "  <tbody>\n",
       "    <tr>\n",
       "      <td>1</td>\n",
       "      <td>0.138700</td>\n",
       "      <td>0.140726</td>\n",
       "      <td>0.959822</td>\n",
       "      <td>0.597753</td>\n",
       "      <td>0.494424</td>\n",
       "      <td>0.541200</td>\n",
       "      <td>0.974768</td>\n",
       "      <td>0.983251</td>\n",
       "      <td>0.978991</td>\n",
       "      <td>0.786260</td>\n",
       "      <td>0.738837</td>\n",
       "      <td>0.760096</td>\n",
       "    </tr>\n",
       "    <tr>\n",
       "      <td>2</td>\n",
       "      <td>0.150500</td>\n",
       "      <td>0.152378</td>\n",
       "      <td>0.958218</td>\n",
       "      <td>0.570265</td>\n",
       "      <td>0.520446</td>\n",
       "      <td>0.544218</td>\n",
       "      <td>0.975964</td>\n",
       "      <td>0.980256</td>\n",
       "      <td>0.978106</td>\n",
       "      <td>0.773114</td>\n",
       "      <td>0.750351</td>\n",
       "      <td>0.761162</td>\n",
       "    </tr>\n",
       "    <tr>\n",
       "      <td>3</td>\n",
       "      <td>0.142800</td>\n",
       "      <td>0.145807</td>\n",
       "      <td>0.962494</td>\n",
       "      <td>0.640964</td>\n",
       "      <td>0.494424</td>\n",
       "      <td>0.558237</td>\n",
       "      <td>0.974838</td>\n",
       "      <td>0.986058</td>\n",
       "      <td>0.980416</td>\n",
       "      <td>0.807901</td>\n",
       "      <td>0.740241</td>\n",
       "      <td>0.769327</td>\n",
       "    </tr>\n",
       "    <tr>\n",
       "      <td>4</td>\n",
       "      <td>0.126800</td>\n",
       "      <td>0.134956</td>\n",
       "      <td>0.960713</td>\n",
       "      <td>0.602105</td>\n",
       "      <td>0.531599</td>\n",
       "      <td>0.564659</td>\n",
       "      <td>0.976558</td>\n",
       "      <td>0.982315</td>\n",
       "      <td>0.979428</td>\n",
       "      <td>0.789332</td>\n",
       "      <td>0.756957</td>\n",
       "      <td>0.772044</td>\n",
       "    </tr>\n",
       "    <tr>\n",
       "      <td>5</td>\n",
       "      <td>0.104100</td>\n",
       "      <td>0.148582</td>\n",
       "      <td>0.963207</td>\n",
       "      <td>0.655087</td>\n",
       "      <td>0.490706</td>\n",
       "      <td>0.561105</td>\n",
       "      <td>0.974681</td>\n",
       "      <td>0.986994</td>\n",
       "      <td>0.980799</td>\n",
       "      <td>0.814884</td>\n",
       "      <td>0.738850</td>\n",
       "      <td>0.770952</td>\n",
       "    </tr>\n",
       "    <tr>\n",
       "      <td>6</td>\n",
       "      <td>0.105700</td>\n",
       "      <td>0.158221</td>\n",
       "      <td>0.966058</td>\n",
       "      <td>0.737160</td>\n",
       "      <td>0.453532</td>\n",
       "      <td>0.561565</td>\n",
       "      <td>0.973013</td>\n",
       "      <td>0.991859</td>\n",
       "      <td>0.982346</td>\n",
       "      <td>0.855086</td>\n",
       "      <td>0.722695</td>\n",
       "      <td>0.771955</td>\n",
       "    </tr>\n",
       "    <tr>\n",
       "      <td>7</td>\n",
       "      <td>0.117800</td>\n",
       "      <td>0.153189</td>\n",
       "      <td>0.965167</td>\n",
       "      <td>0.681481</td>\n",
       "      <td>0.513011</td>\n",
       "      <td>0.585366</td>\n",
       "      <td>0.975786</td>\n",
       "      <td>0.987929</td>\n",
       "      <td>0.981820</td>\n",
       "      <td>0.828634</td>\n",
       "      <td>0.750470</td>\n",
       "      <td>0.783593</td>\n",
       "    </tr>\n",
       "    <tr>\n",
       "      <td>8</td>\n",
       "      <td>0.080400</td>\n",
       "      <td>0.153648</td>\n",
       "      <td>0.965256</td>\n",
       "      <td>0.680488</td>\n",
       "      <td>0.518587</td>\n",
       "      <td>0.588608</td>\n",
       "      <td>0.976052</td>\n",
       "      <td>0.987742</td>\n",
       "      <td>0.981862</td>\n",
       "      <td>0.828270</td>\n",
       "      <td>0.753165</td>\n",
       "      <td>0.785235</td>\n",
       "    </tr>\n",
       "  </tbody>\n",
       "</table><p>"
      ],
      "text/plain": [
       "<IPython.core.display.HTML object>"
      ]
     },
     "metadata": {},
     "output_type": "display_data"
    },
    {
     "name": "stderr",
     "output_type": "stream",
     "text": [
      "***** Running Evaluation *****\n",
      "  Num examples = 11225\n",
      "  Batch size = 8\n",
      "Saving model checkpoint to content/drive/MyDrive_binary/output_Electra/holdout_1/checkpoint-12628\n",
      "Configuration saved in content/drive/MyDrive_binary/output_Electra/holdout_1/checkpoint-12628/config.json\n",
      "Model weights saved in content/drive/MyDrive_binary/output_Electra/holdout_1/checkpoint-12628/pytorch_model.bin\n",
      "***** Running Evaluation *****\n",
      "  Num examples = 11225\n",
      "  Batch size = 8\n",
      "Saving model checkpoint to content/drive/MyDrive_binary/output_Electra/holdout_1/checkpoint-25256\n",
      "Configuration saved in content/drive/MyDrive_binary/output_Electra/holdout_1/checkpoint-25256/config.json\n",
      "Model weights saved in content/drive/MyDrive_binary/output_Electra/holdout_1/checkpoint-25256/pytorch_model.bin\n",
      "***** Running Evaluation *****\n",
      "  Num examples = 11225\n",
      "  Batch size = 8\n",
      "Saving model checkpoint to content/drive/MyDrive_binary/output_Electra/holdout_1/checkpoint-37884\n",
      "Configuration saved in content/drive/MyDrive_binary/output_Electra/holdout_1/checkpoint-37884/config.json\n",
      "Model weights saved in content/drive/MyDrive_binary/output_Electra/holdout_1/checkpoint-37884/pytorch_model.bin\n",
      "***** Running Evaluation *****\n",
      "  Num examples = 11225\n",
      "  Batch size = 8\n",
      "Saving model checkpoint to content/drive/MyDrive_binary/output_Electra/holdout_1/checkpoint-50512\n",
      "Configuration saved in content/drive/MyDrive_binary/output_Electra/holdout_1/checkpoint-50512/config.json\n",
      "Model weights saved in content/drive/MyDrive_binary/output_Electra/holdout_1/checkpoint-50512/pytorch_model.bin\n",
      "***** Running Evaluation *****\n",
      "  Num examples = 11225\n",
      "  Batch size = 8\n",
      "Saving model checkpoint to content/drive/MyDrive_binary/output_Electra/holdout_1/checkpoint-63140\n",
      "Configuration saved in content/drive/MyDrive_binary/output_Electra/holdout_1/checkpoint-63140/config.json\n",
      "Model weights saved in content/drive/MyDrive_binary/output_Electra/holdout_1/checkpoint-63140/pytorch_model.bin\n",
      "***** Running Evaluation *****\n",
      "  Num examples = 11225\n",
      "  Batch size = 8\n",
      "Saving model checkpoint to content/drive/MyDrive_binary/output_Electra/holdout_1/checkpoint-75768\n",
      "Configuration saved in content/drive/MyDrive_binary/output_Electra/holdout_1/checkpoint-75768/config.json\n",
      "Model weights saved in content/drive/MyDrive_binary/output_Electra/holdout_1/checkpoint-75768/pytorch_model.bin\n",
      "***** Running Evaluation *****\n",
      "  Num examples = 11225\n",
      "  Batch size = 8\n",
      "Saving model checkpoint to content/drive/MyDrive_binary/output_Electra/holdout_1/checkpoint-88396\n",
      "Configuration saved in content/drive/MyDrive_binary/output_Electra/holdout_1/checkpoint-88396/config.json\n",
      "Model weights saved in content/drive/MyDrive_binary/output_Electra/holdout_1/checkpoint-88396/pytorch_model.bin\n",
      "***** Running Evaluation *****\n",
      "  Num examples = 11225\n",
      "  Batch size = 8\n",
      "Saving model checkpoint to content/drive/MyDrive_binary/output_Electra/holdout_1/checkpoint-101024\n",
      "Configuration saved in content/drive/MyDrive_binary/output_Electra/holdout_1/checkpoint-101024/config.json\n",
      "Model weights saved in content/drive/MyDrive_binary/output_Electra/holdout_1/checkpoint-101024/pytorch_model.bin\n",
      "\n",
      "\n",
      "Training completed. Do not forget to share your model on huggingface.co/models =)\n",
      "\n",
      "\n",
      "Loading best model from content/drive/MyDrive_binary/output_Electra/holdout_1/checkpoint-50512 (score: 0.1349559724330902).\n"
     ]
    },
    {
     "name": "stdout",
     "output_type": "stream",
     "text": [
      "Complete for hold-out validate set\n"
     ]
    }
   ],
   "source": [
    "run_hold_out_split(model_name='Electra',\n",
    "                       epoch=8,\n",
    "                       train_dataset=train_dataset,\n",
    "                       eval_dataset=val_dataset,\n",
    "                       checkpoint=False)"
   ]
  },
  {
   "cell_type": "code",
   "execution_count": null,
   "id": "da830df1-882b-4bd7-ad43-9914eb37d105",
   "metadata": {},
   "outputs": [
    {
     "name": "stderr",
     "output_type": "stream",
     "text": [
      "PyTorch: setting up devices\n",
      "The default value for the training argument `--report_to` will change in v5 (from all installed integrations to none). In v5, you will need to use `--report_to all` to get the same behavior as now. You should start updating your code and make this info disappear :-).\n"
     ]
    },
    {
     "name": "stdout",
     "output_type": "stream",
     "text": [
      "Developing Model with Hold Out Splits for: Electra\n"
     ]
    },
    {
     "name": "stderr",
     "output_type": "stream",
     "text": [
      "Loading model from content/drive/MyDrive_binary/output_Electra/holdout_1/checkpoint-101024).\n",
      "/opt/conda/lib/python3.9/site-packages/transformers/optimization.py:306: FutureWarning: This implementation of AdamW is deprecated and will be removed in a future version. Use the PyTorch implementation torch.optim.AdamW instead, or set `no_deprecation_warning=True` to disable this warning\n",
      "  warnings.warn(\n",
      "***** Running training *****\n",
      "  Num examples = 101022\n",
      "  Num Epochs = 12\n",
      "  Instantaneous batch size per device = 8\n",
      "  Total train batch size (w. parallel, distributed & accumulation) = 8\n",
      "  Gradient Accumulation steps = 1\n",
      "  Total optimization steps = 151536\n",
      "  Continuing training from checkpoint, will skip to saved global_step\n",
      "  Continuing training from epoch 8\n",
      "  Continuing training from global step 101024\n",
      "  Will skip the first 8 epochs then the first 0 batches in the first epoch. If this takes a lot of time, you can add the `--ignore_data_skip` flag to your launch command, but you will resume the training on data already seen by your model.\n"
     ]
    },
    {
     "data": {
      "application/vnd.jupyter.widget-view+json": {
       "model_id": "17383cbfcd5746738ba43d4b40210234",
       "version_major": 2,
       "version_minor": 0
      },
      "text/plain": [
       "0it [00:00, ?it/s]"
      ]
     },
     "metadata": {},
     "output_type": "display_data"
    },
    {
     "data": {
      "text/html": [
       "\n",
       "    <div>\n",
       "      \n",
       "      <progress value='143937' max='151536' style='width:300px; height:20px; vertical-align: middle;'></progress>\n",
       "      [143937/151536 1:17:17 < 13:41, 9.25 it/s, Epoch 11.40/12]\n",
       "    </div>\n",
       "    <table border=\"1\" class=\"dataframe\">\n",
       "  <thead>\n",
       " <tr style=\"text-align: left;\">\n",
       "      <th>Epoch</th>\n",
       "      <th>Training Loss</th>\n",
       "      <th>Validation Loss</th>\n",
       "      <th>Accuracy</th>\n",
       "      <th>Precision Cb</th>\n",
       "      <th>Recall Cb</th>\n",
       "      <th>F1 Cb</th>\n",
       "      <th>Precision Ncb</th>\n",
       "      <th>Recall Ncb</th>\n",
       "      <th>F1 Ncb</th>\n",
       "      <th>Precision Overall</th>\n",
       "      <th>Recall Overall</th>\n",
       "      <th>F1 Overall</th>\n",
       "    </tr>\n",
       "  </thead>\n",
       "  <tbody>\n",
       "    <tr>\n",
       "      <td>9</td>\n",
       "      <td>0.117900</td>\n",
       "      <td>0.153162</td>\n",
       "      <td>0.964722</td>\n",
       "      <td>0.682051</td>\n",
       "      <td>0.494424</td>\n",
       "      <td>0.573276</td>\n",
       "      <td>0.974896</td>\n",
       "      <td>0.988397</td>\n",
       "      <td>0.981600</td>\n",
       "      <td>0.828474</td>\n",
       "      <td>0.741410</td>\n",
       "      <td>0.777438</td>\n",
       "    </tr>\n",
       "    <tr>\n",
       "      <td>10</td>\n",
       "      <td>0.092600</td>\n",
       "      <td>0.166043</td>\n",
       "      <td>0.965167</td>\n",
       "      <td>0.689922</td>\n",
       "      <td>0.496283</td>\n",
       "      <td>0.577297</td>\n",
       "      <td>0.974995</td>\n",
       "      <td>0.988771</td>\n",
       "      <td>0.981835</td>\n",
       "      <td>0.832459</td>\n",
       "      <td>0.742527</td>\n",
       "      <td>0.779566</td>\n",
       "    </tr>\n",
       "    <tr>\n",
       "      <td>11</td>\n",
       "      <td>0.099300</td>\n",
       "      <td>0.168965</td>\n",
       "      <td>0.964633</td>\n",
       "      <td>0.674074</td>\n",
       "      <td>0.507435</td>\n",
       "      <td>0.579003</td>\n",
       "      <td>0.975508</td>\n",
       "      <td>0.987649</td>\n",
       "      <td>0.981541</td>\n",
       "      <td>0.824791</td>\n",
       "      <td>0.747542</td>\n",
       "      <td>0.780272</td>\n",
       "    </tr>\n",
       "  </tbody>\n",
       "</table><p>"
      ],
      "text/plain": [
       "<IPython.core.display.HTML object>"
      ]
     },
     "metadata": {},
     "output_type": "display_data"
    },
    {
     "name": "stderr",
     "output_type": "stream",
     "text": [
      "***** Running Evaluation *****\n",
      "  Num examples = 11225\n",
      "  Batch size = 8\n",
      "Saving model checkpoint to content/drive/MyDrive_binary/output_Electra/holdout_1/checkpoint-113652\n",
      "Configuration saved in content/drive/MyDrive_binary/output_Electra/holdout_1/checkpoint-113652/config.json\n",
      "Model weights saved in content/drive/MyDrive_binary/output_Electra/holdout_1/checkpoint-113652/pytorch_model.bin\n",
      "***** Running Evaluation *****\n",
      "  Num examples = 11225\n",
      "  Batch size = 8\n",
      "Saving model checkpoint to content/drive/MyDrive_binary/output_Electra/holdout_1/checkpoint-126280\n",
      "Configuration saved in content/drive/MyDrive_binary/output_Electra/holdout_1/checkpoint-126280/config.json\n",
      "Model weights saved in content/drive/MyDrive_binary/output_Electra/holdout_1/checkpoint-126280/pytorch_model.bin\n",
      "***** Running Evaluation *****\n",
      "  Num examples = 11225\n",
      "  Batch size = 8\n",
      "Saving model checkpoint to content/drive/MyDrive_binary/output_Electra/holdout_1/checkpoint-138908\n",
      "Configuration saved in content/drive/MyDrive_binary/output_Electra/holdout_1/checkpoint-138908/config.json\n",
      "Model weights saved in content/drive/MyDrive_binary/output_Electra/holdout_1/checkpoint-138908/pytorch_model.bin\n"
     ]
    }
   ],
   "source": [
    "run_hold_out_split(model_name='Electra',\n",
    "                       epoch=12,\n",
    "                       train_dataset=train_dataset,\n",
    "                       eval_dataset=val_dataset,\n",
    "                       checkpoint=True)"
   ]
  },
  {
   "cell_type": "code",
   "execution_count": 13,
   "id": "ca9f68bd-dc16-419c-98ec-56979bfbbc6c",
   "metadata": {},
   "outputs": [
    {
     "name": "stderr",
     "output_type": "stream",
     "text": [
      "PyTorch: setting up devices\n",
      "The default value for the training argument `--report_to` will change in v5 (from all installed integrations to none). In v5, you will need to use `--report_to all` to get the same behavior as now. You should start updating your code and make this info disappear :-).\n",
      "***** Running training *****\n",
      "  Num examples = 101022\n",
      "  Num Epochs = 8\n",
      "  Instantaneous batch size per device = 8\n",
      "  Total train batch size (w. parallel, distributed & accumulation) = 8\n",
      "  Gradient Accumulation steps = 1\n",
      "  Total optimization steps = 101024\n"
     ]
    },
    {
     "name": "stdout",
     "output_type": "stream",
     "text": [
      "Developing Model with Hold Out Splits for: Electra\n"
     ]
    },
    {
     "data": {
      "text/html": [
       "\n",
       "    <div>\n",
       "      \n",
       "      <progress value='64197' max='101024' style='width:300px; height:20px; vertical-align: middle;'></progress>\n",
       "      [ 64197/101024 1:58:11 < 1:07:48, 9.05 it/s, Epoch 5.08/8]\n",
       "    </div>\n",
       "    <table border=\"1\" class=\"dataframe\">\n",
       "  <thead>\n",
       " <tr style=\"text-align: left;\">\n",
       "      <th>Epoch</th>\n",
       "      <th>Training Loss</th>\n",
       "      <th>Validation Loss</th>\n",
       "      <th>Accuracy</th>\n",
       "      <th>Precision Cb</th>\n",
       "      <th>Recall Cb</th>\n",
       "      <th>F1 Cb</th>\n",
       "      <th>Precision Ncb</th>\n",
       "      <th>Recall Ncb</th>\n",
       "      <th>F1 Ncb</th>\n",
       "      <th>Precision Overall</th>\n",
       "      <th>Recall Overall</th>\n",
       "      <th>F1 Overall</th>\n",
       "    </tr>\n",
       "  </thead>\n",
       "  <tbody>\n",
       "    <tr>\n",
       "      <td>1</td>\n",
       "      <td>0.120900</td>\n",
       "      <td>0.143816</td>\n",
       "      <td>0.960535</td>\n",
       "      <td>0.605322</td>\n",
       "      <td>0.507435</td>\n",
       "      <td>0.552073</td>\n",
       "      <td>0.975404</td>\n",
       "      <td>0.983344</td>\n",
       "      <td>0.979358</td>\n",
       "      <td>0.790363</td>\n",
       "      <td>0.745390</td>\n",
       "      <td>0.765715</td>\n",
       "    </tr>\n",
       "    <tr>\n",
       "      <td>2</td>\n",
       "      <td>0.135100</td>\n",
       "      <td>0.149520</td>\n",
       "      <td>0.965702</td>\n",
       "      <td>0.770318</td>\n",
       "      <td>0.405204</td>\n",
       "      <td>0.531060</td>\n",
       "      <td>0.970755</td>\n",
       "      <td>0.993918</td>\n",
       "      <td>0.982200</td>\n",
       "      <td>0.870536</td>\n",
       "      <td>0.699561</td>\n",
       "      <td>0.756630</td>\n",
       "    </tr>\n",
       "    <tr>\n",
       "      <td>3</td>\n",
       "      <td>0.125600</td>\n",
       "      <td>0.144958</td>\n",
       "      <td>0.965969</td>\n",
       "      <td>0.763514</td>\n",
       "      <td>0.420074</td>\n",
       "      <td>0.541966</td>\n",
       "      <td>0.971452</td>\n",
       "      <td>0.993450</td>\n",
       "      <td>0.982328</td>\n",
       "      <td>0.867483</td>\n",
       "      <td>0.706762</td>\n",
       "      <td>0.762147</td>\n",
       "    </tr>\n",
       "    <tr>\n",
       "      <td>4</td>\n",
       "      <td>0.114500</td>\n",
       "      <td>0.127900</td>\n",
       "      <td>0.964276</td>\n",
       "      <td>0.659674</td>\n",
       "      <td>0.526022</td>\n",
       "      <td>0.585315</td>\n",
       "      <td>0.976380</td>\n",
       "      <td>0.986339</td>\n",
       "      <td>0.981334</td>\n",
       "      <td>0.818027</td>\n",
       "      <td>0.756180</td>\n",
       "      <td>0.783325</td>\n",
       "    </tr>\n",
       "    <tr>\n",
       "      <td>5</td>\n",
       "      <td>0.099000</td>\n",
       "      <td>0.144239</td>\n",
       "      <td>0.966325</td>\n",
       "      <td>0.732558</td>\n",
       "      <td>0.468401</td>\n",
       "      <td>0.571429</td>\n",
       "      <td>0.973716</td>\n",
       "      <td>0.991391</td>\n",
       "      <td>0.982474</td>\n",
       "      <td>0.853137</td>\n",
       "      <td>0.729896</td>\n",
       "      <td>0.776951</td>\n",
       "    </tr>\n",
       "  </tbody>\n",
       "</table><p>"
      ],
      "text/plain": [
       "<IPython.core.display.HTML object>"
      ]
     },
     "metadata": {},
     "output_type": "display_data"
    },
    {
     "name": "stderr",
     "output_type": "stream",
     "text": [
      "***** Running Evaluation *****\n",
      "  Num examples = 11225\n",
      "  Batch size = 8\n",
      "Saving model checkpoint to content/drive/MyDrive_binary/output_Electra/holdout1/checkpoint-12628\n",
      "Configuration saved in content/drive/MyDrive_binary/output_Electra/holdout1/checkpoint-12628/config.json\n",
      "Model weights saved in content/drive/MyDrive_binary/output_Electra/holdout1/checkpoint-12628/pytorch_model.bin\n",
      "***** Running Evaluation *****\n",
      "  Num examples = 11225\n",
      "  Batch size = 8\n",
      "Saving model checkpoint to content/drive/MyDrive_binary/output_Electra/holdout1/checkpoint-25256\n",
      "Configuration saved in content/drive/MyDrive_binary/output_Electra/holdout1/checkpoint-25256/config.json\n",
      "Model weights saved in content/drive/MyDrive_binary/output_Electra/holdout1/checkpoint-25256/pytorch_model.bin\n",
      "***** Running Evaluation *****\n",
      "  Num examples = 11225\n",
      "  Batch size = 8\n",
      "Saving model checkpoint to content/drive/MyDrive_binary/output_Electra/holdout1/checkpoint-37884\n",
      "Configuration saved in content/drive/MyDrive_binary/output_Electra/holdout1/checkpoint-37884/config.json\n",
      "Model weights saved in content/drive/MyDrive_binary/output_Electra/holdout1/checkpoint-37884/pytorch_model.bin\n",
      "***** Running Evaluation *****\n",
      "  Num examples = 11225\n",
      "  Batch size = 8\n",
      "Saving model checkpoint to content/drive/MyDrive_binary/output_Electra/holdout1/checkpoint-50512\n",
      "Configuration saved in content/drive/MyDrive_binary/output_Electra/holdout1/checkpoint-50512/config.json\n",
      "Model weights saved in content/drive/MyDrive_binary/output_Electra/holdout1/checkpoint-50512/pytorch_model.bin\n",
      "***** Running Evaluation *****\n",
      "  Num examples = 11225\n",
      "  Batch size = 8\n",
      "Saving model checkpoint to content/drive/MyDrive_binary/output_Electra/holdout1/checkpoint-63140\n",
      "Configuration saved in content/drive/MyDrive_binary/output_Electra/holdout1/checkpoint-63140/config.json\n",
      "Model weights saved in content/drive/MyDrive_binary/output_Electra/holdout1/checkpoint-63140/pytorch_model.bin\n"
     ]
    },
    {
     "ename": "KeyboardInterrupt",
     "evalue": "",
     "output_type": "error",
     "traceback": [
      "\u001b[0;31m---------------------------------------------------------------------------\u001b[0m",
      "\u001b[0;31mKeyboardInterrupt\u001b[0m                         Traceback (most recent call last)",
      "Input \u001b[0;32mIn [13]\u001b[0m, in \u001b[0;36m<cell line: 1>\u001b[0;34m()\u001b[0m\n\u001b[0;32m----> 1\u001b[0m \u001b[43mrun_hold_out_split\u001b[49m\u001b[43m(\u001b[49m\u001b[43mmodel_name\u001b[49m\u001b[38;5;241;43m=\u001b[39;49m\u001b[38;5;124;43m'\u001b[39;49m\u001b[38;5;124;43mElectra\u001b[39;49m\u001b[38;5;124;43m'\u001b[39;49m\u001b[43m,\u001b[49m\n\u001b[1;32m      2\u001b[0m \u001b[43m                       \u001b[49m\u001b[43mepoch\u001b[49m\u001b[38;5;241;43m=\u001b[39;49m\u001b[38;5;241;43m8\u001b[39;49m\u001b[43m,\u001b[49m\n\u001b[1;32m      3\u001b[0m \u001b[43m                       \u001b[49m\u001b[43mtrain_dataset\u001b[49m\u001b[38;5;241;43m=\u001b[39;49m\u001b[43mtrain_dataset\u001b[49m\u001b[43m,\u001b[49m\n\u001b[1;32m      4\u001b[0m \u001b[43m                       \u001b[49m\u001b[43meval_dataset\u001b[49m\u001b[38;5;241;43m=\u001b[39;49m\u001b[43mval_dataset\u001b[49m\u001b[43m,\u001b[49m\n\u001b[1;32m      5\u001b[0m \u001b[43m                       \u001b[49m\u001b[43mcheckpoint\u001b[49m\u001b[38;5;241;43m=\u001b[39;49m\u001b[38;5;28;43;01mFalse\u001b[39;49;00m\u001b[43m)\u001b[49m\n",
      "Input \u001b[0;32mIn [9]\u001b[0m, in \u001b[0;36mrun_hold_out_split\u001b[0;34m(model_name, epoch, train_dataset, eval_dataset, checkpoint)\u001b[0m\n\u001b[1;32m    261\u001b[0m args \u001b[38;5;241m=\u001b[39m TrainingArguments(\n\u001b[1;32m    262\u001b[0m   output_dir\u001b[38;5;241m=\u001b[39m\u001b[38;5;124m\"\u001b[39m\u001b[38;5;124mcontent/drive/MyDrive_binary/output_\u001b[39m\u001b[38;5;124m\"\u001b[39m \u001b[38;5;241m+\u001b[39m model_name \u001b[38;5;241m+\u001b[39m \u001b[38;5;124m\"\u001b[39m\u001b[38;5;124m/holdout1\u001b[39m\u001b[38;5;124m\"\u001b[39m,\n\u001b[1;32m    263\u001b[0m   evaluation_strategy\u001b[38;5;241m=\u001b[39m\u001b[38;5;124m\"\u001b[39m\u001b[38;5;124mepoch\u001b[39m\u001b[38;5;124m\"\u001b[39m,\n\u001b[0;32m   (...)\u001b[0m\n\u001b[1;32m    270\u001b[0m   load_best_model_at_end\u001b[38;5;241m=\u001b[39m\u001b[38;5;28;01mTrue\u001b[39;00m,\n\u001b[1;32m    271\u001b[0m )\n\u001b[1;32m    273\u001b[0m trainer \u001b[38;5;241m=\u001b[39m Trainer(\n\u001b[1;32m    274\u001b[0m \u001b[38;5;66;03m# model_init=model_init,\u001b[39;00m\n\u001b[1;32m    275\u001b[0m model\u001b[38;5;241m=\u001b[39mmodel,\n\u001b[0;32m   (...)\u001b[0m\n\u001b[1;32m    280\u001b[0m callbacks\u001b[38;5;241m=\u001b[39m[EarlyStoppingCallback(early_stopping_patience\u001b[38;5;241m=\u001b[39m\u001b[38;5;241m5\u001b[39m)],\n\u001b[1;32m    281\u001b[0m )\n\u001b[0;32m--> 283\u001b[0m \u001b[43mtrainer\u001b[49m\u001b[38;5;241;43m.\u001b[39;49m\u001b[43mtrain\u001b[49m\u001b[43m(\u001b[49m\u001b[43mresume_from_checkpoint\u001b[49m\u001b[38;5;241;43m=\u001b[39;49m\u001b[43mcheckpoint\u001b[49m\u001b[43m)\u001b[49m\n\u001b[1;32m    284\u001b[0m \u001b[38;5;28mprint\u001b[39m(\u001b[38;5;124m\"\u001b[39m\u001b[38;5;124mComplete for hold-out validate set\u001b[39m\u001b[38;5;124m\"\u001b[39m)\n",
      "File \u001b[0;32m/opt/conda/lib/python3.9/site-packages/transformers/trainer.py:1422\u001b[0m, in \u001b[0;36mTrainer.train\u001b[0;34m(self, resume_from_checkpoint, trial, ignore_keys_for_eval, **kwargs)\u001b[0m\n\u001b[1;32m   1420\u001b[0m         tr_loss_step \u001b[38;5;241m=\u001b[39m \u001b[38;5;28mself\u001b[39m\u001b[38;5;241m.\u001b[39mtraining_step(model, inputs)\n\u001b[1;32m   1421\u001b[0m \u001b[38;5;28;01melse\u001b[39;00m:\n\u001b[0;32m-> 1422\u001b[0m     tr_loss_step \u001b[38;5;241m=\u001b[39m \u001b[38;5;28;43mself\u001b[39;49m\u001b[38;5;241;43m.\u001b[39;49m\u001b[43mtraining_step\u001b[49m\u001b[43m(\u001b[49m\u001b[43mmodel\u001b[49m\u001b[43m,\u001b[49m\u001b[43m \u001b[49m\u001b[43minputs\u001b[49m\u001b[43m)\u001b[49m\n\u001b[1;32m   1424\u001b[0m \u001b[38;5;28;01mif\u001b[39;00m (\n\u001b[1;32m   1425\u001b[0m     args\u001b[38;5;241m.\u001b[39mlogging_nan_inf_filter\n\u001b[1;32m   1426\u001b[0m     \u001b[38;5;129;01mand\u001b[39;00m \u001b[38;5;129;01mnot\u001b[39;00m is_torch_tpu_available()\n\u001b[1;32m   1427\u001b[0m     \u001b[38;5;129;01mand\u001b[39;00m (torch\u001b[38;5;241m.\u001b[39misnan(tr_loss_step) \u001b[38;5;129;01mor\u001b[39;00m torch\u001b[38;5;241m.\u001b[39misinf(tr_loss_step))\n\u001b[1;32m   1428\u001b[0m ):\n\u001b[1;32m   1429\u001b[0m     \u001b[38;5;66;03m# if loss is nan or inf simply add the average of previous logged losses\u001b[39;00m\n\u001b[1;32m   1430\u001b[0m     tr_loss \u001b[38;5;241m+\u001b[39m\u001b[38;5;241m=\u001b[39m tr_loss \u001b[38;5;241m/\u001b[39m (\u001b[38;5;241m1\u001b[39m \u001b[38;5;241m+\u001b[39m \u001b[38;5;28mself\u001b[39m\u001b[38;5;241m.\u001b[39mstate\u001b[38;5;241m.\u001b[39mglobal_step \u001b[38;5;241m-\u001b[39m \u001b[38;5;28mself\u001b[39m\u001b[38;5;241m.\u001b[39m_globalstep_last_logged)\n",
      "File \u001b[0;32m/opt/conda/lib/python3.9/site-packages/transformers/trainer.py:2029\u001b[0m, in \u001b[0;36mTrainer.training_step\u001b[0;34m(self, model, inputs)\u001b[0m\n\u001b[1;32m   2027\u001b[0m     loss \u001b[38;5;241m=\u001b[39m \u001b[38;5;28mself\u001b[39m\u001b[38;5;241m.\u001b[39mdeepspeed\u001b[38;5;241m.\u001b[39mbackward(loss)\n\u001b[1;32m   2028\u001b[0m \u001b[38;5;28;01melse\u001b[39;00m:\n\u001b[0;32m-> 2029\u001b[0m     \u001b[43mloss\u001b[49m\u001b[38;5;241;43m.\u001b[39;49m\u001b[43mbackward\u001b[49m\u001b[43m(\u001b[49m\u001b[43m)\u001b[49m\n\u001b[1;32m   2031\u001b[0m \u001b[38;5;28;01mreturn\u001b[39;00m loss\u001b[38;5;241m.\u001b[39mdetach()\n",
      "File \u001b[0;32m/opt/conda/lib/python3.9/site-packages/torch/_tensor.py:363\u001b[0m, in \u001b[0;36mTensor.backward\u001b[0;34m(self, gradient, retain_graph, create_graph, inputs)\u001b[0m\n\u001b[1;32m    354\u001b[0m \u001b[38;5;28;01mif\u001b[39;00m has_torch_function_unary(\u001b[38;5;28mself\u001b[39m):\n\u001b[1;32m    355\u001b[0m     \u001b[38;5;28;01mreturn\u001b[39;00m handle_torch_function(\n\u001b[1;32m    356\u001b[0m         Tensor\u001b[38;5;241m.\u001b[39mbackward,\n\u001b[1;32m    357\u001b[0m         (\u001b[38;5;28mself\u001b[39m,),\n\u001b[0;32m   (...)\u001b[0m\n\u001b[1;32m    361\u001b[0m         create_graph\u001b[38;5;241m=\u001b[39mcreate_graph,\n\u001b[1;32m    362\u001b[0m         inputs\u001b[38;5;241m=\u001b[39minputs)\n\u001b[0;32m--> 363\u001b[0m \u001b[43mtorch\u001b[49m\u001b[38;5;241;43m.\u001b[39;49m\u001b[43mautograd\u001b[49m\u001b[38;5;241;43m.\u001b[39;49m\u001b[43mbackward\u001b[49m\u001b[43m(\u001b[49m\u001b[38;5;28;43mself\u001b[39;49m\u001b[43m,\u001b[49m\u001b[43m \u001b[49m\u001b[43mgradient\u001b[49m\u001b[43m,\u001b[49m\u001b[43m \u001b[49m\u001b[43mretain_graph\u001b[49m\u001b[43m,\u001b[49m\u001b[43m \u001b[49m\u001b[43mcreate_graph\u001b[49m\u001b[43m,\u001b[49m\u001b[43m \u001b[49m\u001b[43minputs\u001b[49m\u001b[38;5;241;43m=\u001b[39;49m\u001b[43minputs\u001b[49m\u001b[43m)\u001b[49m\n",
      "File \u001b[0;32m/opt/conda/lib/python3.9/site-packages/torch/autograd/__init__.py:173\u001b[0m, in \u001b[0;36mbackward\u001b[0;34m(tensors, grad_tensors, retain_graph, create_graph, grad_variables, inputs)\u001b[0m\n\u001b[1;32m    168\u001b[0m     retain_graph \u001b[38;5;241m=\u001b[39m create_graph\n\u001b[1;32m    170\u001b[0m \u001b[38;5;66;03m# The reason we repeat same the comment below is that\u001b[39;00m\n\u001b[1;32m    171\u001b[0m \u001b[38;5;66;03m# some Python versions print out the first line of a multi-line function\u001b[39;00m\n\u001b[1;32m    172\u001b[0m \u001b[38;5;66;03m# calls in the traceback and some print out the last line\u001b[39;00m\n\u001b[0;32m--> 173\u001b[0m \u001b[43mVariable\u001b[49m\u001b[38;5;241;43m.\u001b[39;49m\u001b[43m_execution_engine\u001b[49m\u001b[38;5;241;43m.\u001b[39;49m\u001b[43mrun_backward\u001b[49m\u001b[43m(\u001b[49m\u001b[43m  \u001b[49m\u001b[38;5;66;43;03m# Calls into the C++ engine to run the backward pass\u001b[39;49;00m\n\u001b[1;32m    174\u001b[0m \u001b[43m    \u001b[49m\u001b[43mtensors\u001b[49m\u001b[43m,\u001b[49m\u001b[43m \u001b[49m\u001b[43mgrad_tensors_\u001b[49m\u001b[43m,\u001b[49m\u001b[43m \u001b[49m\u001b[43mretain_graph\u001b[49m\u001b[43m,\u001b[49m\u001b[43m \u001b[49m\u001b[43mcreate_graph\u001b[49m\u001b[43m,\u001b[49m\u001b[43m \u001b[49m\u001b[43minputs\u001b[49m\u001b[43m,\u001b[49m\n\u001b[1;32m    175\u001b[0m \u001b[43m    \u001b[49m\u001b[43mallow_unreachable\u001b[49m\u001b[38;5;241;43m=\u001b[39;49m\u001b[38;5;28;43;01mTrue\u001b[39;49;00m\u001b[43m,\u001b[49m\u001b[43m \u001b[49m\u001b[43maccumulate_grad\u001b[49m\u001b[38;5;241;43m=\u001b[39;49m\u001b[38;5;28;43;01mTrue\u001b[39;49;00m\u001b[43m)\u001b[49m\n",
      "\u001b[0;31mKeyboardInterrupt\u001b[0m: "
     ]
    }
   ],
   "source": [
    "#holdout1best\n",
    "run_hold_out_split(model_name='Electra',\n",
    "                       epoch=8,\n",
    "                       train_dataset=train_dataset,\n",
    "                       eval_dataset=val_dataset,\n",
    "                       checkpoint=False)"
   ]
  },
  {
   "cell_type": "code",
   "execution_count": 15,
   "id": "61d9f309-223c-4e35-b3ff-297a40e60a10",
   "metadata": {},
   "outputs": [
    {
     "name": "stderr",
     "output_type": "stream",
     "text": [
      "PyTorch: setting up devices\n",
      "The default value for the training argument `--report_to` will change in v5 (from all installed integrations to none). In v5, you will need to use `--report_to all` to get the same behavior as now. You should start updating your code and make this info disappear :-).\n",
      "Loading model from content/drive/MyDrive_binary/output_Electra/holdout1/checkpoint-63140).\n"
     ]
    },
    {
     "name": "stdout",
     "output_type": "stream",
     "text": [
      "Developing Model with Hold Out Splits for: Electra\n"
     ]
    },
    {
     "name": "stderr",
     "output_type": "stream",
     "text": [
      "/opt/conda/lib/python3.9/site-packages/transformers/optimization.py:306: FutureWarning: This implementation of AdamW is deprecated and will be removed in a future version. Use the PyTorch implementation torch.optim.AdamW instead, or set `no_deprecation_warning=True` to disable this warning\n",
      "  warnings.warn(\n",
      "***** Running training *****\n",
      "  Num examples = 101022\n",
      "  Num Epochs = 8\n",
      "  Instantaneous batch size per device = 8\n",
      "  Total train batch size (w. parallel, distributed & accumulation) = 8\n",
      "  Gradient Accumulation steps = 1\n",
      "  Total optimization steps = 101024\n",
      "  Continuing training from checkpoint, will skip to saved global_step\n",
      "  Continuing training from epoch 5\n",
      "  Continuing training from global step 63140\n",
      "  Will skip the first 5 epochs then the first 0 batches in the first epoch. If this takes a lot of time, you can add the `--ignore_data_skip` flag to your launch command, but you will resume the training on data already seen by your model.\n"
     ]
    },
    {
     "data": {
      "application/vnd.jupyter.widget-view+json": {
       "model_id": "da5a35007cca4565b2466ba031107a1c",
       "version_major": 2,
       "version_minor": 0
      },
      "text/plain": [
       "0it [00:00, ?it/s]"
      ]
     },
     "metadata": {},
     "output_type": "display_data"
    },
    {
     "data": {
      "text/html": [
       "\n",
       "    <div>\n",
       "      \n",
       "      <progress value='101024' max='101024' style='width:300px; height:20px; vertical-align: middle;'></progress>\n",
       "      [101024/101024 1:11:03, Epoch 8/8]\n",
       "    </div>\n",
       "    <table border=\"1\" class=\"dataframe\">\n",
       "  <thead>\n",
       " <tr style=\"text-align: left;\">\n",
       "      <th>Epoch</th>\n",
       "      <th>Training Loss</th>\n",
       "      <th>Validation Loss</th>\n",
       "      <th>Accuracy</th>\n",
       "      <th>Precision Cb</th>\n",
       "      <th>Recall Cb</th>\n",
       "      <th>F1 Cb</th>\n",
       "      <th>Precision Ncb</th>\n",
       "      <th>Recall Ncb</th>\n",
       "      <th>F1 Ncb</th>\n",
       "      <th>Precision Overall</th>\n",
       "      <th>Recall Overall</th>\n",
       "      <th>F1 Overall</th>\n",
       "    </tr>\n",
       "  </thead>\n",
       "  <tbody>\n",
       "    <tr>\n",
       "      <td>6</td>\n",
       "      <td>0.096100</td>\n",
       "      <td>0.165210</td>\n",
       "      <td>0.966949</td>\n",
       "      <td>0.744868</td>\n",
       "      <td>0.472119</td>\n",
       "      <td>0.577929</td>\n",
       "      <td>0.973907</td>\n",
       "      <td>0.991859</td>\n",
       "      <td>0.982801</td>\n",
       "      <td>0.859387</td>\n",
       "      <td>0.731989</td>\n",
       "      <td>0.780365</td>\n",
       "    </tr>\n",
       "    <tr>\n",
       "      <td>7</td>\n",
       "      <td>0.109500</td>\n",
       "      <td>0.160267</td>\n",
       "      <td>0.965078</td>\n",
       "      <td>0.676329</td>\n",
       "      <td>0.520446</td>\n",
       "      <td>0.588235</td>\n",
       "      <td>0.976135</td>\n",
       "      <td>0.987461</td>\n",
       "      <td>0.981766</td>\n",
       "      <td>0.826232</td>\n",
       "      <td>0.753954</td>\n",
       "      <td>0.785001</td>\n",
       "    </tr>\n",
       "    <tr>\n",
       "      <td>8</td>\n",
       "      <td>0.085800</td>\n",
       "      <td>0.166399</td>\n",
       "      <td>0.965612</td>\n",
       "      <td>0.683575</td>\n",
       "      <td>0.526022</td>\n",
       "      <td>0.594538</td>\n",
       "      <td>0.976413</td>\n",
       "      <td>0.987742</td>\n",
       "      <td>0.982045</td>\n",
       "      <td>0.829994</td>\n",
       "      <td>0.756882</td>\n",
       "      <td>0.788291</td>\n",
       "    </tr>\n",
       "  </tbody>\n",
       "</table><p>"
      ],
      "text/plain": [
       "<IPython.core.display.HTML object>"
      ]
     },
     "metadata": {},
     "output_type": "display_data"
    },
    {
     "name": "stderr",
     "output_type": "stream",
     "text": [
      "***** Running Evaluation *****\n",
      "  Num examples = 11225\n",
      "  Batch size = 8\n",
      "Saving model checkpoint to content/drive/MyDrive_binary/output_Electra/holdout1/checkpoint-75768\n",
      "Configuration saved in content/drive/MyDrive_binary/output_Electra/holdout1/checkpoint-75768/config.json\n",
      "Model weights saved in content/drive/MyDrive_binary/output_Electra/holdout1/checkpoint-75768/pytorch_model.bin\n",
      "***** Running Evaluation *****\n",
      "  Num examples = 11225\n",
      "  Batch size = 8\n",
      "Saving model checkpoint to content/drive/MyDrive_binary/output_Electra/holdout1/checkpoint-88396\n",
      "Configuration saved in content/drive/MyDrive_binary/output_Electra/holdout1/checkpoint-88396/config.json\n",
      "Model weights saved in content/drive/MyDrive_binary/output_Electra/holdout1/checkpoint-88396/pytorch_model.bin\n",
      "***** Running Evaluation *****\n",
      "  Num examples = 11225\n",
      "  Batch size = 8\n",
      "Saving model checkpoint to content/drive/MyDrive_binary/output_Electra/holdout1/checkpoint-101024\n",
      "Configuration saved in content/drive/MyDrive_binary/output_Electra/holdout1/checkpoint-101024/config.json\n",
      "Model weights saved in content/drive/MyDrive_binary/output_Electra/holdout1/checkpoint-101024/pytorch_model.bin\n",
      "\n",
      "\n",
      "Training completed. Do not forget to share your model on huggingface.co/models =)\n",
      "\n",
      "\n",
      "Loading best model from content/drive/MyDrive_binary/output_Electra/holdout1/checkpoint-50512 (score: 0.12790021300315857).\n"
     ]
    },
    {
     "name": "stdout",
     "output_type": "stream",
     "text": [
      "Complete for hold-out validate set\n"
     ]
    }
   ],
   "source": [
    "#holdout1best\n",
    "run_hold_out_split(model_name='Electra',\n",
    "                       epoch=8,\n",
    "                       train_dataset=train_dataset,\n",
    "                       eval_dataset=val_dataset,\n",
    "                       checkpoint=True)"
   ]
  },
  {
   "cell_type": "markdown",
   "id": "w5vyE3EkK2JQ",
   "metadata": {
    "id": "w5vyE3EkK2JQ",
    "tags": []
   },
   "source": [
    "### Test Split Cross Validation"
   ]
  },
  {
   "cell_type": "markdown",
   "id": "fG7eAEaFtIYk",
   "metadata": {
    "id": "fG7eAEaFtIYk"
   },
   "source": [
    "#### Epoch 1"
   ]
  },
  {
   "cell_type": "code",
   "execution_count": 9,
   "id": "ab06398b",
   "metadata": {
    "id": "ab06398b"
   },
   "outputs": [
    {
     "name": "stderr",
     "output_type": "stream",
     "text": [
      "***** Running Prediction *****\n",
      "  Num examples = 11225\n",
      "  Batch size = 8\n"
     ]
    },
    {
     "data": {
      "text/html": [
       "\n",
       "    <div>\n",
       "      \n",
       "      <progress value='1404' max='1404' style='width:300px; height:20px; vertical-align: middle;'></progress>\n",
       "      [1404/1404 01:27]\n",
       "    </div>\n",
       "    "
      ],
      "text/plain": [
       "<IPython.core.display.HTML object>"
      ]
     },
     "metadata": {},
     "output_type": "display_data"
    },
    {
     "name": "stdout",
     "output_type": "stream",
     "text": [
      "Classification Report:\n",
      "              precision    recall  f1-score   support\n",
      "\n",
      "           0       0.97      0.98      0.98     10687\n",
      "           1       0.60      0.49      0.54       538\n",
      "\n",
      "    accuracy                           0.96     11225\n",
      "   macro avg       0.79      0.74      0.76     11225\n",
      "weighted avg       0.96      0.96      0.96     11225\n",
      "\n",
      "\n",
      "Label 1: Cyberbullying\n",
      "Precision:  0.597752808988764\n",
      "Recall:  0.4944237918215613\n",
      "F-measure:  0.5412004069175993\n",
      "\n",
      "Label 0: Non-Cyberbullying\n",
      "Precision:  0.9747680890538033\n",
      "Recall:  0.9832506783943108\n",
      "F-measure:  0.978991009456375\n",
      "\n",
      "Macro Metrics\n",
      "Precision:  0.7862604490212837\n",
      "Recall:  0.7388372351079361\n",
      "F-measure:  0.7600957081869871\n",
      "\n"
     ]
    },
    {
     "data": {
      "image/png": "[encoded data removed]",
      "text/plain": [
       "<Figure size 576x360 with 2 Axes>"
      ]
     },
     "metadata": {
      "needs_background": "light"
     },
     "output_type": "display_data"
    }
   ],
   "source": [
    "compute_metrics_holdout(model_name='Electra',\n",
    "                        model_path='content/drive/MyDrive_binary/output_Electra/holdout/checkpoint-12628', \n",
    "                        average_method='binary',\n",
    "                        X_test=X_test)"
   ]
  },
  {
   "cell_type": "markdown",
   "id": "Ir4eL3T8gtLf",
   "metadata": {
    "id": "Ir4eL3T8gtLf"
   },
   "source": [
    "#### Epoch 2"
   ]
  },
  {
   "cell_type": "code",
   "execution_count": 10,
   "id": "u34gKYLGgtLr",
   "metadata": {
    "id": "u34gKYLGgtLr"
   },
   "outputs": [
    {
     "name": "stderr",
     "output_type": "stream",
     "text": [
      "loading configuration file content/drive/MyDrive_binary/output_Electra/holdout/checkpoint-25256/config.json\n",
      "Model config ElectraConfig {\n",
      "  \"_name_or_path\": \"content/drive/MyDrive_binary/output_Electra/holdout/checkpoint-25256\",\n",
      "  \"architectures\": [\n",
      "    \"ElectraForSequenceClassification\"\n",
      "  ],\n",
      "  \"attention_probs_dropout_prob\": 0.1,\n",
      "  \"classifier_dropout\": null,\n",
      "  \"embedding_size\": 128,\n",
      "  \"hidden_act\": \"gelu\",\n",
      "  \"hidden_dropout_prob\": 0.1,\n",
      "  \"hidden_size\": 256,\n",
      "  \"initializer_range\": 0.02,\n",
      "  \"intermediate_size\": 1024,\n",
      "  \"layer_norm_eps\": 1e-12,\n",
      "  \"max_position_embeddings\": 512,\n",
      "  \"model_type\": \"electra\",\n",
      "  \"num_attention_heads\": 4,\n",
      "  \"num_hidden_layers\": 12,\n",
      "  \"pad_token_id\": 0,\n",
      "  \"position_embedding_type\": \"absolute\",\n",
      "  \"problem_type\": \"single_label_classification\",\n",
      "  \"summary_activation\": \"gelu\",\n",
      "  \"summary_last_dropout\": 0.1,\n",
      "  \"summary_type\": \"first\",\n",
      "  \"summary_use_proj\": true,\n",
      "  \"torch_dtype\": \"float32\",\n",
      "  \"transformers_version\": \"4.19.1\",\n",
      "  \"type_vocab_size\": 2,\n",
      "  \"use_cache\": true,\n",
      "  \"vocab_size\": 30522\n",
      "}\n",
      "\n",
      "loading weights file content/drive/MyDrive_binary/output_Electra/holdout/checkpoint-25256/pytorch_model.bin\n",
      "All model checkpoint weights were used when initializing ElectraForSequenceClassification.\n",
      "\n",
      "All the weights of ElectraForSequenceClassification were initialized from the model checkpoint at content/drive/MyDrive_binary/output_Electra/holdout/checkpoint-25256.\n",
      "If your task is similar to the task the model of the checkpoint was trained on, you can already use ElectraForSequenceClassification for predictions without further training.\n",
      "No `TrainingArguments` passed, using `output_dir=tmp_trainer`.\n",
      "PyTorch: setting up devices\n",
      "The default value for the training argument `--report_to` will change in v5 (from all installed integrations to none). In v5, you will need to use `--report_to all` to get the same behavior as now. You should start updating your code and make this info disappear :-).\n",
      "***** Running Prediction *****\n",
      "  Num examples = 11225\n",
      "  Batch size = 8\n"
     ]
    },
    {
     "data": {
      "text/html": [
       "\n",
       "    <div>\n",
       "      \n",
       "      <progress value='1404' max='1404' style='width:300px; height:20px; vertical-align: middle;'></progress>\n",
       "      [1404/1404 01:26]\n",
       "    </div>\n",
       "    "
      ],
      "text/plain": [
       "<IPython.core.display.HTML object>"
      ]
     },
     "metadata": {},
     "output_type": "display_data"
    },
    {
     "name": "stdout",
     "output_type": "stream",
     "text": [
      "Classification Report:\n",
      "              precision    recall  f1-score   support\n",
      "\n",
      "           0       0.98      0.98      0.98     10687\n",
      "           1       0.57      0.52      0.54       538\n",
      "\n",
      "    accuracy                           0.96     11225\n",
      "   macro avg       0.77      0.75      0.76     11225\n",
      "weighted avg       0.96      0.96      0.96     11225\n",
      "\n",
      "\n",
      "Label 1: Cyberbullying\n",
      "Precision:  0.570264765784114\n",
      "Recall:  0.5204460966542751\n",
      "F-measure:  0.5442176870748298\n",
      "\n",
      "Label 0: Non-Cyberbullying\n",
      "Precision:  0.975964225824483\n",
      "Recall:  0.9802563862636848\n",
      "F-measure:  0.97810559731105\n",
      "\n",
      "Macro Metrics\n",
      "Precision:  0.7731144958042985\n",
      "Recall:  0.7503512414589799\n",
      "F-measure:  0.7611616421929399\n",
      "\n"
     ]
    },
    {
     "data": {
      "image/png": "[encoded data removed]",
      "text/plain": [
       "<Figure size 576x360 with 2 Axes>"
      ]
     },
     "metadata": {
      "needs_background": "light"
     },
     "output_type": "display_data"
    }
   ],
   "source": [
    "compute_metrics_holdout(model_name='Electra',\n",
    "                        model_path='content/drive/MyDrive_binary/output_Electra/holdout/checkpoint-25256', \n",
    "                        average_method='binary',\n",
    "                        X_test=X_test)"
   ]
  },
  {
   "cell_type": "markdown",
   "id": "KdECewOiL4tf",
   "metadata": {
    "id": "KdECewOiL4tf"
   },
   "source": [
    "#### Epoch 3"
   ]
  },
  {
   "cell_type": "code",
   "execution_count": 11,
   "id": "Rj2PqaNBL4tg",
   "metadata": {
    "id": "Rj2PqaNBL4tg"
   },
   "outputs": [
    {
     "name": "stderr",
     "output_type": "stream",
     "text": [
      "loading configuration file content/drive/MyDrive_binary/output_Electra/holdout/checkpoint-37884/config.json\n",
      "Model config ElectraConfig {\n",
      "  \"_name_or_path\": \"content/drive/MyDrive_binary/output_Electra/holdout/checkpoint-37884\",\n",
      "  \"architectures\": [\n",
      "    \"ElectraForSequenceClassification\"\n",
      "  ],\n",
      "  \"attention_probs_dropout_prob\": 0.1,\n",
      "  \"classifier_dropout\": null,\n",
      "  \"embedding_size\": 128,\n",
      "  \"hidden_act\": \"gelu\",\n",
      "  \"hidden_dropout_prob\": 0.1,\n",
      "  \"hidden_size\": 256,\n",
      "  \"initializer_range\": 0.02,\n",
      "  \"intermediate_size\": 1024,\n",
      "  \"layer_norm_eps\": 1e-12,\n",
      "  \"max_position_embeddings\": 512,\n",
      "  \"model_type\": \"electra\",\n",
      "  \"num_attention_heads\": 4,\n",
      "  \"num_hidden_layers\": 12,\n",
      "  \"pad_token_id\": 0,\n",
      "  \"position_embedding_type\": \"absolute\",\n",
      "  \"problem_type\": \"single_label_classification\",\n",
      "  \"summary_activation\": \"gelu\",\n",
      "  \"summary_last_dropout\": 0.1,\n",
      "  \"summary_type\": \"first\",\n",
      "  \"summary_use_proj\": true,\n",
      "  \"torch_dtype\": \"float32\",\n",
      "  \"transformers_version\": \"4.19.1\",\n",
      "  \"type_vocab_size\": 2,\n",
      "  \"use_cache\": true,\n",
      "  \"vocab_size\": 30522\n",
      "}\n",
      "\n",
      "loading weights file content/drive/MyDrive_binary/output_Electra/holdout/checkpoint-37884/pytorch_model.bin\n",
      "All model checkpoint weights were used when initializing ElectraForSequenceClassification.\n",
      "\n",
      "All the weights of ElectraForSequenceClassification were initialized from the model checkpoint at content/drive/MyDrive_binary/output_Electra/holdout/checkpoint-37884.\n",
      "If your task is similar to the task the model of the checkpoint was trained on, you can already use ElectraForSequenceClassification for predictions without further training.\n",
      "No `TrainingArguments` passed, using `output_dir=tmp_trainer`.\n",
      "PyTorch: setting up devices\n",
      "The default value for the training argument `--report_to` will change in v5 (from all installed integrations to none). In v5, you will need to use `--report_to all` to get the same behavior as now. You should start updating your code and make this info disappear :-).\n",
      "***** Running Prediction *****\n",
      "  Num examples = 11225\n",
      "  Batch size = 8\n"
     ]
    },
    {
     "data": {
      "text/html": [
       "\n",
       "    <div>\n",
       "      \n",
       "      <progress value='1404' max='1404' style='width:300px; height:20px; vertical-align: middle;'></progress>\n",
       "      [1404/1404 01:27]\n",
       "    </div>\n",
       "    "
      ],
      "text/plain": [
       "<IPython.core.display.HTML object>"
      ]
     },
     "metadata": {},
     "output_type": "display_data"
    },
    {
     "name": "stdout",
     "output_type": "stream",
     "text": [
      "Classification Report:\n",
      "              precision    recall  f1-score   support\n",
      "\n",
      "           0       0.97      0.99      0.98     10687\n",
      "           1       0.64      0.49      0.56       538\n",
      "\n",
      "    accuracy                           0.96     11225\n",
      "   macro avg       0.81      0.74      0.77     11225\n",
      "weighted avg       0.96      0.96      0.96     11225\n",
      "\n",
      "\n",
      "Label 1: Cyberbullying\n",
      "Precision:  0.6409638554216868\n",
      "Recall:  0.4944237918215613\n",
      "F-measure:  0.5582371458551941\n",
      "\n",
      "Label 0: Non-Cyberbullying\n",
      "Precision:  0.9748381128584643\n",
      "Recall:  0.9860578272667727\n",
      "F-measure:  0.980415871982137\n",
      "\n",
      "Macro Metrics\n",
      "Precision:  0.8079009841400755\n",
      "Recall:  0.740240809544167\n",
      "F-measure:  0.7693265089186656\n",
      "\n"
     ]
    },
    {
     "data": {
      "image/png": "[encoded data removed]",
      "text/plain": [
       "<Figure size 576x360 with 2 Axes>"
      ]
     },
     "metadata": {
      "needs_background": "light"
     },
     "output_type": "display_data"
    }
   ],
   "source": [
    "compute_metrics_holdout(model_name='Electra',\n",
    "                        model_path='content/drive/MyDrive_binary/output_Electra/holdout/checkpoint-37884', \n",
    "                        average_method='binary',\n",
    "                        X_test=X_test)"
   ]
  },
  {
   "cell_type": "markdown",
   "id": "uFLTBUzxL4MC",
   "metadata": {
    "id": "uFLTBUzxL4MC"
   },
   "source": [
    "#### Epoch 4"
   ]
  },
  {
   "cell_type": "code",
   "execution_count": 12,
   "id": "MrkHnZgHL4MC",
   "metadata": {
    "id": "MrkHnZgHL4MC"
   },
   "outputs": [
    {
     "name": "stderr",
     "output_type": "stream",
     "text": [
      "loading configuration file content/drive/MyDrive_binary/output_Electra/holdout/checkpoint-50512/config.json\n",
      "Model config ElectraConfig {\n",
      "  \"_name_or_path\": \"content/drive/MyDrive_binary/output_Electra/holdout/checkpoint-50512\",\n",
      "  \"architectures\": [\n",
      "    \"ElectraForSequenceClassification\"\n",
      "  ],\n",
      "  \"attention_probs_dropout_prob\": 0.1,\n",
      "  \"classifier_dropout\": null,\n",
      "  \"embedding_size\": 128,\n",
      "  \"hidden_act\": \"gelu\",\n",
      "  \"hidden_dropout_prob\": 0.1,\n",
      "  \"hidden_size\": 256,\n",
      "  \"initializer_range\": 0.02,\n",
      "  \"intermediate_size\": 1024,\n",
      "  \"layer_norm_eps\": 1e-12,\n",
      "  \"max_position_embeddings\": 512,\n",
      "  \"model_type\": \"electra\",\n",
      "  \"num_attention_heads\": 4,\n",
      "  \"num_hidden_layers\": 12,\n",
      "  \"pad_token_id\": 0,\n",
      "  \"position_embedding_type\": \"absolute\",\n",
      "  \"problem_type\": \"single_label_classification\",\n",
      "  \"summary_activation\": \"gelu\",\n",
      "  \"summary_last_dropout\": 0.1,\n",
      "  \"summary_type\": \"first\",\n",
      "  \"summary_use_proj\": true,\n",
      "  \"torch_dtype\": \"float32\",\n",
      "  \"transformers_version\": \"4.19.1\",\n",
      "  \"type_vocab_size\": 2,\n",
      "  \"use_cache\": true,\n",
      "  \"vocab_size\": 30522\n",
      "}\n",
      "\n",
      "loading weights file content/drive/MyDrive_binary/output_Electra/holdout/checkpoint-50512/pytorch_model.bin\n",
      "All model checkpoint weights were used when initializing ElectraForSequenceClassification.\n",
      "\n",
      "All the weights of ElectraForSequenceClassification were initialized from the model checkpoint at content/drive/MyDrive_binary/output_Electra/holdout/checkpoint-50512.\n",
      "If your task is similar to the task the model of the checkpoint was trained on, you can already use ElectraForSequenceClassification for predictions without further training.\n",
      "No `TrainingArguments` passed, using `output_dir=tmp_trainer`.\n",
      "PyTorch: setting up devices\n",
      "The default value for the training argument `--report_to` will change in v5 (from all installed integrations to none). In v5, you will need to use `--report_to all` to get the same behavior as now. You should start updating your code and make this info disappear :-).\n",
      "***** Running Prediction *****\n",
      "  Num examples = 11225\n",
      "  Batch size = 8\n"
     ]
    },
    {
     "data": {
      "text/html": [
       "\n",
       "    <div>\n",
       "      \n",
       "      <progress value='1404' max='1404' style='width:300px; height:20px; vertical-align: middle;'></progress>\n",
       "      [1404/1404 01:27]\n",
       "    </div>\n",
       "    "
      ],
      "text/plain": [
       "<IPython.core.display.HTML object>"
      ]
     },
     "metadata": {},
     "output_type": "display_data"
    },
    {
     "name": "stdout",
     "output_type": "stream",
     "text": [
      "Classification Report:\n",
      "              precision    recall  f1-score   support\n",
      "\n",
      "           0       0.98      0.98      0.98     10687\n",
      "           1       0.60      0.53      0.56       538\n",
      "\n",
      "    accuracy                           0.96     11225\n",
      "   macro avg       0.79      0.76      0.77     11225\n",
      "weighted avg       0.96      0.96      0.96     11225\n",
      "\n",
      "\n",
      "Label 1: Cyberbullying\n",
      "Precision:  0.6021052631578947\n",
      "Recall:  0.5315985130111525\n",
      "F-measure:  0.5646594274432379\n",
      "\n",
      "Label 0: Non-Cyberbullying\n",
      "Precision:  0.9765581395348837\n",
      "Recall:  0.9823149621034902\n",
      "F-measure:  0.9794280916172972\n",
      "\n",
      "Macro Metrics\n",
      "Precision:  0.7893317013463892\n",
      "Recall:  0.7569567375573214\n",
      "F-measure:  0.7720437595302676\n",
      "\n"
     ]
    },
    {
     "data": {
      "image/png": "[encoded data removed]",
      "text/plain": [
       "<Figure size 576x360 with 2 Axes>"
      ]
     },
     "metadata": {
      "needs_background": "light"
     },
     "output_type": "display_data"
    }
   ],
   "source": [
    "compute_metrics_holdout(model_name='Electra',\n",
    "                        model_path='content/drive/MyDrive_binary/output_Electra/holdout/checkpoint-50512', \n",
    "                        average_method='binary',\n",
    "                        X_test=X_test)"
   ]
  },
  {
   "cell_type": "markdown",
   "id": "eFNCqLf6L3pO",
   "metadata": {
    "id": "eFNCqLf6L3pO"
   },
   "source": [
    "#### Epoch 5"
   ]
  },
  {
   "cell_type": "code",
   "execution_count": 13,
   "id": "HvUFFr68L3pQ",
   "metadata": {
    "id": "HvUFFr68L3pQ"
   },
   "outputs": [
    {
     "name": "stderr",
     "output_type": "stream",
     "text": [
      "loading configuration file content/drive/MyDrive_binary/output_Electra/holdout/checkpoint-63140/config.json\n",
      "Model config ElectraConfig {\n",
      "  \"_name_or_path\": \"content/drive/MyDrive_binary/output_Electra/holdout/checkpoint-63140\",\n",
      "  \"architectures\": [\n",
      "    \"ElectraForSequenceClassification\"\n",
      "  ],\n",
      "  \"attention_probs_dropout_prob\": 0.1,\n",
      "  \"classifier_dropout\": null,\n",
      "  \"embedding_size\": 128,\n",
      "  \"hidden_act\": \"gelu\",\n",
      "  \"hidden_dropout_prob\": 0.1,\n",
      "  \"hidden_size\": 256,\n",
      "  \"initializer_range\": 0.02,\n",
      "  \"intermediate_size\": 1024,\n",
      "  \"layer_norm_eps\": 1e-12,\n",
      "  \"max_position_embeddings\": 512,\n",
      "  \"model_type\": \"electra\",\n",
      "  \"num_attention_heads\": 4,\n",
      "  \"num_hidden_layers\": 12,\n",
      "  \"pad_token_id\": 0,\n",
      "  \"position_embedding_type\": \"absolute\",\n",
      "  \"problem_type\": \"single_label_classification\",\n",
      "  \"summary_activation\": \"gelu\",\n",
      "  \"summary_last_dropout\": 0.1,\n",
      "  \"summary_type\": \"first\",\n",
      "  \"summary_use_proj\": true,\n",
      "  \"torch_dtype\": \"float32\",\n",
      "  \"transformers_version\": \"4.19.1\",\n",
      "  \"type_vocab_size\": 2,\n",
      "  \"use_cache\": true,\n",
      "  \"vocab_size\": 30522\n",
      "}\n",
      "\n",
      "loading weights file content/drive/MyDrive_binary/output_Electra/holdout/checkpoint-63140/pytorch_model.bin\n",
      "All model checkpoint weights were used when initializing ElectraForSequenceClassification.\n",
      "\n",
      "All the weights of ElectraForSequenceClassification were initialized from the model checkpoint at content/drive/MyDrive_binary/output_Electra/holdout/checkpoint-63140.\n",
      "If your task is similar to the task the model of the checkpoint was trained on, you can already use ElectraForSequenceClassification for predictions without further training.\n",
      "No `TrainingArguments` passed, using `output_dir=tmp_trainer`.\n",
      "PyTorch: setting up devices\n",
      "The default value for the training argument `--report_to` will change in v5 (from all installed integrations to none). In v5, you will need to use `--report_to all` to get the same behavior as now. You should start updating your code and make this info disappear :-).\n",
      "***** Running Prediction *****\n",
      "  Num examples = 11225\n",
      "  Batch size = 8\n"
     ]
    },
    {
     "data": {
      "text/html": [
       "\n",
       "    <div>\n",
       "      \n",
       "      <progress value='1404' max='1404' style='width:300px; height:20px; vertical-align: middle;'></progress>\n",
       "      [1404/1404 01:26]\n",
       "    </div>\n",
       "    "
      ],
      "text/plain": [
       "<IPython.core.display.HTML object>"
      ]
     },
     "metadata": {},
     "output_type": "display_data"
    },
    {
     "name": "stdout",
     "output_type": "stream",
     "text": [
      "Classification Report:\n",
      "              precision    recall  f1-score   support\n",
      "\n",
      "           0       0.97      0.99      0.98     10687\n",
      "           1       0.66      0.49      0.56       538\n",
      "\n",
      "    accuracy                           0.96     11225\n",
      "   macro avg       0.81      0.74      0.77     11225\n",
      "weighted avg       0.96      0.96      0.96     11225\n",
      "\n",
      "\n",
      "Label 1: Cyberbullying\n",
      "Precision:  0.6550868486352357\n",
      "Recall:  0.49070631970260226\n",
      "F-measure:  0.5611052072263549\n",
      "\n",
      "Label 0: Non-Cyberbullying\n",
      "Precision:  0.9746812049528738\n",
      "Recall:  0.9869935435575934\n",
      "F-measure:  0.9807987354130828\n",
      "\n",
      "Macro Metrics\n",
      "Precision:  0.8148840267940547\n",
      "Recall:  0.7388499316300978\n",
      "F-measure:  0.7709519713197188\n",
      "\n"
     ]
    },
    {
     "data": {
      "image/png": "[encoded data removed]",
      "text/plain": [
       "<Figure size 576x360 with 2 Axes>"
      ]
     },
     "metadata": {
      "needs_background": "light"
     },
     "output_type": "display_data"
    }
   ],
   "source": [
    "compute_metrics_holdout(model_name='Electra',\n",
    "                        model_path='content/drive/MyDrive_binary/output_Electra/holdout/checkpoint-63140', \n",
    "                        average_method='binary',\n",
    "                        X_test=X_test)"
   ]
  },
  {
   "cell_type": "markdown",
   "id": "OYWrSlPXL3Ac",
   "metadata": {
    "id": "OYWrSlPXL3Ac"
   },
   "source": [
    "#### Epoch 6"
   ]
  },
  {
   "cell_type": "code",
   "execution_count": 14,
   "id": "qacb90FQL3Ad",
   "metadata": {
    "id": "qacb90FQL3Ad"
   },
   "outputs": [
    {
     "name": "stderr",
     "output_type": "stream",
     "text": [
      "loading configuration file content/drive/MyDrive_binary/output_Electra/holdout/checkpoint-75768/config.json\n",
      "Model config ElectraConfig {\n",
      "  \"_name_or_path\": \"content/drive/MyDrive_binary/output_Electra/holdout/checkpoint-75768\",\n",
      "  \"architectures\": [\n",
      "    \"ElectraForSequenceClassification\"\n",
      "  ],\n",
      "  \"attention_probs_dropout_prob\": 0.1,\n",
      "  \"classifier_dropout\": null,\n",
      "  \"embedding_size\": 128,\n",
      "  \"hidden_act\": \"gelu\",\n",
      "  \"hidden_dropout_prob\": 0.1,\n",
      "  \"hidden_size\": 256,\n",
      "  \"initializer_range\": 0.02,\n",
      "  \"intermediate_size\": 1024,\n",
      "  \"layer_norm_eps\": 1e-12,\n",
      "  \"max_position_embeddings\": 512,\n",
      "  \"model_type\": \"electra\",\n",
      "  \"num_attention_heads\": 4,\n",
      "  \"num_hidden_layers\": 12,\n",
      "  \"pad_token_id\": 0,\n",
      "  \"position_embedding_type\": \"absolute\",\n",
      "  \"problem_type\": \"single_label_classification\",\n",
      "  \"summary_activation\": \"gelu\",\n",
      "  \"summary_last_dropout\": 0.1,\n",
      "  \"summary_type\": \"first\",\n",
      "  \"summary_use_proj\": true,\n",
      "  \"torch_dtype\": \"float32\",\n",
      "  \"transformers_version\": \"4.19.1\",\n",
      "  \"type_vocab_size\": 2,\n",
      "  \"use_cache\": true,\n",
      "  \"vocab_size\": 30522\n",
      "}\n",
      "\n",
      "loading weights file content/drive/MyDrive_binary/output_Electra/holdout/checkpoint-75768/pytorch_model.bin\n",
      "All model checkpoint weights were used when initializing ElectraForSequenceClassification.\n",
      "\n",
      "All the weights of ElectraForSequenceClassification were initialized from the model checkpoint at content/drive/MyDrive_binary/output_Electra/holdout/checkpoint-75768.\n",
      "If your task is similar to the task the model of the checkpoint was trained on, you can already use ElectraForSequenceClassification for predictions without further training.\n",
      "No `TrainingArguments` passed, using `output_dir=tmp_trainer`.\n",
      "PyTorch: setting up devices\n",
      "The default value for the training argument `--report_to` will change in v5 (from all installed integrations to none). In v5, you will need to use `--report_to all` to get the same behavior as now. You should start updating your code and make this info disappear :-).\n",
      "***** Running Prediction *****\n",
      "  Num examples = 11225\n",
      "  Batch size = 8\n"
     ]
    },
    {
     "data": {
      "text/html": [
       "\n",
       "    <div>\n",
       "      \n",
       "      <progress value='1404' max='1404' style='width:300px; height:20px; vertical-align: middle;'></progress>\n",
       "      [1404/1404 01:26]\n",
       "    </div>\n",
       "    "
      ],
      "text/plain": [
       "<IPython.core.display.HTML object>"
      ]
     },
     "metadata": {},
     "output_type": "display_data"
    },
    {
     "name": "stdout",
     "output_type": "stream",
     "text": [
      "Classification Report:\n",
      "              precision    recall  f1-score   support\n",
      "\n",
      "           0       0.97      0.99      0.98     10687\n",
      "           1       0.74      0.45      0.56       538\n",
      "\n",
      "    accuracy                           0.97     11225\n",
      "   macro avg       0.86      0.72      0.77     11225\n",
      "weighted avg       0.96      0.97      0.96     11225\n",
      "\n",
      "\n",
      "Label 1: Cyberbullying\n",
      "Precision:  0.7371601208459214\n",
      "Recall:  0.45353159851301117\n",
      "F-measure:  0.5615650172612198\n",
      "\n",
      "Label 0: Non-Cyberbullying\n",
      "Precision:  0.9730126675234074\n",
      "Recall:  0.9918592682698606\n",
      "F-measure:  0.9823455817617349\n",
      "\n",
      "Macro Metrics\n",
      "Precision:  0.8550863941846645\n",
      "Recall:  0.7226954333914359\n",
      "F-measure:  0.7719552995114773\n",
      "\n"
     ]
    },
    {
     "data": {
      "image/png": "[encoded data removed]",
      "text/plain": [
       "<Figure size 576x360 with 2 Axes>"
      ]
     },
     "metadata": {
      "needs_background": "light"
     },
     "output_type": "display_data"
    }
   ],
   "source": [
    "compute_metrics_holdout(model_name='Electra',\n",
    "                        model_path='content/drive/MyDrive_binary/output_Electra/holdout/checkpoint-75768', \n",
    "                        average_method='binary',\n",
    "                        X_test=X_test)"
   ]
  },
  {
   "cell_type": "markdown",
   "id": "jhRILtDlL2XU",
   "metadata": {
    "id": "jhRILtDlL2XU"
   },
   "source": [
    "#### Epoch 7"
   ]
  },
  {
   "cell_type": "code",
   "execution_count": 15,
   "id": "BVv65a-7L2XV",
   "metadata": {
    "id": "BVv65a-7L2XV"
   },
   "outputs": [
    {
     "name": "stderr",
     "output_type": "stream",
     "text": [
      "loading configuration file content/drive/MyDrive_binary/output_Electra/holdout/checkpoint-88396/config.json\n",
      "Model config ElectraConfig {\n",
      "  \"_name_or_path\": \"content/drive/MyDrive_binary/output_Electra/holdout/checkpoint-88396\",\n",
      "  \"architectures\": [\n",
      "    \"ElectraForSequenceClassification\"\n",
      "  ],\n",
      "  \"attention_probs_dropout_prob\": 0.1,\n",
      "  \"classifier_dropout\": null,\n",
      "  \"embedding_size\": 128,\n",
      "  \"hidden_act\": \"gelu\",\n",
      "  \"hidden_dropout_prob\": 0.1,\n",
      "  \"hidden_size\": 256,\n",
      "  \"initializer_range\": 0.02,\n",
      "  \"intermediate_size\": 1024,\n",
      "  \"layer_norm_eps\": 1e-12,\n",
      "  \"max_position_embeddings\": 512,\n",
      "  \"model_type\": \"electra\",\n",
      "  \"num_attention_heads\": 4,\n",
      "  \"num_hidden_layers\": 12,\n",
      "  \"pad_token_id\": 0,\n",
      "  \"position_embedding_type\": \"absolute\",\n",
      "  \"problem_type\": \"single_label_classification\",\n",
      "  \"summary_activation\": \"gelu\",\n",
      "  \"summary_last_dropout\": 0.1,\n",
      "  \"summary_type\": \"first\",\n",
      "  \"summary_use_proj\": true,\n",
      "  \"torch_dtype\": \"float32\",\n",
      "  \"transformers_version\": \"4.19.1\",\n",
      "  \"type_vocab_size\": 2,\n",
      "  \"use_cache\": true,\n",
      "  \"vocab_size\": 30522\n",
      "}\n",
      "\n",
      "loading weights file content/drive/MyDrive_binary/output_Electra/holdout/checkpoint-88396/pytorch_model.bin\n",
      "All model checkpoint weights were used when initializing ElectraForSequenceClassification.\n",
      "\n",
      "All the weights of ElectraForSequenceClassification were initialized from the model checkpoint at content/drive/MyDrive_binary/output_Electra/holdout/checkpoint-88396.\n",
      "If your task is similar to the task the model of the checkpoint was trained on, you can already use ElectraForSequenceClassification for predictions without further training.\n",
      "No `TrainingArguments` passed, using `output_dir=tmp_trainer`.\n",
      "PyTorch: setting up devices\n",
      "The default value for the training argument `--report_to` will change in v5 (from all installed integrations to none). In v5, you will need to use `--report_to all` to get the same behavior as now. You should start updating your code and make this info disappear :-).\n",
      "***** Running Prediction *****\n",
      "  Num examples = 11225\n",
      "  Batch size = 8\n"
     ]
    },
    {
     "data": {
      "text/html": [
       "\n",
       "    <div>\n",
       "      \n",
       "      <progress value='1404' max='1404' style='width:300px; height:20px; vertical-align: middle;'></progress>\n",
       "      [1404/1404 01:27]\n",
       "    </div>\n",
       "    "
      ],
      "text/plain": [
       "<IPython.core.display.HTML object>"
      ]
     },
     "metadata": {},
     "output_type": "display_data"
    },
    {
     "name": "stdout",
     "output_type": "stream",
     "text": [
      "Classification Report:\n",
      "              precision    recall  f1-score   support\n",
      "\n",
      "           0       0.98      0.99      0.98     10687\n",
      "           1       0.68      0.51      0.59       538\n",
      "\n",
      "    accuracy                           0.97     11225\n",
      "   macro avg       0.83      0.75      0.78     11225\n",
      "weighted avg       0.96      0.97      0.96     11225\n",
      "\n",
      "\n",
      "Label 1: Cyberbullying\n",
      "Precision:  0.6814814814814815\n",
      "Recall:  0.5130111524163569\n",
      "F-measure:  0.5853658536585366\n",
      "\n",
      "Label 0: Non-Cyberbullying\n",
      "Precision:  0.9757855822550832\n",
      "Recall:  0.987929259848414\n",
      "F-measure:  0.9818198725996187\n",
      "\n",
      "Macro Metrics\n",
      "Precision:  0.8286335318682823\n",
      "Recall:  0.7504702061323854\n",
      "F-measure:  0.7835928631290776\n",
      "\n"
     ]
    },
    {
     "data": {
      "image/png": "[encoded data removed]",
      "text/plain": [
       "<Figure size 576x360 with 2 Axes>"
      ]
     },
     "metadata": {
      "needs_background": "light"
     },
     "output_type": "display_data"
    }
   ],
   "source": [
    "compute_metrics_holdout(model_name='Electra',\n",
    "                        model_path='content/drive/MyDrive_binary/output_Electra/holdout/checkpoint-88396', \n",
    "                        average_method='binary',\n",
    "                        X_test=X_test)"
   ]
  },
  {
   "cell_type": "markdown",
   "id": "OC_9eI5WMF8p",
   "metadata": {
    "id": "OC_9eI5WMF8p"
   },
   "source": [
    "#### Epoch 8"
   ]
  },
  {
   "cell_type": "code",
   "execution_count": 16,
   "id": "70m3Ek4sMF8q",
   "metadata": {
    "id": "70m3Ek4sMF8q"
   },
   "outputs": [
    {
     "name": "stderr",
     "output_type": "stream",
     "text": [
      "loading configuration file content/drive/MyDrive_binary/output_Electra/holdout/checkpoint-101024/config.json\n",
      "Model config ElectraConfig {\n",
      "  \"_name_or_path\": \"content/drive/MyDrive_binary/output_Electra/holdout/checkpoint-101024\",\n",
      "  \"architectures\": [\n",
      "    \"ElectraForSequenceClassification\"\n",
      "  ],\n",
      "  \"attention_probs_dropout_prob\": 0.1,\n",
      "  \"classifier_dropout\": null,\n",
      "  \"embedding_size\": 128,\n",
      "  \"hidden_act\": \"gelu\",\n",
      "  \"hidden_dropout_prob\": 0.1,\n",
      "  \"hidden_size\": 256,\n",
      "  \"initializer_range\": 0.02,\n",
      "  \"intermediate_size\": 1024,\n",
      "  \"layer_norm_eps\": 1e-12,\n",
      "  \"max_position_embeddings\": 512,\n",
      "  \"model_type\": \"electra\",\n",
      "  \"num_attention_heads\": 4,\n",
      "  \"num_hidden_layers\": 12,\n",
      "  \"pad_token_id\": 0,\n",
      "  \"position_embedding_type\": \"absolute\",\n",
      "  \"problem_type\": \"single_label_classification\",\n",
      "  \"summary_activation\": \"gelu\",\n",
      "  \"summary_last_dropout\": 0.1,\n",
      "  \"summary_type\": \"first\",\n",
      "  \"summary_use_proj\": true,\n",
      "  \"torch_dtype\": \"float32\",\n",
      "  \"transformers_version\": \"4.19.1\",\n",
      "  \"type_vocab_size\": 2,\n",
      "  \"use_cache\": true,\n",
      "  \"vocab_size\": 30522\n",
      "}\n",
      "\n",
      "loading weights file content/drive/MyDrive_binary/output_Electra/holdout/checkpoint-101024/pytorch_model.bin\n",
      "All model checkpoint weights were used when initializing ElectraForSequenceClassification.\n",
      "\n",
      "All the weights of ElectraForSequenceClassification were initialized from the model checkpoint at content/drive/MyDrive_binary/output_Electra/holdout/checkpoint-101024.\n",
      "If your task is similar to the task the model of the checkpoint was trained on, you can already use ElectraForSequenceClassification for predictions without further training.\n",
      "No `TrainingArguments` passed, using `output_dir=tmp_trainer`.\n",
      "PyTorch: setting up devices\n",
      "The default value for the training argument `--report_to` will change in v5 (from all installed integrations to none). In v5, you will need to use `--report_to all` to get the same behavior as now. You should start updating your code and make this info disappear :-).\n",
      "***** Running Prediction *****\n",
      "  Num examples = 11225\n",
      "  Batch size = 8\n"
     ]
    },
    {
     "data": {
      "text/html": [
       "\n",
       "    <div>\n",
       "      \n",
       "      <progress value='1404' max='1404' style='width:300px; height:20px; vertical-align: middle;'></progress>\n",
       "      [1404/1404 01:27]\n",
       "    </div>\n",
       "    "
      ],
      "text/plain": [
       "<IPython.core.display.HTML object>"
      ]
     },
     "metadata": {},
     "output_type": "display_data"
    },
    {
     "name": "stdout",
     "output_type": "stream",
     "text": [
      "Classification Report:\n",
      "              precision    recall  f1-score   support\n",
      "\n",
      "           0       0.98      0.99      0.98     10687\n",
      "           1       0.68      0.52      0.59       538\n",
      "\n",
      "    accuracy                           0.97     11225\n",
      "   macro avg       0.83      0.75      0.79     11225\n",
      "weighted avg       0.96      0.97      0.96     11225\n",
      "\n",
      "\n",
      "Label 1: Cyberbullying\n",
      "Precision:  0.6804878048780488\n",
      "Recall:  0.5185873605947955\n",
      "F-measure:  0.5886075949367088\n",
      "\n",
      "Label 0: Non-Cyberbullying\n",
      "Precision:  0.976051779935275\n",
      "Recall:  0.9877421165902498\n",
      "F-measure:  0.9818621523579202\n",
      "\n",
      "Macro Metrics\n",
      "Precision:  0.828269792406662\n",
      "Recall:  0.7531647385925226\n",
      "F-measure:  0.7852348736473145\n",
      "\n"
     ]
    },
    {
     "data": {
      "image/png": "[encoded data removed]",
      "text/plain": [
       "<Figure size 576x360 with 2 Axes>"
      ]
     },
     "metadata": {
      "needs_background": "light"
     },
     "output_type": "display_data"
    }
   ],
   "source": [
    "compute_metrics_holdout(model_name='Electra',\n",
    "                        model_path='content/drive/MyDrive_binary/output_Electra/holdout/checkpoint-101024', \n",
    "                        average_method='binary',\n",
    "                        X_test=X_test)"
   ]
  }
 ],
 "metadata": {
  "accelerator": "GPU",
  "colab": {
   "collapsed_sections": [
    "t6kQkR3fK9T0",
    "fG7eAEaFtIYk",
    "Ir4eL3T8gtLf",
    "KdECewOiL4tf",
    "uFLTBUzxL4MC",
    "eFNCqLf6L3pO",
    "OYWrSlPXL3Ac",
    "jhRILtDlL2XU",
    "OC_9eI5WMF8p",
    "5CH0cmxrMFSV",
    "xgLbAOZ7MEdd",
    "wTPokVq2pcUu",
    "5vlEdGyfpcUv",
    "3SHI4jYYpcUv",
    "jptg0BcZpcUv",
    "_AlZhKF5pcUv",
    "6MAeDeTWpcUv",
    "yqeXDiEipcUw",
    "ArQmCEzspcUw",
    "oDn0CPRXpcUw",
    "mYNtqY5cpcUw"
   ],
   "name": "Fine Tune Transformers from HuggingFace RoBerta (Sample).ipynb",
   "provenance": []
  },
  "kernelspec": {
   "display_name": "Python 3 (ipykernel)",
   "language": "python",
   "name": "python3"
  },
  "language_info": {
   "codemirror_mode": {
    "name": "ipython",
    "version": 3
   },
   "file_extension": ".py",
   "mimetype": "text/x-python",
   "name": "python",
   "nbconvert_exporter": "python",
   "pygments_lexer": "ipython3",
   "version": "3.9.7"
  }
 },
 "nbformat": 4,
 "nbformat_minor": 5
}
