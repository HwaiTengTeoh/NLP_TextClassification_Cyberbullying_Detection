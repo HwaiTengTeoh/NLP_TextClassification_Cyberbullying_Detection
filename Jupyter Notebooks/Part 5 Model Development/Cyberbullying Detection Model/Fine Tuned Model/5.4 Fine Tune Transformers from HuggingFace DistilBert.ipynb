{
 "cells": [
  {
   "cell_type": "markdown",
   "id": "a0aff953",
   "metadata": {
    "id": "a0aff953"
   },
   "source": [
    "<div class=\"alert alert-info\" style=\"background-color:#5d3a8e; color:white; padding:0px 10px; border-radius:5px;\"><h2 style='margin:10px 5px'>Required Libraries and Modules</h2>\n",
    "</div>"
   ]
  },
  {
   "cell_type": "markdown",
   "id": "2ed8dcc9",
   "metadata": {},
   "source": [
    "**Note: This notebook is run in Paperspace platform**"
   ]
  },
  {
   "cell_type": "code",
   "execution_count": 1,
   "id": "OItEYDmL1hi2",
   "metadata": {
    "id": "OItEYDmL1hi2"
   },
   "outputs": [
    {
     "name": "stdout",
     "output_type": "stream",
     "text": [
      "\u001b[33mWARNING: The directory '/home/jovyan/.cache/pip' or its parent directory is not owned or is not writable by the current user. The cache has been disabled. Check the permissions and owner of that directory. If executing pip with sudo, you should use sudo's -H flag.\u001b[0m\u001b[33m\n",
      "\u001b[0mCollecting transformers\n",
      "  Downloading transformers-4.19.0-py3-none-any.whl (4.2 MB)\n",
      "\u001b[2K     \u001b[90m━━━━━━━━━━━━━━━━━━━━━━━━━━━━━━━━━━━━━━━━\u001b[0m \u001b[32m4.2/4.2 MB\u001b[0m \u001b[31m20.3 MB/s\u001b[0m eta \u001b[36m0:00:00\u001b[0ma \u001b[36m0:00:01\u001b[0m\n",
      "\u001b[?25hRequirement already satisfied: pyyaml>=5.1 in /opt/conda/lib/python3.9/site-packages (from transformers) (5.4.1)\n",
      "Collecting regex!=2019.12.17\n",
      "  Downloading regex-2022.4.24-cp39-cp39-manylinux_2_17_x86_64.manylinux2014_x86_64.whl (763 kB)\n",
      "\u001b[2K     \u001b[90m━━━━━━━━━━━━━━━━━━━━━━━━━━━━━━━━━━━━━━━\u001b[0m \u001b[32m763.2/763.2 KB\u001b[0m \u001b[31m8.2 MB/s\u001b[0m eta \u001b[36m0:00:00\u001b[0ma \u001b[36m0:00:01\u001b[0m\n",
      "\u001b[?25hCollecting filelock\n",
      "  Downloading filelock-3.6.0-py3-none-any.whl (10.0 kB)\n",
      "Collecting huggingface-hub<1.0,>=0.1.0\n",
      "  Downloading huggingface_hub-0.6.0-py3-none-any.whl (84 kB)\n",
      "\u001b[2K     \u001b[90m━━━━━━━━━━━━━━━━━━━━━━━━━━━━━━━━━━━━━━━\u001b[0m \u001b[32m84.4/84.4 KB\u001b[0m \u001b[31m197.5 MB/s\u001b[0m eta \u001b[36m0:00:00\u001b[0m\n",
      "\u001b[?25hRequirement already satisfied: numpy>=1.17 in /opt/conda/lib/python3.9/site-packages (from transformers) (1.21.5)\n",
      "Requirement already satisfied: requests in /opt/conda/lib/python3.9/site-packages (from transformers) (2.27.1)\n",
      "Requirement already satisfied: packaging>=20.0 in /opt/conda/lib/python3.9/site-packages (from transformers) (21.3)\n",
      "Requirement already satisfied: tqdm>=4.27 in /opt/conda/lib/python3.9/site-packages (from transformers) (4.62.3)\n",
      "Collecting tokenizers!=0.11.3,<0.13,>=0.11.1\n",
      "  Downloading tokenizers-0.12.1-cp39-cp39-manylinux_2_12_x86_64.manylinux2010_x86_64.whl (6.6 MB)\n",
      "\u001b[2K     \u001b[90m━━━━━━━━━━━━━━━━━━━━━━━━━━━━━━━━━━━━━━━━\u001b[0m \u001b[32m6.6/6.6 MB\u001b[0m \u001b[31m24.1 MB/s\u001b[0m eta \u001b[36m0:00:00\u001b[0ma \u001b[36m0:00:01\u001b[0m\n",
      "\u001b[?25hRequirement already satisfied: typing-extensions>=3.7.4.3 in /opt/conda/lib/python3.9/site-packages (from huggingface-hub<1.0,>=0.1.0->transformers) (4.1.1)\n",
      "Requirement already satisfied: pyparsing!=3.0.5,>=2.0.2 in /opt/conda/lib/python3.9/site-packages (from packaging>=20.0->transformers) (3.0.7)\n",
      "Requirement already satisfied: certifi>=2017.4.17 in /opt/conda/lib/python3.9/site-packages (from requests->transformers) (2021.10.8)\n",
      "Requirement already satisfied: urllib3<1.27,>=1.21.1 in /opt/conda/lib/python3.9/site-packages (from requests->transformers) (1.26.8)\n",
      "Requirement already satisfied: charset-normalizer~=2.0.0 in /opt/conda/lib/python3.9/site-packages (from requests->transformers) (2.0.12)\n",
      "Requirement already satisfied: idna<4,>=2.5 in /opt/conda/lib/python3.9/site-packages (from requests->transformers) (3.3)\n",
      "Installing collected packages: tokenizers, regex, filelock, huggingface-hub, transformers\n",
      "Successfully installed filelock-3.6.0 huggingface-hub-0.6.0 regex-2022.4.24 tokenizers-0.12.1 transformers-4.19.0\n",
      "\u001b[33mWARNING: Running pip as the 'root' user can result in broken permissions and conflicting behaviour with the system package manager. It is recommended to use a virtual environment instead: https://pip.pypa.io/warnings/venv\u001b[0m\u001b[33m\n",
      "\u001b[0m\u001b[33mWARNING: The directory '/home/jovyan/.cache/pip' or its parent directory is not owned or is not writable by the current user. The cache has been disabled. Check the permissions and owner of that directory. If executing pip with sudo, you should use sudo's -H flag.\u001b[0m\u001b[33m\n",
      "\u001b[0mCollecting torch\n",
      "  Downloading torch-1.11.0-cp39-cp39-manylinux1_x86_64.whl (750.6 MB)\n",
      "\u001b[2K     \u001b[90m━━━━━━━━━━━━━━━━━━━━━━━━━━━━━━━━━━━━━━\u001b[0m \u001b[32m750.6/750.6 MB\u001b[0m \u001b[31m23.9 MB/s\u001b[0m eta \u001b[36m0:00:00\u001b[0m00:01\u001b[0m00:01\u001b[0m\n",
      "\u001b[?25hRequirement already satisfied: typing-extensions in /opt/conda/lib/python3.9/site-packages (from torch) (4.1.1)\n",
      "Installing collected packages: torch\n",
      "Successfully installed torch-1.11.0\n",
      "\u001b[33mWARNING: Running pip as the 'root' user can result in broken permissions and conflicting behaviour with the system package manager. It is recommended to use a virtual environment instead: https://pip.pypa.io/warnings/venv\u001b[0m\u001b[33m\n",
      "\u001b[0m\u001b[33mWARNING: The directory '/home/jovyan/.cache/pip' or its parent directory is not owned or is not writable by the current user. The cache has been disabled. Check the permissions and owner of that directory. If executing pip with sudo, you should use sudo's -H flag.\u001b[0m\u001b[33m\n",
      "\u001b[0mCollecting imblearn\n",
      "  Downloading imblearn-0.0-py2.py3-none-any.whl (1.9 kB)\n",
      "Collecting imbalanced-learn\n",
      "  Downloading imbalanced_learn-0.9.0-py3-none-any.whl (199 kB)\n",
      "\u001b[2K     \u001b[90m━━━━━━━━━━━━━━━━━━━━━━━━━━━━━━━━━━━━━━\u001b[0m \u001b[32m199.1/199.1 KB\u001b[0m \u001b[31m32.1 MB/s\u001b[0m eta \u001b[36m0:00:00\u001b[0m\n",
      "\u001b[?25hRequirement already satisfied: joblib>=0.11 in /opt/conda/lib/python3.9/site-packages (from imbalanced-learn->imblearn) (1.1.0)\n",
      "Requirement already satisfied: scikit-learn>=1.0.1 in /opt/conda/lib/python3.9/site-packages (from imbalanced-learn->imblearn) (1.0.2)\n",
      "Requirement already satisfied: scipy>=1.1.0 in /opt/conda/lib/python3.9/site-packages (from imbalanced-learn->imblearn) (1.8.0)\n",
      "Requirement already satisfied: threadpoolctl>=2.0.0 in /opt/conda/lib/python3.9/site-packages (from imbalanced-learn->imblearn) (3.1.0)\n",
      "Requirement already satisfied: numpy>=1.14.6 in /opt/conda/lib/python3.9/site-packages (from imbalanced-learn->imblearn) (1.21.5)\n",
      "Installing collected packages: imbalanced-learn, imblearn\n",
      "Successfully installed imbalanced-learn-0.9.0 imblearn-0.0\n",
      "\u001b[33mWARNING: Running pip as the 'root' user can result in broken permissions and conflicting behaviour with the system package manager. It is recommended to use a virtual environment instead: https://pip.pypa.io/warnings/venv\u001b[0m\u001b[33m\n",
      "\u001b[0m"
     ]
    }
   ],
   "source": [
    "!pip install transformers\n",
    "!pip install torch\n",
    "!pip install imblearn"
   ]
  },
  {
   "cell_type": "code",
   "execution_count": 2,
   "id": "02505ed3",
   "metadata": {
    "id": "02505ed3"
   },
   "outputs": [
    {
     "name": "stderr",
     "output_type": "stream",
     "text": [
      "/tmp/ipykernel_52/491656687.py:14: TqdmDeprecationWarning: This function will be removed in tqdm==5.0.0\n",
      "Please use `tqdm.notebook.*` instead of `tqdm._tqdm_notebook.*`\n",
      "  from tqdm._tqdm_notebook import tqdm_notebook\n"
     ]
    }
   ],
   "source": [
    "import numpy as np\n",
    "import pandas as pd\n",
    "\n",
    "from sklearn.model_selection import train_test_split, StratifiedKFold, StratifiedShuffleSplit\n",
    "from sklearn.metrics import accuracy_score, recall_score, precision_score, f1_score, roc_auc_score, classification_report\n",
    "\n",
    "import torch\n",
    "from transformers import AutoTokenizer, AutoModelForSequenceClassification\n",
    "from transformers import TrainingArguments, Trainer\n",
    "from transformers import BertTokenizer, BertForSequenceClassification\n",
    "from transformers import EarlyStoppingCallback, set_seed\n",
    "\n",
    "# Progress bar\n",
    "from tqdm._tqdm_notebook import tqdm_notebook\n",
    "from tqdm import tqdm\n",
    "tqdm_notebook.pandas()"
   ]
  },
  {
   "cell_type": "markdown",
   "id": "5a8c1621",
   "metadata": {
    "id": "5a8c1621"
   },
   "source": [
    "<div class=\"alert alert-info\" style=\"background-color:#5d3a8e; color:white; padding:0px 10px; border-radius:5px;\"><h2 style='margin:10px 5px'>Import Clean Text Data</h2>\n",
    "</div>"
   ]
  },
  {
   "cell_type": "code",
   "execution_count": 3,
   "id": "c58048aa",
   "metadata": {
    "id": "c58048aa"
   },
   "outputs": [
    {
     "data": {
      "application/vnd.jupyter.widget-view+json": {
       "model_id": "e876ee0097b54a62a31d688a20b98379",
       "version_major": 2,
       "version_minor": 0
      },
      "text/plain": [
       "  0%|          | 0/112247 [00:00<?, ?it/s]"
      ]
     },
     "metadata": {},
     "output_type": "display_data"
    }
   ],
   "source": [
    "###############################################################\n",
    "# Note: Change the name of data set used for feature creation\n",
    "###############################################################\n",
    "data_set='bully_data_clean_with_stopword'\n",
    "    \n",
    "    \n",
    "###################\n",
    "# Import Data Set #\n",
    "###################\n",
    "bully_data_cleaned = pd.read_csv('/datasets/data/bully_data_clean_with_stopword_short.csv', encoding='utf8')                                            \n",
    "bully_data_cleaned = bully_data_cleaned[~bully_data_cleaned['text_check'].isna()]\n",
    "bully_data_cleaned = bully_data_cleaned[bully_data_cleaned['text_check'] != \"\"]\n",
    "#bully_data_cleaned = bully_data_cleaned[bully_data_cleaned['role']!='None']\n",
    "bully_data_cleaned = bully_data_cleaned[['label','text_check']]\n",
    "bully_data_cleaned['label'] = bully_data_cleaned['label'].progress_apply(lambda x: 1 if x ==\"Cyberbullying\" else 0)\n",
    "bully_data_cleaned.rename(columns = {'text_check':'text'}, inplace = True)\n",
    "bully_data_cleaned = bully_data_cleaned.reset_index(drop=True)"
   ]
  },
  {
   "cell_type": "code",
   "execution_count": 4,
   "id": "f1ad3546",
   "metadata": {
    "id": "f1ad3546",
    "scrolled": true
   },
   "outputs": [
    {
     "name": "stdout",
     "output_type": "stream",
     "text": [
      "<class 'pandas.core.frame.DataFrame'>\n",
      "RangeIndex: 112247 entries, 0 to 112246\n",
      "Data columns (total 2 columns):\n",
      " #   Column  Non-Null Count   Dtype \n",
      "---  ------  --------------   ----- \n",
      " 0   label   112247 non-null  int64 \n",
      " 1   text    112247 non-null  object\n",
      "dtypes: int64(1), object(1)\n",
      "memory usage: 1.7+ MB\n"
     ]
    }
   ],
   "source": [
    "bully_data_cleaned.info()"
   ]
  },
  {
   "cell_type": "code",
   "execution_count": 5,
   "id": "y2TxGLSm81wJ",
   "metadata": {
    "id": "y2TxGLSm81wJ"
   },
   "outputs": [
    {
     "data": {
      "text/plain": [
       "0    106872\n",
       "1      5375\n",
       "Name: label, dtype: int64"
      ]
     },
     "execution_count": 5,
     "metadata": {},
     "output_type": "execute_result"
    }
   ],
   "source": [
    "bully_data_cleaned['label'].value_counts()"
   ]
  },
  {
   "cell_type": "markdown",
   "id": "61d6da90",
   "metadata": {
    "id": "61d6da90"
   },
   "source": [
    "<div class=\"alert alert-info\" style=\"background-color:#5d3a8e; color:white; padding:0px 10px; border-radius:5px;\"><h2 style='margin:10px 5px'>Define pretrained tokenizer and model</h2>\n",
    "</div>\n",
    "model_name = \"bert-base-uncased\"\n",
    "tokenizer = BertTokenizer.from_pretrained(model_name)\n",
    "model = BertForSequenceClassification.from_pretrained(model_name, num_labels=2)"
   ]
  },
  {
   "cell_type": "code",
   "execution_count": 6,
   "id": "b09bcba2",
   "metadata": {
    "id": "b09bcba2"
   },
   "outputs": [
    {
     "data": {
      "application/vnd.jupyter.widget-view+json": {
       "model_id": "57a3a8736bba4e159de16256db5878d4",
       "version_major": 2,
       "version_minor": 0
      },
      "text/plain": [
       "Downloading:   0%|          | 0.00/28.0 [00:00<?, ?B/s]"
      ]
     },
     "metadata": {},
     "output_type": "display_data"
    },
    {
     "data": {
      "application/vnd.jupyter.widget-view+json": {
       "model_id": "32b016ed6e884e6caa7a6ba21346d5bd",
       "version_major": 2,
       "version_minor": 0
      },
      "text/plain": [
       "Downloading:   0%|          | 0.00/483 [00:00<?, ?B/s]"
      ]
     },
     "metadata": {},
     "output_type": "display_data"
    },
    {
     "data": {
      "application/vnd.jupyter.widget-view+json": {
       "model_id": "bdc363f5744d4e4f8e0328aacc84df72",
       "version_major": 2,
       "version_minor": 0
      },
      "text/plain": [
       "Downloading:   0%|          | 0.00/226k [00:00<?, ?B/s]"
      ]
     },
     "metadata": {},
     "output_type": "display_data"
    },
    {
     "data": {
      "application/vnd.jupyter.widget-view+json": {
       "model_id": "0de573d9f1e94570af96c157d7c080e8",
       "version_major": 2,
       "version_minor": 0
      },
      "text/plain": [
       "Downloading:   0%|          | 0.00/455k [00:00<?, ?B/s]"
      ]
     },
     "metadata": {},
     "output_type": "display_data"
    },
    {
     "data": {
      "application/vnd.jupyter.widget-view+json": {
       "model_id": "cca6082161964687902bc54c61052d84",
       "version_major": 2,
       "version_minor": 0
      },
      "text/plain": [
       "Downloading:   0%|          | 0.00/256M [00:00<?, ?B/s]"
      ]
     },
     "metadata": {},
     "output_type": "display_data"
    },
    {
     "name": "stderr",
     "output_type": "stream",
     "text": [
      "Some weights of the model checkpoint at distilbert-base-uncased were not used when initializing DistilBertForSequenceClassification: ['vocab_transform.bias', 'vocab_projector.weight', 'vocab_transform.weight', 'vocab_projector.bias', 'vocab_layer_norm.bias', 'vocab_layer_norm.weight']\n",
      "- This IS expected if you are initializing DistilBertForSequenceClassification from the checkpoint of a model trained on another task or with another architecture (e.g. initializing a BertForSequenceClassification model from a BertForPreTraining model).\n",
      "- This IS NOT expected if you are initializing DistilBertForSequenceClassification from the checkpoint of a model that you expect to be exactly identical (initializing a BertForSequenceClassification model from a BertForSequenceClassification model).\n",
      "Some weights of DistilBertForSequenceClassification were not initialized from the model checkpoint at distilbert-base-uncased and are newly initialized: ['classifier.weight', 'classifier.bias', 'pre_classifier.weight', 'pre_classifier.bias']\n",
      "You should probably TRAIN this model on a down-stream task to be able to use it for predictions and inference.\n"
     ]
    }
   ],
   "source": [
    "from transformers import AutoTokenizer, AutoModelForSequenceClassification\n",
    "# Define pretrained tokenizer and model\n",
    "\n",
    "model_name = \"distilbert-base-uncased\"\n",
    "tokenizer = AutoTokenizer.from_pretrained(model_name)\n",
    "# def model_init():\n",
    "#     return AutoModelForSequenceClassification.from_pretrained(model_name, \n",
    "#                                                               num_labels=2, \n",
    "#                                                             output_attentions = False, # Whether the model returns attentions weights.\n",
    "#                                                             output_hidden_states = False,\n",
    "#                                                             return_dict=True )\n",
    "set_seed(1127)\n",
    "model = AutoModelForSequenceClassification.from_pretrained(model_name, num_labels=2)"
   ]
  },
  {
   "cell_type": "markdown",
   "id": "fe8c063e",
   "metadata": {
    "id": "fe8c063e"
   },
   "source": [
    "<div class=\"alert alert-info\" style=\"background-color:#5d3a8e; color:white; padding:0px 10px; border-radius:5px;\"><h2 style='margin:10px 5px'>Preprocess data and Fine Tune Transformers</h2>\n",
    "</div>"
   ]
  },
  {
   "cell_type": "code",
   "execution_count": 7,
   "id": "b5e716fb",
   "metadata": {
    "id": "b5e716fb"
   },
   "outputs": [],
   "source": [
    "##############################\n",
    "# Data: Text Input and Label #\n",
    "##############################\n",
    "X = list(bully_data_cleaned[\"text\"])\n",
    "y = list(bully_data_cleaned[\"label\"])\n",
    "\n",
    "\n",
    "########################\n",
    "# Create torch dataset #\n",
    "########################\n",
    "class Dataset(torch.utils.data.Dataset):\n",
    "    def __init__(self, encodings, labels=None):\n",
    "        self.encodings = encodings\n",
    "        self.labels = labels\n",
    "\n",
    "    def __getitem__(self, idx):\n",
    "        item = {key: torch.tensor(val[idx]) for key, val in self.encodings.items()}\n",
    "        if self.labels:\n",
    "            item[\"labels\"] = torch.tensor(self.labels[idx])\n",
    "        return item\n",
    "\n",
    "    def __len__(self):\n",
    "        return len(self.encodings[\"input_ids\"])\n",
    "\n",
    "\n",
    "#############################\n",
    "# Define Trainer parameters #\n",
    "#############################\n",
    "def compute_metrics(p):\n",
    "    pred, labels = p\n",
    "    pred = np.argmax(pred, axis=1)\n",
    "\n",
    "    accuracy = accuracy_score(y_true=labels, y_pred=pred)\n",
    "    recall_cb = recall_score(y_true=labels, y_pred=pred, average='binary', pos_label=1)\n",
    "    precision_cb = precision_score(y_true=labels, y_pred=pred, average='binary', pos_label=1)\n",
    "    f1_cb = f1_score(y_true=labels, y_pred=pred, average='binary', pos_label=1)\n",
    "    \n",
    "    recall_ncb = recall_score(y_true=labels, y_pred=pred, average='binary', pos_label=0)\n",
    "    precision_ncb = precision_score(y_true=labels, y_pred=pred, average='binary', pos_label=0)\n",
    "    f1_ncb = f1_score(y_true=labels, y_pred=pred, average='binary', pos_label=0)\n",
    "    \n",
    "    recall_overall = recall_score(y_true=labels, y_pred=pred, average='macro')\n",
    "    precision_overall = precision_score(y_true=labels, y_pred=pred, average='macro')\n",
    "    f1_overall = f1_score(y_true=labels, y_pred=pred, average='macro')\n",
    "\n",
    "\n",
    "    return {\"accuracy\": accuracy, \n",
    "            \"precision_cb\": precision_cb, \"recall_cb\": recall_cb, \"f1_cb\": f1_cb,\n",
    "            \"precision_ncb\": precision_ncb, \"recall_ncb\": recall_ncb, \"f1_ncb\": f1_ncb,\n",
    "            \"precision_overall\": precision_overall, \"recall_overall\": recall_overall, \"f1_overall\": f1_overall}\n",
    "\n",
    "\n",
    "#########################\n",
    "# Plot Confusion Matrix #\n",
    "#########################\n",
    "import numpy as np\n",
    "import matplotlib.pyplot as plt\n",
    "import seaborn as sns\n",
    "\n",
    "def make_confusion_matrix(cf,\n",
    "                          group_names=None,\n",
    "                          categories='auto',\n",
    "                          count=True,\n",
    "                          percent=True,\n",
    "                          cbar=True,\n",
    "                          xyticks=True,\n",
    "                          xyplotlabels=True,\n",
    "                          sum_stats=True,\n",
    "                          figsize=None,\n",
    "                          cmap='Blues',\n",
    "                          title=None):\n",
    "    '''\n",
    "    This function will make a pretty plot of an sklearn Confusion Matrix cm using a Seaborn heatmap visualization.\n",
    "\n",
    "    Arguments\n",
    "    ---------\n",
    "    cf:            confusion matrix to be passed in\n",
    "\n",
    "    group_names:   List of strings that represent the labels row by row to be shown in each square.\n",
    "\n",
    "    categories:    List of strings containing the categories to be displayed on the x,y axis. Default is 'auto'\n",
    "\n",
    "    count:         If True, show the raw number in the confusion matrix. Default is True.\n",
    "\n",
    "    normalize:     If True, show the proportions for each category. Default is True.\n",
    "\n",
    "    cbar:          If True, show the color bar. The cbar values are based off the values in the confusion matrix.\n",
    "                   Default is True.\n",
    "\n",
    "    xyticks:       If True, show x and y ticks. Default is True.\n",
    "\n",
    "    xyplotlabels:  If True, show 'True Label' and 'Predicted Label' on the figure. Default is True.\n",
    "\n",
    "    sum_stats:     If True, display summary statistics below the figure. Default is True.\n",
    "\n",
    "    figsize:       Tuple representing the figure size. Default will be the matplotlib rcParams value.\n",
    "\n",
    "    cmap:          Colormap of the values displayed from matplotlib.pyplot.cm. Default is 'Blues'\n",
    "                   See http://matplotlib.org/examples/color/colormaps_reference.html\n",
    "                   \n",
    "    title:         Title for the heatmap. Default is None.\n",
    "\n",
    "    '''\n",
    "\n",
    "\n",
    "    # CONFUSION MATRIX IN PERCENTAGE\n",
    "    cf_pct = cf.astype('float')/cf.sum(axis=1)[:, np.newaxis]\n",
    "    # CODE TO GENERATE TEXT INSIDE EACH SQUARE\n",
    "    blanks = ['' for i in range(cf.size)]\n",
    "\n",
    "    if group_names and len(group_names)==cf.size:\n",
    "        group_labels = [\"{}\\n\".format(value) for value in group_names]\n",
    "    else:\n",
    "        group_labels = blanks\n",
    "\n",
    "    if count:\n",
    "        group_counts = [\"{0:0.0f}\\n\".format(value) for value in cf.flatten()]\n",
    "    else:\n",
    "        group_counts = blanks\n",
    "\n",
    "    if percent:\n",
    "        group_percentages = [\"{0:.2%}\".format(value) for value in cf_pct.flatten()]\n",
    "    else:\n",
    "        group_percentages = blanks\n",
    "\n",
    "    box_labels = [f\"{v1}{v2}{v3}\".strip() for v1, v2, v3 in zip(group_labels,group_counts,group_percentages)]\n",
    "    box_labels = np.asarray(box_labels).reshape(cf.shape[0],cf.shape[1])\n",
    "\n",
    "\n",
    "    # CODE TO GENERATE SUMMARY STATISTICS & TEXT FOR SUMMARY STATS\n",
    "    if sum_stats:\n",
    "        #Accuracy is sum of diagonal divided by total observations\n",
    "        accuracy  = np.trace(cf) / float(np.sum(cf))\n",
    "\n",
    "        #if it is a binary confusion matrix, show some more stats\n",
    "        if len(cf)==2:\n",
    "            #Metrics for Binary Confusion Matrices\n",
    "            precision = cf[1,1] / sum(cf[:,1])\n",
    "            recall    = cf[1,1] / sum(cf[1,:])\n",
    "            f1_score  = 2*precision*recall / (precision + recall)\n",
    "            stats_text = \"\\n\\nAccuracy={:0.3f}\\nPrecision={:0.3f}\\nRecall={:0.3f}\\nF1 Score={:0.3f}\".format(\n",
    "                accuracy,precision,recall,f1_score)\n",
    "        else:\n",
    "            stats_text = \"\\n\\nAccuracy={:0.3f}\".format(accuracy)\n",
    "    else:\n",
    "        stats_text = \"\"\n",
    "\n",
    "\n",
    "    # SET FIGURE PARAMETERS ACCORDING TO OTHER ARGUMENTS\n",
    "    if figsize==None:\n",
    "        #Get default figure size if not set\n",
    "        figsize = plt.rcParams.get('figure.figsize')\n",
    "\n",
    "    if xyticks==False:\n",
    "        #Do not show categories if xyticks is False\n",
    "        categories=False\n",
    "\n",
    "\n",
    "    # MAKE THE HEATMAP VISUALIZATION\n",
    "    plt.figure(figsize=figsize)\n",
    "    sns.heatmap(cf_pct,annot=box_labels,fmt=\"\",cmap=cmap,cbar=cbar,xticklabels=categories,yticklabels=categories)\n",
    "\n",
    "    if xyplotlabels:\n",
    "        plt.ylabel('True label')\n",
    "        plt.xlabel('Predicted label' + stats_text)\n",
    "    else:\n",
    "        plt.xlabel(stats_text)\n",
    "    \n",
    "    if title:\n",
    "        plt.title(title)\n",
    "\n",
    "\n",
    "########################\n",
    "# Run cross-validation #\n",
    "########################\n",
    "def run_cross_validation(model_name='DistilBert',\n",
    "                         X=X,\n",
    "                         y=y, \n",
    "                         splits=5,\n",
    "                         epoch=8,\n",
    "                         checkpoint=False):\n",
    "    \n",
    "    kfold = StratifiedShuffleSplit(n_splits=splits, test_size=0.1, random_state=1127)    \n",
    "    # kfold = StratifiedKFold(n_splits=splits, shuffle=True, random_state=1127)\n",
    "    n_fold = 1\n",
    "\n",
    "    print(\"Developing Model with Cross validation for: \" + model_name)\n",
    "    for train, test in tqdm(kfold.split(X, y)):\n",
    "\n",
    "        print(\"Running for Fold: \",n_fold)\n",
    "        train_index = list(train)\n",
    "        test_index = list(test)\n",
    "\n",
    "        X_train = [X[i] for i in train_index]\n",
    "        y_train = [y[i] for i in train_index]\n",
    "        X_val = [X[i] for i in test_index]\n",
    "        y_val = [y[i] for i in test_index]\n",
    "\n",
    "        # Tokenize\n",
    "        X_train_tokenized = tokenizer(X_train, padding=True, truncation=True, max_length=512)\n",
    "        X_val_tokenized = tokenizer(X_val, padding=True, truncation=True, max_length=512)\n",
    "\n",
    "        # Create torch dataset\n",
    "        train_dataset = Dataset(X_train_tokenized, y_train)\n",
    "        val_dataset = Dataset(X_val_tokenized, y_val)\n",
    "\n",
    "        # Fine Tune Transformer\n",
    "        # Define Trainer\n",
    "        args = TrainingArguments(\n",
    "            output_dir=\"content/drive/MyDrive_binary/output_\" + model_name + \"/fold\"+str(n_fold),\n",
    "            evaluation_strategy=\"epoch\",\n",
    "            save_strategy=\"epoch\",\n",
    "            #eval_steps=500,\n",
    "            #per_device_train_batch_size=1,\n",
    "            #per_device_eval_batch_size=1,\n",
    "            num_train_epochs=epoch, #1 was okay\n",
    "            seed=1127,\n",
    "            load_best_model_at_end=True,\n",
    "        )\n",
    "\n",
    "        trainer = Trainer(\n",
    "        #model_init=model_init,\n",
    "        model=model,\n",
    "        args=args,\n",
    "        train_dataset=train_dataset,\n",
    "        eval_dataset=val_dataset,\n",
    "        compute_metrics=compute_metrics,\n",
    "        callbacks=[EarlyStoppingCallback(early_stopping_patience=3)],\n",
    "        )\n",
    "        \n",
    "        if n_fold <=4:\n",
    "            checkpoint_temp=True\n",
    "        else:\n",
    "            checkpoint_temp=False\n",
    "\n",
    "        trainer.train(resume_from_checkpoint=checkpoint)\n",
    "        print(\"Complete for fold\", n_fold)\n",
    "        n_fold= n_fold + 1\n",
    "\n",
    "\n",
    "#####################\n",
    "# Run Hold Out Test #\n",
    "#####################\n",
    "\n",
    "# Train and Test Set\n",
    "X_train, X_test, y_train, y_test = train_test_split(X, y, test_size=0.1, stratify=y, random_state=1127)\n",
    "\n",
    "# Train and Validate Set\n",
    "# X_train, X_val, y_train, y_val = train_test_split(X_train, y_train, test_size=0.1, stratify=y_train, random_state=1127)\n",
    "X_train_tokenized = tokenizer(X_train, padding=True, truncation=True, max_length=512)\n",
    "X_val_tokenized = tokenizer(X_test, padding=True, truncation=True, max_length=512)\n",
    "\n",
    "# Create torch dataset\n",
    "train_dataset = Dataset(X_train_tokenized, y_train)\n",
    "val_dataset = Dataset(X_val_tokenized, y_test)\n",
    "\n",
    "def run_hold_out_split(model_name='DistilBert',\n",
    "                       epoch=8,\n",
    "                       train_dataset=train_dataset,\n",
    "                       eval_dataset=val_dataset,\n",
    "                       checkpoint=False):\n",
    "  \n",
    "    print(\"Developing Model with Hold Out Splits for: \" + model_name)\n",
    "    # Fine Tune Transformer\n",
    "    # Define Trainer\n",
    "    args = TrainingArguments(\n",
    "      output_dir=\"content/drive/MyDrive_binary/output_\" + model_name + \"/holdout\",\n",
    "      evaluation_strategy=\"epoch\",\n",
    "      save_strategy=\"epoch\",\n",
    "      #eval_steps=500,\n",
    "      #per_device_train_batch_size=1,\n",
    "      #per_device_eval_batch_size=1,\n",
    "      num_train_epochs=epoch, #1 was okay\n",
    "      seed=1127,\n",
    "      load_best_model_at_end=True,\n",
    "    )\n",
    "\n",
    "    trainer = Trainer(\n",
    "    # model_init=model_init,\n",
    "    args=args,\n",
    "    model=model,\n",
    "    train_dataset=train_dataset,\n",
    "    eval_dataset=val_dataset,\n",
    "    compute_metrics=compute_metrics,\n",
    "    callbacks=[EarlyStoppingCallback(early_stopping_patience=5)],\n",
    "    )\n",
    "\n",
    "    trainer.train(resume_from_checkpoint=checkpoint)\n",
    "    print(\"Complete for hold-out validate set\")\n"
   ]
  },
  {
   "cell_type": "code",
   "execution_count": 8,
   "id": "EKrMcyWmEBlO",
   "metadata": {
    "id": "EKrMcyWmEBlO"
   },
   "outputs": [],
   "source": [
    "###########################\n",
    "# Predict (Hold Out Test) #\n",
    "###########################\n",
    "\n",
    "from sklearn.metrics import confusion_matrix\n",
    "def compute_metrics_holdout(model_name='DistilBert',\n",
    "                            model_path='content/drive/MyDrive_binary/output_DistilBert/holdout/checkpoint-3820', \n",
    "                            average_method='binary',\n",
    "                            X_test=X_test):\n",
    "  \n",
    "    X_test_tokenized = tokenizer(X_test, padding=True, truncation=True, max_length=512)\n",
    "\n",
    "    # Create torch dataset\n",
    "    test_dataset = Dataset(X_test_tokenized)\n",
    "\n",
    "    # Load trained model\n",
    "    model_pred = AutoModelForSequenceClassification.from_pretrained(model_path, num_labels=2)\n",
    "\n",
    "    # Define test trainer\n",
    "    test_trainer = Trainer(model_pred)\n",
    "\n",
    "    # Make prediction\n",
    "    raw_pred, _, _ = test_trainer.predict(test_dataset)\n",
    "\n",
    "    # Preprocess raw predictions\n",
    "    y_pred = np.argmax(raw_pred, axis=1)\n",
    "\n",
    "    # Compute metrics\n",
    "    precision_cb = precision_score(y_test, y_pred, average=average_method, pos_label=1)\n",
    "    recall_cb = recall_score(y_test, y_pred, average=average_method, pos_label=1)\n",
    "    f1_cb = f1_score(y_test, y_pred, average=average_method, pos_label=1)\n",
    "\n",
    "    precision_ncb = precision_score(y_test, y_pred, average=average_method, pos_label=0)\n",
    "    recall_ncb = recall_score(y_test, y_pred, average=average_method, pos_label=0)\n",
    "    f1_ncb = f1_score(y_test, y_pred, average=average_method, pos_label=0)\n",
    "\n",
    "    precision_overall = precision_score(y_test, y_pred, average='macro')\n",
    "    recall_overall = recall_score(y_test, y_pred, average='macro')\n",
    "    f1_overall = f1_score(y_test, y_pred, average='macro')\n",
    "\n",
    "    # Print Results\n",
    "    print(\"Classification Report:\")\n",
    "    print(classification_report(y_test,y_pred))\n",
    "    print()\n",
    "    print(\"Label 1: Cyberbullying\")\n",
    "    print(\"Precision: \", precision_cb)\n",
    "    print(\"Recall: \", recall_cb)\n",
    "    print(\"F-measure: \", f1_cb)\n",
    "    print()\n",
    "    print(\"Label 0: Non-Cyberbullying\")\n",
    "    print(\"Precision: \", precision_ncb)\n",
    "    print(\"Recall: \", recall_ncb)\n",
    "    print(\"F-measure: \", f1_ncb)\n",
    "    print()\n",
    "    print(\"Macro Metrics\")\n",
    "    print(\"Precision: \", precision_overall)\n",
    "    print(\"Recall: \", recall_overall)\n",
    "    print(\"F-measure: \", f1_overall)\n",
    "    print()\n",
    "\n",
    "    # Confusion Matrix\n",
    "    conf_mat = confusion_matrix(y_test,y_pred)\n",
    "    categories = ['Non-Cyberbullying', 'Cyberbullying']\n",
    "    labels = ['True Negative','',\n",
    "            '','True Positive']\n",
    "\n",
    "    make_confusion_matrix(conf_mat, \n",
    "                        group_names=labels,\n",
    "                        categories=categories, \n",
    "                        figsize=(8,5), \n",
    "                        cbar=True, \n",
    "                        title='Fine Tuned ' + model_name + ' for Cyberbullying Detection', \n",
    "                        cmap='YlGnBu', \n",
    "                        sum_stats=False)\n",
    "\n"
   ]
  },
  {
   "cell_type": "markdown",
   "id": "q5A2sV2dKlPb",
   "metadata": {
    "id": "q5A2sV2dKlPb",
    "tags": []
   },
   "source": [
    "<div class=\"alert alert-info\" style=\"background-color:#5d3a8e; color:white; padding:0px 10px; border-radius:5px;\"><h2 style='margin:10px 5px'>Cross Validation (K = 5)</h2>\n",
    "</div>"
   ]
  },
  {
   "cell_type": "code",
   "execution_count": null,
   "id": "p5QGotWv8_-V",
   "metadata": {
    "id": "p5QGotWv8_-V"
   },
   "outputs": [
    {
     "name": "stdout",
     "output_type": "stream",
     "text": [
      "Developing Model with Cross validation for: DistilBert\n"
     ]
    },
    {
     "name": "stderr",
     "output_type": "stream",
     "text": [
      "0it [00:00, ?it/s]"
     ]
    },
    {
     "name": "stdout",
     "output_type": "stream",
     "text": [
      "Running for Fold:  1\n"
     ]
    },
    {
     "name": "stderr",
     "output_type": "stream",
     "text": [
      "/opt/conda/lib/python3.9/site-packages/transformers/optimization.py:306: FutureWarning: This implementation of AdamW is deprecated and will be removed in a future version. Use the PyTorch implementation torch.optim.AdamW instead, or set `no_deprecation_warning=True` to disable this warning\n",
      "  warnings.warn(\n",
      "***** Running training *****\n",
      "  Num examples = 101022\n",
      "  Num Epochs = 4\n",
      "  Instantaneous batch size per device = 8\n",
      "  Total train batch size (w. parallel, distributed & accumulation) = 8\n",
      "  Gradient Accumulation steps = 1\n",
      "  Total optimization steps = 50512\n"
     ]
    },
    {
     "data": {
      "text/html": [
       "\n",
       "    <div>\n",
       "      \n",
       "      <progress value='50512' max='50512' style='width:300px; height:20px; vertical-align: middle;'></progress>\n",
       "      [50512/50512 3:02:18, Epoch 4/4]\n",
       "    </div>\n",
       "    <table border=\"1\" class=\"dataframe\">\n",
       "  <thead>\n",
       " <tr style=\"text-align: left;\">\n",
       "      <th>Epoch</th>\n",
       "      <th>Training Loss</th>\n",
       "      <th>Validation Loss</th>\n",
       "      <th>Accuracy</th>\n",
       "      <th>Precision Cb</th>\n",
       "      <th>Recall Cb</th>\n",
       "      <th>F1 Cb</th>\n",
       "      <th>Precision Ncb</th>\n",
       "      <th>Recall Ncb</th>\n",
       "      <th>F1 Ncb</th>\n",
       "      <th>Precision Overall</th>\n",
       "      <th>Recall Overall</th>\n",
       "      <th>F1 Overall</th>\n",
       "    </tr>\n",
       "  </thead>\n",
       "  <tbody>\n",
       "    <tr>\n",
       "      <td>1</td>\n",
       "      <td>0.122400</td>\n",
       "      <td>0.139942</td>\n",
       "      <td>0.961960</td>\n",
       "      <td>0.669725</td>\n",
       "      <td>0.407063</td>\n",
       "      <td>0.506358</td>\n",
       "      <td>0.970729</td>\n",
       "      <td>0.989894</td>\n",
       "      <td>0.980218</td>\n",
       "      <td>0.820227</td>\n",
       "      <td>0.698479</td>\n",
       "      <td>0.743288</td>\n",
       "    </tr>\n",
       "    <tr>\n",
       "      <td>2</td>\n",
       "      <td>0.133800</td>\n",
       "      <td>0.156808</td>\n",
       "      <td>0.964098</td>\n",
       "      <td>0.724252</td>\n",
       "      <td>0.405204</td>\n",
       "      <td>0.519666</td>\n",
       "      <td>0.970707</td>\n",
       "      <td>0.992234</td>\n",
       "      <td>0.981352</td>\n",
       "      <td>0.847480</td>\n",
       "      <td>0.698719</td>\n",
       "      <td>0.750509</td>\n",
       "    </tr>\n",
       "    <tr>\n",
       "      <td>3</td>\n",
       "      <td>0.110400</td>\n",
       "      <td>0.134533</td>\n",
       "      <td>0.965167</td>\n",
       "      <td>0.733333</td>\n",
       "      <td>0.429368</td>\n",
       "      <td>0.541618</td>\n",
       "      <td>0.971861</td>\n",
       "      <td>0.992140</td>\n",
       "      <td>0.981896</td>\n",
       "      <td>0.852597</td>\n",
       "      <td>0.710754</td>\n",
       "      <td>0.761757</td>\n",
       "    </tr>\n",
       "    <tr>\n",
       "      <td>4</td>\n",
       "      <td>0.093800</td>\n",
       "      <td>0.153179</td>\n",
       "      <td>0.963029</td>\n",
       "      <td>0.642691</td>\n",
       "      <td>0.514870</td>\n",
       "      <td>0.571723</td>\n",
       "      <td>0.975820</td>\n",
       "      <td>0.985590</td>\n",
       "      <td>0.980681</td>\n",
       "      <td>0.809256</td>\n",
       "      <td>0.750230</td>\n",
       "      <td>0.776202</td>\n",
       "    </tr>\n",
       "  </tbody>\n",
       "</table><p>"
      ],
      "text/plain": [
       "<IPython.core.display.HTML object>"
      ]
     },
     "metadata": {},
     "output_type": "display_data"
    },
    {
     "name": "stderr",
     "output_type": "stream",
     "text": [
      "***** Running Evaluation *****\n",
      "  Num examples = 11225\n",
      "  Batch size = 8\n",
      "Saving model checkpoint to content/drive/MyDrive_binary/output_DistilBert/fold1/checkpoint-12628\n",
      "Configuration saved in content/drive/MyDrive_binary/output_DistilBert/fold1/checkpoint-12628/config.json\n",
      "Model weights saved in content/drive/MyDrive_binary/output_DistilBert/fold1/checkpoint-12628/pytorch_model.bin\n",
      "***** Running Evaluation *****\n",
      "  Num examples = 11225\n",
      "  Batch size = 8\n",
      "Saving model checkpoint to content/drive/MyDrive_binary/output_DistilBert/fold1/checkpoint-25256\n",
      "Configuration saved in content/drive/MyDrive_binary/output_DistilBert/fold1/checkpoint-25256/config.json\n",
      "Model weights saved in content/drive/MyDrive_binary/output_DistilBert/fold1/checkpoint-25256/pytorch_model.bin\n",
      "***** Running Evaluation *****\n",
      "  Num examples = 11225\n",
      "  Batch size = 8\n",
      "Saving model checkpoint to content/drive/MyDrive_binary/output_DistilBert/fold1/checkpoint-37884\n",
      "Configuration saved in content/drive/MyDrive_binary/output_DistilBert/fold1/checkpoint-37884/config.json\n",
      "Model weights saved in content/drive/MyDrive_binary/output_DistilBert/fold1/checkpoint-37884/pytorch_model.bin\n",
      "***** Running Evaluation *****\n",
      "  Num examples = 11225\n",
      "  Batch size = 8\n",
      "Saving model checkpoint to content/drive/MyDrive_binary/output_DistilBert/fold1/checkpoint-50512\n",
      "Configuration saved in content/drive/MyDrive_binary/output_DistilBert/fold1/checkpoint-50512/config.json\n",
      "Model weights saved in content/drive/MyDrive_binary/output_DistilBert/fold1/checkpoint-50512/pytorch_model.bin\n",
      "\n",
      "\n",
      "Training completed. Do not forget to share your model on huggingface.co/models =)\n",
      "\n",
      "\n",
      "Loading best model from content/drive/MyDrive_binary/output_DistilBert/fold1/checkpoint-37884 (score: 0.1345326006412506).\n",
      "1it [3:02:37, 10957.03s/it]"
     ]
    },
    {
     "name": "stdout",
     "output_type": "stream",
     "text": [
      "Complete for fold 1\n",
      "Running for Fold:  2\n"
     ]
    },
    {
     "name": "stderr",
     "output_type": "stream",
     "text": [
      "PyTorch: setting up devices\n",
      "The default value for the training argument `--report_to` will change in v5 (from all installed integrations to none). In v5, you will need to use `--report_to all` to get the same behavior as now. You should start updating your code and make this info disappear :-).\n",
      "/opt/conda/lib/python3.9/site-packages/transformers/optimization.py:306: FutureWarning: This implementation of AdamW is deprecated and will be removed in a future version. Use the PyTorch implementation torch.optim.AdamW instead, or set `no_deprecation_warning=True` to disable this warning\n",
      "  warnings.warn(\n",
      "***** Running training *****\n",
      "  Num examples = 101022\n",
      "  Num Epochs = 4\n",
      "  Instantaneous batch size per device = 8\n",
      "  Total train batch size (w. parallel, distributed & accumulation) = 8\n",
      "  Gradient Accumulation steps = 1\n",
      "  Total optimization steps = 50512\n"
     ]
    },
    {
     "data": {
      "text/html": [
       "\n",
       "    <div>\n",
       "      \n",
       "      <progress value='34163' max='50512' style='width:300px; height:20px; vertical-align: middle;'></progress>\n",
       "      [34163/50512 2:00:51 < 57:50, 4.71 it/s, Epoch 2.71/4]\n",
       "    </div>\n",
       "    <table border=\"1\" class=\"dataframe\">\n",
       "  <thead>\n",
       " <tr style=\"text-align: left;\">\n",
       "      <th>Epoch</th>\n",
       "      <th>Training Loss</th>\n",
       "      <th>Validation Loss</th>\n",
       "      <th>Accuracy</th>\n",
       "      <th>Precision Cb</th>\n",
       "      <th>Recall Cb</th>\n",
       "      <th>F1 Cb</th>\n",
       "      <th>Precision Ncb</th>\n",
       "      <th>Recall Ncb</th>\n",
       "      <th>F1 Ncb</th>\n",
       "      <th>Precision Overall</th>\n",
       "      <th>Recall Overall</th>\n",
       "      <th>F1 Overall</th>\n",
       "    </tr>\n",
       "  </thead>\n",
       "  <tbody>\n",
       "    <tr>\n",
       "      <td>1</td>\n",
       "      <td>0.117100</td>\n",
       "      <td>0.137941</td>\n",
       "      <td>0.968731</td>\n",
       "      <td>0.741602</td>\n",
       "      <td>0.533457</td>\n",
       "      <td>0.620541</td>\n",
       "      <td>0.976841</td>\n",
       "      <td>0.990643</td>\n",
       "      <td>0.983693</td>\n",
       "      <td>0.859221</td>\n",
       "      <td>0.762050</td>\n",
       "      <td>0.802117</td>\n",
       "    </tr>\n",
       "    <tr>\n",
       "      <td>2</td>\n",
       "      <td>0.117000</td>\n",
       "      <td>0.126553</td>\n",
       "      <td>0.968641</td>\n",
       "      <td>0.718310</td>\n",
       "      <td>0.568773</td>\n",
       "      <td>0.634855</td>\n",
       "      <td>0.978517</td>\n",
       "      <td>0.988771</td>\n",
       "      <td>0.983617</td>\n",
       "      <td>0.848413</td>\n",
       "      <td>0.778772</td>\n",
       "      <td>0.809236</td>\n",
       "    </tr>\n",
       "  </tbody>\n",
       "</table><p>"
      ],
      "text/plain": [
       "<IPython.core.display.HTML object>"
      ]
     },
     "metadata": {},
     "output_type": "display_data"
    },
    {
     "name": "stderr",
     "output_type": "stream",
     "text": [
      "***** Running Evaluation *****\n",
      "  Num examples = 11225\n",
      "  Batch size = 8\n",
      "Saving model checkpoint to content/drive/MyDrive_binary/output_DistilBert/fold2/checkpoint-12628\n",
      "Configuration saved in content/drive/MyDrive_binary/output_DistilBert/fold2/checkpoint-12628/config.json\n",
      "Model weights saved in content/drive/MyDrive_binary/output_DistilBert/fold2/checkpoint-12628/pytorch_model.bin\n",
      "***** Running Evaluation *****\n",
      "  Num examples = 11225\n",
      "  Batch size = 8\n",
      "Saving model checkpoint to content/drive/MyDrive_binary/output_DistilBert/fold2/checkpoint-25256\n",
      "Configuration saved in content/drive/MyDrive_binary/output_DistilBert/fold2/checkpoint-25256/config.json\n",
      "Model weights saved in content/drive/MyDrive_binary/output_DistilBert/fold2/checkpoint-25256/pytorch_model.bin\n"
     ]
    }
   ],
   "source": [
    "run_cross_validation(model_name='DistilBert',\n",
    "                         X=X,\n",
    "                         y=y, \n",
    "                         splits=5,\n",
    "                         epoch=4,\n",
    "                         checkpoint=False)"
   ]
  },
  {
   "cell_type": "markdown",
   "id": "a3cabdda-c5a2-44ef-b8ef-61de87bc9003",
   "metadata": {
    "id": "q5A2sV2dKlPb",
    "jp-MarkdownHeadingCollapsed": true,
    "tags": []
   },
   "source": [
    "### [Continue] Cross Validation (K = 5)"
   ]
  },
  {
   "cell_type": "code",
   "execution_count": null,
   "id": "20a158e0-251b-47f3-80bb-f5a47f2496a0",
   "metadata": {
    "id": "p5QGotWv8_-V"
   },
   "outputs": [
    {
     "name": "stdout",
     "output_type": "stream",
     "text": [
      "Developing Model with Cross validation for: DistilBert\n"
     ]
    },
    {
     "name": "stderr",
     "output_type": "stream",
     "text": [
      "0it [00:00, ?it/s]"
     ]
    },
    {
     "name": "stdout",
     "output_type": "stream",
     "text": [
      "Running for Fold:  1\n"
     ]
    },
    {
     "name": "stderr",
     "output_type": "stream",
     "text": [
      "Loading model from content/drive/MyDrive_binary/output_DistilBert/fold1/checkpoint-50512).\n",
      "/opt/conda/lib/python3.9/site-packages/transformers/optimization.py:306: FutureWarning: This implementation of AdamW is deprecated and will be removed in a future version. Use the PyTorch implementation torch.optim.AdamW instead, or set `no_deprecation_warning=True` to disable this warning\n",
      "  warnings.warn(\n",
      "***** Running training *****\n",
      "  Num examples = 101022\n",
      "  Num Epochs = 4\n",
      "  Instantaneous batch size per device = 8\n",
      "  Total train batch size (w. parallel, distributed & accumulation) = 8\n",
      "  Gradient Accumulation steps = 1\n",
      "  Total optimization steps = 50512\n",
      "  Continuing training from checkpoint, will skip to saved global_step\n",
      "  Continuing training from epoch 4\n",
      "  Continuing training from global step 50512\n",
      "  Will skip the first 4 epochs then the first 0 batches in the first epoch. If this takes a lot of time, you can add the `--ignore_data_skip` flag to your launch command, but you will resume the training on data already seen by your model.\n"
     ]
    },
    {
     "data": {
      "application/vnd.jupyter.widget-view+json": {
       "model_id": "bb247755a09f40ecbf2453b00b4cda02",
       "version_major": 2,
       "version_minor": 0
      },
      "text/plain": [
       "0it [00:00, ?it/s]"
      ]
     },
     "metadata": {},
     "output_type": "display_data"
    },
    {
     "name": "stderr",
     "output_type": "stream",
     "text": [
      "\n",
      "\n",
      "Training completed. Do not forget to share your model on huggingface.co/models =)\n",
      "\n",
      "\n",
      "Loading best model from content/drive/MyDrive_binary/output_DistilBert/fold1/checkpoint-37884 (score: 0.1345326006412506).\n"
     ]
    },
    {
     "data": {
      "text/html": [
       "\n",
       "    <div>\n",
       "      \n",
       "      <progress value='50512' max='50512' style='width:300px; height:20px; vertical-align: middle;'></progress>\n",
       "      [50512/50512 : < :, Epoch 4/4]\n",
       "    </div>\n",
       "    <table border=\"1\" class=\"dataframe\">\n",
       "  <thead>\n",
       " <tr style=\"text-align: left;\">\n",
       "      <th>Epoch</th>\n",
       "      <th>Training Loss</th>\n",
       "      <th>Validation Loss</th>\n",
       "    </tr>\n",
       "  </thead>\n",
       "  <tbody>\n",
       "  </tbody>\n",
       "</table><p>"
      ],
      "text/plain": [
       "<IPython.core.display.HTML object>"
      ]
     },
     "metadata": {},
     "output_type": "display_data"
    },
    {
     "name": "stderr",
     "output_type": "stream",
     "text": [
      "1it [00:24, 24.01s/it]"
     ]
    },
    {
     "name": "stdout",
     "output_type": "stream",
     "text": [
      "Complete for fold 1\n",
      "Running for Fold:  2\n"
     ]
    },
    {
     "name": "stderr",
     "output_type": "stream",
     "text": [
      "PyTorch: setting up devices\n",
      "The default value for the training argument `--report_to` will change in v5 (from all installed integrations to none). In v5, you will need to use `--report_to all` to get the same behavior as now. You should start updating your code and make this info disappear :-).\n",
      "Loading model from content/drive/MyDrive_binary/output_DistilBert/fold2/checkpoint-25256).\n",
      "/opt/conda/lib/python3.9/site-packages/transformers/optimization.py:306: FutureWarning: This implementation of AdamW is deprecated and will be removed in a future version. Use the PyTorch implementation torch.optim.AdamW instead, or set `no_deprecation_warning=True` to disable this warning\n",
      "  warnings.warn(\n",
      "***** Running training *****\n",
      "  Num examples = 101022\n",
      "  Num Epochs = 4\n",
      "  Instantaneous batch size per device = 8\n",
      "  Total train batch size (w. parallel, distributed & accumulation) = 8\n",
      "  Gradient Accumulation steps = 1\n",
      "  Total optimization steps = 50512\n",
      "  Continuing training from checkpoint, will skip to saved global_step\n",
      "  Continuing training from epoch 2\n",
      "  Continuing training from global step 25256\n",
      "  Will skip the first 2 epochs then the first 0 batches in the first epoch. If this takes a lot of time, you can add the `--ignore_data_skip` flag to your launch command, but you will resume the training on data already seen by your model.\n"
     ]
    },
    {
     "data": {
      "application/vnd.jupyter.widget-view+json": {
       "model_id": "7bec9c44649246019fedfed022505f82",
       "version_major": 2,
       "version_minor": 0
      },
      "text/plain": [
       "0it [00:00, ?it/s]"
      ]
     },
     "metadata": {},
     "output_type": "display_data"
    },
    {
     "data": {
      "text/html": [
       "\n",
       "    <div>\n",
       "      \n",
       "      <progress value='50512' max='50512' style='width:300px; height:20px; vertical-align: middle;'></progress>\n",
       "      [50512/50512 1:31:12, Epoch 4/4]\n",
       "    </div>\n",
       "    <table border=\"1\" class=\"dataframe\">\n",
       "  <thead>\n",
       " <tr style=\"text-align: left;\">\n",
       "      <th>Epoch</th>\n",
       "      <th>Training Loss</th>\n",
       "      <th>Validation Loss</th>\n",
       "      <th>Accuracy</th>\n",
       "      <th>Precision Cb</th>\n",
       "      <th>Recall Cb</th>\n",
       "      <th>F1 Cb</th>\n",
       "      <th>Precision Ncb</th>\n",
       "      <th>Recall Ncb</th>\n",
       "      <th>F1 Ncb</th>\n",
       "      <th>Precision Overall</th>\n",
       "      <th>Recall Overall</th>\n",
       "      <th>F1 Overall</th>\n",
       "    </tr>\n",
       "  </thead>\n",
       "  <tbody>\n",
       "    <tr>\n",
       "      <td>3</td>\n",
       "      <td>0.105500</td>\n",
       "      <td>0.125980</td>\n",
       "      <td>0.968374</td>\n",
       "      <td>0.727047</td>\n",
       "      <td>0.544610</td>\n",
       "      <td>0.622742</td>\n",
       "      <td>0.977361</td>\n",
       "      <td>0.989707</td>\n",
       "      <td>0.983495</td>\n",
       "      <td>0.852204</td>\n",
       "      <td>0.767158</td>\n",
       "      <td>0.803119</td>\n",
       "    </tr>\n",
       "    <tr>\n",
       "      <td>4</td>\n",
       "      <td>0.075800</td>\n",
       "      <td>0.138436</td>\n",
       "      <td>0.968285</td>\n",
       "      <td>0.726368</td>\n",
       "      <td>0.542751</td>\n",
       "      <td>0.621277</td>\n",
       "      <td>0.977271</td>\n",
       "      <td>0.989707</td>\n",
       "      <td>0.983450</td>\n",
       "      <td>0.851819</td>\n",
       "      <td>0.766229</td>\n",
       "      <td>0.802363</td>\n",
       "    </tr>\n",
       "  </tbody>\n",
       "</table><p>"
      ],
      "text/plain": [
       "<IPython.core.display.HTML object>"
      ]
     },
     "metadata": {},
     "output_type": "display_data"
    },
    {
     "name": "stderr",
     "output_type": "stream",
     "text": [
      "***** Running Evaluation *****\n",
      "  Num examples = 11225\n",
      "  Batch size = 8\n",
      "Saving model checkpoint to content/drive/MyDrive_binary/output_DistilBert/fold2/checkpoint-37884\n",
      "Configuration saved in content/drive/MyDrive_binary/output_DistilBert/fold2/checkpoint-37884/config.json\n",
      "Model weights saved in content/drive/MyDrive_binary/output_DistilBert/fold2/checkpoint-37884/pytorch_model.bin\n",
      "***** Running Evaluation *****\n",
      "  Num examples = 11225\n",
      "  Batch size = 8\n",
      "Saving model checkpoint to content/drive/MyDrive_binary/output_DistilBert/fold2/checkpoint-50512\n",
      "Configuration saved in content/drive/MyDrive_binary/output_DistilBert/fold2/checkpoint-50512/config.json\n",
      "Model weights saved in content/drive/MyDrive_binary/output_DistilBert/fold2/checkpoint-50512/pytorch_model.bin\n",
      "\n",
      "\n",
      "Training completed. Do not forget to share your model on huggingface.co/models =)\n",
      "\n",
      "\n",
      "Loading best model from content/drive/MyDrive_binary/output_DistilBert/fold2/checkpoint-37884 (score: 0.12597954273223877).\n",
      "2it [1:31:57, 3241.38s/it]"
     ]
    },
    {
     "name": "stdout",
     "output_type": "stream",
     "text": [
      "Complete for fold 2\n",
      "Running for Fold:  3\n"
     ]
    },
    {
     "name": "stderr",
     "output_type": "stream",
     "text": [
      "PyTorch: setting up devices\n",
      "The default value for the training argument `--report_to` will change in v5 (from all installed integrations to none). In v5, you will need to use `--report_to all` to get the same behavior as now. You should start updating your code and make this info disappear :-).\n",
      "/opt/conda/lib/python3.9/site-packages/transformers/optimization.py:306: FutureWarning: This implementation of AdamW is deprecated and will be removed in a future version. Use the PyTorch implementation torch.optim.AdamW instead, or set `no_deprecation_warning=True` to disable this warning\n",
      "  warnings.warn(\n",
      "***** Running training *****\n",
      "  Num examples = 101022\n",
      "  Num Epochs = 4\n",
      "  Instantaneous batch size per device = 8\n",
      "  Total train batch size (w. parallel, distributed & accumulation) = 8\n",
      "  Gradient Accumulation steps = 1\n",
      "  Total optimization steps = 50512\n"
     ]
    },
    {
     "data": {
      "text/html": [
       "\n",
       "    <div>\n",
       "      \n",
       "      <progress value='50512' max='50512' style='width:300px; height:20px; vertical-align: middle;'></progress>\n",
       "      [50512/50512 3:01:42, Epoch 4/4]\n",
       "    </div>\n",
       "    <table border=\"1\" class=\"dataframe\">\n",
       "  <thead>\n",
       " <tr style=\"text-align: left;\">\n",
       "      <th>Epoch</th>\n",
       "      <th>Training Loss</th>\n",
       "      <th>Validation Loss</th>\n",
       "      <th>Accuracy</th>\n",
       "      <th>Precision Cb</th>\n",
       "      <th>Recall Cb</th>\n",
       "      <th>F1 Cb</th>\n",
       "      <th>Precision Ncb</th>\n",
       "      <th>Recall Ncb</th>\n",
       "      <th>F1 Ncb</th>\n",
       "      <th>Precision Overall</th>\n",
       "      <th>Recall Overall</th>\n",
       "      <th>F1 Overall</th>\n",
       "    </tr>\n",
       "  </thead>\n",
       "  <tbody>\n",
       "    <tr>\n",
       "      <td>1</td>\n",
       "      <td>0.105200</td>\n",
       "      <td>0.132810</td>\n",
       "      <td>0.973274</td>\n",
       "      <td>0.841954</td>\n",
       "      <td>0.544610</td>\n",
       "      <td>0.661400</td>\n",
       "      <td>0.977475</td>\n",
       "      <td>0.994854</td>\n",
       "      <td>0.986088</td>\n",
       "      <td>0.909715</td>\n",
       "      <td>0.769732</td>\n",
       "      <td>0.823744</td>\n",
       "    </tr>\n",
       "    <tr>\n",
       "      <td>2</td>\n",
       "      <td>0.080500</td>\n",
       "      <td>0.111856</td>\n",
       "      <td>0.976570</td>\n",
       "      <td>0.799564</td>\n",
       "      <td>0.682156</td>\n",
       "      <td>0.736209</td>\n",
       "      <td>0.984117</td>\n",
       "      <td>0.991391</td>\n",
       "      <td>0.987741</td>\n",
       "      <td>0.891840</td>\n",
       "      <td>0.836774</td>\n",
       "      <td>0.861975</td>\n",
       "    </tr>\n",
       "    <tr>\n",
       "      <td>3</td>\n",
       "      <td>0.081400</td>\n",
       "      <td>0.101646</td>\n",
       "      <td>0.976481</td>\n",
       "      <td>0.795259</td>\n",
       "      <td>0.685874</td>\n",
       "      <td>0.736527</td>\n",
       "      <td>0.984295</td>\n",
       "      <td>0.991111</td>\n",
       "      <td>0.987691</td>\n",
       "      <td>0.889777</td>\n",
       "      <td>0.838492</td>\n",
       "      <td>0.862109</td>\n",
       "    </tr>\n",
       "    <tr>\n",
       "      <td>4</td>\n",
       "      <td>0.071200</td>\n",
       "      <td>0.106964</td>\n",
       "      <td>0.976303</td>\n",
       "      <td>0.814815</td>\n",
       "      <td>0.654275</td>\n",
       "      <td>0.725773</td>\n",
       "      <td>0.982767</td>\n",
       "      <td>0.992514</td>\n",
       "      <td>0.987616</td>\n",
       "      <td>0.898791</td>\n",
       "      <td>0.823395</td>\n",
       "      <td>0.856695</td>\n",
       "    </tr>\n",
       "  </tbody>\n",
       "</table><p>"
      ],
      "text/plain": [
       "<IPython.core.display.HTML object>"
      ]
     },
     "metadata": {},
     "output_type": "display_data"
    },
    {
     "name": "stderr",
     "output_type": "stream",
     "text": [
      "***** Running Evaluation *****\n",
      "  Num examples = 11225\n",
      "  Batch size = 8\n",
      "Saving model checkpoint to content/drive/MyDrive_binary/output_DistilBert/fold3/checkpoint-12628\n",
      "Configuration saved in content/drive/MyDrive_binary/output_DistilBert/fold3/checkpoint-12628/config.json\n",
      "Model weights saved in content/drive/MyDrive_binary/output_DistilBert/fold3/checkpoint-12628/pytorch_model.bin\n",
      "***** Running Evaluation *****\n",
      "  Num examples = 11225\n",
      "  Batch size = 8\n",
      "Saving model checkpoint to content/drive/MyDrive_binary/output_DistilBert/fold3/checkpoint-25256\n",
      "Configuration saved in content/drive/MyDrive_binary/output_DistilBert/fold3/checkpoint-25256/config.json\n",
      "Model weights saved in content/drive/MyDrive_binary/output_DistilBert/fold3/checkpoint-25256/pytorch_model.bin\n",
      "***** Running Evaluation *****\n",
      "  Num examples = 11225\n",
      "  Batch size = 8\n",
      "Saving model checkpoint to content/drive/MyDrive_binary/output_DistilBert/fold3/checkpoint-37884\n",
      "Configuration saved in content/drive/MyDrive_binary/output_DistilBert/fold3/checkpoint-37884/config.json\n",
      "Model weights saved in content/drive/MyDrive_binary/output_DistilBert/fold3/checkpoint-37884/pytorch_model.bin\n",
      "***** Running Evaluation *****\n",
      "  Num examples = 11225\n",
      "  Batch size = 8\n",
      "Saving model checkpoint to content/drive/MyDrive_binary/output_DistilBert/fold3/checkpoint-50512\n",
      "Configuration saved in content/drive/MyDrive_binary/output_DistilBert/fold3/checkpoint-50512/config.json\n",
      "Model weights saved in content/drive/MyDrive_binary/output_DistilBert/fold3/checkpoint-50512/pytorch_model.bin\n",
      "\n",
      "\n",
      "Training completed. Do not forget to share your model on huggingface.co/models =)\n",
      "\n",
      "\n",
      "Loading best model from content/drive/MyDrive_binary/output_DistilBert/fold3/checkpoint-37884 (score: 0.10164638608694077).\n",
      "3it [4:33:54, 6746.11s/it]"
     ]
    },
    {
     "name": "stdout",
     "output_type": "stream",
     "text": [
      "Complete for fold 3\n",
      "Running for Fold:  4\n"
     ]
    },
    {
     "name": "stderr",
     "output_type": "stream",
     "text": [
      "PyTorch: setting up devices\n",
      "The default value for the training argument `--report_to` will change in v5 (from all installed integrations to none). In v5, you will need to use `--report_to all` to get the same behavior as now. You should start updating your code and make this info disappear :-).\n",
      "/opt/conda/lib/python3.9/site-packages/transformers/optimization.py:306: FutureWarning: This implementation of AdamW is deprecated and will be removed in a future version. Use the PyTorch implementation torch.optim.AdamW instead, or set `no_deprecation_warning=True` to disable this warning\n",
      "  warnings.warn(\n",
      "***** Running training *****\n",
      "  Num examples = 101022\n",
      "  Num Epochs = 4\n",
      "  Instantaneous batch size per device = 8\n",
      "  Total train batch size (w. parallel, distributed & accumulation) = 8\n",
      "  Gradient Accumulation steps = 1\n",
      "  Total optimization steps = 50512\n"
     ]
    },
    {
     "data": {
      "text/html": [
       "\n",
       "    <div>\n",
       "      \n",
       "      <progress value='16863' max='50512' style='width:300px; height:20px; vertical-align: middle;'></progress>\n",
       "      [16863/50512 59:02 < 1:57:50, 4.76 it/s, Epoch 1.34/4]\n",
       "    </div>\n",
       "    <table border=\"1\" class=\"dataframe\">\n",
       "  <thead>\n",
       " <tr style=\"text-align: left;\">\n",
       "      <th>Epoch</th>\n",
       "      <th>Training Loss</th>\n",
       "      <th>Validation Loss</th>\n",
       "      <th>Accuracy</th>\n",
       "      <th>Precision Cb</th>\n",
       "      <th>Recall Cb</th>\n",
       "      <th>F1 Cb</th>\n",
       "      <th>Precision Ncb</th>\n",
       "      <th>Recall Ncb</th>\n",
       "      <th>F1 Ncb</th>\n",
       "      <th>Precision Overall</th>\n",
       "      <th>Recall Overall</th>\n",
       "      <th>F1 Overall</th>\n",
       "    </tr>\n",
       "  </thead>\n",
       "  <tbody>\n",
       "    <tr>\n",
       "      <td>1</td>\n",
       "      <td>0.104000</td>\n",
       "      <td>0.114283</td>\n",
       "      <td>0.973719</td>\n",
       "      <td>0.727955</td>\n",
       "      <td>0.721190</td>\n",
       "      <td>0.724556</td>\n",
       "      <td>0.985971</td>\n",
       "      <td>0.986432</td>\n",
       "      <td>0.986201</td>\n",
       "      <td>0.856963</td>\n",
       "      <td>0.853811</td>\n",
       "      <td>0.855379</td>\n",
       "    </tr>\n",
       "  </tbody>\n",
       "</table><p>"
      ],
      "text/plain": [
       "<IPython.core.display.HTML object>"
      ]
     },
     "metadata": {},
     "output_type": "display_data"
    },
    {
     "name": "stderr",
     "output_type": "stream",
     "text": [
      "***** Running Evaluation *****\n",
      "  Num examples = 11225\n",
      "  Batch size = 8\n",
      "Saving model checkpoint to content/drive/MyDrive_binary/output_DistilBert/fold4/checkpoint-12628\n",
      "Configuration saved in content/drive/MyDrive_binary/output_DistilBert/fold4/checkpoint-12628/config.json\n",
      "Model weights saved in content/drive/MyDrive_binary/output_DistilBert/fold4/checkpoint-12628/pytorch_model.bin\n"
     ]
    }
   ],
   "source": [
    "run_cross_validation(model_name='DistilBert',\n",
    "                         X=X,\n",
    "                         y=y, \n",
    "                         splits=5,\n",
    "                         epoch=4,\n",
    "                         checkpoint=True)"
   ]
  },
  {
   "cell_type": "markdown",
   "id": "d360c18c-39cb-41e0-82c8-4b1d947f5251",
   "metadata": {
    "id": "q5A2sV2dKlPb",
    "jp-MarkdownHeadingCollapsed": true,
    "tags": []
   },
   "source": [
    "### [Continue] Cross Validation (K = 5)"
   ]
  },
  {
   "cell_type": "code",
   "execution_count": 9,
   "id": "7e93ec6a-a94e-4b91-8606-93fe22dcfe5d",
   "metadata": {
    "id": "p5QGotWv8_-V"
   },
   "outputs": [
    {
     "name": "stdout",
     "output_type": "stream",
     "text": [
      "Developing Model with Cross validation for: DistilBert\n"
     ]
    },
    {
     "name": "stderr",
     "output_type": "stream",
     "text": [
      "0it [00:00, ?it/s]"
     ]
    },
    {
     "name": "stdout",
     "output_type": "stream",
     "text": [
      "Running for Fold:  1\n"
     ]
    },
    {
     "name": "stderr",
     "output_type": "stream",
     "text": [
      "Loading model from content/drive/MyDrive_binary/output_DistilBert/fold1/checkpoint-50512).\n",
      "/opt/conda/lib/python3.9/site-packages/transformers/optimization.py:306: FutureWarning: This implementation of AdamW is deprecated and will be removed in a future version. Use the PyTorch implementation torch.optim.AdamW instead, or set `no_deprecation_warning=True` to disable this warning\n",
      "  warnings.warn(\n",
      "***** Running training *****\n",
      "  Num examples = 101022\n",
      "  Num Epochs = 4\n",
      "  Instantaneous batch size per device = 8\n",
      "  Total train batch size (w. parallel, distributed & accumulation) = 8\n",
      "  Gradient Accumulation steps = 1\n",
      "  Total optimization steps = 50512\n",
      "  Continuing training from checkpoint, will skip to saved global_step\n",
      "  Continuing training from epoch 4\n",
      "  Continuing training from global step 50512\n",
      "  Will skip the first 4 epochs then the first 0 batches in the first epoch. If this takes a lot of time, you can add the `--ignore_data_skip` flag to your launch command, but you will resume the training on data already seen by your model.\n"
     ]
    },
    {
     "data": {
      "application/vnd.jupyter.widget-view+json": {
       "model_id": "a44e597c76f5489baa0140932409fb9d",
       "version_major": 2,
       "version_minor": 0
      },
      "text/plain": [
       "0it [00:00, ?it/s]"
      ]
     },
     "metadata": {},
     "output_type": "display_data"
    },
    {
     "name": "stderr",
     "output_type": "stream",
     "text": [
      "\n",
      "\n",
      "Training completed. Do not forget to share your model on huggingface.co/models =)\n",
      "\n",
      "\n",
      "Loading best model from content/drive/MyDrive_binary/output_DistilBert/fold1/checkpoint-37884 (score: 0.1345326006412506).\n"
     ]
    },
    {
     "data": {
      "text/html": [
       "\n",
       "    <div>\n",
       "      \n",
       "      <progress value='50512' max='50512' style='width:300px; height:20px; vertical-align: middle;'></progress>\n",
       "      [50512/50512 : < :, Epoch 4/4]\n",
       "    </div>\n",
       "    <table border=\"1\" class=\"dataframe\">\n",
       "  <thead>\n",
       " <tr style=\"text-align: left;\">\n",
       "      <th>Epoch</th>\n",
       "      <th>Training Loss</th>\n",
       "      <th>Validation Loss</th>\n",
       "    </tr>\n",
       "  </thead>\n",
       "  <tbody>\n",
       "  </tbody>\n",
       "</table><p>"
      ],
      "text/plain": [
       "<IPython.core.display.HTML object>"
      ]
     },
     "metadata": {},
     "output_type": "display_data"
    },
    {
     "name": "stderr",
     "output_type": "stream",
     "text": [
      "1it [00:22, 22.45s/it]"
     ]
    },
    {
     "name": "stdout",
     "output_type": "stream",
     "text": [
      "Complete for fold 1\n",
      "Running for Fold:  2\n"
     ]
    },
    {
     "name": "stderr",
     "output_type": "stream",
     "text": [
      "PyTorch: setting up devices\n",
      "The default value for the training argument `--report_to` will change in v5 (from all installed integrations to none). In v5, you will need to use `--report_to all` to get the same behavior as now. You should start updating your code and make this info disappear :-).\n",
      "Loading model from content/drive/MyDrive_binary/output_DistilBert/fold2/checkpoint-50512).\n",
      "/opt/conda/lib/python3.9/site-packages/transformers/optimization.py:306: FutureWarning: This implementation of AdamW is deprecated and will be removed in a future version. Use the PyTorch implementation torch.optim.AdamW instead, or set `no_deprecation_warning=True` to disable this warning\n",
      "  warnings.warn(\n",
      "***** Running training *****\n",
      "  Num examples = 101022\n",
      "  Num Epochs = 4\n",
      "  Instantaneous batch size per device = 8\n",
      "  Total train batch size (w. parallel, distributed & accumulation) = 8\n",
      "  Gradient Accumulation steps = 1\n",
      "  Total optimization steps = 50512\n",
      "  Continuing training from checkpoint, will skip to saved global_step\n",
      "  Continuing training from epoch 4\n",
      "  Continuing training from global step 50512\n",
      "  Will skip the first 4 epochs then the first 0 batches in the first epoch. If this takes a lot of time, you can add the `--ignore_data_skip` flag to your launch command, but you will resume the training on data already seen by your model.\n"
     ]
    },
    {
     "data": {
      "application/vnd.jupyter.widget-view+json": {
       "model_id": "d9241da247ad438786f525bbdbe6da8c",
       "version_major": 2,
       "version_minor": 0
      },
      "text/plain": [
       "0it [00:00, ?it/s]"
      ]
     },
     "metadata": {},
     "output_type": "display_data"
    },
    {
     "name": "stderr",
     "output_type": "stream",
     "text": [
      "\n",
      "\n",
      "Training completed. Do not forget to share your model on huggingface.co/models =)\n",
      "\n",
      "\n",
      "Loading best model from content/drive/MyDrive_binary/output_DistilBert/fold2/checkpoint-37884 (score: 0.12597954273223877).\n"
     ]
    },
    {
     "data": {
      "text/html": [
       "\n",
       "    <div>\n",
       "      \n",
       "      <progress value='50512' max='50512' style='width:300px; height:20px; vertical-align: middle;'></progress>\n",
       "      [50512/50512 : < :, Epoch 4/4]\n",
       "    </div>\n",
       "    <table border=\"1\" class=\"dataframe\">\n",
       "  <thead>\n",
       " <tr style=\"text-align: left;\">\n",
       "      <th>Epoch</th>\n",
       "      <th>Training Loss</th>\n",
       "      <th>Validation Loss</th>\n",
       "    </tr>\n",
       "  </thead>\n",
       "  <tbody>\n",
       "  </tbody>\n",
       "</table><p>"
      ],
      "text/plain": [
       "<IPython.core.display.HTML object>"
      ]
     },
     "metadata": {},
     "output_type": "display_data"
    },
    {
     "name": "stderr",
     "output_type": "stream",
     "text": [
      "2it [00:45, 22.69s/it]"
     ]
    },
    {
     "name": "stdout",
     "output_type": "stream",
     "text": [
      "Complete for fold 2\n",
      "Running for Fold:  3\n"
     ]
    },
    {
     "name": "stderr",
     "output_type": "stream",
     "text": [
      "PyTorch: setting up devices\n",
      "The default value for the training argument `--report_to` will change in v5 (from all installed integrations to none). In v5, you will need to use `--report_to all` to get the same behavior as now. You should start updating your code and make this info disappear :-).\n",
      "Loading model from content/drive/MyDrive_binary/output_DistilBert/fold3/checkpoint-50512).\n",
      "/opt/conda/lib/python3.9/site-packages/transformers/optimization.py:306: FutureWarning: This implementation of AdamW is deprecated and will be removed in a future version. Use the PyTorch implementation torch.optim.AdamW instead, or set `no_deprecation_warning=True` to disable this warning\n",
      "  warnings.warn(\n",
      "***** Running training *****\n",
      "  Num examples = 101022\n",
      "  Num Epochs = 4\n",
      "  Instantaneous batch size per device = 8\n",
      "  Total train batch size (w. parallel, distributed & accumulation) = 8\n",
      "  Gradient Accumulation steps = 1\n",
      "  Total optimization steps = 50512\n",
      "  Continuing training from checkpoint, will skip to saved global_step\n",
      "  Continuing training from epoch 4\n",
      "  Continuing training from global step 50512\n",
      "  Will skip the first 4 epochs then the first 0 batches in the first epoch. If this takes a lot of time, you can add the `--ignore_data_skip` flag to your launch command, but you will resume the training on data already seen by your model.\n"
     ]
    },
    {
     "data": {
      "application/vnd.jupyter.widget-view+json": {
       "model_id": "f4ecd7c61686485998fe8fe3079da097",
       "version_major": 2,
       "version_minor": 0
      },
      "text/plain": [
       "0it [00:00, ?it/s]"
      ]
     },
     "metadata": {},
     "output_type": "display_data"
    },
    {
     "name": "stderr",
     "output_type": "stream",
     "text": [
      "\n",
      "\n",
      "Training completed. Do not forget to share your model on huggingface.co/models =)\n",
      "\n",
      "\n",
      "Loading best model from content/drive/MyDrive_binary/output_DistilBert/fold3/checkpoint-37884 (score: 0.10164638608694077).\n"
     ]
    },
    {
     "data": {
      "text/html": [
       "\n",
       "    <div>\n",
       "      \n",
       "      <progress value='50512' max='50512' style='width:300px; height:20px; vertical-align: middle;'></progress>\n",
       "      [50512/50512 : < :, Epoch 4/4]\n",
       "    </div>\n",
       "    <table border=\"1\" class=\"dataframe\">\n",
       "  <thead>\n",
       " <tr style=\"text-align: left;\">\n",
       "      <th>Epoch</th>\n",
       "      <th>Training Loss</th>\n",
       "      <th>Validation Loss</th>\n",
       "    </tr>\n",
       "  </thead>\n",
       "  <tbody>\n",
       "  </tbody>\n",
       "</table><p>"
      ],
      "text/plain": [
       "<IPython.core.display.HTML object>"
      ]
     },
     "metadata": {},
     "output_type": "display_data"
    },
    {
     "name": "stderr",
     "output_type": "stream",
     "text": [
      "3it [01:04, 21.07s/it]"
     ]
    },
    {
     "name": "stdout",
     "output_type": "stream",
     "text": [
      "Complete for fold 3\n",
      "Running for Fold:  4\n"
     ]
    },
    {
     "name": "stderr",
     "output_type": "stream",
     "text": [
      "PyTorch: setting up devices\n",
      "The default value for the training argument `--report_to` will change in v5 (from all installed integrations to none). In v5, you will need to use `--report_to all` to get the same behavior as now. You should start updating your code and make this info disappear :-).\n",
      "Loading model from content/drive/MyDrive_binary/output_DistilBert/fold4/checkpoint-12628).\n",
      "/opt/conda/lib/python3.9/site-packages/transformers/optimization.py:306: FutureWarning: This implementation of AdamW is deprecated and will be removed in a future version. Use the PyTorch implementation torch.optim.AdamW instead, or set `no_deprecation_warning=True` to disable this warning\n",
      "  warnings.warn(\n",
      "***** Running training *****\n",
      "  Num examples = 101022\n",
      "  Num Epochs = 4\n",
      "  Instantaneous batch size per device = 8\n",
      "  Total train batch size (w. parallel, distributed & accumulation) = 8\n",
      "  Gradient Accumulation steps = 1\n",
      "  Total optimization steps = 50512\n",
      "  Continuing training from checkpoint, will skip to saved global_step\n",
      "  Continuing training from epoch 1\n",
      "  Continuing training from global step 12628\n",
      "  Will skip the first 1 epochs then the first 0 batches in the first epoch. If this takes a lot of time, you can add the `--ignore_data_skip` flag to your launch command, but you will resume the training on data already seen by your model.\n"
     ]
    },
    {
     "data": {
      "application/vnd.jupyter.widget-view+json": {
       "model_id": "75100583c6ea47baba773c73bbcdd6a3",
       "version_major": 2,
       "version_minor": 0
      },
      "text/plain": [
       "0it [00:00, ?it/s]"
      ]
     },
     "metadata": {},
     "output_type": "display_data"
    },
    {
     "data": {
      "text/html": [
       "\n",
       "    <div>\n",
       "      \n",
       "      <progress value='50512' max='50512' style='width:300px; height:20px; vertical-align: middle;'></progress>\n",
       "      [50512/50512 2:15:19, Epoch 4/4]\n",
       "    </div>\n",
       "    <table border=\"1\" class=\"dataframe\">\n",
       "  <thead>\n",
       " <tr style=\"text-align: left;\">\n",
       "      <th>Epoch</th>\n",
       "      <th>Training Loss</th>\n",
       "      <th>Validation Loss</th>\n",
       "      <th>Accuracy</th>\n",
       "      <th>Precision Cb</th>\n",
       "      <th>Recall Cb</th>\n",
       "      <th>F1 Cb</th>\n",
       "      <th>Precision Ncb</th>\n",
       "      <th>Recall Ncb</th>\n",
       "      <th>F1 Ncb</th>\n",
       "      <th>Precision Overall</th>\n",
       "      <th>Recall Overall</th>\n",
       "      <th>F1 Overall</th>\n",
       "    </tr>\n",
       "  </thead>\n",
       "  <tbody>\n",
       "    <tr>\n",
       "      <td>2</td>\n",
       "      <td>0.090400</td>\n",
       "      <td>0.097298</td>\n",
       "      <td>0.976927</td>\n",
       "      <td>0.781818</td>\n",
       "      <td>0.719331</td>\n",
       "      <td>0.749274</td>\n",
       "      <td>0.985927</td>\n",
       "      <td>0.989894</td>\n",
       "      <td>0.987907</td>\n",
       "      <td>0.883873</td>\n",
       "      <td>0.854613</td>\n",
       "      <td>0.868590</td>\n",
       "    </tr>\n",
       "    <tr>\n",
       "      <td>3</td>\n",
       "      <td>0.094700</td>\n",
       "      <td>0.101130</td>\n",
       "      <td>0.977372</td>\n",
       "      <td>0.815556</td>\n",
       "      <td>0.682156</td>\n",
       "      <td>0.742915</td>\n",
       "      <td>0.984130</td>\n",
       "      <td>0.992234</td>\n",
       "      <td>0.988165</td>\n",
       "      <td>0.899843</td>\n",
       "      <td>0.837195</td>\n",
       "      <td>0.865540</td>\n",
       "    </tr>\n",
       "    <tr>\n",
       "      <td>4</td>\n",
       "      <td>0.057900</td>\n",
       "      <td>0.101350</td>\n",
       "      <td>0.977550</td>\n",
       "      <td>0.802966</td>\n",
       "      <td>0.704461</td>\n",
       "      <td>0.750495</td>\n",
       "      <td>0.985213</td>\n",
       "      <td>0.991298</td>\n",
       "      <td>0.988246</td>\n",
       "      <td>0.894090</td>\n",
       "      <td>0.847879</td>\n",
       "      <td>0.869371</td>\n",
       "    </tr>\n",
       "  </tbody>\n",
       "</table><p>"
      ],
      "text/plain": [
       "<IPython.core.display.HTML object>"
      ]
     },
     "metadata": {},
     "output_type": "display_data"
    },
    {
     "name": "stderr",
     "output_type": "stream",
     "text": [
      "***** Running Evaluation *****\n",
      "  Num examples = 11225\n",
      "  Batch size = 8\n",
      "Saving model checkpoint to content/drive/MyDrive_binary/output_DistilBert/fold4/checkpoint-25256\n",
      "Configuration saved in content/drive/MyDrive_binary/output_DistilBert/fold4/checkpoint-25256/config.json\n",
      "Model weights saved in content/drive/MyDrive_binary/output_DistilBert/fold4/checkpoint-25256/pytorch_model.bin\n",
      "***** Running Evaluation *****\n",
      "  Num examples = 11225\n",
      "  Batch size = 8\n",
      "Saving model checkpoint to content/drive/MyDrive_binary/output_DistilBert/fold4/checkpoint-37884\n",
      "Configuration saved in content/drive/MyDrive_binary/output_DistilBert/fold4/checkpoint-37884/config.json\n",
      "Model weights saved in content/drive/MyDrive_binary/output_DistilBert/fold4/checkpoint-37884/pytorch_model.bin\n",
      "***** Running Evaluation *****\n",
      "  Num examples = 11225\n",
      "  Batch size = 8\n",
      "Saving model checkpoint to content/drive/MyDrive_binary/output_DistilBert/fold4/checkpoint-50512\n",
      "Configuration saved in content/drive/MyDrive_binary/output_DistilBert/fold4/checkpoint-50512/config.json\n",
      "Model weights saved in content/drive/MyDrive_binary/output_DistilBert/fold4/checkpoint-50512/pytorch_model.bin\n",
      "\n",
      "\n",
      "Training completed. Do not forget to share your model on huggingface.co/models =)\n",
      "\n",
      "\n",
      "Loading best model from content/drive/MyDrive_binary/output_DistilBert/fold4/checkpoint-25256 (score: 0.09729836136102676).\n",
      "4it [2:16:42, 3225.43s/it]"
     ]
    },
    {
     "name": "stdout",
     "output_type": "stream",
     "text": [
      "Complete for fold 4\n",
      "Running for Fold:  5\n"
     ]
    },
    {
     "name": "stderr",
     "output_type": "stream",
     "text": [
      "PyTorch: setting up devices\n",
      "The default value for the training argument `--report_to` will change in v5 (from all installed integrations to none). In v5, you will need to use `--report_to all` to get the same behavior as now. You should start updating your code and make this info disappear :-).\n",
      "/opt/conda/lib/python3.9/site-packages/transformers/optimization.py:306: FutureWarning: This implementation of AdamW is deprecated and will be removed in a future version. Use the PyTorch implementation torch.optim.AdamW instead, or set `no_deprecation_warning=True` to disable this warning\n",
      "  warnings.warn(\n",
      "***** Running training *****\n",
      "  Num examples = 101022\n",
      "  Num Epochs = 4\n",
      "  Instantaneous batch size per device = 8\n",
      "  Total train batch size (w. parallel, distributed & accumulation) = 8\n",
      "  Gradient Accumulation steps = 1\n",
      "  Total optimization steps = 50512\n"
     ]
    },
    {
     "data": {
      "text/html": [
       "\n",
       "    <div>\n",
       "      \n",
       "      <progress value='50512' max='50512' style='width:300px; height:20px; vertical-align: middle;'></progress>\n",
       "      [50512/50512 2:57:52, Epoch 4/4]\n",
       "    </div>\n",
       "    <table border=\"1\" class=\"dataframe\">\n",
       "  <thead>\n",
       " <tr style=\"text-align: left;\">\n",
       "      <th>Epoch</th>\n",
       "      <th>Training Loss</th>\n",
       "      <th>Validation Loss</th>\n",
       "      <th>Accuracy</th>\n",
       "      <th>Precision Cb</th>\n",
       "      <th>Recall Cb</th>\n",
       "      <th>F1 Cb</th>\n",
       "      <th>Precision Ncb</th>\n",
       "      <th>Recall Ncb</th>\n",
       "      <th>F1 Ncb</th>\n",
       "      <th>Precision Overall</th>\n",
       "      <th>Recall Overall</th>\n",
       "      <th>F1 Overall</th>\n",
       "    </tr>\n",
       "  </thead>\n",
       "  <tbody>\n",
       "    <tr>\n",
       "      <td>1</td>\n",
       "      <td>0.106400</td>\n",
       "      <td>0.112681</td>\n",
       "      <td>0.975947</td>\n",
       "      <td>0.778008</td>\n",
       "      <td>0.697026</td>\n",
       "      <td>0.735294</td>\n",
       "      <td>0.984827</td>\n",
       "      <td>0.989988</td>\n",
       "      <td>0.987401</td>\n",
       "      <td>0.881418</td>\n",
       "      <td>0.843507</td>\n",
       "      <td>0.861347</td>\n",
       "    </tr>\n",
       "    <tr>\n",
       "      <td>2</td>\n",
       "      <td>0.095300</td>\n",
       "      <td>0.127457</td>\n",
       "      <td>0.971047</td>\n",
       "      <td>0.801700</td>\n",
       "      <td>0.526022</td>\n",
       "      <td>0.635241</td>\n",
       "      <td>0.976545</td>\n",
       "      <td>0.993450</td>\n",
       "      <td>0.984925</td>\n",
       "      <td>0.889122</td>\n",
       "      <td>0.759736</td>\n",
       "      <td>0.810083</td>\n",
       "    </tr>\n",
       "    <tr>\n",
       "      <td>3</td>\n",
       "      <td>0.066200</td>\n",
       "      <td>0.124312</td>\n",
       "      <td>0.974878</td>\n",
       "      <td>0.781938</td>\n",
       "      <td>0.659851</td>\n",
       "      <td>0.715726</td>\n",
       "      <td>0.983010</td>\n",
       "      <td>0.990736</td>\n",
       "      <td>0.986858</td>\n",
       "      <td>0.882474</td>\n",
       "      <td>0.825294</td>\n",
       "      <td>0.851292</td>\n",
       "    </tr>\n",
       "    <tr>\n",
       "      <td>4</td>\n",
       "      <td>0.073000</td>\n",
       "      <td>0.108755</td>\n",
       "      <td>0.975768</td>\n",
       "      <td>0.792952</td>\n",
       "      <td>0.669145</td>\n",
       "      <td>0.725806</td>\n",
       "      <td>0.983474</td>\n",
       "      <td>0.991204</td>\n",
       "      <td>0.987324</td>\n",
       "      <td>0.888213</td>\n",
       "      <td>0.830175</td>\n",
       "      <td>0.856565</td>\n",
       "    </tr>\n",
       "  </tbody>\n",
       "</table><p>"
      ],
      "text/plain": [
       "<IPython.core.display.HTML object>"
      ]
     },
     "metadata": {},
     "output_type": "display_data"
    },
    {
     "name": "stderr",
     "output_type": "stream",
     "text": [
      "***** Running Evaluation *****\n",
      "  Num examples = 11225\n",
      "  Batch size = 8\n",
      "Saving model checkpoint to content/drive/MyDrive_binary/output_DistilBert/fold5/checkpoint-12628\n",
      "Configuration saved in content/drive/MyDrive_binary/output_DistilBert/fold5/checkpoint-12628/config.json\n",
      "Model weights saved in content/drive/MyDrive_binary/output_DistilBert/fold5/checkpoint-12628/pytorch_model.bin\n",
      "***** Running Evaluation *****\n",
      "  Num examples = 11225\n",
      "  Batch size = 8\n",
      "Saving model checkpoint to content/drive/MyDrive_binary/output_DistilBert/fold5/checkpoint-25256\n",
      "Configuration saved in content/drive/MyDrive_binary/output_DistilBert/fold5/checkpoint-25256/config.json\n",
      "Model weights saved in content/drive/MyDrive_binary/output_DistilBert/fold5/checkpoint-25256/pytorch_model.bin\n",
      "***** Running Evaluation *****\n",
      "  Num examples = 11225\n",
      "  Batch size = 8\n",
      "Saving model checkpoint to content/drive/MyDrive_binary/output_DistilBert/fold5/checkpoint-37884\n",
      "Configuration saved in content/drive/MyDrive_binary/output_DistilBert/fold5/checkpoint-37884/config.json\n",
      "Model weights saved in content/drive/MyDrive_binary/output_DistilBert/fold5/checkpoint-37884/pytorch_model.bin\n",
      "***** Running Evaluation *****\n",
      "  Num examples = 11225\n",
      "  Batch size = 8\n",
      "Saving model checkpoint to content/drive/MyDrive_binary/output_DistilBert/fold5/checkpoint-50512\n",
      "Configuration saved in content/drive/MyDrive_binary/output_DistilBert/fold5/checkpoint-50512/config.json\n",
      "Model weights saved in content/drive/MyDrive_binary/output_DistilBert/fold5/checkpoint-50512/pytorch_model.bin\n",
      "\n",
      "\n",
      "Training completed. Do not forget to share your model on huggingface.co/models =)\n",
      "\n",
      "\n",
      "Loading best model from content/drive/MyDrive_binary/output_DistilBert/fold5/checkpoint-50512 (score: 0.10875506699085236).\n",
      "5it [5:14:49, 3777.96s/it]"
     ]
    },
    {
     "name": "stdout",
     "output_type": "stream",
     "text": [
      "Complete for fold 5\n"
     ]
    },
    {
     "name": "stderr",
     "output_type": "stream",
     "text": [
      "\n"
     ]
    }
   ],
   "source": [
    "run_cross_validation(model_name='DistilBert',\n",
    "                         X=X,\n",
    "                         y=y, \n",
    "                         splits=5,\n",
    "                         epoch=4,\n",
    "                         checkpoint=True)"
   ]
  },
  {
   "cell_type": "markdown",
   "id": "be1f1fc3-6321-4523-b145-7e18d34e4f41",
   "metadata": {
    "id": "q5A2sV2dKlPb",
    "jp-MarkdownHeadingCollapsed": true,
    "tags": []
   },
   "source": [
    "### [Continue] Cross Validation (K = 5)"
   ]
  },
  {
   "cell_type": "code",
   "execution_count": null,
   "id": "c59c04d6-abe2-43b4-be10-112ef09a3dc7",
   "metadata": {
    "id": "p5QGotWv8_-V"
   },
   "outputs": [
    {
     "name": "stdout",
     "output_type": "stream",
     "text": [
      "Developing Model with Cross validation for: DistilBert\n"
     ]
    },
    {
     "name": "stderr",
     "output_type": "stream",
     "text": [
      "0it [00:00, ?it/s]"
     ]
    },
    {
     "name": "stdout",
     "output_type": "stream",
     "text": [
      "Running for Fold:  1\n"
     ]
    },
    {
     "name": "stderr",
     "output_type": "stream",
     "text": [
      "Loading model from content/drive/MyDrive_binary/output_DistilBert/fold1/checkpoint-50512).\n",
      "/opt/conda/lib/python3.9/site-packages/transformers/optimization.py:306: FutureWarning: This implementation of AdamW is deprecated and will be removed in a future version. Use the PyTorch implementation torch.optim.AdamW instead, or set `no_deprecation_warning=True` to disable this warning\n",
      "  warnings.warn(\n",
      "***** Running training *****\n",
      "  Num examples = 101022\n",
      "  Num Epochs = 8\n",
      "  Instantaneous batch size per device = 8\n",
      "  Total train batch size (w. parallel, distributed & accumulation) = 8\n",
      "  Gradient Accumulation steps = 1\n",
      "  Total optimization steps = 101024\n",
      "  Continuing training from checkpoint, will skip to saved global_step\n",
      "  Continuing training from epoch 4\n",
      "  Continuing training from global step 50512\n",
      "  Will skip the first 4 epochs then the first 0 batches in the first epoch. If this takes a lot of time, you can add the `--ignore_data_skip` flag to your launch command, but you will resume the training on data already seen by your model.\n"
     ]
    },
    {
     "data": {
      "application/vnd.jupyter.widget-view+json": {
       "model_id": "fbc9550503404768a7d7e4c5dc939d03",
       "version_major": 2,
       "version_minor": 0
      },
      "text/plain": [
       "0it [00:00, ?it/s]"
      ]
     },
     "metadata": {},
     "output_type": "display_data"
    },
    {
     "data": {
      "text/html": [
       "\n",
       "    <div>\n",
       "      \n",
       "      <progress value='88396' max='101024' style='width:300px; height:20px; vertical-align: middle;'></progress>\n",
       "      [ 88396/101024 2:13:30 < 44:30, 4.73 it/s, Epoch 7/8]\n",
       "    </div>\n",
       "    <table border=\"1\" class=\"dataframe\">\n",
       "  <thead>\n",
       " <tr style=\"text-align: left;\">\n",
       "      <th>Epoch</th>\n",
       "      <th>Training Loss</th>\n",
       "      <th>Validation Loss</th>\n",
       "      <th>Accuracy</th>\n",
       "      <th>Precision Cb</th>\n",
       "      <th>Recall Cb</th>\n",
       "      <th>F1 Cb</th>\n",
       "      <th>Precision Ncb</th>\n",
       "      <th>Recall Ncb</th>\n",
       "      <th>F1 Ncb</th>\n",
       "      <th>Precision Overall</th>\n",
       "      <th>Recall Overall</th>\n",
       "      <th>F1 Overall</th>\n",
       "    </tr>\n",
       "  </thead>\n",
       "  <tbody>\n",
       "    <tr>\n",
       "      <td>5</td>\n",
       "      <td>0.092200</td>\n",
       "      <td>0.151382</td>\n",
       "      <td>0.963831</td>\n",
       "      <td>0.675532</td>\n",
       "      <td>0.472119</td>\n",
       "      <td>0.555799</td>\n",
       "      <td>0.973822</td>\n",
       "      <td>0.988584</td>\n",
       "      <td>0.981148</td>\n",
       "      <td>0.824677</td>\n",
       "      <td>0.730352</td>\n",
       "      <td>0.768473</td>\n",
       "    </tr>\n",
       "    <tr>\n",
       "      <td>6</td>\n",
       "      <td>0.088300</td>\n",
       "      <td>0.177724</td>\n",
       "      <td>0.964811</td>\n",
       "      <td>0.674817</td>\n",
       "      <td>0.513011</td>\n",
       "      <td>0.582893</td>\n",
       "      <td>0.975777</td>\n",
       "      <td>0.987555</td>\n",
       "      <td>0.981630</td>\n",
       "      <td>0.825297</td>\n",
       "      <td>0.750283</td>\n",
       "      <td>0.782262</td>\n",
       "    </tr>\n",
       "    <tr>\n",
       "      <td>7</td>\n",
       "      <td>0.086600</td>\n",
       "      <td>0.178357</td>\n",
       "      <td>0.965256</td>\n",
       "      <td>0.716374</td>\n",
       "      <td>0.455390</td>\n",
       "      <td>0.556818</td>\n",
       "      <td>0.973077</td>\n",
       "      <td>0.990924</td>\n",
       "      <td>0.981919</td>\n",
       "      <td>0.844726</td>\n",
       "      <td>0.723157</td>\n",
       "      <td>0.769369</td>\n",
       "    </tr>\n",
       "  </tbody>\n",
       "</table><p>"
      ],
      "text/plain": [
       "<IPython.core.display.HTML object>"
      ]
     },
     "metadata": {},
     "output_type": "display_data"
    },
    {
     "name": "stderr",
     "output_type": "stream",
     "text": [
      "***** Running Evaluation *****\n",
      "  Num examples = 11225\n",
      "  Batch size = 8\n",
      "Saving model checkpoint to content/drive/MyDrive_binary/output_DistilBert/fold1/checkpoint-63140\n",
      "Configuration saved in content/drive/MyDrive_binary/output_DistilBert/fold1/checkpoint-63140/config.json\n",
      "Model weights saved in content/drive/MyDrive_binary/output_DistilBert/fold1/checkpoint-63140/pytorch_model.bin\n",
      "***** Running Evaluation *****\n",
      "  Num examples = 11225\n",
      "  Batch size = 8\n",
      "Saving model checkpoint to content/drive/MyDrive_binary/output_DistilBert/fold1/checkpoint-75768\n",
      "Configuration saved in content/drive/MyDrive_binary/output_DistilBert/fold1/checkpoint-75768/config.json\n",
      "Model weights saved in content/drive/MyDrive_binary/output_DistilBert/fold1/checkpoint-75768/pytorch_model.bin\n",
      "***** Running Evaluation *****\n",
      "  Num examples = 11225\n",
      "  Batch size = 8\n",
      "Saving model checkpoint to content/drive/MyDrive_binary/output_DistilBert/fold1/checkpoint-88396\n",
      "Configuration saved in content/drive/MyDrive_binary/output_DistilBert/fold1/checkpoint-88396/config.json\n",
      "Model weights saved in content/drive/MyDrive_binary/output_DistilBert/fold1/checkpoint-88396/pytorch_model.bin\n",
      "\n",
      "\n",
      "Training completed. Do not forget to share your model on huggingface.co/models =)\n",
      "\n",
      "\n",
      "Loading best model from content/drive/MyDrive_binary/output_DistilBert/fold1/checkpoint-37884 (score: 0.1345326006412506).\n",
      "1it [2:13:52, 8032.38s/it]"
     ]
    },
    {
     "name": "stdout",
     "output_type": "stream",
     "text": [
      "Complete for fold 1\n",
      "Running for Fold:  2\n"
     ]
    },
    {
     "name": "stderr",
     "output_type": "stream",
     "text": [
      "PyTorch: setting up devices\n",
      "The default value for the training argument `--report_to` will change in v5 (from all installed integrations to none). In v5, you will need to use `--report_to all` to get the same behavior as now. You should start updating your code and make this info disappear :-).\n",
      "Loading model from content/drive/MyDrive_binary/output_DistilBert/fold2/checkpoint-50512).\n",
      "/opt/conda/lib/python3.9/site-packages/transformers/optimization.py:306: FutureWarning: This implementation of AdamW is deprecated and will be removed in a future version. Use the PyTorch implementation torch.optim.AdamW instead, or set `no_deprecation_warning=True` to disable this warning\n",
      "  warnings.warn(\n",
      "***** Running training *****\n",
      "  Num examples = 101022\n",
      "  Num Epochs = 8\n",
      "  Instantaneous batch size per device = 8\n",
      "  Total train batch size (w. parallel, distributed & accumulation) = 8\n",
      "  Gradient Accumulation steps = 1\n",
      "  Total optimization steps = 101024\n",
      "  Continuing training from checkpoint, will skip to saved global_step\n",
      "  Continuing training from epoch 4\n",
      "  Continuing training from global step 50512\n",
      "  Will skip the first 4 epochs then the first 0 batches in the first epoch. If this takes a lot of time, you can add the `--ignore_data_skip` flag to your launch command, but you will resume the training on data already seen by your model.\n"
     ]
    },
    {
     "data": {
      "application/vnd.jupyter.widget-view+json": {
       "model_id": "c898c4f76ed54cf6a53bcf5d721e4cba",
       "version_major": 2,
       "version_minor": 0
      },
      "text/plain": [
       "0it [00:00, ?it/s]"
      ]
     },
     "metadata": {},
     "output_type": "display_data"
    },
    {
     "data": {
      "text/html": [
       "\n",
       "    <div>\n",
       "      \n",
       "      <progress value='88396' max='101024' style='width:300px; height:20px; vertical-align: middle;'></progress>\n",
       "      [ 88396/101024 2:12:49 < 44:16, 4.75 it/s, Epoch 7/8]\n",
       "    </div>\n",
       "    <table border=\"1\" class=\"dataframe\">\n",
       "  <thead>\n",
       " <tr style=\"text-align: left;\">\n",
       "      <th>Epoch</th>\n",
       "      <th>Training Loss</th>\n",
       "      <th>Validation Loss</th>\n",
       "      <th>Accuracy</th>\n",
       "      <th>Precision Cb</th>\n",
       "      <th>Recall Cb</th>\n",
       "      <th>F1 Cb</th>\n",
       "      <th>Precision Ncb</th>\n",
       "      <th>Recall Ncb</th>\n",
       "      <th>F1 Ncb</th>\n",
       "      <th>Precision Overall</th>\n",
       "      <th>Recall Overall</th>\n",
       "      <th>F1 Overall</th>\n",
       "    </tr>\n",
       "  </thead>\n",
       "  <tbody>\n",
       "    <tr>\n",
       "      <td>5</td>\n",
       "      <td>0.105600</td>\n",
       "      <td>0.142114</td>\n",
       "      <td>0.967661</td>\n",
       "      <td>0.703963</td>\n",
       "      <td>0.561338</td>\n",
       "      <td>0.624612</td>\n",
       "      <td>0.978140</td>\n",
       "      <td>0.988116</td>\n",
       "      <td>0.983103</td>\n",
       "      <td>0.841051</td>\n",
       "      <td>0.774727</td>\n",
       "      <td>0.803858</td>\n",
       "    </tr>\n",
       "    <tr>\n",
       "      <td>6</td>\n",
       "      <td>0.071600</td>\n",
       "      <td>0.165928</td>\n",
       "      <td>0.967216</td>\n",
       "      <td>0.704327</td>\n",
       "      <td>0.544610</td>\n",
       "      <td>0.614256</td>\n",
       "      <td>0.977334</td>\n",
       "      <td>0.988491</td>\n",
       "      <td>0.982881</td>\n",
       "      <td>0.840830</td>\n",
       "      <td>0.766550</td>\n",
       "      <td>0.798568</td>\n",
       "    </tr>\n",
       "    <tr>\n",
       "      <td>7</td>\n",
       "      <td>0.075400</td>\n",
       "      <td>0.169131</td>\n",
       "      <td>0.966414</td>\n",
       "      <td>0.726761</td>\n",
       "      <td>0.479554</td>\n",
       "      <td>0.577828</td>\n",
       "      <td>0.974241</td>\n",
       "      <td>0.990924</td>\n",
       "      <td>0.982511</td>\n",
       "      <td>0.850501</td>\n",
       "      <td>0.735239</td>\n",
       "      <td>0.780170</td>\n",
       "    </tr>\n",
       "  </tbody>\n",
       "</table><p>"
      ],
      "text/plain": [
       "<IPython.core.display.HTML object>"
      ]
     },
     "metadata": {},
     "output_type": "display_data"
    },
    {
     "name": "stderr",
     "output_type": "stream",
     "text": [
      "***** Running Evaluation *****\n",
      "  Num examples = 11225\n",
      "  Batch size = 8\n",
      "Saving model checkpoint to content/drive/MyDrive_binary/output_DistilBert/fold2/checkpoint-63140\n",
      "Configuration saved in content/drive/MyDrive_binary/output_DistilBert/fold2/checkpoint-63140/config.json\n",
      "Model weights saved in content/drive/MyDrive_binary/output_DistilBert/fold2/checkpoint-63140/pytorch_model.bin\n",
      "***** Running Evaluation *****\n",
      "  Num examples = 11225\n",
      "  Batch size = 8\n",
      "Saving model checkpoint to content/drive/MyDrive_binary/output_DistilBert/fold2/checkpoint-75768\n",
      "Configuration saved in content/drive/MyDrive_binary/output_DistilBert/fold2/checkpoint-75768/config.json\n",
      "Model weights saved in content/drive/MyDrive_binary/output_DistilBert/fold2/checkpoint-75768/pytorch_model.bin\n",
      "***** Running Evaluation *****\n",
      "  Num examples = 11225\n",
      "  Batch size = 8\n",
      "Saving model checkpoint to content/drive/MyDrive_binary/output_DistilBert/fold2/checkpoint-88396\n",
      "Configuration saved in content/drive/MyDrive_binary/output_DistilBert/fold2/checkpoint-88396/config.json\n",
      "Model weights saved in content/drive/MyDrive_binary/output_DistilBert/fold2/checkpoint-88396/pytorch_model.bin\n",
      "\n",
      "\n",
      "Training completed. Do not forget to share your model on huggingface.co/models =)\n",
      "\n",
      "\n",
      "Loading best model from content/drive/MyDrive_binary/output_DistilBert/fold2/checkpoint-37884 (score: 0.12597954273223877).\n",
      "2it [4:27:04, 8008.45s/it]"
     ]
    },
    {
     "name": "stdout",
     "output_type": "stream",
     "text": [
      "Complete for fold 2\n",
      "Running for Fold:  3\n"
     ]
    },
    {
     "name": "stderr",
     "output_type": "stream",
     "text": [
      "PyTorch: setting up devices\n",
      "The default value for the training argument `--report_to` will change in v5 (from all installed integrations to none). In v5, you will need to use `--report_to all` to get the same behavior as now. You should start updating your code and make this info disappear :-).\n",
      "Loading model from content/drive/MyDrive_binary/output_DistilBert/fold3/checkpoint-50512).\n",
      "/opt/conda/lib/python3.9/site-packages/transformers/optimization.py:306: FutureWarning: This implementation of AdamW is deprecated and will be removed in a future version. Use the PyTorch implementation torch.optim.AdamW instead, or set `no_deprecation_warning=True` to disable this warning\n",
      "  warnings.warn(\n",
      "***** Running training *****\n",
      "  Num examples = 101022\n",
      "  Num Epochs = 8\n",
      "  Instantaneous batch size per device = 8\n",
      "  Total train batch size (w. parallel, distributed & accumulation) = 8\n",
      "  Gradient Accumulation steps = 1\n",
      "  Total optimization steps = 101024\n",
      "  Continuing training from checkpoint, will skip to saved global_step\n",
      "  Continuing training from epoch 4\n",
      "  Continuing training from global step 50512\n",
      "  Will skip the first 4 epochs then the first 0 batches in the first epoch. If this takes a lot of time, you can add the `--ignore_data_skip` flag to your launch command, but you will resume the training on data already seen by your model.\n"
     ]
    },
    {
     "data": {
      "application/vnd.jupyter.widget-view+json": {
       "model_id": "a9de92c1e99743aaaa39f68440701967",
       "version_major": 2,
       "version_minor": 0
      },
      "text/plain": [
       "0it [00:00, ?it/s]"
      ]
     },
     "metadata": {},
     "output_type": "display_data"
    },
    {
     "data": {
      "text/html": [
       "\n",
       "    <div>\n",
       "      \n",
       "      <progress value='50559' max='101024' style='width:300px; height:20px; vertical-align: middle;'></progress>\n",
       "      [ 50559/101024 00:09 < 3:04:24, 4.56 it/s, Epoch 4.00/8]\n",
       "    </div>\n",
       "    <table border=\"1\" class=\"dataframe\">\n",
       "  <thead>\n",
       " <tr style=\"text-align: left;\">\n",
       "      <th>Epoch</th>\n",
       "      <th>Training Loss</th>\n",
       "      <th>Validation Loss</th>\n",
       "    </tr>\n",
       "  </thead>\n",
       "  <tbody>\n",
       "  </tbody>\n",
       "</table><p>"
      ],
      "text/plain": [
       "<IPython.core.display.HTML object>"
      ]
     },
     "metadata": {},
     "output_type": "display_data"
    }
   ],
   "source": [
    "run_cross_validation(model_name='DistilBert',\n",
    "                         X=X,\n",
    "                         y=y, \n",
    "                         splits=5,\n",
    "                         epoch=8,\n",
    "                         checkpoint=True)"
   ]
  },
  {
   "cell_type": "markdown",
   "id": "43801784-9796-407b-b4a1-0b4ebe51781e",
   "metadata": {
    "id": "q5A2sV2dKlPb",
    "jp-MarkdownHeadingCollapsed": true,
    "tags": []
   },
   "source": [
    "### [Continue] Cross Validation (K = 5)"
   ]
  },
  {
   "cell_type": "code",
   "execution_count": null,
   "id": "6b4189ee-3fbd-4517-a1e1-9ac5597d4723",
   "metadata": {
    "id": "p5QGotWv8_-V"
   },
   "outputs": [
    {
     "name": "stdout",
     "output_type": "stream",
     "text": [
      "Developing Model with Cross validation for: DistilBert\n"
     ]
    },
    {
     "name": "stderr",
     "output_type": "stream",
     "text": [
      "0it [00:00, ?it/s]"
     ]
    },
    {
     "name": "stdout",
     "output_type": "stream",
     "text": [
      "Running for Fold:  1\n"
     ]
    },
    {
     "name": "stderr",
     "output_type": "stream",
     "text": [
      "Loading model from content/drive/MyDrive_binary/output_DistilBert/fold1/checkpoint-88396).\n",
      "/opt/conda/lib/python3.9/site-packages/transformers/optimization.py:306: FutureWarning: This implementation of AdamW is deprecated and will be removed in a future version. Use the PyTorch implementation torch.optim.AdamW instead, or set `no_deprecation_warning=True` to disable this warning\n",
      "  warnings.warn(\n",
      "***** Running training *****\n",
      "  Num examples = 101022\n",
      "  Num Epochs = 8\n",
      "  Instantaneous batch size per device = 8\n",
      "  Total train batch size (w. parallel, distributed & accumulation) = 8\n",
      "  Gradient Accumulation steps = 1\n",
      "  Total optimization steps = 101024\n",
      "  Continuing training from checkpoint, will skip to saved global_step\n",
      "  Continuing training from epoch 7\n",
      "  Continuing training from global step 88396\n",
      "  Will skip the first 7 epochs then the first 0 batches in the first epoch. If this takes a lot of time, you can add the `--ignore_data_skip` flag to your launch command, but you will resume the training on data already seen by your model.\n"
     ]
    },
    {
     "data": {
      "application/vnd.jupyter.widget-view+json": {
       "model_id": "95f9192bc2fd49fdad13ae44db413b55",
       "version_major": 2,
       "version_minor": 0
      },
      "text/plain": [
       "0it [00:00, ?it/s]"
      ]
     },
     "metadata": {},
     "output_type": "display_data"
    },
    {
     "data": {
      "text/html": [
       "\n",
       "    <div>\n",
       "      \n",
       "      <progress value='101024' max='101024' style='width:300px; height:20px; vertical-align: middle;'></progress>\n",
       "      [101024/101024 43:45, Epoch 8/8]\n",
       "    </div>\n",
       "    <table border=\"1\" class=\"dataframe\">\n",
       "  <thead>\n",
       " <tr style=\"text-align: left;\">\n",
       "      <th>Epoch</th>\n",
       "      <th>Training Loss</th>\n",
       "      <th>Validation Loss</th>\n",
       "      <th>Accuracy</th>\n",
       "      <th>Precision Cb</th>\n",
       "      <th>Recall Cb</th>\n",
       "      <th>F1 Cb</th>\n",
       "      <th>Precision Ncb</th>\n",
       "      <th>Recall Ncb</th>\n",
       "      <th>F1 Ncb</th>\n",
       "      <th>Precision Overall</th>\n",
       "      <th>Recall Overall</th>\n",
       "      <th>F1 Overall</th>\n",
       "    </tr>\n",
       "  </thead>\n",
       "  <tbody>\n",
       "    <tr>\n",
       "      <td>8</td>\n",
       "      <td>0.056800</td>\n",
       "      <td>0.172492</td>\n",
       "      <td>0.965969</td>\n",
       "      <td>0.696970</td>\n",
       "      <td>0.513011</td>\n",
       "      <td>0.591006</td>\n",
       "      <td>0.975806</td>\n",
       "      <td>0.988771</td>\n",
       "      <td>0.982246</td>\n",
       "      <td>0.836388</td>\n",
       "      <td>0.750891</td>\n",
       "      <td>0.786626</td>\n",
       "    </tr>\n",
       "  </tbody>\n",
       "</table><p>"
      ],
      "text/plain": [
       "<IPython.core.display.HTML object>"
      ]
     },
     "metadata": {},
     "output_type": "display_data"
    },
    {
     "name": "stderr",
     "output_type": "stream",
     "text": [
      "***** Running Evaluation *****\n",
      "  Num examples = 11225\n",
      "  Batch size = 8\n",
      "Saving model checkpoint to content/drive/MyDrive_binary/output_DistilBert/fold1/checkpoint-101024\n",
      "Configuration saved in content/drive/MyDrive_binary/output_DistilBert/fold1/checkpoint-101024/config.json\n",
      "Model weights saved in content/drive/MyDrive_binary/output_DistilBert/fold1/checkpoint-101024/pytorch_model.bin\n",
      "\n",
      "\n",
      "Training completed. Do not forget to share your model on huggingface.co/models =)\n",
      "\n",
      "\n",
      "Loading best model from content/drive/MyDrive_binary/output_DistilBert/fold1/checkpoint-37884 (score: 0.1345326006412506).\n",
      "1it [44:07, 2647.66s/it]"
     ]
    },
    {
     "name": "stdout",
     "output_type": "stream",
     "text": [
      "Complete for fold 1\n",
      "Running for Fold:  2\n"
     ]
    },
    {
     "name": "stderr",
     "output_type": "stream",
     "text": [
      "PyTorch: setting up devices\n",
      "The default value for the training argument `--report_to` will change in v5 (from all installed integrations to none). In v5, you will need to use `--report_to all` to get the same behavior as now. You should start updating your code and make this info disappear :-).\n",
      "Loading model from content/drive/MyDrive_binary/output_DistilBert/fold2/checkpoint-88396).\n",
      "/opt/conda/lib/python3.9/site-packages/transformers/optimization.py:306: FutureWarning: This implementation of AdamW is deprecated and will be removed in a future version. Use the PyTorch implementation torch.optim.AdamW instead, or set `no_deprecation_warning=True` to disable this warning\n",
      "  warnings.warn(\n",
      "***** Running training *****\n",
      "  Num examples = 101022\n",
      "  Num Epochs = 8\n",
      "  Instantaneous batch size per device = 8\n",
      "  Total train batch size (w. parallel, distributed & accumulation) = 8\n",
      "  Gradient Accumulation steps = 1\n",
      "  Total optimization steps = 101024\n",
      "  Continuing training from checkpoint, will skip to saved global_step\n",
      "  Continuing training from epoch 7\n",
      "  Continuing training from global step 88396\n",
      "  Will skip the first 7 epochs then the first 0 batches in the first epoch. If this takes a lot of time, you can add the `--ignore_data_skip` flag to your launch command, but you will resume the training on data already seen by your model.\n"
     ]
    },
    {
     "data": {
      "application/vnd.jupyter.widget-view+json": {
       "model_id": "d0a445df0b2040b8a81861efc2b22b76",
       "version_major": 2,
       "version_minor": 0
      },
      "text/plain": [
       "0it [00:00, ?it/s]"
      ]
     },
     "metadata": {},
     "output_type": "display_data"
    },
    {
     "data": {
      "text/html": [
       "\n",
       "    <div>\n",
       "      \n",
       "      <progress value='101024' max='101024' style='width:300px; height:20px; vertical-align: middle;'></progress>\n",
       "      [101024/101024 44:21, Epoch 8/8]\n",
       "    </div>\n",
       "    <table border=\"1\" class=\"dataframe\">\n",
       "  <thead>\n",
       " <tr style=\"text-align: left;\">\n",
       "      <th>Epoch</th>\n",
       "      <th>Training Loss</th>\n",
       "      <th>Validation Loss</th>\n",
       "      <th>Accuracy</th>\n",
       "      <th>Precision Cb</th>\n",
       "      <th>Recall Cb</th>\n",
       "      <th>F1 Cb</th>\n",
       "      <th>Precision Ncb</th>\n",
       "      <th>Recall Ncb</th>\n",
       "      <th>F1 Ncb</th>\n",
       "      <th>Precision Overall</th>\n",
       "      <th>Recall Overall</th>\n",
       "      <th>F1 Overall</th>\n",
       "    </tr>\n",
       "  </thead>\n",
       "  <tbody>\n",
       "    <tr>\n",
       "      <td>8</td>\n",
       "      <td>0.082100</td>\n",
       "      <td>0.167790</td>\n",
       "      <td>0.967751</td>\n",
       "      <td>0.716749</td>\n",
       "      <td>0.540892</td>\n",
       "      <td>0.616525</td>\n",
       "      <td>0.977170</td>\n",
       "      <td>0.989239</td>\n",
       "      <td>0.983167</td>\n",
       "      <td>0.846959</td>\n",
       "      <td>0.765066</td>\n",
       "      <td>0.799846</td>\n",
       "    </tr>\n",
       "  </tbody>\n",
       "</table><p>"
      ],
      "text/plain": [
       "<IPython.core.display.HTML object>"
      ]
     },
     "metadata": {},
     "output_type": "display_data"
    },
    {
     "name": "stderr",
     "output_type": "stream",
     "text": [
      "***** Running Evaluation *****\n",
      "  Num examples = 11225\n",
      "  Batch size = 8\n",
      "Saving model checkpoint to content/drive/MyDrive_binary/output_DistilBert/fold2/checkpoint-101024\n",
      "Configuration saved in content/drive/MyDrive_binary/output_DistilBert/fold2/checkpoint-101024/config.json\n",
      "Model weights saved in content/drive/MyDrive_binary/output_DistilBert/fold2/checkpoint-101024/pytorch_model.bin\n",
      "\n",
      "\n",
      "Training completed. Do not forget to share your model on huggingface.co/models =)\n",
      "\n",
      "\n",
      "Loading best model from content/drive/MyDrive_binary/output_DistilBert/fold2/checkpoint-37884 (score: 0.12597954273223877).\n",
      "2it [1:28:50, 2668.07s/it]"
     ]
    },
    {
     "name": "stdout",
     "output_type": "stream",
     "text": [
      "Complete for fold 2\n",
      "Running for Fold:  3\n"
     ]
    },
    {
     "name": "stderr",
     "output_type": "stream",
     "text": [
      "PyTorch: setting up devices\n",
      "The default value for the training argument `--report_to` will change in v5 (from all installed integrations to none). In v5, you will need to use `--report_to all` to get the same behavior as now. You should start updating your code and make this info disappear :-).\n",
      "Loading model from content/drive/MyDrive_binary/output_DistilBert/fold3/checkpoint-50512).\n",
      "/opt/conda/lib/python3.9/site-packages/transformers/optimization.py:306: FutureWarning: This implementation of AdamW is deprecated and will be removed in a future version. Use the PyTorch implementation torch.optim.AdamW instead, or set `no_deprecation_warning=True` to disable this warning\n",
      "  warnings.warn(\n",
      "***** Running training *****\n",
      "  Num examples = 101022\n",
      "  Num Epochs = 8\n",
      "  Instantaneous batch size per device = 8\n",
      "  Total train batch size (w. parallel, distributed & accumulation) = 8\n",
      "  Gradient Accumulation steps = 1\n",
      "  Total optimization steps = 101024\n",
      "  Continuing training from checkpoint, will skip to saved global_step\n",
      "  Continuing training from epoch 4\n",
      "  Continuing training from global step 50512\n",
      "  Will skip the first 4 epochs then the first 0 batches in the first epoch. If this takes a lot of time, you can add the `--ignore_data_skip` flag to your launch command, but you will resume the training on data already seen by your model.\n"
     ]
    },
    {
     "data": {
      "application/vnd.jupyter.widget-view+json": {
       "model_id": "ddc710fcb758439c93ad445022482495",
       "version_major": 2,
       "version_minor": 0
      },
      "text/plain": [
       "0it [00:00, ?it/s]"
      ]
     },
     "metadata": {},
     "output_type": "display_data"
    },
    {
     "data": {
      "text/html": [
       "\n",
       "    <div>\n",
       "      \n",
       "      <progress value='88396' max='101024' style='width:300px; height:20px; vertical-align: middle;'></progress>\n",
       "      [ 88396/101024 2:11:13 < 43:44, 4.81 it/s, Epoch 7/8]\n",
       "    </div>\n",
       "    <table border=\"1\" class=\"dataframe\">\n",
       "  <thead>\n",
       " <tr style=\"text-align: left;\">\n",
       "      <th>Epoch</th>\n",
       "      <th>Training Loss</th>\n",
       "      <th>Validation Loss</th>\n",
       "      <th>Accuracy</th>\n",
       "      <th>Precision Cb</th>\n",
       "      <th>Recall Cb</th>\n",
       "      <th>F1 Cb</th>\n",
       "      <th>Precision Ncb</th>\n",
       "      <th>Recall Ncb</th>\n",
       "      <th>F1 Ncb</th>\n",
       "      <th>Precision Overall</th>\n",
       "      <th>Recall Overall</th>\n",
       "      <th>F1 Overall</th>\n",
       "    </tr>\n",
       "  </thead>\n",
       "  <tbody>\n",
       "    <tr>\n",
       "      <td>5</td>\n",
       "      <td>0.085300</td>\n",
       "      <td>0.119958</td>\n",
       "      <td>0.975590</td>\n",
       "      <td>0.840206</td>\n",
       "      <td>0.605948</td>\n",
       "      <td>0.704104</td>\n",
       "      <td>0.980437</td>\n",
       "      <td>0.994199</td>\n",
       "      <td>0.987270</td>\n",
       "      <td>0.910322</td>\n",
       "      <td>0.800073</td>\n",
       "      <td>0.845687</td>\n",
       "    </tr>\n",
       "    <tr>\n",
       "      <td>6</td>\n",
       "      <td>0.061400</td>\n",
       "      <td>0.115216</td>\n",
       "      <td>0.973898</td>\n",
       "      <td>0.763441</td>\n",
       "      <td>0.659851</td>\n",
       "      <td>0.707876</td>\n",
       "      <td>0.982993</td>\n",
       "      <td>0.989707</td>\n",
       "      <td>0.986338</td>\n",
       "      <td>0.873217</td>\n",
       "      <td>0.824779</td>\n",
       "      <td>0.847107</td>\n",
       "    </tr>\n",
       "    <tr>\n",
       "      <td>7</td>\n",
       "      <td>0.066500</td>\n",
       "      <td>0.124619</td>\n",
       "      <td>0.972561</td>\n",
       "      <td>0.712177</td>\n",
       "      <td>0.717472</td>\n",
       "      <td>0.714815</td>\n",
       "      <td>0.985772</td>\n",
       "      <td>0.985403</td>\n",
       "      <td>0.985587</td>\n",
       "      <td>0.848974</td>\n",
       "      <td>0.851437</td>\n",
       "      <td>0.850201</td>\n",
       "    </tr>\n",
       "  </tbody>\n",
       "</table><p>"
      ],
      "text/plain": [
       "<IPython.core.display.HTML object>"
      ]
     },
     "metadata": {},
     "output_type": "display_data"
    },
    {
     "name": "stderr",
     "output_type": "stream",
     "text": [
      "***** Running Evaluation *****\n",
      "  Num examples = 11225\n",
      "  Batch size = 8\n",
      "Saving model checkpoint to content/drive/MyDrive_binary/output_DistilBert/fold3/checkpoint-63140\n",
      "Configuration saved in content/drive/MyDrive_binary/output_DistilBert/fold3/checkpoint-63140/config.json\n",
      "Model weights saved in content/drive/MyDrive_binary/output_DistilBert/fold3/checkpoint-63140/pytorch_model.bin\n",
      "***** Running Evaluation *****\n",
      "  Num examples = 11225\n",
      "  Batch size = 8\n",
      "Saving model checkpoint to content/drive/MyDrive_binary/output_DistilBert/fold3/checkpoint-75768\n",
      "Configuration saved in content/drive/MyDrive_binary/output_DistilBert/fold3/checkpoint-75768/config.json\n",
      "Model weights saved in content/drive/MyDrive_binary/output_DistilBert/fold3/checkpoint-75768/pytorch_model.bin\n",
      "***** Running Evaluation *****\n",
      "  Num examples = 11225\n",
      "  Batch size = 8\n",
      "Saving model checkpoint to content/drive/MyDrive_binary/output_DistilBert/fold3/checkpoint-88396\n",
      "Configuration saved in content/drive/MyDrive_binary/output_DistilBert/fold3/checkpoint-88396/config.json\n",
      "Model weights saved in content/drive/MyDrive_binary/output_DistilBert/fold3/checkpoint-88396/pytorch_model.bin\n",
      "\n",
      "\n",
      "Training completed. Do not forget to share your model on huggingface.co/models =)\n",
      "\n",
      "\n",
      "Loading best model from content/drive/MyDrive_binary/output_DistilBert/fold3/checkpoint-37884 (score: 0.10164638608694077).\n",
      "3it [3:40:22, 5053.47s/it]"
     ]
    },
    {
     "name": "stdout",
     "output_type": "stream",
     "text": [
      "Complete for fold 3\n",
      "Running for Fold:  4\n"
     ]
    },
    {
     "name": "stderr",
     "output_type": "stream",
     "text": [
      "PyTorch: setting up devices\n",
      "The default value for the training argument `--report_to` will change in v5 (from all installed integrations to none). In v5, you will need to use `--report_to all` to get the same behavior as now. You should start updating your code and make this info disappear :-).\n",
      "Loading model from content/drive/MyDrive_binary/output_DistilBert/fold4/checkpoint-50512).\n",
      "/opt/conda/lib/python3.9/site-packages/transformers/optimization.py:306: FutureWarning: This implementation of AdamW is deprecated and will be removed in a future version. Use the PyTorch implementation torch.optim.AdamW instead, or set `no_deprecation_warning=True` to disable this warning\n",
      "  warnings.warn(\n",
      "***** Running training *****\n",
      "  Num examples = 101022\n",
      "  Num Epochs = 8\n",
      "  Instantaneous batch size per device = 8\n",
      "  Total train batch size (w. parallel, distributed & accumulation) = 8\n",
      "  Gradient Accumulation steps = 1\n",
      "  Total optimization steps = 101024\n",
      "  Continuing training from checkpoint, will skip to saved global_step\n",
      "  Continuing training from epoch 4\n",
      "  Continuing training from global step 50512\n",
      "  Will skip the first 4 epochs then the first 0 batches in the first epoch. If this takes a lot of time, you can add the `--ignore_data_skip` flag to your launch command, but you will resume the training on data already seen by your model.\n"
     ]
    },
    {
     "data": {
      "application/vnd.jupyter.widget-view+json": {
       "model_id": "6c7930e0553d402d96e3340814666689",
       "version_major": 2,
       "version_minor": 0
      },
      "text/plain": [
       "0it [00:00, ?it/s]"
      ]
     },
     "metadata": {},
     "output_type": "display_data"
    },
    {
     "data": {
      "text/html": [
       "\n",
       "    <div>\n",
       "      \n",
       "      <progress value='75852' max='101024' style='width:300px; height:20px; vertical-align: middle;'></progress>\n",
       "      [ 75852/101024 1:29:01 < 1:28:26, 4.74 it/s, Epoch 6.01/8]\n",
       "    </div>\n",
       "    <table border=\"1\" class=\"dataframe\">\n",
       "  <thead>\n",
       " <tr style=\"text-align: left;\">\n",
       "      <th>Epoch</th>\n",
       "      <th>Training Loss</th>\n",
       "      <th>Validation Loss</th>\n",
       "      <th>Accuracy</th>\n",
       "      <th>Precision Cb</th>\n",
       "      <th>Recall Cb</th>\n",
       "      <th>F1 Cb</th>\n",
       "      <th>Precision Ncb</th>\n",
       "      <th>Recall Ncb</th>\n",
       "      <th>F1 Ncb</th>\n",
       "      <th>Precision Overall</th>\n",
       "      <th>Recall Overall</th>\n",
       "      <th>F1 Overall</th>\n",
       "    </tr>\n",
       "  </thead>\n",
       "  <tbody>\n",
       "    <tr>\n",
       "      <td>5</td>\n",
       "      <td>0.082200</td>\n",
       "      <td>0.116181</td>\n",
       "      <td>0.976214</td>\n",
       "      <td>0.790150</td>\n",
       "      <td>0.685874</td>\n",
       "      <td>0.734328</td>\n",
       "      <td>0.984291</td>\n",
       "      <td>0.990830</td>\n",
       "      <td>0.987550</td>\n",
       "      <td>0.887220</td>\n",
       "      <td>0.838352</td>\n",
       "      <td>0.860939</td>\n",
       "    </tr>\n",
       "    <tr>\n",
       "      <td>6</td>\n",
       "      <td>0.065500</td>\n",
       "      <td>0.104178</td>\n",
       "      <td>0.975412</td>\n",
       "      <td>0.799087</td>\n",
       "      <td>0.650558</td>\n",
       "      <td>0.717213</td>\n",
       "      <td>0.982572</td>\n",
       "      <td>0.991766</td>\n",
       "      <td>0.987147</td>\n",
       "      <td>0.890829</td>\n",
       "      <td>0.821162</td>\n",
       "      <td>0.852180</td>\n",
       "    </tr>\n",
       "  </tbody>\n",
       "</table><p>"
      ],
      "text/plain": [
       "<IPython.core.display.HTML object>"
      ]
     },
     "metadata": {},
     "output_type": "display_data"
    },
    {
     "name": "stderr",
     "output_type": "stream",
     "text": [
      "***** Running Evaluation *****\n",
      "  Num examples = 11225\n",
      "  Batch size = 8\n",
      "Saving model checkpoint to content/drive/MyDrive_binary/output_DistilBert/fold4/checkpoint-63140\n",
      "Configuration saved in content/drive/MyDrive_binary/output_DistilBert/fold4/checkpoint-63140/config.json\n",
      "Model weights saved in content/drive/MyDrive_binary/output_DistilBert/fold4/checkpoint-63140/pytorch_model.bin\n",
      "***** Running Evaluation *****\n",
      "  Num examples = 11225\n",
      "  Batch size = 8\n",
      "Saving model checkpoint to content/drive/MyDrive_binary/output_DistilBert/fold4/checkpoint-75768\n",
      "Configuration saved in content/drive/MyDrive_binary/output_DistilBert/fold4/checkpoint-75768/config.json\n",
      "Model weights saved in content/drive/MyDrive_binary/output_DistilBert/fold4/checkpoint-75768/pytorch_model.bin\n"
     ]
    }
   ],
   "source": [
    "run_cross_validation(model_name='DistilBert',\n",
    "                         X=X,\n",
    "                         y=y, \n",
    "                         splits=5,\n",
    "                         epoch=8,\n",
    "                         checkpoint=True)"
   ]
  },
  {
   "cell_type": "markdown",
   "id": "32c895b9-316d-45a5-8073-d910ccaf7129",
   "metadata": {
    "id": "q5A2sV2dKlPb",
    "jp-MarkdownHeadingCollapsed": true,
    "tags": []
   },
   "source": [
    "### [Continue] Cross Validation (K = 5)"
   ]
  },
  {
   "cell_type": "code",
   "execution_count": 9,
   "id": "f4da1395-508a-4a17-9809-a47b84022c96",
   "metadata": {
    "id": "p5QGotWv8_-V"
   },
   "outputs": [
    {
     "name": "stdout",
     "output_type": "stream",
     "text": [
      "Developing Model with Cross validation for: DistilBert\n"
     ]
    },
    {
     "name": "stderr",
     "output_type": "stream",
     "text": [
      "0it [00:00, ?it/s]"
     ]
    },
    {
     "name": "stdout",
     "output_type": "stream",
     "text": [
      "Running for Fold:  1\n"
     ]
    },
    {
     "name": "stderr",
     "output_type": "stream",
     "text": [
      "Loading model from content/drive/MyDrive_binary/output_DistilBert/fold1/checkpoint-101024).\n",
      "/opt/conda/lib/python3.9/site-packages/transformers/optimization.py:306: FutureWarning: This implementation of AdamW is deprecated and will be removed in a future version. Use the PyTorch implementation torch.optim.AdamW instead, or set `no_deprecation_warning=True` to disable this warning\n",
      "  warnings.warn(\n",
      "***** Running training *****\n",
      "  Num examples = 101022\n",
      "  Num Epochs = 8\n",
      "  Instantaneous batch size per device = 8\n",
      "  Total train batch size (w. parallel, distributed & accumulation) = 8\n",
      "  Gradient Accumulation steps = 1\n",
      "  Total optimization steps = 101024\n",
      "  Continuing training from checkpoint, will skip to saved global_step\n",
      "  Continuing training from epoch 8\n",
      "  Continuing training from global step 101024\n",
      "  Will skip the first 8 epochs then the first 0 batches in the first epoch. If this takes a lot of time, you can add the `--ignore_data_skip` flag to your launch command, but you will resume the training on data already seen by your model.\n"
     ]
    },
    {
     "data": {
      "application/vnd.jupyter.widget-view+json": {
       "model_id": "decf9d76666f483ab7e40b30fee0bfce",
       "version_major": 2,
       "version_minor": 0
      },
      "text/plain": [
       "0it [00:00, ?it/s]"
      ]
     },
     "metadata": {},
     "output_type": "display_data"
    },
    {
     "name": "stderr",
     "output_type": "stream",
     "text": [
      "\n",
      "\n",
      "Training completed. Do not forget to share your model on huggingface.co/models =)\n",
      "\n",
      "\n",
      "Loading best model from content/drive/MyDrive_binary/output_DistilBert/fold1/checkpoint-37884 (score: 0.1345326006412506).\n"
     ]
    },
    {
     "data": {
      "text/html": [
       "\n",
       "    <div>\n",
       "      \n",
       "      <progress value='101024' max='101024' style='width:300px; height:20px; vertical-align: middle;'></progress>\n",
       "      [101024/101024 : < :, Epoch 8/8]\n",
       "    </div>\n",
       "    <table border=\"1\" class=\"dataframe\">\n",
       "  <thead>\n",
       " <tr style=\"text-align: left;\">\n",
       "      <th>Epoch</th>\n",
       "      <th>Training Loss</th>\n",
       "      <th>Validation Loss</th>\n",
       "    </tr>\n",
       "  </thead>\n",
       "  <tbody>\n",
       "  </tbody>\n",
       "</table><p>"
      ],
      "text/plain": [
       "<IPython.core.display.HTML object>"
      ]
     },
     "metadata": {},
     "output_type": "display_data"
    },
    {
     "name": "stderr",
     "output_type": "stream",
     "text": [
      "1it [00:25, 25.01s/it]"
     ]
    },
    {
     "name": "stdout",
     "output_type": "stream",
     "text": [
      "Complete for fold 1\n",
      "Running for Fold:  2\n"
     ]
    },
    {
     "name": "stderr",
     "output_type": "stream",
     "text": [
      "PyTorch: setting up devices\n",
      "The default value for the training argument `--report_to` will change in v5 (from all installed integrations to none). In v5, you will need to use `--report_to all` to get the same behavior as now. You should start updating your code and make this info disappear :-).\n",
      "Loading model from content/drive/MyDrive_binary/output_DistilBert/fold2/checkpoint-101024).\n",
      "/opt/conda/lib/python3.9/site-packages/transformers/optimization.py:306: FutureWarning: This implementation of AdamW is deprecated and will be removed in a future version. Use the PyTorch implementation torch.optim.AdamW instead, or set `no_deprecation_warning=True` to disable this warning\n",
      "  warnings.warn(\n",
      "***** Running training *****\n",
      "  Num examples = 101022\n",
      "  Num Epochs = 8\n",
      "  Instantaneous batch size per device = 8\n",
      "  Total train batch size (w. parallel, distributed & accumulation) = 8\n",
      "  Gradient Accumulation steps = 1\n",
      "  Total optimization steps = 101024\n",
      "  Continuing training from checkpoint, will skip to saved global_step\n",
      "  Continuing training from epoch 8\n",
      "  Continuing training from global step 101024\n",
      "  Will skip the first 8 epochs then the first 0 batches in the first epoch. If this takes a lot of time, you can add the `--ignore_data_skip` flag to your launch command, but you will resume the training on data already seen by your model.\n"
     ]
    },
    {
     "data": {
      "application/vnd.jupyter.widget-view+json": {
       "model_id": "14e44c0b17ec49f3ab29064465a18bac",
       "version_major": 2,
       "version_minor": 0
      },
      "text/plain": [
       "0it [00:00, ?it/s]"
      ]
     },
     "metadata": {},
     "output_type": "display_data"
    },
    {
     "name": "stderr",
     "output_type": "stream",
     "text": [
      "\n",
      "\n",
      "Training completed. Do not forget to share your model on huggingface.co/models =)\n",
      "\n",
      "\n",
      "Loading best model from content/drive/MyDrive_binary/output_DistilBert/fold2/checkpoint-37884 (score: 0.12597954273223877).\n"
     ]
    },
    {
     "data": {
      "text/html": [
       "\n",
       "    <div>\n",
       "      \n",
       "      <progress value='101024' max='101024' style='width:300px; height:20px; vertical-align: middle;'></progress>\n",
       "      [101024/101024 : < :, Epoch 8/8]\n",
       "    </div>\n",
       "    <table border=\"1\" class=\"dataframe\">\n",
       "  <thead>\n",
       " <tr style=\"text-align: left;\">\n",
       "      <th>Epoch</th>\n",
       "      <th>Training Loss</th>\n",
       "      <th>Validation Loss</th>\n",
       "    </tr>\n",
       "  </thead>\n",
       "  <tbody>\n",
       "  </tbody>\n",
       "</table><p>"
      ],
      "text/plain": [
       "<IPython.core.display.HTML object>"
      ]
     },
     "metadata": {},
     "output_type": "display_data"
    },
    {
     "name": "stderr",
     "output_type": "stream",
     "text": [
      "2it [00:47, 23.53s/it]"
     ]
    },
    {
     "name": "stdout",
     "output_type": "stream",
     "text": [
      "Complete for fold 2\n",
      "Running for Fold:  3\n"
     ]
    },
    {
     "name": "stderr",
     "output_type": "stream",
     "text": [
      "PyTorch: setting up devices\n",
      "The default value for the training argument `--report_to` will change in v5 (from all installed integrations to none). In v5, you will need to use `--report_to all` to get the same behavior as now. You should start updating your code and make this info disappear :-).\n",
      "Loading model from content/drive/MyDrive_binary/output_DistilBert/fold3/checkpoint-88396).\n",
      "/opt/conda/lib/python3.9/site-packages/transformers/optimization.py:306: FutureWarning: This implementation of AdamW is deprecated and will be removed in a future version. Use the PyTorch implementation torch.optim.AdamW instead, or set `no_deprecation_warning=True` to disable this warning\n",
      "  warnings.warn(\n",
      "***** Running training *****\n",
      "  Num examples = 101022\n",
      "  Num Epochs = 8\n",
      "  Instantaneous batch size per device = 8\n",
      "  Total train batch size (w. parallel, distributed & accumulation) = 8\n",
      "  Gradient Accumulation steps = 1\n",
      "  Total optimization steps = 101024\n",
      "  Continuing training from checkpoint, will skip to saved global_step\n",
      "  Continuing training from epoch 7\n",
      "  Continuing training from global step 88396\n",
      "  Will skip the first 7 epochs then the first 0 batches in the first epoch. If this takes a lot of time, you can add the `--ignore_data_skip` flag to your launch command, but you will resume the training on data already seen by your model.\n"
     ]
    },
    {
     "data": {
      "application/vnd.jupyter.widget-view+json": {
       "model_id": "dc486774f9db47668f7af2d648180e88",
       "version_major": 2,
       "version_minor": 0
      },
      "text/plain": [
       "0it [00:00, ?it/s]"
      ]
     },
     "metadata": {},
     "output_type": "display_data"
    },
    {
     "data": {
      "text/html": [
       "\n",
       "    <div>\n",
       "      \n",
       "      <progress value='101024' max='101024' style='width:300px; height:20px; vertical-align: middle;'></progress>\n",
       "      [101024/101024 45:49, Epoch 8/8]\n",
       "    </div>\n",
       "    <table border=\"1\" class=\"dataframe\">\n",
       "  <thead>\n",
       " <tr style=\"text-align: left;\">\n",
       "      <th>Epoch</th>\n",
       "      <th>Training Loss</th>\n",
       "      <th>Validation Loss</th>\n",
       "      <th>Accuracy</th>\n",
       "      <th>Precision Cb</th>\n",
       "      <th>Recall Cb</th>\n",
       "      <th>F1 Cb</th>\n",
       "      <th>Precision Ncb</th>\n",
       "      <th>Recall Ncb</th>\n",
       "      <th>F1 Ncb</th>\n",
       "      <th>Precision Overall</th>\n",
       "      <th>Recall Overall</th>\n",
       "      <th>F1 Overall</th>\n",
       "    </tr>\n",
       "  </thead>\n",
       "  <tbody>\n",
       "    <tr>\n",
       "      <td>8</td>\n",
       "      <td>0.069400</td>\n",
       "      <td>0.126799</td>\n",
       "      <td>0.973185</td>\n",
       "      <td>0.730994</td>\n",
       "      <td>0.697026</td>\n",
       "      <td>0.713606</td>\n",
       "      <td>0.984783</td>\n",
       "      <td>0.987087</td>\n",
       "      <td>0.985934</td>\n",
       "      <td>0.857889</td>\n",
       "      <td>0.842057</td>\n",
       "      <td>0.849770</td>\n",
       "    </tr>\n",
       "  </tbody>\n",
       "</table><p>"
      ],
      "text/plain": [
       "<IPython.core.display.HTML object>"
      ]
     },
     "metadata": {},
     "output_type": "display_data"
    },
    {
     "name": "stderr",
     "output_type": "stream",
     "text": [
      "***** Running Evaluation *****\n",
      "  Num examples = 11225\n",
      "  Batch size = 8\n",
      "Saving model checkpoint to content/drive/MyDrive_binary/output_DistilBert/fold3/checkpoint-101024\n",
      "Configuration saved in content/drive/MyDrive_binary/output_DistilBert/fold3/checkpoint-101024/config.json\n",
      "Model weights saved in content/drive/MyDrive_binary/output_DistilBert/fold3/checkpoint-101024/pytorch_model.bin\n",
      "\n",
      "\n",
      "Training completed. Do not forget to share your model on huggingface.co/models =)\n",
      "\n",
      "\n",
      "Loading best model from content/drive/MyDrive_binary/output_DistilBert/fold3/checkpoint-37884 (score: 0.10164638608694077).\n",
      "3it [46:55, 1276.78s/it]"
     ]
    },
    {
     "name": "stdout",
     "output_type": "stream",
     "text": [
      "Complete for fold 3\n",
      "Running for Fold:  4\n"
     ]
    },
    {
     "name": "stderr",
     "output_type": "stream",
     "text": [
      "PyTorch: setting up devices\n",
      "The default value for the training argument `--report_to` will change in v5 (from all installed integrations to none). In v5, you will need to use `--report_to all` to get the same behavior as now. You should start updating your code and make this info disappear :-).\n",
      "Loading model from content/drive/MyDrive_binary/output_DistilBert/fold4/checkpoint-75768).\n",
      "/opt/conda/lib/python3.9/site-packages/transformers/optimization.py:306: FutureWarning: This implementation of AdamW is deprecated and will be removed in a future version. Use the PyTorch implementation torch.optim.AdamW instead, or set `no_deprecation_warning=True` to disable this warning\n",
      "  warnings.warn(\n",
      "***** Running training *****\n",
      "  Num examples = 101022\n",
      "  Num Epochs = 8\n",
      "  Instantaneous batch size per device = 8\n",
      "  Total train batch size (w. parallel, distributed & accumulation) = 8\n",
      "  Gradient Accumulation steps = 1\n",
      "  Total optimization steps = 101024\n",
      "  Continuing training from checkpoint, will skip to saved global_step\n",
      "  Continuing training from epoch 6\n",
      "  Continuing training from global step 75768\n",
      "  Will skip the first 6 epochs then the first 0 batches in the first epoch. If this takes a lot of time, you can add the `--ignore_data_skip` flag to your launch command, but you will resume the training on data already seen by your model.\n"
     ]
    },
    {
     "data": {
      "application/vnd.jupyter.widget-view+json": {
       "model_id": "79f048c20ec64bc9aa4526af301843f2",
       "version_major": 2,
       "version_minor": 0
      },
      "text/plain": [
       "0it [00:00, ?it/s]"
      ]
     },
     "metadata": {},
     "output_type": "display_data"
    },
    {
     "data": {
      "text/html": [
       "\n",
       "    <div>\n",
       "      \n",
       "      <progress value='101024' max='101024' style='width:300px; height:20px; vertical-align: middle;'></progress>\n",
       "      [101024/101024 1:30:49, Epoch 8/8]\n",
       "    </div>\n",
       "    <table border=\"1\" class=\"dataframe\">\n",
       "  <thead>\n",
       " <tr style=\"text-align: left;\">\n",
       "      <th>Epoch</th>\n",
       "      <th>Training Loss</th>\n",
       "      <th>Validation Loss</th>\n",
       "      <th>Accuracy</th>\n",
       "      <th>Precision Cb</th>\n",
       "      <th>Recall Cb</th>\n",
       "      <th>F1 Cb</th>\n",
       "      <th>Precision Ncb</th>\n",
       "      <th>Recall Ncb</th>\n",
       "      <th>F1 Ncb</th>\n",
       "      <th>Precision Overall</th>\n",
       "      <th>Recall Overall</th>\n",
       "      <th>F1 Overall</th>\n",
       "    </tr>\n",
       "  </thead>\n",
       "  <tbody>\n",
       "    <tr>\n",
       "      <td>7</td>\n",
       "      <td>0.056900</td>\n",
       "      <td>0.111430</td>\n",
       "      <td>0.975947</td>\n",
       "      <td>0.796460</td>\n",
       "      <td>0.669145</td>\n",
       "      <td>0.727273</td>\n",
       "      <td>0.983477</td>\n",
       "      <td>0.991391</td>\n",
       "      <td>0.987418</td>\n",
       "      <td>0.889969</td>\n",
       "      <td>0.830268</td>\n",
       "      <td>0.857346</td>\n",
       "    </tr>\n",
       "    <tr>\n",
       "      <td>8</td>\n",
       "      <td>0.044800</td>\n",
       "      <td>0.122205</td>\n",
       "      <td>0.975323</td>\n",
       "      <td>0.794582</td>\n",
       "      <td>0.654275</td>\n",
       "      <td>0.717635</td>\n",
       "      <td>0.982749</td>\n",
       "      <td>0.991485</td>\n",
       "      <td>0.987098</td>\n",
       "      <td>0.888666</td>\n",
       "      <td>0.822880</td>\n",
       "      <td>0.852366</td>\n",
       "    </tr>\n",
       "  </tbody>\n",
       "</table><p>"
      ],
      "text/plain": [
       "<IPython.core.display.HTML object>"
      ]
     },
     "metadata": {},
     "output_type": "display_data"
    },
    {
     "name": "stderr",
     "output_type": "stream",
     "text": [
      "***** Running Evaluation *****\n",
      "  Num examples = 11225\n",
      "  Batch size = 8\n",
      "Saving model checkpoint to content/drive/MyDrive_binary/output_DistilBert/fold4/checkpoint-88396\n",
      "Configuration saved in content/drive/MyDrive_binary/output_DistilBert/fold4/checkpoint-88396/config.json\n",
      "Model weights saved in content/drive/MyDrive_binary/output_DistilBert/fold4/checkpoint-88396/pytorch_model.bin\n",
      "***** Running Evaluation *****\n",
      "  Num examples = 11225\n",
      "  Batch size = 8\n",
      "Saving model checkpoint to content/drive/MyDrive_binary/output_DistilBert/fold4/checkpoint-101024\n",
      "Configuration saved in content/drive/MyDrive_binary/output_DistilBert/fold4/checkpoint-101024/config.json\n",
      "Model weights saved in content/drive/MyDrive_binary/output_DistilBert/fold4/checkpoint-101024/pytorch_model.bin\n",
      "\n",
      "\n",
      "Training completed. Do not forget to share your model on huggingface.co/models =)\n",
      "\n",
      "\n",
      "Loading best model from content/drive/MyDrive_binary/output_DistilBert/fold4/checkpoint-25256 (score: 0.09729836136102676).\n",
      "4it [2:18:04, 2931.83s/it]"
     ]
    },
    {
     "name": "stdout",
     "output_type": "stream",
     "text": [
      "Complete for fold 4\n",
      "Running for Fold:  5\n"
     ]
    },
    {
     "name": "stderr",
     "output_type": "stream",
     "text": [
      "PyTorch: setting up devices\n",
      "The default value for the training argument `--report_to` will change in v5 (from all installed integrations to none). In v5, you will need to use `--report_to all` to get the same behavior as now. You should start updating your code and make this info disappear :-).\n",
      "Loading model from content/drive/MyDrive_binary/output_DistilBert/fold5/checkpoint-50512).\n",
      "/opt/conda/lib/python3.9/site-packages/transformers/optimization.py:306: FutureWarning: This implementation of AdamW is deprecated and will be removed in a future version. Use the PyTorch implementation torch.optim.AdamW instead, or set `no_deprecation_warning=True` to disable this warning\n",
      "  warnings.warn(\n",
      "***** Running training *****\n",
      "  Num examples = 101022\n",
      "  Num Epochs = 8\n",
      "  Instantaneous batch size per device = 8\n",
      "  Total train batch size (w. parallel, distributed & accumulation) = 8\n",
      "  Gradient Accumulation steps = 1\n",
      "  Total optimization steps = 101024\n",
      "  Continuing training from checkpoint, will skip to saved global_step\n",
      "  Continuing training from epoch 4\n",
      "  Continuing training from global step 50512\n",
      "  Will skip the first 4 epochs then the first 0 batches in the first epoch. If this takes a lot of time, you can add the `--ignore_data_skip` flag to your launch command, but you will resume the training on data already seen by your model.\n"
     ]
    },
    {
     "data": {
      "application/vnd.jupyter.widget-view+json": {
       "model_id": "5346c31fc5064363994667ce143d5214",
       "version_major": 2,
       "version_minor": 0
      },
      "text/plain": [
       "0it [00:00, ?it/s]"
      ]
     },
     "metadata": {},
     "output_type": "display_data"
    },
    {
     "data": {
      "text/html": [
       "\n",
       "    <div>\n",
       "      \n",
       "      <progress value='88396' max='101024' style='width:300px; height:20px; vertical-align: middle;'></progress>\n",
       "      [ 88396/101024 2:16:38 < 45:33, 4.62 it/s, Epoch 7/8]\n",
       "    </div>\n",
       "    <table border=\"1\" class=\"dataframe\">\n",
       "  <thead>\n",
       " <tr style=\"text-align: left;\">\n",
       "      <th>Epoch</th>\n",
       "      <th>Training Loss</th>\n",
       "      <th>Validation Loss</th>\n",
       "      <th>Accuracy</th>\n",
       "      <th>Precision Cb</th>\n",
       "      <th>Recall Cb</th>\n",
       "      <th>F1 Cb</th>\n",
       "      <th>Precision Ncb</th>\n",
       "      <th>Recall Ncb</th>\n",
       "      <th>F1 Ncb</th>\n",
       "      <th>Precision Overall</th>\n",
       "      <th>Recall Overall</th>\n",
       "      <th>F1 Overall</th>\n",
       "    </tr>\n",
       "  </thead>\n",
       "  <tbody>\n",
       "    <tr>\n",
       "      <td>5</td>\n",
       "      <td>0.066000</td>\n",
       "      <td>0.142011</td>\n",
       "      <td>0.974432</td>\n",
       "      <td>0.802410</td>\n",
       "      <td>0.618959</td>\n",
       "      <td>0.698846</td>\n",
       "      <td>0.981036</td>\n",
       "      <td>0.992327</td>\n",
       "      <td>0.986649</td>\n",
       "      <td>0.891723</td>\n",
       "      <td>0.805643</td>\n",
       "      <td>0.842748</td>\n",
       "    </tr>\n",
       "    <tr>\n",
       "      <td>6</td>\n",
       "      <td>0.068100</td>\n",
       "      <td>0.135915</td>\n",
       "      <td>0.973363</td>\n",
       "      <td>0.750524</td>\n",
       "      <td>0.665428</td>\n",
       "      <td>0.705419</td>\n",
       "      <td>0.983253</td>\n",
       "      <td>0.988865</td>\n",
       "      <td>0.986051</td>\n",
       "      <td>0.866888</td>\n",
       "      <td>0.827146</td>\n",
       "      <td>0.845735</td>\n",
       "    </tr>\n",
       "    <tr>\n",
       "      <td>7</td>\n",
       "      <td>0.044600</td>\n",
       "      <td>0.139260</td>\n",
       "      <td>0.973898</td>\n",
       "      <td>0.758985</td>\n",
       "      <td>0.667286</td>\n",
       "      <td>0.710188</td>\n",
       "      <td>0.983352</td>\n",
       "      <td>0.989333</td>\n",
       "      <td>0.986333</td>\n",
       "      <td>0.871169</td>\n",
       "      <td>0.828310</td>\n",
       "      <td>0.848261</td>\n",
       "    </tr>\n",
       "  </tbody>\n",
       "</table><p>"
      ],
      "text/plain": [
       "<IPython.core.display.HTML object>"
      ]
     },
     "metadata": {},
     "output_type": "display_data"
    },
    {
     "name": "stderr",
     "output_type": "stream",
     "text": [
      "***** Running Evaluation *****\n",
      "  Num examples = 11225\n",
      "  Batch size = 8\n",
      "Saving model checkpoint to content/drive/MyDrive_binary/output_DistilBert/fold5/checkpoint-63140\n",
      "Configuration saved in content/drive/MyDrive_binary/output_DistilBert/fold5/checkpoint-63140/config.json\n",
      "Model weights saved in content/drive/MyDrive_binary/output_DistilBert/fold5/checkpoint-63140/pytorch_model.bin\n",
      "***** Running Evaluation *****\n",
      "  Num examples = 11225\n",
      "  Batch size = 8\n",
      "Saving model checkpoint to content/drive/MyDrive_binary/output_DistilBert/fold5/checkpoint-75768\n",
      "Configuration saved in content/drive/MyDrive_binary/output_DistilBert/fold5/checkpoint-75768/config.json\n",
      "Model weights saved in content/drive/MyDrive_binary/output_DistilBert/fold5/checkpoint-75768/pytorch_model.bin\n",
      "***** Running Evaluation *****\n",
      "  Num examples = 11225\n",
      "  Batch size = 8\n",
      "Saving model checkpoint to content/drive/MyDrive_binary/output_DistilBert/fold5/checkpoint-88396\n",
      "Configuration saved in content/drive/MyDrive_binary/output_DistilBert/fold5/checkpoint-88396/config.json\n",
      "Model weights saved in content/drive/MyDrive_binary/output_DistilBert/fold5/checkpoint-88396/pytorch_model.bin\n",
      "\n",
      "\n",
      "Training completed. Do not forget to share your model on huggingface.co/models =)\n",
      "\n",
      "\n",
      "Loading best model from content/drive/MyDrive_binary/output_DistilBert/fold5/checkpoint-50512 (score: 0.10875506699085236).\n",
      "5it [4:35:02, 3300.48s/it]\n"
     ]
    },
    {
     "name": "stdout",
     "output_type": "stream",
     "text": [
      "Complete for fold 5\n"
     ]
    }
   ],
   "source": [
    "run_cross_validation(model_name='DistilBert',\n",
    "                         X=X,\n",
    "                         y=y, \n",
    "                         splits=5,\n",
    "                         epoch=8,\n",
    "                         checkpoint=True)"
   ]
  },
  {
   "cell_type": "markdown",
   "id": "16643452-fa02-487e-825a-4c6413157465",
   "metadata": {
    "id": "q5A2sV2dKlPb",
    "jp-MarkdownHeadingCollapsed": true,
    "tags": []
   },
   "source": [
    "### [Continue] Cross Validation (K = 5)"
   ]
  },
  {
   "cell_type": "code",
   "execution_count": 10,
   "id": "39e6ee53-fef1-42b3-b5f8-f62988aa23d7",
   "metadata": {
    "id": "p5QGotWv8_-V"
   },
   "outputs": [
    {
     "name": "stdout",
     "output_type": "stream",
     "text": [
      "Developing Model with Cross validation for: DistilBert\n"
     ]
    },
    {
     "name": "stderr",
     "output_type": "stream",
     "text": [
      "0it [00:00, ?it/s]"
     ]
    },
    {
     "name": "stdout",
     "output_type": "stream",
     "text": [
      "Running for Fold:  1\n"
     ]
    },
    {
     "name": "stderr",
     "output_type": "stream",
     "text": [
      "PyTorch: setting up devices\n",
      "The default value for the training argument `--report_to` will change in v5 (from all installed integrations to none). In v5, you will need to use `--report_to all` to get the same behavior as now. You should start updating your code and make this info disappear :-).\n",
      "Loading model from content/drive/MyDrive_binary/output_DistilBert/fold1/checkpoint-101024).\n",
      "/opt/conda/lib/python3.9/site-packages/transformers/optimization.py:306: FutureWarning: This implementation of AdamW is deprecated and will be removed in a future version. Use the PyTorch implementation torch.optim.AdamW instead, or set `no_deprecation_warning=True` to disable this warning\n",
      "  warnings.warn(\n",
      "***** Running training *****\n",
      "  Num examples = 101022\n",
      "  Num Epochs = 8\n",
      "  Instantaneous batch size per device = 8\n",
      "  Total train batch size (w. parallel, distributed & accumulation) = 8\n",
      "  Gradient Accumulation steps = 1\n",
      "  Total optimization steps = 101024\n",
      "  Continuing training from checkpoint, will skip to saved global_step\n",
      "  Continuing training from epoch 8\n",
      "  Continuing training from global step 101024\n",
      "  Will skip the first 8 epochs then the first 0 batches in the first epoch. If this takes a lot of time, you can add the `--ignore_data_skip` flag to your launch command, but you will resume the training on data already seen by your model.\n"
     ]
    },
    {
     "data": {
      "application/vnd.jupyter.widget-view+json": {
       "model_id": "05c77412ffcf493e820773d9de02a126",
       "version_major": 2,
       "version_minor": 0
      },
      "text/plain": [
       "0it [00:00, ?it/s]"
      ]
     },
     "metadata": {},
     "output_type": "display_data"
    },
    {
     "name": "stderr",
     "output_type": "stream",
     "text": [
      "\n",
      "\n",
      "Training completed. Do not forget to share your model on huggingface.co/models =)\n",
      "\n",
      "\n",
      "Loading best model from content/drive/MyDrive_binary/output_DistilBert/fold1/checkpoint-37884 (score: 0.1345326006412506).\n"
     ]
    },
    {
     "data": {
      "text/html": [
       "\n",
       "    <div>\n",
       "      \n",
       "      <progress value='101024' max='101024' style='width:300px; height:20px; vertical-align: middle;'></progress>\n",
       "      [101024/101024 : < :, Epoch 8/8]\n",
       "    </div>\n",
       "    <table border=\"1\" class=\"dataframe\">\n",
       "  <thead>\n",
       " <tr style=\"text-align: left;\">\n",
       "      <th>Epoch</th>\n",
       "      <th>Training Loss</th>\n",
       "      <th>Validation Loss</th>\n",
       "    </tr>\n",
       "  </thead>\n",
       "  <tbody>\n",
       "  </tbody>\n",
       "</table><p>"
      ],
      "text/plain": [
       "<IPython.core.display.HTML object>"
      ]
     },
     "metadata": {},
     "output_type": "display_data"
    },
    {
     "name": "stderr",
     "output_type": "stream",
     "text": [
      "1it [00:16, 16.53s/it]"
     ]
    },
    {
     "name": "stdout",
     "output_type": "stream",
     "text": [
      "Complete for fold 1\n",
      "Running for Fold:  2\n"
     ]
    },
    {
     "name": "stderr",
     "output_type": "stream",
     "text": [
      "PyTorch: setting up devices\n",
      "The default value for the training argument `--report_to` will change in v5 (from all installed integrations to none). In v5, you will need to use `--report_to all` to get the same behavior as now. You should start updating your code and make this info disappear :-).\n",
      "Loading model from content/drive/MyDrive_binary/output_DistilBert/fold2/checkpoint-101024).\n",
      "/opt/conda/lib/python3.9/site-packages/transformers/optimization.py:306: FutureWarning: This implementation of AdamW is deprecated and will be removed in a future version. Use the PyTorch implementation torch.optim.AdamW instead, or set `no_deprecation_warning=True` to disable this warning\n",
      "  warnings.warn(\n",
      "***** Running training *****\n",
      "  Num examples = 101022\n",
      "  Num Epochs = 8\n",
      "  Instantaneous batch size per device = 8\n",
      "  Total train batch size (w. parallel, distributed & accumulation) = 8\n",
      "  Gradient Accumulation steps = 1\n",
      "  Total optimization steps = 101024\n",
      "  Continuing training from checkpoint, will skip to saved global_step\n",
      "  Continuing training from epoch 8\n",
      "  Continuing training from global step 101024\n",
      "  Will skip the first 8 epochs then the first 0 batches in the first epoch. If this takes a lot of time, you can add the `--ignore_data_skip` flag to your launch command, but you will resume the training on data already seen by your model.\n"
     ]
    },
    {
     "data": {
      "application/vnd.jupyter.widget-view+json": {
       "model_id": "11269686eeac495db4fe6637c1fa6c32",
       "version_major": 2,
       "version_minor": 0
      },
      "text/plain": [
       "0it [00:00, ?it/s]"
      ]
     },
     "metadata": {},
     "output_type": "display_data"
    },
    {
     "name": "stderr",
     "output_type": "stream",
     "text": [
      "\n",
      "\n",
      "Training completed. Do not forget to share your model on huggingface.co/models =)\n",
      "\n",
      "\n",
      "Loading best model from content/drive/MyDrive_binary/output_DistilBert/fold2/checkpoint-37884 (score: 0.12597954273223877).\n"
     ]
    },
    {
     "data": {
      "text/html": [
       "\n",
       "    <div>\n",
       "      \n",
       "      <progress value='101024' max='101024' style='width:300px; height:20px; vertical-align: middle;'></progress>\n",
       "      [101024/101024 : < :, Epoch 8/8]\n",
       "    </div>\n",
       "    <table border=\"1\" class=\"dataframe\">\n",
       "  <thead>\n",
       " <tr style=\"text-align: left;\">\n",
       "      <th>Epoch</th>\n",
       "      <th>Training Loss</th>\n",
       "      <th>Validation Loss</th>\n",
       "    </tr>\n",
       "  </thead>\n",
       "  <tbody>\n",
       "  </tbody>\n",
       "</table><p>"
      ],
      "text/plain": [
       "<IPython.core.display.HTML object>"
      ]
     },
     "metadata": {},
     "output_type": "display_data"
    },
    {
     "name": "stderr",
     "output_type": "stream",
     "text": [
      "2it [00:36, 18.41s/it]"
     ]
    },
    {
     "name": "stdout",
     "output_type": "stream",
     "text": [
      "Complete for fold 2\n",
      "Running for Fold:  3\n"
     ]
    },
    {
     "name": "stderr",
     "output_type": "stream",
     "text": [
      "PyTorch: setting up devices\n",
      "The default value for the training argument `--report_to` will change in v5 (from all installed integrations to none). In v5, you will need to use `--report_to all` to get the same behavior as now. You should start updating your code and make this info disappear :-).\n",
      "Loading model from content/drive/MyDrive_binary/output_DistilBert/fold3/checkpoint-101024).\n",
      "/opt/conda/lib/python3.9/site-packages/transformers/optimization.py:306: FutureWarning: This implementation of AdamW is deprecated and will be removed in a future version. Use the PyTorch implementation torch.optim.AdamW instead, or set `no_deprecation_warning=True` to disable this warning\n",
      "  warnings.warn(\n",
      "***** Running training *****\n",
      "  Num examples = 101022\n",
      "  Num Epochs = 8\n",
      "  Instantaneous batch size per device = 8\n",
      "  Total train batch size (w. parallel, distributed & accumulation) = 8\n",
      "  Gradient Accumulation steps = 1\n",
      "  Total optimization steps = 101024\n",
      "  Continuing training from checkpoint, will skip to saved global_step\n",
      "  Continuing training from epoch 8\n",
      "  Continuing training from global step 101024\n",
      "  Will skip the first 8 epochs then the first 0 batches in the first epoch. If this takes a lot of time, you can add the `--ignore_data_skip` flag to your launch command, but you will resume the training on data already seen by your model.\n"
     ]
    },
    {
     "data": {
      "application/vnd.jupyter.widget-view+json": {
       "model_id": "9980dfb02b364282a27e7afe5bacf7b4",
       "version_major": 2,
       "version_minor": 0
      },
      "text/plain": [
       "0it [00:00, ?it/s]"
      ]
     },
     "metadata": {},
     "output_type": "display_data"
    },
    {
     "name": "stderr",
     "output_type": "stream",
     "text": [
      "\n",
      "\n",
      "Training completed. Do not forget to share your model on huggingface.co/models =)\n",
      "\n",
      "\n",
      "Loading best model from content/drive/MyDrive_binary/output_DistilBert/fold3/checkpoint-37884 (score: 0.10164638608694077).\n"
     ]
    },
    {
     "data": {
      "text/html": [
       "\n",
       "    <div>\n",
       "      \n",
       "      <progress value='101024' max='101024' style='width:300px; height:20px; vertical-align: middle;'></progress>\n",
       "      [101024/101024 : < :, Epoch 8/8]\n",
       "    </div>\n",
       "    <table border=\"1\" class=\"dataframe\">\n",
       "  <thead>\n",
       " <tr style=\"text-align: left;\">\n",
       "      <th>Epoch</th>\n",
       "      <th>Training Loss</th>\n",
       "      <th>Validation Loss</th>\n",
       "    </tr>\n",
       "  </thead>\n",
       "  <tbody>\n",
       "  </tbody>\n",
       "</table><p>"
      ],
      "text/plain": [
       "<IPython.core.display.HTML object>"
      ]
     },
     "metadata": {},
     "output_type": "display_data"
    },
    {
     "name": "stderr",
     "output_type": "stream",
     "text": [
      "3it [00:57, 19.70s/it]"
     ]
    },
    {
     "name": "stdout",
     "output_type": "stream",
     "text": [
      "Complete for fold 3\n",
      "Running for Fold:  4\n"
     ]
    },
    {
     "name": "stderr",
     "output_type": "stream",
     "text": [
      "PyTorch: setting up devices\n",
      "The default value for the training argument `--report_to` will change in v5 (from all installed integrations to none). In v5, you will need to use `--report_to all` to get the same behavior as now. You should start updating your code and make this info disappear :-).\n",
      "Loading model from content/drive/MyDrive_binary/output_DistilBert/fold4/checkpoint-101024).\n",
      "/opt/conda/lib/python3.9/site-packages/transformers/optimization.py:306: FutureWarning: This implementation of AdamW is deprecated and will be removed in a future version. Use the PyTorch implementation torch.optim.AdamW instead, or set `no_deprecation_warning=True` to disable this warning\n",
      "  warnings.warn(\n",
      "***** Running training *****\n",
      "  Num examples = 101022\n",
      "  Num Epochs = 8\n",
      "  Instantaneous batch size per device = 8\n",
      "  Total train batch size (w. parallel, distributed & accumulation) = 8\n",
      "  Gradient Accumulation steps = 1\n",
      "  Total optimization steps = 101024\n",
      "  Continuing training from checkpoint, will skip to saved global_step\n",
      "  Continuing training from epoch 8\n",
      "  Continuing training from global step 101024\n",
      "  Will skip the first 8 epochs then the first 0 batches in the first epoch. If this takes a lot of time, you can add the `--ignore_data_skip` flag to your launch command, but you will resume the training on data already seen by your model.\n"
     ]
    },
    {
     "data": {
      "application/vnd.jupyter.widget-view+json": {
       "model_id": "11eab4bd78dd4ded87f6170d04318bbf",
       "version_major": 2,
       "version_minor": 0
      },
      "text/plain": [
       "0it [00:00, ?it/s]"
      ]
     },
     "metadata": {},
     "output_type": "display_data"
    },
    {
     "name": "stderr",
     "output_type": "stream",
     "text": [
      "\n",
      "\n",
      "Training completed. Do not forget to share your model on huggingface.co/models =)\n",
      "\n",
      "\n",
      "Loading best model from content/drive/MyDrive_binary/output_DistilBert/fold4/checkpoint-25256 (score: 0.09729836136102676).\n"
     ]
    },
    {
     "data": {
      "text/html": [
       "\n",
       "    <div>\n",
       "      \n",
       "      <progress value='101024' max='101024' style='width:300px; height:20px; vertical-align: middle;'></progress>\n",
       "      [101024/101024 : < :, Epoch 8/8]\n",
       "    </div>\n",
       "    <table border=\"1\" class=\"dataframe\">\n",
       "  <thead>\n",
       " <tr style=\"text-align: left;\">\n",
       "      <th>Epoch</th>\n",
       "      <th>Training Loss</th>\n",
       "      <th>Validation Loss</th>\n",
       "    </tr>\n",
       "  </thead>\n",
       "  <tbody>\n",
       "  </tbody>\n",
       "</table><p>"
      ],
      "text/plain": [
       "<IPython.core.display.HTML object>"
      ]
     },
     "metadata": {},
     "output_type": "display_data"
    },
    {
     "name": "stderr",
     "output_type": "stream",
     "text": [
      "4it [01:16, 19.56s/it]"
     ]
    },
    {
     "name": "stdout",
     "output_type": "stream",
     "text": [
      "Complete for fold 4\n",
      "Running for Fold:  5\n"
     ]
    },
    {
     "name": "stderr",
     "output_type": "stream",
     "text": [
      "PyTorch: setting up devices\n",
      "The default value for the training argument `--report_to` will change in v5 (from all installed integrations to none). In v5, you will need to use `--report_to all` to get the same behavior as now. You should start updating your code and make this info disappear :-).\n",
      "Loading model from content/drive/MyDrive_binary/output_DistilBert/fold5/checkpoint-88396).\n",
      "/opt/conda/lib/python3.9/site-packages/transformers/optimization.py:306: FutureWarning: This implementation of AdamW is deprecated and will be removed in a future version. Use the PyTorch implementation torch.optim.AdamW instead, or set `no_deprecation_warning=True` to disable this warning\n",
      "  warnings.warn(\n",
      "***** Running training *****\n",
      "  Num examples = 101022\n",
      "  Num Epochs = 8\n",
      "  Instantaneous batch size per device = 8\n",
      "  Total train batch size (w. parallel, distributed & accumulation) = 8\n",
      "  Gradient Accumulation steps = 1\n",
      "  Total optimization steps = 101024\n",
      "  Continuing training from checkpoint, will skip to saved global_step\n",
      "  Continuing training from epoch 7\n",
      "  Continuing training from global step 88396\n",
      "  Will skip the first 7 epochs then the first 0 batches in the first epoch. If this takes a lot of time, you can add the `--ignore_data_skip` flag to your launch command, but you will resume the training on data already seen by your model.\n"
     ]
    },
    {
     "data": {
      "application/vnd.jupyter.widget-view+json": {
       "model_id": "ae39a434fe534c0db9267aaf7f72e1af",
       "version_major": 2,
       "version_minor": 0
      },
      "text/plain": [
       "0it [00:00, ?it/s]"
      ]
     },
     "metadata": {},
     "output_type": "display_data"
    },
    {
     "data": {
      "text/html": [
       "\n",
       "    <div>\n",
       "      \n",
       "      <progress value='101024' max='101024' style='width:300px; height:20px; vertical-align: middle;'></progress>\n",
       "      [101024/101024 45:11, Epoch 8/8]\n",
       "    </div>\n",
       "    <table border=\"1\" class=\"dataframe\">\n",
       "  <thead>\n",
       " <tr style=\"text-align: left;\">\n",
       "      <th>Epoch</th>\n",
       "      <th>Training Loss</th>\n",
       "      <th>Validation Loss</th>\n",
       "      <th>Accuracy</th>\n",
       "      <th>Precision Cb</th>\n",
       "      <th>Recall Cb</th>\n",
       "      <th>F1 Cb</th>\n",
       "      <th>Precision Ncb</th>\n",
       "      <th>Recall Ncb</th>\n",
       "      <th>F1 Ncb</th>\n",
       "      <th>Precision Overall</th>\n",
       "      <th>Recall Overall</th>\n",
       "      <th>F1 Overall</th>\n",
       "    </tr>\n",
       "  </thead>\n",
       "  <tbody>\n",
       "    <tr>\n",
       "      <td>8</td>\n",
       "      <td>0.050700</td>\n",
       "      <td>0.132696</td>\n",
       "      <td>0.974254</td>\n",
       "      <td>0.766595</td>\n",
       "      <td>0.665428</td>\n",
       "      <td>0.712438</td>\n",
       "      <td>0.983268</td>\n",
       "      <td>0.989801</td>\n",
       "      <td>0.986524</td>\n",
       "      <td>0.874932</td>\n",
       "      <td>0.827614</td>\n",
       "      <td>0.849481</td>\n",
       "    </tr>\n",
       "  </tbody>\n",
       "</table><p>"
      ],
      "text/plain": [
       "<IPython.core.display.HTML object>"
      ]
     },
     "metadata": {},
     "output_type": "display_data"
    },
    {
     "name": "stderr",
     "output_type": "stream",
     "text": [
      "***** Running Evaluation *****\n",
      "  Num examples = 11225\n",
      "  Batch size = 8\n",
      "Saving model checkpoint to content/drive/MyDrive_binary/output_DistilBert/fold5/checkpoint-101024\n",
      "Configuration saved in content/drive/MyDrive_binary/output_DistilBert/fold5/checkpoint-101024/config.json\n",
      "Model weights saved in content/drive/MyDrive_binary/output_DistilBert/fold5/checkpoint-101024/pytorch_model.bin\n",
      "\n",
      "\n",
      "Training completed. Do not forget to share your model on huggingface.co/models =)\n",
      "\n",
      "\n",
      "Loading best model from content/drive/MyDrive_binary/output_DistilBert/fold5/checkpoint-50512 (score: 0.10875506699085236).\n",
      "5it [46:44, 560.99s/it]"
     ]
    },
    {
     "name": "stdout",
     "output_type": "stream",
     "text": [
      "Complete for fold 5\n"
     ]
    },
    {
     "name": "stderr",
     "output_type": "stream",
     "text": [
      "\n"
     ]
    }
   ],
   "source": [
    "run_cross_validation(model_name='DistilBert',\n",
    "                         X=X,\n",
    "                         y=y, \n",
    "                         splits=5,\n",
    "                         epoch=8,\n",
    "                         checkpoint=True)"
   ]
  },
  {
   "cell_type": "markdown",
   "id": "ddd99725-f2af-4e2c-a8aa-6cb0b2daf246",
   "metadata": {
    "id": "q5A2sV2dKlPb",
    "tags": []
   },
   "source": [
    "### [Continue] Cross Validation (K = 5)"
   ]
  },
  {
   "cell_type": "code",
   "execution_count": null,
   "id": "864eab3c-bcbb-42cb-a8cb-c67c7b6398bf",
   "metadata": {
    "id": "p5QGotWv8_-V"
   },
   "outputs": [
    {
     "name": "stdout",
     "output_type": "stream",
     "text": [
      "Developing Model with Cross validation for: DistilBert\n"
     ]
    },
    {
     "name": "stderr",
     "output_type": "stream",
     "text": [
      "0it [00:00, ?it/s]"
     ]
    },
    {
     "name": "stdout",
     "output_type": "stream",
     "text": [
      "Running for Fold:  1\n"
     ]
    },
    {
     "name": "stderr",
     "output_type": "stream",
     "text": [
      "Loading model from content/drive/MyDrive_binary/output_DistilBert/fold1/checkpoint-113652).\n",
      "/opt/conda/lib/python3.9/site-packages/transformers/optimization.py:306: FutureWarning: This implementation of AdamW is deprecated and will be removed in a future version. Use the PyTorch implementation torch.optim.AdamW instead, or set `no_deprecation_warning=True` to disable this warning\n",
      "  warnings.warn(\n",
      "***** Running training *****\n",
      "  Num examples = 101022\n",
      "  Num Epochs = 9\n",
      "  Instantaneous batch size per device = 8\n",
      "  Total train batch size (w. parallel, distributed & accumulation) = 8\n",
      "  Gradient Accumulation steps = 1\n",
      "  Total optimization steps = 113652\n",
      "  Continuing training from checkpoint, will skip to saved global_step\n",
      "  Continuing training from epoch 9\n",
      "  Continuing training from global step 113652\n",
      "  Will skip the first 9 epochs then the first 0 batches in the first epoch. If this takes a lot of time, you can add the `--ignore_data_skip` flag to your launch command, but you will resume the training on data already seen by your model.\n"
     ]
    },
    {
     "data": {
      "application/vnd.jupyter.widget-view+json": {
       "model_id": "c1e46b9425754a55a63215e25ea611b0",
       "version_major": 2,
       "version_minor": 0
      },
      "text/plain": [
       "0it [00:00, ?it/s]"
      ]
     },
     "metadata": {},
     "output_type": "display_data"
    },
    {
     "name": "stderr",
     "output_type": "stream",
     "text": [
      "\n",
      "\n",
      "Training completed. Do not forget to share your model on huggingface.co/models =)\n",
      "\n",
      "\n",
      "Loading best model from content/drive/MyDrive_binary/output_DistilBert/fold1/checkpoint-37884 (score: 0.1345326006412506).\n"
     ]
    },
    {
     "data": {
      "text/html": [
       "\n",
       "    <div>\n",
       "      \n",
       "      <progress value='113652' max='113652' style='width:300px; height:20px; vertical-align: middle;'></progress>\n",
       "      [113652/113652 : < :, Epoch 9/9]\n",
       "    </div>\n",
       "    <table border=\"1\" class=\"dataframe\">\n",
       "  <thead>\n",
       " <tr style=\"text-align: left;\">\n",
       "      <th>Epoch</th>\n",
       "      <th>Training Loss</th>\n",
       "      <th>Validation Loss</th>\n",
       "    </tr>\n",
       "  </thead>\n",
       "  <tbody>\n",
       "  </tbody>\n",
       "</table><p>"
      ],
      "text/plain": [
       "<IPython.core.display.HTML object>"
      ]
     },
     "metadata": {},
     "output_type": "display_data"
    },
    {
     "name": "stderr",
     "output_type": "stream",
     "text": [
      "1it [00:24, 24.76s/it]"
     ]
    },
    {
     "name": "stdout",
     "output_type": "stream",
     "text": [
      "Complete for fold 1\n",
      "Running for Fold:  2\n"
     ]
    },
    {
     "name": "stderr",
     "output_type": "stream",
     "text": [
      "PyTorch: setting up devices\n",
      "The default value for the training argument `--report_to` will change in v5 (from all installed integrations to none). In v5, you will need to use `--report_to all` to get the same behavior as now. You should start updating your code and make this info disappear :-).\n",
      "Loading model from content/drive/MyDrive_binary/output_DistilBert/fold2/checkpoint-101024).\n",
      "/opt/conda/lib/python3.9/site-packages/transformers/optimization.py:306: FutureWarning: This implementation of AdamW is deprecated and will be removed in a future version. Use the PyTorch implementation torch.optim.AdamW instead, or set `no_deprecation_warning=True` to disable this warning\n",
      "  warnings.warn(\n",
      "***** Running training *****\n",
      "  Num examples = 101022\n",
      "  Num Epochs = 9\n",
      "  Instantaneous batch size per device = 8\n",
      "  Total train batch size (w. parallel, distributed & accumulation) = 8\n",
      "  Gradient Accumulation steps = 1\n",
      "  Total optimization steps = 113652\n",
      "  Continuing training from checkpoint, will skip to saved global_step\n",
      "  Continuing training from epoch 8\n",
      "  Continuing training from global step 101024\n",
      "  Will skip the first 8 epochs then the first 0 batches in the first epoch. If this takes a lot of time, you can add the `--ignore_data_skip` flag to your launch command, but you will resume the training on data already seen by your model.\n"
     ]
    },
    {
     "data": {
      "application/vnd.jupyter.widget-view+json": {
       "model_id": "c868e679ca254689b9dba1ee727b0d16",
       "version_major": 2,
       "version_minor": 0
      },
      "text/plain": [
       "0it [00:00, ?it/s]"
      ]
     },
     "metadata": {},
     "output_type": "display_data"
    },
    {
     "data": {
      "text/html": [
       "\n",
       "    <div>\n",
       "      \n",
       "      <progress value='113652' max='113652' style='width:300px; height:20px; vertical-align: middle;'></progress>\n",
       "      [113652/113652 44:06, Epoch 9/9]\n",
       "    </div>\n",
       "    <table border=\"1\" class=\"dataframe\">\n",
       "  <thead>\n",
       " <tr style=\"text-align: left;\">\n",
       "      <th>Epoch</th>\n",
       "      <th>Training Loss</th>\n",
       "      <th>Validation Loss</th>\n",
       "      <th>Accuracy</th>\n",
       "      <th>Precision Cb</th>\n",
       "      <th>Recall Cb</th>\n",
       "      <th>F1 Cb</th>\n",
       "      <th>Precision Ncb</th>\n",
       "      <th>Recall Ncb</th>\n",
       "      <th>F1 Ncb</th>\n",
       "      <th>Precision Overall</th>\n",
       "      <th>Recall Overall</th>\n",
       "      <th>F1 Overall</th>\n",
       "    </tr>\n",
       "  </thead>\n",
       "  <tbody>\n",
       "    <tr>\n",
       "      <td>9</td>\n",
       "      <td>0.061000</td>\n",
       "      <td>0.176071</td>\n",
       "      <td>0.966592</td>\n",
       "      <td>0.686499</td>\n",
       "      <td>0.557621</td>\n",
       "      <td>0.615385</td>\n",
       "      <td>0.977938</td>\n",
       "      <td>0.987181</td>\n",
       "      <td>0.982538</td>\n",
       "      <td>0.832219</td>\n",
       "      <td>0.772401</td>\n",
       "      <td>0.798961</td>\n",
       "    </tr>\n",
       "  </tbody>\n",
       "</table><p>"
      ],
      "text/plain": [
       "<IPython.core.display.HTML object>"
      ]
     },
     "metadata": {},
     "output_type": "display_data"
    },
    {
     "name": "stderr",
     "output_type": "stream",
     "text": [
      "***** Running Evaluation *****\n",
      "  Num examples = 11225\n",
      "  Batch size = 8\n",
      "Saving model checkpoint to content/drive/MyDrive_binary/output_DistilBert/fold2/checkpoint-113652\n",
      "Configuration saved in content/drive/MyDrive_binary/output_DistilBert/fold2/checkpoint-113652/config.json\n",
      "Model weights saved in content/drive/MyDrive_binary/output_DistilBert/fold2/checkpoint-113652/pytorch_model.bin\n",
      "\n",
      "\n",
      "Training completed. Do not forget to share your model on huggingface.co/models =)\n",
      "\n",
      "\n",
      "Loading best model from content/drive/MyDrive_binary/output_DistilBert/fold2/checkpoint-37884 (score: 0.12597954273223877).\n",
      "2it [44:53, 1580.01s/it]"
     ]
    },
    {
     "name": "stdout",
     "output_type": "stream",
     "text": [
      "Complete for fold 2\n",
      "Running for Fold:  3\n"
     ]
    },
    {
     "name": "stderr",
     "output_type": "stream",
     "text": [
      "PyTorch: setting up devices\n",
      "The default value for the training argument `--report_to` will change in v5 (from all installed integrations to none). In v5, you will need to use `--report_to all` to get the same behavior as now. You should start updating your code and make this info disappear :-).\n",
      "Loading model from content/drive/MyDrive_binary/output_DistilBert/fold3/checkpoint-101024).\n",
      "/opt/conda/lib/python3.9/site-packages/transformers/optimization.py:306: FutureWarning: This implementation of AdamW is deprecated and will be removed in a future version. Use the PyTorch implementation torch.optim.AdamW instead, or set `no_deprecation_warning=True` to disable this warning\n",
      "  warnings.warn(\n",
      "***** Running training *****\n",
      "  Num examples = 101022\n",
      "  Num Epochs = 9\n",
      "  Instantaneous batch size per device = 8\n",
      "  Total train batch size (w. parallel, distributed & accumulation) = 8\n",
      "  Gradient Accumulation steps = 1\n",
      "  Total optimization steps = 113652\n",
      "  Continuing training from checkpoint, will skip to saved global_step\n",
      "  Continuing training from epoch 8\n",
      "  Continuing training from global step 101024\n",
      "  Will skip the first 8 epochs then the first 0 batches in the first epoch. If this takes a lot of time, you can add the `--ignore_data_skip` flag to your launch command, but you will resume the training on data already seen by your model.\n"
     ]
    },
    {
     "data": {
      "application/vnd.jupyter.widget-view+json": {
       "model_id": "42c3e791fddc4efdbe1b01fcf7830bca",
       "version_major": 2,
       "version_minor": 0
      },
      "text/plain": [
       "0it [00:00, ?it/s]"
      ]
     },
     "metadata": {},
     "output_type": "display_data"
    },
    {
     "data": {
      "text/html": [
       "\n",
       "    <div>\n",
       "      \n",
       "      <progress value='113652' max='113652' style='width:300px; height:20px; vertical-align: middle;'></progress>\n",
       "      [113652/113652 44:56, Epoch 9/9]\n",
       "    </div>\n",
       "    <table border=\"1\" class=\"dataframe\">\n",
       "  <thead>\n",
       " <tr style=\"text-align: left;\">\n",
       "      <th>Epoch</th>\n",
       "      <th>Training Loss</th>\n",
       "      <th>Validation Loss</th>\n",
       "      <th>Accuracy</th>\n",
       "      <th>Precision Cb</th>\n",
       "      <th>Recall Cb</th>\n",
       "      <th>F1 Cb</th>\n",
       "      <th>Precision Ncb</th>\n",
       "      <th>Recall Ncb</th>\n",
       "      <th>F1 Ncb</th>\n",
       "      <th>Precision Overall</th>\n",
       "      <th>Recall Overall</th>\n",
       "      <th>F1 Overall</th>\n",
       "    </tr>\n",
       "  </thead>\n",
       "  <tbody>\n",
       "    <tr>\n",
       "      <td>9</td>\n",
       "      <td>0.065600</td>\n",
       "      <td>0.126637</td>\n",
       "      <td>0.975234</td>\n",
       "      <td>0.780172</td>\n",
       "      <td>0.672862</td>\n",
       "      <td>0.722555</td>\n",
       "      <td>0.983645</td>\n",
       "      <td>0.990456</td>\n",
       "      <td>0.987038</td>\n",
       "      <td>0.881909</td>\n",
       "      <td>0.831659</td>\n",
       "      <td>0.854797</td>\n",
       "    </tr>\n",
       "  </tbody>\n",
       "</table><p>"
      ],
      "text/plain": [
       "<IPython.core.display.HTML object>"
      ]
     },
     "metadata": {},
     "output_type": "display_data"
    },
    {
     "name": "stderr",
     "output_type": "stream",
     "text": [
      "***** Running Evaluation *****\n",
      "  Num examples = 11225\n",
      "  Batch size = 8\n",
      "Saving model checkpoint to content/drive/MyDrive_binary/output_DistilBert/fold3/checkpoint-113652\n",
      "Configuration saved in content/drive/MyDrive_binary/output_DistilBert/fold3/checkpoint-113652/config.json\n",
      "Model weights saved in content/drive/MyDrive_binary/output_DistilBert/fold3/checkpoint-113652/pytorch_model.bin\n",
      "\n",
      "\n",
      "Training completed. Do not forget to share your model on huggingface.co/models =)\n",
      "\n",
      "\n",
      "Loading best model from content/drive/MyDrive_binary/output_DistilBert/fold3/checkpoint-37884 (score: 0.10164638608694077).\n",
      "3it [1:30:09, 2098.88s/it]"
     ]
    },
    {
     "name": "stdout",
     "output_type": "stream",
     "text": [
      "Complete for fold 3\n",
      "Running for Fold:  4\n"
     ]
    },
    {
     "name": "stderr",
     "output_type": "stream",
     "text": [
      "PyTorch: setting up devices\n",
      "The default value for the training argument `--report_to` will change in v5 (from all installed integrations to none). In v5, you will need to use `--report_to all` to get the same behavior as now. You should start updating your code and make this info disappear :-).\n",
      "Loading model from content/drive/MyDrive_binary/output_DistilBert/fold4/checkpoint-101024).\n",
      "/opt/conda/lib/python3.9/site-packages/transformers/optimization.py:306: FutureWarning: This implementation of AdamW is deprecated and will be removed in a future version. Use the PyTorch implementation torch.optim.AdamW instead, or set `no_deprecation_warning=True` to disable this warning\n",
      "  warnings.warn(\n",
      "***** Running training *****\n",
      "  Num examples = 101022\n",
      "  Num Epochs = 9\n",
      "  Instantaneous batch size per device = 8\n",
      "  Total train batch size (w. parallel, distributed & accumulation) = 8\n",
      "  Gradient Accumulation steps = 1\n",
      "  Total optimization steps = 113652\n",
      "  Continuing training from checkpoint, will skip to saved global_step\n",
      "  Continuing training from epoch 8\n",
      "  Continuing training from global step 101024\n",
      "  Will skip the first 8 epochs then the first 0 batches in the first epoch. If this takes a lot of time, you can add the `--ignore_data_skip` flag to your launch command, but you will resume the training on data already seen by your model.\n",
      "3it [1:34:17, 1885.89s/it]\n"
     ]
    }
   ],
   "source": [
    "run_cross_validation(model_name='DistilBert',\n",
    "                         X=X,\n",
    "                         y=y, \n",
    "                         splits=5,\n",
    "                         epoch=9,\n",
    "                         checkpoint=True)"
   ]
  },
  {
   "cell_type": "code",
   "execution_count": 8,
   "id": "21d7183c-bda7-41d1-894a-b15b9030cac8",
   "metadata": {},
   "outputs": [
    {
     "name": "stdout",
     "output_type": "stream",
     "text": [
      "Developing Model with Cross validation for: DistilBert\n"
     ]
    },
    {
     "name": "stderr",
     "output_type": "stream",
     "text": [
      "0it [00:00, ?it/s]"
     ]
    },
    {
     "name": "stdout",
     "output_type": "stream",
     "text": [
      "Running for Fold:  1\n"
     ]
    },
    {
     "name": "stderr",
     "output_type": "stream",
     "text": [
      "Loading model from content/drive/MyDrive_binary/output_DistilBert/fold1/checkpoint-113652).\n",
      "/opt/conda/lib/python3.9/site-packages/transformers/optimization.py:306: FutureWarning: This implementation of AdamW is deprecated and will be removed in a future version. Use the PyTorch implementation torch.optim.AdamW instead, or set `no_deprecation_warning=True` to disable this warning\n",
      "  warnings.warn(\n",
      "***** Running training *****\n",
      "  Num examples = 101022\n",
      "  Num Epochs = 9\n",
      "  Instantaneous batch size per device = 8\n",
      "  Total train batch size (w. parallel, distributed & accumulation) = 8\n",
      "  Gradient Accumulation steps = 1\n",
      "  Total optimization steps = 113652\n",
      "  Continuing training from checkpoint, will skip to saved global_step\n",
      "  Continuing training from epoch 9\n",
      "  Continuing training from global step 113652\n",
      "  Will skip the first 9 epochs then the first 0 batches in the first epoch. If this takes a lot of time, you can add the `--ignore_data_skip` flag to your launch command, but you will resume the training on data already seen by your model.\n"
     ]
    },
    {
     "data": {
      "application/vnd.jupyter.widget-view+json": {
       "model_id": "de889f8b7dcd4730aac7ee39a58ad31f",
       "version_major": 2,
       "version_minor": 0
      },
      "text/plain": [
       "0it [00:00, ?it/s]"
      ]
     },
     "metadata": {},
     "output_type": "display_data"
    },
    {
     "name": "stderr",
     "output_type": "stream",
     "text": [
      "\n",
      "\n",
      "Training completed. Do not forget to share your model on huggingface.co/models =)\n",
      "\n",
      "\n",
      "Loading best model from content/drive/MyDrive_binary/output_DistilBert/fold1/checkpoint-37884 (score: 0.1345326006412506).\n"
     ]
    },
    {
     "data": {
      "text/html": [
       "\n",
       "    <div>\n",
       "      \n",
       "      <progress value='113652' max='113652' style='width:300px; height:20px; vertical-align: middle;'></progress>\n",
       "      [113652/113652 : < :, Epoch 9/9]\n",
       "    </div>\n",
       "    <table border=\"1\" class=\"dataframe\">\n",
       "  <thead>\n",
       " <tr style=\"text-align: left;\">\n",
       "      <th>Epoch</th>\n",
       "      <th>Training Loss</th>\n",
       "      <th>Validation Loss</th>\n",
       "    </tr>\n",
       "  </thead>\n",
       "  <tbody>\n",
       "  </tbody>\n",
       "</table><p>"
      ],
      "text/plain": [
       "<IPython.core.display.HTML object>"
      ]
     },
     "metadata": {},
     "output_type": "display_data"
    },
    {
     "name": "stderr",
     "output_type": "stream",
     "text": [
      "1it [00:23, 23.89s/it]"
     ]
    },
    {
     "name": "stdout",
     "output_type": "stream",
     "text": [
      "Complete for fold 1\n",
      "Running for Fold:  2\n"
     ]
    },
    {
     "name": "stderr",
     "output_type": "stream",
     "text": [
      "PyTorch: setting up devices\n",
      "The default value for the training argument `--report_to` will change in v5 (from all installed integrations to none). In v5, you will need to use `--report_to all` to get the same behavior as now. You should start updating your code and make this info disappear :-).\n",
      "Loading model from content/drive/MyDrive_binary/output_DistilBert/fold2/checkpoint-113652).\n",
      "/opt/conda/lib/python3.9/site-packages/transformers/optimization.py:306: FutureWarning: This implementation of AdamW is deprecated and will be removed in a future version. Use the PyTorch implementation torch.optim.AdamW instead, or set `no_deprecation_warning=True` to disable this warning\n",
      "  warnings.warn(\n",
      "***** Running training *****\n",
      "  Num examples = 101022\n",
      "  Num Epochs = 9\n",
      "  Instantaneous batch size per device = 8\n",
      "  Total train batch size (w. parallel, distributed & accumulation) = 8\n",
      "  Gradient Accumulation steps = 1\n",
      "  Total optimization steps = 113652\n",
      "  Continuing training from checkpoint, will skip to saved global_step\n",
      "  Continuing training from epoch 9\n",
      "  Continuing training from global step 113652\n",
      "  Will skip the first 9 epochs then the first 0 batches in the first epoch. If this takes a lot of time, you can add the `--ignore_data_skip` flag to your launch command, but you will resume the training on data already seen by your model.\n"
     ]
    },
    {
     "data": {
      "application/vnd.jupyter.widget-view+json": {
       "model_id": "0c1ccb19c8fe45c6877368eee27e09f9",
       "version_major": 2,
       "version_minor": 0
      },
      "text/plain": [
       "0it [00:00, ?it/s]"
      ]
     },
     "metadata": {},
     "output_type": "display_data"
    },
    {
     "name": "stderr",
     "output_type": "stream",
     "text": [
      "\n",
      "\n",
      "Training completed. Do not forget to share your model on huggingface.co/models =)\n",
      "\n",
      "\n",
      "Loading best model from content/drive/MyDrive_binary/output_DistilBert/fold2/checkpoint-37884 (score: 0.12597954273223877).\n"
     ]
    },
    {
     "data": {
      "text/html": [
       "\n",
       "    <div>\n",
       "      \n",
       "      <progress value='113652' max='113652' style='width:300px; height:20px; vertical-align: middle;'></progress>\n",
       "      [113652/113652 : < :, Epoch 9/9]\n",
       "    </div>\n",
       "    <table border=\"1\" class=\"dataframe\">\n",
       "  <thead>\n",
       " <tr style=\"text-align: left;\">\n",
       "      <th>Epoch</th>\n",
       "      <th>Training Loss</th>\n",
       "      <th>Validation Loss</th>\n",
       "    </tr>\n",
       "  </thead>\n",
       "  <tbody>\n",
       "  </tbody>\n",
       "</table><p>"
      ],
      "text/plain": [
       "<IPython.core.display.HTML object>"
      ]
     },
     "metadata": {},
     "output_type": "display_data"
    },
    {
     "name": "stderr",
     "output_type": "stream",
     "text": [
      "2it [00:45, 22.39s/it]"
     ]
    },
    {
     "name": "stdout",
     "output_type": "stream",
     "text": [
      "Complete for fold 2\n",
      "Running for Fold:  3\n"
     ]
    },
    {
     "name": "stderr",
     "output_type": "stream",
     "text": [
      "PyTorch: setting up devices\n",
      "The default value for the training argument `--report_to` will change in v5 (from all installed integrations to none). In v5, you will need to use `--report_to all` to get the same behavior as now. You should start updating your code and make this info disappear :-).\n",
      "Loading model from content/drive/MyDrive_binary/output_DistilBert/fold3/checkpoint-113652).\n",
      "/opt/conda/lib/python3.9/site-packages/transformers/optimization.py:306: FutureWarning: This implementation of AdamW is deprecated and will be removed in a future version. Use the PyTorch implementation torch.optim.AdamW instead, or set `no_deprecation_warning=True` to disable this warning\n",
      "  warnings.warn(\n",
      "***** Running training *****\n",
      "  Num examples = 101022\n",
      "  Num Epochs = 9\n",
      "  Instantaneous batch size per device = 8\n",
      "  Total train batch size (w. parallel, distributed & accumulation) = 8\n",
      "  Gradient Accumulation steps = 1\n",
      "  Total optimization steps = 113652\n",
      "  Continuing training from checkpoint, will skip to saved global_step\n",
      "  Continuing training from epoch 9\n",
      "  Continuing training from global step 113652\n",
      "  Will skip the first 9 epochs then the first 0 batches in the first epoch. If this takes a lot of time, you can add the `--ignore_data_skip` flag to your launch command, but you will resume the training on data already seen by your model.\n"
     ]
    },
    {
     "data": {
      "application/vnd.jupyter.widget-view+json": {
       "model_id": "99ea86bd3855421087b4fe82db6a75df",
       "version_major": 2,
       "version_minor": 0
      },
      "text/plain": [
       "0it [00:00, ?it/s]"
      ]
     },
     "metadata": {},
     "output_type": "display_data"
    },
    {
     "name": "stderr",
     "output_type": "stream",
     "text": [
      "\n",
      "\n",
      "Training completed. Do not forget to share your model on huggingface.co/models =)\n",
      "\n",
      "\n",
      "Loading best model from content/drive/MyDrive_binary/output_DistilBert/fold3/checkpoint-37884 (score: 0.10164638608694077).\n"
     ]
    },
    {
     "data": {
      "text/html": [
       "\n",
       "    <div>\n",
       "      \n",
       "      <progress value='113652' max='113652' style='width:300px; height:20px; vertical-align: middle;'></progress>\n",
       "      [113652/113652 : < :, Epoch 9/9]\n",
       "    </div>\n",
       "    <table border=\"1\" class=\"dataframe\">\n",
       "  <thead>\n",
       " <tr style=\"text-align: left;\">\n",
       "      <th>Epoch</th>\n",
       "      <th>Training Loss</th>\n",
       "      <th>Validation Loss</th>\n",
       "    </tr>\n",
       "  </thead>\n",
       "  <tbody>\n",
       "  </tbody>\n",
       "</table><p>"
      ],
      "text/plain": [
       "<IPython.core.display.HTML object>"
      ]
     },
     "metadata": {},
     "output_type": "display_data"
    },
    {
     "name": "stderr",
     "output_type": "stream",
     "text": [
      "3it [01:01, 19.38s/it]"
     ]
    },
    {
     "name": "stdout",
     "output_type": "stream",
     "text": [
      "Complete for fold 3\n",
      "Running for Fold:  4\n"
     ]
    },
    {
     "name": "stderr",
     "output_type": "stream",
     "text": [
      "PyTorch: setting up devices\n",
      "The default value for the training argument `--report_to` will change in v5 (from all installed integrations to none). In v5, you will need to use `--report_to all` to get the same behavior as now. You should start updating your code and make this info disappear :-).\n",
      "Loading model from content/drive/MyDrive_binary/output_DistilBert/fold4/checkpoint-101024).\n",
      "/opt/conda/lib/python3.9/site-packages/transformers/optimization.py:306: FutureWarning: This implementation of AdamW is deprecated and will be removed in a future version. Use the PyTorch implementation torch.optim.AdamW instead, or set `no_deprecation_warning=True` to disable this warning\n",
      "  warnings.warn(\n",
      "***** Running training *****\n",
      "  Num examples = 101022\n",
      "  Num Epochs = 9\n",
      "  Instantaneous batch size per device = 8\n",
      "  Total train batch size (w. parallel, distributed & accumulation) = 8\n",
      "  Gradient Accumulation steps = 1\n",
      "  Total optimization steps = 113652\n",
      "  Continuing training from checkpoint, will skip to saved global_step\n",
      "  Continuing training from epoch 8\n",
      "  Continuing training from global step 101024\n",
      "  Will skip the first 8 epochs then the first 0 batches in the first epoch. If this takes a lot of time, you can add the `--ignore_data_skip` flag to your launch command, but you will resume the training on data already seen by your model.\n"
     ]
    },
    {
     "data": {
      "application/vnd.jupyter.widget-view+json": {
       "model_id": "4c6de4dec50145f2a16a6ab8d737eeb5",
       "version_major": 2,
       "version_minor": 0
      },
      "text/plain": [
       "0it [00:00, ?it/s]"
      ]
     },
     "metadata": {},
     "output_type": "display_data"
    },
    {
     "data": {
      "text/html": [
       "\n",
       "    <div>\n",
       "      \n",
       "      <progress value='113652' max='113652' style='width:300px; height:20px; vertical-align: middle;'></progress>\n",
       "      [113652/113652 44:00, Epoch 9/9]\n",
       "    </div>\n",
       "    <table border=\"1\" class=\"dataframe\">\n",
       "  <thead>\n",
       " <tr style=\"text-align: left;\">\n",
       "      <th>Epoch</th>\n",
       "      <th>Training Loss</th>\n",
       "      <th>Validation Loss</th>\n",
       "      <th>Accuracy</th>\n",
       "      <th>Precision Cb</th>\n",
       "      <th>Recall Cb</th>\n",
       "      <th>F1 Cb</th>\n",
       "      <th>Precision Ncb</th>\n",
       "      <th>Recall Ncb</th>\n",
       "      <th>F1 Ncb</th>\n",
       "      <th>Precision Overall</th>\n",
       "      <th>Recall Overall</th>\n",
       "      <th>F1 Overall</th>\n",
       "    </tr>\n",
       "  </thead>\n",
       "  <tbody>\n",
       "    <tr>\n",
       "      <td>9</td>\n",
       "      <td>0.056400</td>\n",
       "      <td>0.129742</td>\n",
       "      <td>0.974432</td>\n",
       "      <td>0.787185</td>\n",
       "      <td>0.639405</td>\n",
       "      <td>0.705641</td>\n",
       "      <td>0.982017</td>\n",
       "      <td>0.991298</td>\n",
       "      <td>0.986636</td>\n",
       "      <td>0.884601</td>\n",
       "      <td>0.815352</td>\n",
       "      <td>0.846138</td>\n",
       "    </tr>\n",
       "  </tbody>\n",
       "</table><p>"
      ],
      "text/plain": [
       "<IPython.core.display.HTML object>"
      ]
     },
     "metadata": {},
     "output_type": "display_data"
    },
    {
     "name": "stderr",
     "output_type": "stream",
     "text": [
      "***** Running Evaluation *****\n",
      "  Num examples = 11225\n",
      "  Batch size = 8\n",
      "Saving model checkpoint to content/drive/MyDrive_binary/output_DistilBert/fold4/checkpoint-113652\n",
      "Configuration saved in content/drive/MyDrive_binary/output_DistilBert/fold4/checkpoint-113652/config.json\n",
      "Model weights saved in content/drive/MyDrive_binary/output_DistilBert/fold4/checkpoint-113652/pytorch_model.bin\n",
      "\n",
      "\n",
      "Training completed. Do not forget to share your model on huggingface.co/models =)\n",
      "\n",
      "\n",
      "Loading best model from content/drive/MyDrive_binary/output_DistilBert/fold4/checkpoint-25256 (score: 0.09729836136102676).\n",
      "4it [45:17, 1060.40s/it]"
     ]
    },
    {
     "name": "stdout",
     "output_type": "stream",
     "text": [
      "Complete for fold 4\n",
      "Running for Fold:  5\n"
     ]
    },
    {
     "name": "stderr",
     "output_type": "stream",
     "text": [
      "PyTorch: setting up devices\n",
      "The default value for the training argument `--report_to` will change in v5 (from all installed integrations to none). In v5, you will need to use `--report_to all` to get the same behavior as now. You should start updating your code and make this info disappear :-).\n",
      "Loading model from content/drive/MyDrive_binary/output_DistilBert/fold5/checkpoint-101024).\n",
      "/opt/conda/lib/python3.9/site-packages/transformers/optimization.py:306: FutureWarning: This implementation of AdamW is deprecated and will be removed in a future version. Use the PyTorch implementation torch.optim.AdamW instead, or set `no_deprecation_warning=True` to disable this warning\n",
      "  warnings.warn(\n",
      "***** Running training *****\n",
      "  Num examples = 101022\n",
      "  Num Epochs = 9\n",
      "  Instantaneous batch size per device = 8\n",
      "  Total train batch size (w. parallel, distributed & accumulation) = 8\n",
      "  Gradient Accumulation steps = 1\n",
      "  Total optimization steps = 113652\n",
      "  Continuing training from checkpoint, will skip to saved global_step\n",
      "  Continuing training from epoch 8\n",
      "  Continuing training from global step 101024\n",
      "  Will skip the first 8 epochs then the first 0 batches in the first epoch. If this takes a lot of time, you can add the `--ignore_data_skip` flag to your launch command, but you will resume the training on data already seen by your model.\n"
     ]
    },
    {
     "data": {
      "application/vnd.jupyter.widget-view+json": {
       "model_id": "9509a3b63b554c4c82b02b8b8cd8a69d",
       "version_major": 2,
       "version_minor": 0
      },
      "text/plain": [
       "0it [00:00, ?it/s]"
      ]
     },
     "metadata": {},
     "output_type": "display_data"
    },
    {
     "data": {
      "text/html": [
       "\n",
       "    <div>\n",
       "      \n",
       "      <progress value='113652' max='113652' style='width:300px; height:20px; vertical-align: middle;'></progress>\n",
       "      [113652/113652 44:01, Epoch 9/9]\n",
       "    </div>\n",
       "    <table border=\"1\" class=\"dataframe\">\n",
       "  <thead>\n",
       " <tr style=\"text-align: left;\">\n",
       "      <th>Epoch</th>\n",
       "      <th>Training Loss</th>\n",
       "      <th>Validation Loss</th>\n",
       "      <th>Accuracy</th>\n",
       "      <th>Precision Cb</th>\n",
       "      <th>Recall Cb</th>\n",
       "      <th>F1 Cb</th>\n",
       "      <th>Precision Ncb</th>\n",
       "      <th>Recall Ncb</th>\n",
       "      <th>F1 Ncb</th>\n",
       "      <th>Precision Overall</th>\n",
       "      <th>Recall Overall</th>\n",
       "      <th>F1 Overall</th>\n",
       "    </tr>\n",
       "  </thead>\n",
       "  <tbody>\n",
       "    <tr>\n",
       "      <td>9</td>\n",
       "      <td>0.041200</td>\n",
       "      <td>0.132229</td>\n",
       "      <td>0.974254</td>\n",
       "      <td>0.762105</td>\n",
       "      <td>0.672862</td>\n",
       "      <td>0.714709</td>\n",
       "      <td>0.983628</td>\n",
       "      <td>0.989426</td>\n",
       "      <td>0.986519</td>\n",
       "      <td>0.872867</td>\n",
       "      <td>0.831144</td>\n",
       "      <td>0.850614</td>\n",
       "    </tr>\n",
       "  </tbody>\n",
       "</table><p>"
      ],
      "text/plain": [
       "<IPython.core.display.HTML object>"
      ]
     },
     "metadata": {},
     "output_type": "display_data"
    },
    {
     "name": "stderr",
     "output_type": "stream",
     "text": [
      "***** Running Evaluation *****\n",
      "  Num examples = 11225\n",
      "  Batch size = 8\n",
      "Saving model checkpoint to content/drive/MyDrive_binary/output_DistilBert/fold5/checkpoint-113652\n",
      "Configuration saved in content/drive/MyDrive_binary/output_DistilBert/fold5/checkpoint-113652/config.json\n",
      "Model weights saved in content/drive/MyDrive_binary/output_DistilBert/fold5/checkpoint-113652/pytorch_model.bin\n",
      "\n",
      "\n",
      "Training completed. Do not forget to share your model on huggingface.co/models =)\n",
      "\n",
      "\n",
      "Loading best model from content/drive/MyDrive_binary/output_DistilBert/fold5/checkpoint-50512 (score: 0.10875506699085236).\n",
      "5it [1:29:36, 1075.24s/it]"
     ]
    },
    {
     "name": "stdout",
     "output_type": "stream",
     "text": [
      "Complete for fold 5\n"
     ]
    },
    {
     "name": "stderr",
     "output_type": "stream",
     "text": [
      "\n"
     ]
    }
   ],
   "source": [
    "run_cross_validation(model_name='DistilBert',\n",
    "                         X=X,\n",
    "                         y=y, \n",
    "                         splits=5,\n",
    "                         epoch=9,\n",
    "                         checkpoint=True)"
   ]
  },
  {
   "cell_type": "markdown",
   "id": "W4F4117sKwZQ",
   "metadata": {
    "id": "W4F4117sKwZQ"
   },
   "source": [
    "## Hold Out Split"
   ]
  },
  {
   "cell_type": "code",
   "execution_count": null,
   "id": "6f37e94d-0b71-406e-b0d3-e2e6c6ead9c7",
   "metadata": {},
   "outputs": [
    {
     "name": "stderr",
     "output_type": "stream",
     "text": [
      "PyTorch: setting up devices\n",
      "The default value for the training argument `--report_to` will change in v5 (from all installed integrations to none). In v5, you will need to use `--report_to all` to get the same behavior as now. You should start updating your code and make this info disappear :-).\n",
      "/opt/conda/lib/python3.9/site-packages/transformers/optimization.py:306: FutureWarning: This implementation of AdamW is deprecated and will be removed in a future version. Use the PyTorch implementation torch.optim.AdamW instead, or set `no_deprecation_warning=True` to disable this warning\n",
      "  warnings.warn(\n",
      "***** Running training *****\n",
      "  Num examples = 101022\n",
      "  Num Epochs = 8\n",
      "  Instantaneous batch size per device = 8\n",
      "  Total train batch size (w. parallel, distributed & accumulation) = 8\n",
      "  Gradient Accumulation steps = 1\n",
      "  Total optimization steps = 101024\n"
     ]
    },
    {
     "name": "stdout",
     "output_type": "stream",
     "text": [
      "Developing Model with Hold Out Splits for: DistilBert\n"
     ]
    },
    {
     "data": {
      "text/html": [
       "\n",
       "    <div>\n",
       "      \n",
       "      <progress value='38776' max='101024' style='width:300px; height:20px; vertical-align: middle;'></progress>\n",
       "      [ 38776/101024 2:15:20 < 3:37:17, 4.77 it/s, Epoch 3.07/8]\n",
       "    </div>\n",
       "    <table border=\"1\" class=\"dataframe\">\n",
       "  <thead>\n",
       " <tr style=\"text-align: left;\">\n",
       "      <th>Epoch</th>\n",
       "      <th>Training Loss</th>\n",
       "      <th>Validation Loss</th>\n",
       "      <th>Accuracy</th>\n",
       "      <th>Precision Cb</th>\n",
       "      <th>Recall Cb</th>\n",
       "      <th>F1 Cb</th>\n",
       "      <th>Precision Ncb</th>\n",
       "      <th>Recall Ncb</th>\n",
       "      <th>F1 Ncb</th>\n",
       "      <th>Precision Overall</th>\n",
       "      <th>Recall Overall</th>\n",
       "      <th>F1 Overall</th>\n",
       "    </tr>\n",
       "  </thead>\n",
       "  <tbody>\n",
       "    <tr>\n",
       "      <td>1</td>\n",
       "      <td>0.092100</td>\n",
       "      <td>0.114896</td>\n",
       "      <td>0.974878</td>\n",
       "      <td>0.745211</td>\n",
       "      <td>0.723048</td>\n",
       "      <td>0.733962</td>\n",
       "      <td>0.986079</td>\n",
       "      <td>0.987555</td>\n",
       "      <td>0.986816</td>\n",
       "      <td>0.865645</td>\n",
       "      <td>0.855302</td>\n",
       "      <td>0.860389</td>\n",
       "    </tr>\n",
       "    <tr>\n",
       "      <td>2</td>\n",
       "      <td>0.077400</td>\n",
       "      <td>0.120115</td>\n",
       "      <td>0.975234</td>\n",
       "      <td>0.760000</td>\n",
       "      <td>0.706320</td>\n",
       "      <td>0.732177</td>\n",
       "      <td>0.985268</td>\n",
       "      <td>0.988771</td>\n",
       "      <td>0.987017</td>\n",
       "      <td>0.872634</td>\n",
       "      <td>0.847546</td>\n",
       "      <td>0.859597</td>\n",
       "    </tr>\n",
       "    <tr>\n",
       "      <td>3</td>\n",
       "      <td>0.076600</td>\n",
       "      <td>0.102282</td>\n",
       "      <td>0.974699</td>\n",
       "      <td>0.764583</td>\n",
       "      <td>0.682156</td>\n",
       "      <td>0.721022</td>\n",
       "      <td>0.984086</td>\n",
       "      <td>0.989426</td>\n",
       "      <td>0.986749</td>\n",
       "      <td>0.874334</td>\n",
       "      <td>0.835791</td>\n",
       "      <td>0.853885</td>\n",
       "    </tr>\n",
       "  </tbody>\n",
       "</table><p>"
      ],
      "text/plain": [
       "<IPython.core.display.HTML object>"
      ]
     },
     "metadata": {},
     "output_type": "display_data"
    },
    {
     "name": "stderr",
     "output_type": "stream",
     "text": [
      "***** Running Evaluation *****\n",
      "  Num examples = 11225\n",
      "  Batch size = 8\n",
      "Saving model checkpoint to content/drive/MyDrive_binary/output_DistilBert/holdout/checkpoint-12628\n",
      "Configuration saved in content/drive/MyDrive_binary/output_DistilBert/holdout/checkpoint-12628/config.json\n",
      "Model weights saved in content/drive/MyDrive_binary/output_DistilBert/holdout/checkpoint-12628/pytorch_model.bin\n",
      "***** Running Evaluation *****\n",
      "  Num examples = 11225\n",
      "  Batch size = 8\n",
      "Saving model checkpoint to content/drive/MyDrive_binary/output_DistilBert/holdout/checkpoint-25256\n",
      "Configuration saved in content/drive/MyDrive_binary/output_DistilBert/holdout/checkpoint-25256/config.json\n",
      "Model weights saved in content/drive/MyDrive_binary/output_DistilBert/holdout/checkpoint-25256/pytorch_model.bin\n",
      "***** Running Evaluation *****\n",
      "  Num examples = 11225\n",
      "  Batch size = 8\n",
      "Saving model checkpoint to content/drive/MyDrive_binary/output_DistilBert/holdout/checkpoint-37884\n",
      "Configuration saved in content/drive/MyDrive_binary/output_DistilBert/holdout/checkpoint-37884/config.json\n",
      "Model weights saved in content/drive/MyDrive_binary/output_DistilBert/holdout/checkpoint-37884/pytorch_model.bin\n"
     ]
    }
   ],
   "source": [
    "#holdout\n",
    "run_hold_out_split(model_name='DistilBert',\n",
    "                       epoch=8,\n",
    "                       train_dataset=train_dataset,\n",
    "                       eval_dataset=val_dataset,\n",
    "                       checkpoint=False)"
   ]
  },
  {
   "cell_type": "code",
   "execution_count": 9,
   "id": "cbb07800-22ad-4740-8778-ff3922c37e18",
   "metadata": {},
   "outputs": [
    {
     "name": "stdout",
     "output_type": "stream",
     "text": [
      "Developing Model with Hold Out Splits for: DistilBert\n"
     ]
    },
    {
     "name": "stderr",
     "output_type": "stream",
     "text": [
      "Loading model from content/drive/MyDrive_binary/output_DistilBert/holdout/checkpoint-37884).\n",
      "/opt/conda/lib/python3.9/site-packages/transformers/optimization.py:306: FutureWarning: This implementation of AdamW is deprecated and will be removed in a future version. Use the PyTorch implementation torch.optim.AdamW instead, or set `no_deprecation_warning=True` to disable this warning\n",
      "  warnings.warn(\n",
      "***** Running training *****\n",
      "  Num examples = 101022\n",
      "  Num Epochs = 8\n",
      "  Instantaneous batch size per device = 8\n",
      "  Total train batch size (w. parallel, distributed & accumulation) = 8\n",
      "  Gradient Accumulation steps = 1\n",
      "  Total optimization steps = 101024\n",
      "  Continuing training from checkpoint, will skip to saved global_step\n",
      "  Continuing training from epoch 3\n",
      "  Continuing training from global step 37884\n",
      "  Will skip the first 3 epochs then the first 0 batches in the first epoch. If this takes a lot of time, you can add the `--ignore_data_skip` flag to your launch command, but you will resume the training on data already seen by your model.\n"
     ]
    },
    {
     "data": {
      "application/vnd.jupyter.widget-view+json": {
       "model_id": "c7d46c5127aa4e068b22d6ef2e1ffea4",
       "version_major": 2,
       "version_minor": 0
      },
      "text/plain": [
       "0it [00:00, ?it/s]"
      ]
     },
     "metadata": {},
     "output_type": "display_data"
    },
    {
     "data": {
      "text/html": [
       "\n",
       "    <div>\n",
       "      \n",
       "      <progress value='101024' max='101024' style='width:300px; height:20px; vertical-align: middle;'></progress>\n",
       "      [101024/101024 3:42:20, Epoch 8/8]\n",
       "    </div>\n",
       "    <table border=\"1\" class=\"dataframe\">\n",
       "  <thead>\n",
       " <tr style=\"text-align: left;\">\n",
       "      <th>Epoch</th>\n",
       "      <th>Training Loss</th>\n",
       "      <th>Validation Loss</th>\n",
       "      <th>Accuracy</th>\n",
       "      <th>Precision Cb</th>\n",
       "      <th>Recall Cb</th>\n",
       "      <th>F1 Cb</th>\n",
       "      <th>Precision Ncb</th>\n",
       "      <th>Recall Ncb</th>\n",
       "      <th>F1 Ncb</th>\n",
       "      <th>Precision Overall</th>\n",
       "      <th>Recall Overall</th>\n",
       "      <th>F1 Overall</th>\n",
       "    </tr>\n",
       "  </thead>\n",
       "  <tbody>\n",
       "    <tr>\n",
       "      <td>4</td>\n",
       "      <td>0.061200</td>\n",
       "      <td>0.134880</td>\n",
       "      <td>0.974076</td>\n",
       "      <td>0.738878</td>\n",
       "      <td>0.710037</td>\n",
       "      <td>0.724171</td>\n",
       "      <td>0.985431</td>\n",
       "      <td>0.987368</td>\n",
       "      <td>0.986399</td>\n",
       "      <td>0.862155</td>\n",
       "      <td>0.848703</td>\n",
       "      <td>0.855285</td>\n",
       "    </tr>\n",
       "    <tr>\n",
       "      <td>5</td>\n",
       "      <td>0.053700</td>\n",
       "      <td>0.124110</td>\n",
       "      <td>0.973630</td>\n",
       "      <td>0.724074</td>\n",
       "      <td>0.726766</td>\n",
       "      <td>0.725417</td>\n",
       "      <td>0.986242</td>\n",
       "      <td>0.986058</td>\n",
       "      <td>0.986150</td>\n",
       "      <td>0.855158</td>\n",
       "      <td>0.856412</td>\n",
       "      <td>0.855784</td>\n",
       "    </tr>\n",
       "    <tr>\n",
       "      <td>6</td>\n",
       "      <td>0.061700</td>\n",
       "      <td>0.134949</td>\n",
       "      <td>0.974343</td>\n",
       "      <td>0.763713</td>\n",
       "      <td>0.672862</td>\n",
       "      <td>0.715415</td>\n",
       "      <td>0.983629</td>\n",
       "      <td>0.989520</td>\n",
       "      <td>0.986566</td>\n",
       "      <td>0.873671</td>\n",
       "      <td>0.831191</td>\n",
       "      <td>0.850990</td>\n",
       "    </tr>\n",
       "    <tr>\n",
       "      <td>7</td>\n",
       "      <td>0.061300</td>\n",
       "      <td>0.133551</td>\n",
       "      <td>0.974521</td>\n",
       "      <td>0.772727</td>\n",
       "      <td>0.663569</td>\n",
       "      <td>0.714000</td>\n",
       "      <td>0.983183</td>\n",
       "      <td>0.990175</td>\n",
       "      <td>0.986667</td>\n",
       "      <td>0.877955</td>\n",
       "      <td>0.826872</td>\n",
       "      <td>0.850333</td>\n",
       "    </tr>\n",
       "    <tr>\n",
       "      <td>8</td>\n",
       "      <td>0.057600</td>\n",
       "      <td>0.140628</td>\n",
       "      <td>0.974788</td>\n",
       "      <td>0.782705</td>\n",
       "      <td>0.656134</td>\n",
       "      <td>0.713852</td>\n",
       "      <td>0.982829</td>\n",
       "      <td>0.990830</td>\n",
       "      <td>0.986813</td>\n",
       "      <td>0.882767</td>\n",
       "      <td>0.823482</td>\n",
       "      <td>0.850333</td>\n",
       "    </tr>\n",
       "  </tbody>\n",
       "</table><p>"
      ],
      "text/plain": [
       "<IPython.core.display.HTML object>"
      ]
     },
     "metadata": {},
     "output_type": "display_data"
    },
    {
     "name": "stderr",
     "output_type": "stream",
     "text": [
      "***** Running Evaluation *****\n",
      "  Num examples = 11225\n",
      "  Batch size = 8\n",
      "Saving model checkpoint to content/drive/MyDrive_binary/output_DistilBert/holdout/checkpoint-50512\n",
      "Configuration saved in content/drive/MyDrive_binary/output_DistilBert/holdout/checkpoint-50512/config.json\n",
      "Model weights saved in content/drive/MyDrive_binary/output_DistilBert/holdout/checkpoint-50512/pytorch_model.bin\n",
      "***** Running Evaluation *****\n",
      "  Num examples = 11225\n",
      "  Batch size = 8\n",
      "Saving model checkpoint to content/drive/MyDrive_binary/output_DistilBert/holdout/checkpoint-63140\n",
      "Configuration saved in content/drive/MyDrive_binary/output_DistilBert/holdout/checkpoint-63140/config.json\n",
      "Model weights saved in content/drive/MyDrive_binary/output_DistilBert/holdout/checkpoint-63140/pytorch_model.bin\n",
      "***** Running Evaluation *****\n",
      "  Num examples = 11225\n",
      "  Batch size = 8\n",
      "Saving model checkpoint to content/drive/MyDrive_binary/output_DistilBert/holdout/checkpoint-75768\n",
      "Configuration saved in content/drive/MyDrive_binary/output_DistilBert/holdout/checkpoint-75768/config.json\n",
      "Model weights saved in content/drive/MyDrive_binary/output_DistilBert/holdout/checkpoint-75768/pytorch_model.bin\n",
      "***** Running Evaluation *****\n",
      "  Num examples = 11225\n",
      "  Batch size = 8\n",
      "Saving model checkpoint to content/drive/MyDrive_binary/output_DistilBert/holdout/checkpoint-88396\n",
      "Configuration saved in content/drive/MyDrive_binary/output_DistilBert/holdout/checkpoint-88396/config.json\n",
      "Model weights saved in content/drive/MyDrive_binary/output_DistilBert/holdout/checkpoint-88396/pytorch_model.bin\n",
      "***** Running Evaluation *****\n",
      "  Num examples = 11225\n",
      "  Batch size = 8\n",
      "Saving model checkpoint to content/drive/MyDrive_binary/output_DistilBert/holdout/checkpoint-101024\n",
      "Configuration saved in content/drive/MyDrive_binary/output_DistilBert/holdout/checkpoint-101024/config.json\n",
      "Model weights saved in content/drive/MyDrive_binary/output_DistilBert/holdout/checkpoint-101024/pytorch_model.bin\n",
      "\n",
      "\n",
      "Training completed. Do not forget to share your model on huggingface.co/models =)\n",
      "\n",
      "\n",
      "Loading best model from content/drive/MyDrive_binary/output_DistilBert/holdout/checkpoint-37884 (score: 0.10228157788515091).\n"
     ]
    },
    {
     "name": "stdout",
     "output_type": "stream",
     "text": [
      "Complete for hold-out validate set\n"
     ]
    }
   ],
   "source": [
    "#holdout\n",
    "run_hold_out_split(model_name='DistilBert',\n",
    "                       epoch=8,\n",
    "                       train_dataset=train_dataset,\n",
    "                       eval_dataset=val_dataset,\n",
    "                       checkpoint=True)"
   ]
  },
  {
   "cell_type": "markdown",
   "id": "w5vyE3EkK2JQ",
   "metadata": {
    "id": "w5vyE3EkK2JQ",
    "tags": []
   },
   "source": [
    "### Test Split Confusion Matrix"
   ]
  },
  {
   "cell_type": "markdown",
   "id": "fG7eAEaFtIYk",
   "metadata": {
    "id": "fG7eAEaFtIYk"
   },
   "source": [
    "#### Epoch 1"
   ]
  },
  {
   "cell_type": "code",
   "execution_count": 9,
   "id": "ab06398b",
   "metadata": {
    "id": "ab06398b"
   },
   "outputs": [
    {
     "name": "stderr",
     "output_type": "stream",
     "text": [
      "***** Running Prediction *****\n",
      "  Num examples = 11225\n",
      "  Batch size = 8\n"
     ]
    },
    {
     "data": {
      "text/html": [
       "\n",
       "    <div>\n",
       "      \n",
       "      <progress value='1404' max='1404' style='width:300px; height:20px; vertical-align: middle;'></progress>\n",
       "      [1404/1404 02:43]\n",
       "    </div>\n",
       "    "
      ],
      "text/plain": [
       "<IPython.core.display.HTML object>"
      ]
     },
     "metadata": {},
     "output_type": "display_data"
    },
    {
     "name": "stdout",
     "output_type": "stream",
     "text": [
      "Classification Report:\n",
      "              precision    recall  f1-score   support\n",
      "\n",
      "           0       0.99      0.99      0.99     10687\n",
      "           1       0.75      0.72      0.73       538\n",
      "\n",
      "    accuracy                           0.97     11225\n",
      "   macro avg       0.87      0.86      0.86     11225\n",
      "weighted avg       0.97      0.97      0.97     11225\n",
      "\n",
      "\n",
      "Label 1: Cyberbullying\n",
      "Precision:  0.7452107279693486\n",
      "Recall:  0.7230483271375465\n",
      "F-measure:  0.7339622641509435\n",
      "\n",
      "Label 0: Non-Cyberbullying\n",
      "Precision:  0.9860786695319069\n",
      "Recall:  0.9875549733320858\n",
      "F-measure:  0.9868162692847126\n",
      "\n",
      "Macro Metrics\n",
      "Precision:  0.8656446987506278\n",
      "Recall:  0.8553016502348161\n",
      "F-measure:  0.860389266717828\n",
      "\n"
     ]
    },
    {
     "data": {
      "image/png": "[encoded data removed]",
      "text/plain": [
       "<Figure size 576x360 with 2 Axes>"
      ]
     },
     "metadata": {
      "needs_background": "light"
     },
     "output_type": "display_data"
    }
   ],
   "source": [
    "compute_metrics_holdout(model_name='DistilBert',\n",
    "                        model_path='content/drive/MyDrive_binary/output_DistilBert/holdout/checkpoint-12628', \n",
    "                        average_method='binary',\n",
    "                        X_test=X_test)"
   ]
  },
  {
   "cell_type": "markdown",
   "id": "Ir4eL3T8gtLf",
   "metadata": {
    "id": "Ir4eL3T8gtLf"
   },
   "source": [
    "#### Epoch 2"
   ]
  },
  {
   "cell_type": "code",
   "execution_count": 11,
   "id": "u34gKYLGgtLr",
   "metadata": {
    "id": "u34gKYLGgtLr"
   },
   "outputs": [
    {
     "name": "stderr",
     "output_type": "stream",
     "text": [
      "loading configuration file content/drive/MyDrive_binary/output_DistilBert/holdout/checkpoint-25256/config.json\n",
      "Model config DistilBertConfig {\n",
      "  \"_name_or_path\": \"content/drive/MyDrive_binary/output_DistilBert/holdout/checkpoint-25256\",\n",
      "  \"activation\": \"gelu\",\n",
      "  \"architectures\": [\n",
      "    \"DistilBertForSequenceClassification\"\n",
      "  ],\n",
      "  \"attention_dropout\": 0.1,\n",
      "  \"dim\": 768,\n",
      "  \"dropout\": 0.1,\n",
      "  \"hidden_dim\": 3072,\n",
      "  \"initializer_range\": 0.02,\n",
      "  \"max_position_embeddings\": 512,\n",
      "  \"model_type\": \"distilbert\",\n",
      "  \"n_heads\": 12,\n",
      "  \"n_layers\": 6,\n",
      "  \"pad_token_id\": 0,\n",
      "  \"problem_type\": \"single_label_classification\",\n",
      "  \"qa_dropout\": 0.1,\n",
      "  \"seq_classif_dropout\": 0.2,\n",
      "  \"sinusoidal_pos_embds\": false,\n",
      "  \"tie_weights_\": true,\n",
      "  \"torch_dtype\": \"float32\",\n",
      "  \"transformers_version\": \"4.19.0\",\n",
      "  \"vocab_size\": 30522\n",
      "}\n",
      "\n",
      "loading weights file content/drive/MyDrive_binary/output_DistilBert/holdout/checkpoint-25256/pytorch_model.bin\n",
      "All model checkpoint weights were used when initializing DistilBertForSequenceClassification.\n",
      "\n",
      "All the weights of DistilBertForSequenceClassification were initialized from the model checkpoint at content/drive/MyDrive_binary/output_DistilBert/holdout/checkpoint-25256.\n",
      "If your task is similar to the task the model of the checkpoint was trained on, you can already use DistilBertForSequenceClassification for predictions without further training.\n",
      "No `TrainingArguments` passed, using `output_dir=tmp_trainer`.\n",
      "PyTorch: setting up devices\n",
      "The default value for the training argument `--report_to` will change in v5 (from all installed integrations to none). In v5, you will need to use `--report_to all` to get the same behavior as now. You should start updating your code and make this info disappear :-).\n",
      "***** Running Prediction *****\n",
      "  Num examples = 11225\n",
      "  Batch size = 8\n"
     ]
    },
    {
     "data": {
      "text/html": [
       "\n",
       "    <div>\n",
       "      \n",
       "      <progress value='1404' max='1404' style='width:300px; height:20px; vertical-align: middle;'></progress>\n",
       "      [1404/1404 01:30]\n",
       "    </div>\n",
       "    "
      ],
      "text/plain": [
       "<IPython.core.display.HTML object>"
      ]
     },
     "metadata": {},
     "output_type": "display_data"
    },
    {
     "name": "stdout",
     "output_type": "stream",
     "text": [
      "Classification Report:\n",
      "              precision    recall  f1-score   support\n",
      "\n",
      "           0       0.99      0.99      0.99     10687\n",
      "           1       0.76      0.71      0.73       538\n",
      "\n",
      "    accuracy                           0.98     11225\n",
      "   macro avg       0.87      0.85      0.86     11225\n",
      "weighted avg       0.97      0.98      0.97     11225\n",
      "\n",
      "\n",
      "Label 1: Cyberbullying\n",
      "Precision:  0.76\n",
      "Recall:  0.7063197026022305\n",
      "F-measure:  0.7321772639691715\n",
      "\n",
      "Label 0: Non-Cyberbullying\n",
      "Precision:  0.9852680652680653\n",
      "Recall:  0.9887714045101526\n",
      "F-measure:  0.987016626190921\n",
      "\n",
      "Macro Metrics\n",
      "Precision:  0.8726340326340327\n",
      "Recall:  0.8475455535561915\n",
      "F-measure:  0.8595969450800462\n",
      "\n"
     ]
    },
    {
     "data": {
      "image/png": "[encoded data removed]",
      "text/plain": [
       "<Figure size 576x360 with 2 Axes>"
      ]
     },
     "metadata": {
      "needs_background": "light"
     },
     "output_type": "display_data"
    }
   ],
   "source": [
    "compute_metrics_holdout(model_name='DistilBert',\n",
    "                        model_path='content/drive/MyDrive_binary/output_DistilBert/holdout/checkpoint-25256', \n",
    "                        average_method='binary',\n",
    "                        X_test=X_test)"
   ]
  },
  {
   "cell_type": "markdown",
   "id": "KdECewOiL4tf",
   "metadata": {
    "id": "KdECewOiL4tf"
   },
   "source": [
    "#### Epoch 3"
   ]
  },
  {
   "cell_type": "code",
   "execution_count": 12,
   "id": "Rj2PqaNBL4tg",
   "metadata": {
    "id": "Rj2PqaNBL4tg"
   },
   "outputs": [
    {
     "name": "stderr",
     "output_type": "stream",
     "text": [
      "loading configuration file content/drive/MyDrive_binary/output_DistilBert/holdout/checkpoint-37884/config.json\n",
      "Model config DistilBertConfig {\n",
      "  \"_name_or_path\": \"content/drive/MyDrive_binary/output_DistilBert/holdout/checkpoint-37884\",\n",
      "  \"activation\": \"gelu\",\n",
      "  \"architectures\": [\n",
      "    \"DistilBertForSequenceClassification\"\n",
      "  ],\n",
      "  \"attention_dropout\": 0.1,\n",
      "  \"dim\": 768,\n",
      "  \"dropout\": 0.1,\n",
      "  \"hidden_dim\": 3072,\n",
      "  \"initializer_range\": 0.02,\n",
      "  \"max_position_embeddings\": 512,\n",
      "  \"model_type\": \"distilbert\",\n",
      "  \"n_heads\": 12,\n",
      "  \"n_layers\": 6,\n",
      "  \"pad_token_id\": 0,\n",
      "  \"problem_type\": \"single_label_classification\",\n",
      "  \"qa_dropout\": 0.1,\n",
      "  \"seq_classif_dropout\": 0.2,\n",
      "  \"sinusoidal_pos_embds\": false,\n",
      "  \"tie_weights_\": true,\n",
      "  \"torch_dtype\": \"float32\",\n",
      "  \"transformers_version\": \"4.19.0\",\n",
      "  \"vocab_size\": 30522\n",
      "}\n",
      "\n",
      "loading weights file content/drive/MyDrive_binary/output_DistilBert/holdout/checkpoint-37884/pytorch_model.bin\n",
      "All model checkpoint weights were used when initializing DistilBertForSequenceClassification.\n",
      "\n",
      "All the weights of DistilBertForSequenceClassification were initialized from the model checkpoint at content/drive/MyDrive_binary/output_DistilBert/holdout/checkpoint-37884.\n",
      "If your task is similar to the task the model of the checkpoint was trained on, you can already use DistilBertForSequenceClassification for predictions without further training.\n",
      "No `TrainingArguments` passed, using `output_dir=tmp_trainer`.\n",
      "PyTorch: setting up devices\n",
      "The default value for the training argument `--report_to` will change in v5 (from all installed integrations to none). In v5, you will need to use `--report_to all` to get the same behavior as now. You should start updating your code and make this info disappear :-).\n",
      "***** Running Prediction *****\n",
      "  Num examples = 11225\n",
      "  Batch size = 8\n"
     ]
    },
    {
     "data": {
      "text/html": [
       "\n",
       "    <div>\n",
       "      \n",
       "      <progress value='1404' max='1404' style='width:300px; height:20px; vertical-align: middle;'></progress>\n",
       "      [1404/1404 01:28]\n",
       "    </div>\n",
       "    "
      ],
      "text/plain": [
       "<IPython.core.display.HTML object>"
      ]
     },
     "metadata": {},
     "output_type": "display_data"
    },
    {
     "name": "stdout",
     "output_type": "stream",
     "text": [
      "Classification Report:\n",
      "              precision    recall  f1-score   support\n",
      "\n",
      "           0       0.98      0.99      0.99     10687\n",
      "           1       0.76      0.68      0.72       538\n",
      "\n",
      "    accuracy                           0.97     11225\n",
      "   macro avg       0.87      0.84      0.85     11225\n",
      "weighted avg       0.97      0.97      0.97     11225\n",
      "\n",
      "\n",
      "Label 1: Cyberbullying\n",
      "Precision:  0.7645833333333333\n",
      "Recall:  0.6821561338289963\n",
      "F-measure:  0.7210216110019646\n",
      "\n",
      "Label 0: Non-Cyberbullying\n",
      "Precision:  0.9840856212191718\n",
      "Recall:  0.989426405913727\n",
      "F-measure:  0.9867487868607691\n",
      "\n",
      "Macro Metrics\n",
      "Precision:  0.8743344772762525\n",
      "Recall:  0.8357912698713617\n",
      "F-measure:  0.8538851989313668\n",
      "\n"
     ]
    },
    {
     "data": {
      "image/png": "[encoded data removed]",
      "text/plain": [
       "<Figure size 576x360 with 2 Axes>"
      ]
     },
     "metadata": {
      "needs_background": "light"
     },
     "output_type": "display_data"
    }
   ],
   "source": [
    "compute_metrics_holdout(model_name='DistilBert',\n",
    "                        model_path='content/drive/MyDrive_binary/output_DistilBert/holdout/checkpoint-37884', \n",
    "                        average_method='binary',\n",
    "                        X_test=X_test)"
   ]
  },
  {
   "cell_type": "markdown",
   "id": "uFLTBUzxL4MC",
   "metadata": {
    "id": "uFLTBUzxL4MC"
   },
   "source": [
    "#### Epoch 4"
   ]
  },
  {
   "cell_type": "code",
   "execution_count": 13,
   "id": "MrkHnZgHL4MC",
   "metadata": {
    "id": "MrkHnZgHL4MC"
   },
   "outputs": [
    {
     "name": "stderr",
     "output_type": "stream",
     "text": [
      "loading configuration file content/drive/MyDrive_binary/output_DistilBert/holdout/checkpoint-50512/config.json\n",
      "Model config DistilBertConfig {\n",
      "  \"_name_or_path\": \"content/drive/MyDrive_binary/output_DistilBert/holdout/checkpoint-50512\",\n",
      "  \"activation\": \"gelu\",\n",
      "  \"architectures\": [\n",
      "    \"DistilBertForSequenceClassification\"\n",
      "  ],\n",
      "  \"attention_dropout\": 0.1,\n",
      "  \"dim\": 768,\n",
      "  \"dropout\": 0.1,\n",
      "  \"hidden_dim\": 3072,\n",
      "  \"initializer_range\": 0.02,\n",
      "  \"max_position_embeddings\": 512,\n",
      "  \"model_type\": \"distilbert\",\n",
      "  \"n_heads\": 12,\n",
      "  \"n_layers\": 6,\n",
      "  \"pad_token_id\": 0,\n",
      "  \"problem_type\": \"single_label_classification\",\n",
      "  \"qa_dropout\": 0.1,\n",
      "  \"seq_classif_dropout\": 0.2,\n",
      "  \"sinusoidal_pos_embds\": false,\n",
      "  \"tie_weights_\": true,\n",
      "  \"torch_dtype\": \"float32\",\n",
      "  \"transformers_version\": \"4.19.0\",\n",
      "  \"vocab_size\": 30522\n",
      "}\n",
      "\n",
      "loading weights file content/drive/MyDrive_binary/output_DistilBert/holdout/checkpoint-50512/pytorch_model.bin\n",
      "All model checkpoint weights were used when initializing DistilBertForSequenceClassification.\n",
      "\n",
      "All the weights of DistilBertForSequenceClassification were initialized from the model checkpoint at content/drive/MyDrive_binary/output_DistilBert/holdout/checkpoint-50512.\n",
      "If your task is similar to the task the model of the checkpoint was trained on, you can already use DistilBertForSequenceClassification for predictions without further training.\n",
      "No `TrainingArguments` passed, using `output_dir=tmp_trainer`.\n",
      "PyTorch: setting up devices\n",
      "The default value for the training argument `--report_to` will change in v5 (from all installed integrations to none). In v5, you will need to use `--report_to all` to get the same behavior as now. You should start updating your code and make this info disappear :-).\n",
      "***** Running Prediction *****\n",
      "  Num examples = 11225\n",
      "  Batch size = 8\n"
     ]
    },
    {
     "data": {
      "text/html": [
       "\n",
       "    <div>\n",
       "      \n",
       "      <progress value='1404' max='1404' style='width:300px; height:20px; vertical-align: middle;'></progress>\n",
       "      [1404/1404 01:29]\n",
       "    </div>\n",
       "    "
      ],
      "text/plain": [
       "<IPython.core.display.HTML object>"
      ]
     },
     "metadata": {},
     "output_type": "display_data"
    },
    {
     "name": "stdout",
     "output_type": "stream",
     "text": [
      "Classification Report:\n",
      "              precision    recall  f1-score   support\n",
      "\n",
      "           0       0.99      0.99      0.99     10687\n",
      "           1       0.74      0.71      0.72       538\n",
      "\n",
      "    accuracy                           0.97     11225\n",
      "   macro avg       0.86      0.85      0.86     11225\n",
      "weighted avg       0.97      0.97      0.97     11225\n",
      "\n",
      "\n",
      "Label 1: Cyberbullying\n",
      "Precision:  0.7388781431334622\n",
      "Recall:  0.7100371747211895\n",
      "F-measure:  0.724170616113744\n",
      "\n",
      "Label 0: Non-Cyberbullying\n",
      "Precision:  0.9854314531191632\n",
      "Recall:  0.9873678300739216\n",
      "F-measure:  0.9863986912830102\n",
      "\n",
      "Macro Metrics\n",
      "Precision:  0.8621547981263127\n",
      "Recall:  0.8487025023975556\n",
      "F-measure:  0.8552846536983771\n",
      "\n"
     ]
    },
    {
     "data": {
      "image/png": "[encoded data removed]",
      "text/plain": [
       "<Figure size 576x360 with 2 Axes>"
      ]
     },
     "metadata": {
      "needs_background": "light"
     },
     "output_type": "display_data"
    }
   ],
   "source": [
    "compute_metrics_holdout(model_name='DistilBert',\n",
    "                        model_path='content/drive/MyDrive_binary/output_DistilBert/holdout/checkpoint-50512', \n",
    "                        average_method='binary',\n",
    "                        X_test=X_test)"
   ]
  },
  {
   "cell_type": "markdown",
   "id": "eFNCqLf6L3pO",
   "metadata": {
    "id": "eFNCqLf6L3pO"
   },
   "source": [
    "#### Epoch 5"
   ]
  },
  {
   "cell_type": "code",
   "execution_count": 14,
   "id": "HvUFFr68L3pQ",
   "metadata": {
    "id": "HvUFFr68L3pQ"
   },
   "outputs": [
    {
     "name": "stderr",
     "output_type": "stream",
     "text": [
      "loading configuration file content/drive/MyDrive_binary/output_DistilBert/holdout/checkpoint-63140/config.json\n",
      "Model config DistilBertConfig {\n",
      "  \"_name_or_path\": \"content/drive/MyDrive_binary/output_DistilBert/holdout/checkpoint-63140\",\n",
      "  \"activation\": \"gelu\",\n",
      "  \"architectures\": [\n",
      "    \"DistilBertForSequenceClassification\"\n",
      "  ],\n",
      "  \"attention_dropout\": 0.1,\n",
      "  \"dim\": 768,\n",
      "  \"dropout\": 0.1,\n",
      "  \"hidden_dim\": 3072,\n",
      "  \"initializer_range\": 0.02,\n",
      "  \"max_position_embeddings\": 512,\n",
      "  \"model_type\": \"distilbert\",\n",
      "  \"n_heads\": 12,\n",
      "  \"n_layers\": 6,\n",
      "  \"pad_token_id\": 0,\n",
      "  \"problem_type\": \"single_label_classification\",\n",
      "  \"qa_dropout\": 0.1,\n",
      "  \"seq_classif_dropout\": 0.2,\n",
      "  \"sinusoidal_pos_embds\": false,\n",
      "  \"tie_weights_\": true,\n",
      "  \"torch_dtype\": \"float32\",\n",
      "  \"transformers_version\": \"4.19.0\",\n",
      "  \"vocab_size\": 30522\n",
      "}\n",
      "\n",
      "loading weights file content/drive/MyDrive_binary/output_DistilBert/holdout/checkpoint-63140/pytorch_model.bin\n",
      "All model checkpoint weights were used when initializing DistilBertForSequenceClassification.\n",
      "\n",
      "All the weights of DistilBertForSequenceClassification were initialized from the model checkpoint at content/drive/MyDrive_binary/output_DistilBert/holdout/checkpoint-63140.\n",
      "If your task is similar to the task the model of the checkpoint was trained on, you can already use DistilBertForSequenceClassification for predictions without further training.\n",
      "No `TrainingArguments` passed, using `output_dir=tmp_trainer`.\n",
      "PyTorch: setting up devices\n",
      "The default value for the training argument `--report_to` will change in v5 (from all installed integrations to none). In v5, you will need to use `--report_to all` to get the same behavior as now. You should start updating your code and make this info disappear :-).\n",
      "***** Running Prediction *****\n",
      "  Num examples = 11225\n",
      "  Batch size = 8\n"
     ]
    },
    {
     "data": {
      "text/html": [
       "\n",
       "    <div>\n",
       "      \n",
       "      <progress value='1404' max='1404' style='width:300px; height:20px; vertical-align: middle;'></progress>\n",
       "      [1404/1404 01:29]\n",
       "    </div>\n",
       "    "
      ],
      "text/plain": [
       "<IPython.core.display.HTML object>"
      ]
     },
     "metadata": {},
     "output_type": "display_data"
    },
    {
     "name": "stdout",
     "output_type": "stream",
     "text": [
      "Classification Report:\n",
      "              precision    recall  f1-score   support\n",
      "\n",
      "           0       0.99      0.99      0.99     10687\n",
      "           1       0.72      0.73      0.73       538\n",
      "\n",
      "    accuracy                           0.97     11225\n",
      "   macro avg       0.86      0.86      0.86     11225\n",
      "weighted avg       0.97      0.97      0.97     11225\n",
      "\n",
      "\n",
      "Label 1: Cyberbullying\n",
      "Precision:  0.7240740740740741\n",
      "Recall:  0.7267657992565055\n",
      "F-measure:  0.7254174397031541\n",
      "\n",
      "Label 0: Non-Cyberbullying\n",
      "Precision:  0.9862423958820776\n",
      "Recall:  0.9860578272667727\n",
      "F-measure:  0.9861501029384242\n",
      "\n",
      "Macro Metrics\n",
      "Precision:  0.8551582349780759\n",
      "Recall:  0.8564118132616392\n",
      "F-measure:  0.8557837713207892\n",
      "\n"
     ]
    },
    {
     "data": {
      "image/png": "[encoded data removed]",
      "text/plain": [
       "<Figure size 576x360 with 2 Axes>"
      ]
     },
     "metadata": {
      "needs_background": "light"
     },
     "output_type": "display_data"
    }
   ],
   "source": [
    "compute_metrics_holdout(model_name='DistilBert',\n",
    "                        model_path='content/drive/MyDrive_binary/output_DistilBert/holdout/checkpoint-63140', \n",
    "                        average_method='binary',\n",
    "                        X_test=X_test)"
   ]
  },
  {
   "cell_type": "markdown",
   "id": "OYWrSlPXL3Ac",
   "metadata": {
    "id": "OYWrSlPXL3Ac"
   },
   "source": [
    "#### Epoch 6"
   ]
  },
  {
   "cell_type": "code",
   "execution_count": 15,
   "id": "qacb90FQL3Ad",
   "metadata": {
    "id": "qacb90FQL3Ad"
   },
   "outputs": [
    {
     "name": "stderr",
     "output_type": "stream",
     "text": [
      "loading configuration file content/drive/MyDrive_binary/output_DistilBert/holdout/checkpoint-75768/config.json\n",
      "Model config DistilBertConfig {\n",
      "  \"_name_or_path\": \"content/drive/MyDrive_binary/output_DistilBert/holdout/checkpoint-75768\",\n",
      "  \"activation\": \"gelu\",\n",
      "  \"architectures\": [\n",
      "    \"DistilBertForSequenceClassification\"\n",
      "  ],\n",
      "  \"attention_dropout\": 0.1,\n",
      "  \"dim\": 768,\n",
      "  \"dropout\": 0.1,\n",
      "  \"hidden_dim\": 3072,\n",
      "  \"initializer_range\": 0.02,\n",
      "  \"max_position_embeddings\": 512,\n",
      "  \"model_type\": \"distilbert\",\n",
      "  \"n_heads\": 12,\n",
      "  \"n_layers\": 6,\n",
      "  \"pad_token_id\": 0,\n",
      "  \"problem_type\": \"single_label_classification\",\n",
      "  \"qa_dropout\": 0.1,\n",
      "  \"seq_classif_dropout\": 0.2,\n",
      "  \"sinusoidal_pos_embds\": false,\n",
      "  \"tie_weights_\": true,\n",
      "  \"torch_dtype\": \"float32\",\n",
      "  \"transformers_version\": \"4.19.0\",\n",
      "  \"vocab_size\": 30522\n",
      "}\n",
      "\n",
      "loading weights file content/drive/MyDrive_binary/output_DistilBert/holdout/checkpoint-75768/pytorch_model.bin\n",
      "All model checkpoint weights were used when initializing DistilBertForSequenceClassification.\n",
      "\n",
      "All the weights of DistilBertForSequenceClassification were initialized from the model checkpoint at content/drive/MyDrive_binary/output_DistilBert/holdout/checkpoint-75768.\n",
      "If your task is similar to the task the model of the checkpoint was trained on, you can already use DistilBertForSequenceClassification for predictions without further training.\n",
      "No `TrainingArguments` passed, using `output_dir=tmp_trainer`.\n",
      "PyTorch: setting up devices\n",
      "The default value for the training argument `--report_to` will change in v5 (from all installed integrations to none). In v5, you will need to use `--report_to all` to get the same behavior as now. You should start updating your code and make this info disappear :-).\n",
      "***** Running Prediction *****\n",
      "  Num examples = 11225\n",
      "  Batch size = 8\n"
     ]
    },
    {
     "data": {
      "text/html": [
       "\n",
       "    <div>\n",
       "      \n",
       "      <progress value='1404' max='1404' style='width:300px; height:20px; vertical-align: middle;'></progress>\n",
       "      [1404/1404 01:31]\n",
       "    </div>\n",
       "    "
      ],
      "text/plain": [
       "<IPython.core.display.HTML object>"
      ]
     },
     "metadata": {},
     "output_type": "display_data"
    },
    {
     "name": "stdout",
     "output_type": "stream",
     "text": [
      "Classification Report:\n",
      "              precision    recall  f1-score   support\n",
      "\n",
      "           0       0.98      0.99      0.99     10687\n",
      "           1       0.76      0.67      0.72       538\n",
      "\n",
      "    accuracy                           0.97     11225\n",
      "   macro avg       0.87      0.83      0.85     11225\n",
      "weighted avg       0.97      0.97      0.97     11225\n",
      "\n",
      "\n",
      "Label 1: Cyberbullying\n",
      "Precision:  0.7637130801687764\n",
      "Recall:  0.6728624535315985\n",
      "F-measure:  0.7154150197628457\n",
      "\n",
      "Label 0: Non-Cyberbullying\n",
      "Precision:  0.9836294298204818\n",
      "Recall:  0.9895199775428091\n",
      "F-measure:  0.9865659109991604\n",
      "\n",
      "Macro Metrics\n",
      "Precision:  0.873671254994629\n",
      "Recall:  0.8311912155372038\n",
      "F-measure:  0.850990465381003\n",
      "\n"
     ]
    },
    {
     "data": {
      "image/png": "[encoded data removed]",
      "text/plain": [
       "<Figure size 576x360 with 2 Axes>"
      ]
     },
     "metadata": {
      "needs_background": "light"
     },
     "output_type": "display_data"
    }
   ],
   "source": [
    "compute_metrics_holdout(model_name='DistilBert',\n",
    "                        model_path='content/drive/MyDrive_binary/output_DistilBert/holdout/checkpoint-75768', \n",
    "                        average_method='binary',\n",
    "                        X_test=X_test)"
   ]
  },
  {
   "cell_type": "markdown",
   "id": "jhRILtDlL2XU",
   "metadata": {
    "id": "jhRILtDlL2XU"
   },
   "source": [
    "#### Epoch 7"
   ]
  },
  {
   "cell_type": "code",
   "execution_count": 16,
   "id": "BVv65a-7L2XV",
   "metadata": {
    "id": "BVv65a-7L2XV"
   },
   "outputs": [
    {
     "name": "stderr",
     "output_type": "stream",
     "text": [
      "loading configuration file content/drive/MyDrive_binary/output_DistilBert/holdout/checkpoint-88396/config.json\n",
      "Model config DistilBertConfig {\n",
      "  \"_name_or_path\": \"content/drive/MyDrive_binary/output_DistilBert/holdout/checkpoint-88396\",\n",
      "  \"activation\": \"gelu\",\n",
      "  \"architectures\": [\n",
      "    \"DistilBertForSequenceClassification\"\n",
      "  ],\n",
      "  \"attention_dropout\": 0.1,\n",
      "  \"dim\": 768,\n",
      "  \"dropout\": 0.1,\n",
      "  \"hidden_dim\": 3072,\n",
      "  \"initializer_range\": 0.02,\n",
      "  \"max_position_embeddings\": 512,\n",
      "  \"model_type\": \"distilbert\",\n",
      "  \"n_heads\": 12,\n",
      "  \"n_layers\": 6,\n",
      "  \"pad_token_id\": 0,\n",
      "  \"problem_type\": \"single_label_classification\",\n",
      "  \"qa_dropout\": 0.1,\n",
      "  \"seq_classif_dropout\": 0.2,\n",
      "  \"sinusoidal_pos_embds\": false,\n",
      "  \"tie_weights_\": true,\n",
      "  \"torch_dtype\": \"float32\",\n",
      "  \"transformers_version\": \"4.19.0\",\n",
      "  \"vocab_size\": 30522\n",
      "}\n",
      "\n",
      "loading weights file content/drive/MyDrive_binary/output_DistilBert/holdout/checkpoint-88396/pytorch_model.bin\n",
      "All model checkpoint weights were used when initializing DistilBertForSequenceClassification.\n",
      "\n",
      "All the weights of DistilBertForSequenceClassification were initialized from the model checkpoint at content/drive/MyDrive_binary/output_DistilBert/holdout/checkpoint-88396.\n",
      "If your task is similar to the task the model of the checkpoint was trained on, you can already use DistilBertForSequenceClassification for predictions without further training.\n",
      "No `TrainingArguments` passed, using `output_dir=tmp_trainer`.\n",
      "PyTorch: setting up devices\n",
      "The default value for the training argument `--report_to` will change in v5 (from all installed integrations to none). In v5, you will need to use `--report_to all` to get the same behavior as now. You should start updating your code and make this info disappear :-).\n",
      "***** Running Prediction *****\n",
      "  Num examples = 11225\n",
      "  Batch size = 8\n"
     ]
    },
    {
     "data": {
      "text/html": [
       "\n",
       "    <div>\n",
       "      \n",
       "      <progress value='1404' max='1404' style='width:300px; height:20px; vertical-align: middle;'></progress>\n",
       "      [1404/1404 01:29]\n",
       "    </div>\n",
       "    "
      ],
      "text/plain": [
       "<IPython.core.display.HTML object>"
      ]
     },
     "metadata": {},
     "output_type": "display_data"
    },
    {
     "name": "stdout",
     "output_type": "stream",
     "text": [
      "Classification Report:\n",
      "              precision    recall  f1-score   support\n",
      "\n",
      "           0       0.98      0.99      0.99     10687\n",
      "           1       0.77      0.66      0.71       538\n",
      "\n",
      "    accuracy                           0.97     11225\n",
      "   macro avg       0.88      0.83      0.85     11225\n",
      "weighted avg       0.97      0.97      0.97     11225\n",
      "\n",
      "\n",
      "Label 1: Cyberbullying\n",
      "Precision:  0.7727272727272727\n",
      "Recall:  0.6635687732342007\n",
      "F-measure:  0.714\n",
      "\n",
      "Label 0: Non-Cyberbullying\n",
      "Precision:  0.9831831273808418\n",
      "Recall:  0.9901749789463835\n",
      "F-measure:  0.9866666666666667\n",
      "\n",
      "Macro Metrics\n",
      "Precision:  0.8779552000540572\n",
      "Recall:  0.8268718760902921\n",
      "F-measure:  0.8503333333333334\n",
      "\n"
     ]
    },
    {
     "data": {
      "image/png": "[encoded data removed]",
      "text/plain": [
       "<Figure size 576x360 with 2 Axes>"
      ]
     },
     "metadata": {
      "needs_background": "light"
     },
     "output_type": "display_data"
    }
   ],
   "source": [
    "compute_metrics_holdout(model_name='DistilBert',\n",
    "                        model_path='content/drive/MyDrive_binary/output_DistilBert/holdout/checkpoint-88396', \n",
    "                        average_method='binary',\n",
    "                        X_test=X_test)"
   ]
  },
  {
   "cell_type": "markdown",
   "id": "OC_9eI5WMF8p",
   "metadata": {
    "id": "OC_9eI5WMF8p"
   },
   "source": [
    "#### Epoch 8"
   ]
  },
  {
   "cell_type": "code",
   "execution_count": 17,
   "id": "70m3Ek4sMF8q",
   "metadata": {
    "id": "70m3Ek4sMF8q"
   },
   "outputs": [
    {
     "name": "stderr",
     "output_type": "stream",
     "text": [
      "loading configuration file content/drive/MyDrive_binary/output_DistilBert/holdout/checkpoint-101024/config.json\n",
      "Model config DistilBertConfig {\n",
      "  \"_name_or_path\": \"content/drive/MyDrive_binary/output_DistilBert/holdout/checkpoint-101024\",\n",
      "  \"activation\": \"gelu\",\n",
      "  \"architectures\": [\n",
      "    \"DistilBertForSequenceClassification\"\n",
      "  ],\n",
      "  \"attention_dropout\": 0.1,\n",
      "  \"dim\": 768,\n",
      "  \"dropout\": 0.1,\n",
      "  \"hidden_dim\": 3072,\n",
      "  \"initializer_range\": 0.02,\n",
      "  \"max_position_embeddings\": 512,\n",
      "  \"model_type\": \"distilbert\",\n",
      "  \"n_heads\": 12,\n",
      "  \"n_layers\": 6,\n",
      "  \"pad_token_id\": 0,\n",
      "  \"problem_type\": \"single_label_classification\",\n",
      "  \"qa_dropout\": 0.1,\n",
      "  \"seq_classif_dropout\": 0.2,\n",
      "  \"sinusoidal_pos_embds\": false,\n",
      "  \"tie_weights_\": true,\n",
      "  \"torch_dtype\": \"float32\",\n",
      "  \"transformers_version\": \"4.19.0\",\n",
      "  \"vocab_size\": 30522\n",
      "}\n",
      "\n",
      "loading weights file content/drive/MyDrive_binary/output_DistilBert/holdout/checkpoint-101024/pytorch_model.bin\n",
      "All model checkpoint weights were used when initializing DistilBertForSequenceClassification.\n",
      "\n",
      "All the weights of DistilBertForSequenceClassification were initialized from the model checkpoint at content/drive/MyDrive_binary/output_DistilBert/holdout/checkpoint-101024.\n",
      "If your task is similar to the task the model of the checkpoint was trained on, you can already use DistilBertForSequenceClassification for predictions without further training.\n",
      "No `TrainingArguments` passed, using `output_dir=tmp_trainer`.\n",
      "PyTorch: setting up devices\n",
      "The default value for the training argument `--report_to` will change in v5 (from all installed integrations to none). In v5, you will need to use `--report_to all` to get the same behavior as now. You should start updating your code and make this info disappear :-).\n",
      "***** Running Prediction *****\n",
      "  Num examples = 11225\n",
      "  Batch size = 8\n"
     ]
    },
    {
     "data": {
      "text/html": [
       "\n",
       "    <div>\n",
       "      \n",
       "      <progress value='1404' max='1404' style='width:300px; height:20px; vertical-align: middle;'></progress>\n",
       "      [1404/1404 02:23]\n",
       "    </div>\n",
       "    "
      ],
      "text/plain": [
       "<IPython.core.display.HTML object>"
      ]
     },
     "metadata": {},
     "output_type": "display_data"
    },
    {
     "name": "stdout",
     "output_type": "stream",
     "text": [
      "Classification Report:\n",
      "              precision    recall  f1-score   support\n",
      "\n",
      "           0       0.98      0.99      0.99     10687\n",
      "           1       0.78      0.66      0.71       538\n",
      "\n",
      "    accuracy                           0.97     11225\n",
      "   macro avg       0.88      0.82      0.85     11225\n",
      "weighted avg       0.97      0.97      0.97     11225\n",
      "\n",
      "\n",
      "Label 1: Cyberbullying\n",
      "Precision:  0.7827050997782705\n",
      "Recall:  0.6561338289962825\n",
      "F-measure:  0.7138523761375126\n",
      "\n",
      "Label 0: Non-Cyberbullying\n",
      "Precision:  0.9828290328568776\n",
      "Recall:  0.9908299803499578\n",
      "F-measure:  0.9868132892223102\n",
      "\n",
      "Macro Metrics\n",
      "Precision:  0.8827670663175741\n",
      "Recall:  0.8234819046731201\n",
      "F-measure:  0.8503328326799113\n",
      "\n"
     ]
    },
    {
     "data": {
      "image/png": "[encoded data removed]",
      "text/plain": [
       "<Figure size 576x360 with 2 Axes>"
      ]
     },
     "metadata": {
      "needs_background": "light"
     },
     "output_type": "display_data"
    }
   ],
   "source": [
    "compute_metrics_holdout(model_name='DistilBert',\n",
    "                        model_path='content/drive/MyDrive_binary/output_DistilBert/holdout/checkpoint-101024', \n",
    "                        average_method='binary',\n",
    "                        X_test=X_test)"
   ]
  }
 ],
 "metadata": {
  "accelerator": "GPU",
  "colab": {
   "collapsed_sections": [
    "t6kQkR3fK9T0",
    "fG7eAEaFtIYk",
    "Ir4eL3T8gtLf",
    "KdECewOiL4tf",
    "uFLTBUzxL4MC",
    "eFNCqLf6L3pO",
    "OYWrSlPXL3Ac",
    "jhRILtDlL2XU",
    "OC_9eI5WMF8p",
    "5CH0cmxrMFSV",
    "xgLbAOZ7MEdd",
    "wTPokVq2pcUu",
    "5vlEdGyfpcUv",
    "3SHI4jYYpcUv",
    "jptg0BcZpcUv",
    "_AlZhKF5pcUv",
    "6MAeDeTWpcUv",
    "yqeXDiEipcUw",
    "ArQmCEzspcUw",
    "oDn0CPRXpcUw",
    "mYNtqY5cpcUw"
   ],
   "name": "Fine Tune Transformers from HuggingFace RoBerta (Sample).ipynb",
   "provenance": []
  },
  "kernelspec": {
   "display_name": "Python 3 (ipykernel)",
   "language": "python",
   "name": "python3"
  },
  "language_info": {
   "codemirror_mode": {
    "name": "ipython",
    "version": 3
   },
   "file_extension": ".py",
   "mimetype": "text/x-python",
   "name": "python",
   "nbconvert_exporter": "python",
   "pygments_lexer": "ipython3",
   "version": "3.9.7"
  }
 },
 "nbformat": 4,
 "nbformat_minor": 5
}
